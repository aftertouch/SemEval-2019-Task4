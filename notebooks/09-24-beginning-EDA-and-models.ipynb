{
 "cells": [
  {
   "cell_type": "markdown",
   "metadata": {},
   "source": [
    "## SemEval 2019 Task 4 - Beginning EDA and models\n",
    "\n",
    "Jonathan Miller and Negar Adyaniyazdi, VCU, CMSC516, Fall 2018"
   ]
  },
  {
   "cell_type": "markdown",
   "metadata": {},
   "source": [
    "Primarily following code examples here: https://github.com/hundredblocks/concrete_NLP_tutorial/blob/master/NLP_notebook.ipynb"
   ]
  },
  {
   "cell_type": "markdown",
   "metadata": {},
   "source": [
    "Load a data sample, n=1000"
   ]
  },
  {
   "cell_type": "code",
   "execution_count": 2,
   "metadata": {},
   "outputs": [],
   "source": [
    "import pandas as pd\n",
    "\n",
    "DATA_PATH = '../data/'\n",
    "DATA_PROCESSED_PATH = DATA_PATH + 'processed/'\n",
    "\n",
    "train = pd.read_csv(DATA_PROCESSED_PATH + 'train10000_0.csv')\n",
    "val = pd.read_csv(DATA_PROCESSED_PATH + 'val2500_0.csv')"
   ]
  },
  {
   "cell_type": "code",
   "execution_count": 33,
   "metadata": {},
   "outputs": [
    {
     "data": {
      "text/html": [
       "<div>\n",
       "<style scoped>\n",
       "    .dataframe tbody tr th:only-of-type {\n",
       "        vertical-align: middle;\n",
       "    }\n",
       "\n",
       "    .dataframe tbody tr th {\n",
       "        vertical-align: top;\n",
       "    }\n",
       "\n",
       "    .dataframe thead th {\n",
       "        text-align: right;\n",
       "    }\n",
       "</style>\n",
       "<table border=\"1\" class=\"dataframe\">\n",
       "  <thead>\n",
       "    <tr style=\"text-align: right;\">\n",
       "      <th></th>\n",
       "      <th>id</th>\n",
       "      <th>published-at</th>\n",
       "      <th>title</th>\n",
       "      <th>hyperpartisan</th>\n",
       "      <th>bias</th>\n",
       "      <th>url</th>\n",
       "      <th>labeled-by</th>\n",
       "      <th>article_text</th>\n",
       "      <th>preprocessed_text</th>\n",
       "      <th>tokens</th>\n",
       "    </tr>\n",
       "  </thead>\n",
       "  <tbody>\n",
       "    <tr>\n",
       "      <th>0</th>\n",
       "      <td>310969</td>\n",
       "      <td>2008-12-10</td>\n",
       "      <td>Sweden's ailing auto industry</td>\n",
       "      <td>False</td>\n",
       "      <td>left-center</td>\n",
       "      <td>https://pri.org/stories/2008-12-10/swedens-ail...</td>\n",
       "      <td>publisher</td>\n",
       "      <td>Sweden's ailing auto industry SL says a bailou...</td>\n",
       "      <td>sweden ail auto industry sl say bailout swedis...</td>\n",
       "      <td>['sweden', 'ail', 'auto', 'industry', 'sl', 's...</td>\n",
       "    </tr>\n",
       "    <tr>\n",
       "      <th>1</th>\n",
       "      <td>945112</td>\n",
       "      <td>NaN</td>\n",
       "      <td>Kidnapped Canadian Mining Executive is Now a P...</td>\n",
       "      <td>True</td>\n",
       "      <td>left</td>\n",
       "      <td>http://occupy.com/article/kidnapped-canadian-m...</td>\n",
       "      <td>publisher</td>\n",
       "      <td>Kidnapped Canadian Mining Executive is Now a P...</td>\n",
       "      <td>kidnap canadian mining executive pawn colombia...</td>\n",
       "      <td>['kidnap', 'canadian', 'mining', 'executive', ...</td>\n",
       "    </tr>\n",
       "    <tr>\n",
       "      <th>2</th>\n",
       "      <td>519393</td>\n",
       "      <td>2017-12-31</td>\n",
       "      <td>Separate car wrecks claim father and son withi...</td>\n",
       "      <td>False</td>\n",
       "      <td>least</td>\n",
       "      <td>https://apnews.com/64fbe3af704a402aa1f1ceb071a...</td>\n",
       "      <td>publisher</td>\n",
       "      <td>Separate car wrecks claim father and son withi...</td>\n",
       "      <td>separate car wreck claim father son within wee...</td>\n",
       "      <td>['separate', 'car', 'wreck', 'claim', 'father'...</td>\n",
       "    </tr>\n",
       "    <tr>\n",
       "      <th>3</th>\n",
       "      <td>42462</td>\n",
       "      <td>2017-03-09</td>\n",
       "      <td>A GOP Congressman Just Spent 6 Minutes Defendi...</td>\n",
       "      <td>True</td>\n",
       "      <td>left</td>\n",
       "      <td>https://motherjones.com/politics/2017/03/dana-...</td>\n",
       "      <td>publisher</td>\n",
       "      <td>A GOP Congressman Just Spent 6 Minutes Defendi...</td>\n",
       "      <td>gop congressman spend minute defend vladimir p...</td>\n",
       "      <td>['gop', 'congressman', 'spend', 'minute', 'def...</td>\n",
       "    </tr>\n",
       "    <tr>\n",
       "      <th>4</th>\n",
       "      <td>736303</td>\n",
       "      <td>2017-11-23</td>\n",
       "      <td>No more ?fighting ISIS?? US to stay in Syria t...</td>\n",
       "      <td>False</td>\n",
       "      <td>right-center</td>\n",
       "      <td>https://newsline.com/no-more-fighting-isis-us-...</td>\n",
       "      <td>publisher</td>\n",
       "      <td>No more ?fighting ISIS?? US to stay in Syria t...</td>\n",
       "      <td>no fight isis us stay syria prevent win assad ...</td>\n",
       "      <td>['no', 'fight', 'isis', 'us', 'stay', 'syria',...</td>\n",
       "    </tr>\n",
       "  </tbody>\n",
       "</table>\n",
       "</div>"
      ],
      "text/plain": [
       "       id published-at                                              title  \\\n",
       "0  310969   2008-12-10                      Sweden's ailing auto industry   \n",
       "1  945112          NaN  Kidnapped Canadian Mining Executive is Now a P...   \n",
       "2  519393   2017-12-31  Separate car wrecks claim father and son withi...   \n",
       "3   42462   2017-03-09  A GOP Congressman Just Spent 6 Minutes Defendi...   \n",
       "4  736303   2017-11-23  No more ?fighting ISIS?? US to stay in Syria t...   \n",
       "\n",
       "   hyperpartisan          bias  \\\n",
       "0          False   left-center   \n",
       "1           True          left   \n",
       "2          False         least   \n",
       "3           True          left   \n",
       "4          False  right-center   \n",
       "\n",
       "                                                 url labeled-by  \\\n",
       "0  https://pri.org/stories/2008-12-10/swedens-ail...  publisher   \n",
       "1  http://occupy.com/article/kidnapped-canadian-m...  publisher   \n",
       "2  https://apnews.com/64fbe3af704a402aa1f1ceb071a...  publisher   \n",
       "3  https://motherjones.com/politics/2017/03/dana-...  publisher   \n",
       "4  https://newsline.com/no-more-fighting-isis-us-...  publisher   \n",
       "\n",
       "                                        article_text  \\\n",
       "0  Sweden's ailing auto industry SL says a bailou...   \n",
       "1  Kidnapped Canadian Mining Executive is Now a P...   \n",
       "2  Separate car wrecks claim father and son withi...   \n",
       "3  A GOP Congressman Just Spent 6 Minutes Defendi...   \n",
       "4  No more ?fighting ISIS?? US to stay in Syria t...   \n",
       "\n",
       "                                   preprocessed_text  \\\n",
       "0  sweden ail auto industry sl say bailout swedis...   \n",
       "1  kidnap canadian mining executive pawn colombia...   \n",
       "2  separate car wreck claim father son within wee...   \n",
       "3  gop congressman spend minute defend vladimir p...   \n",
       "4  no fight isis us stay syria prevent win assad ...   \n",
       "\n",
       "                                              tokens  \n",
       "0  ['sweden', 'ail', 'auto', 'industry', 'sl', 's...  \n",
       "1  ['kidnap', 'canadian', 'mining', 'executive', ...  \n",
       "2  ['separate', 'car', 'wreck', 'claim', 'father'...  \n",
       "3  ['gop', 'congressman', 'spend', 'minute', 'def...  \n",
       "4  ['no', 'fight', 'isis', 'us', 'stay', 'syria',...  "
      ]
     },
     "execution_count": 33,
     "metadata": {},
     "output_type": "execute_result"
    }
   ],
   "source": [
    "train.head()"
   ]
  },
  {
   "cell_type": "code",
   "execution_count": 17,
   "metadata": {},
   "outputs": [],
   "source": [
    "from sklearn.feature_extraction.text import CountVectorizer, TfidfVectorizer\n",
    "\n",
    "def cv(data):\n",
    "    count_vectorizer = CountVectorizer()\n",
    "\n",
    "    emb = count_vectorizer.fit_transform(data)\n",
    "\n",
    "    return emb, count_vectorizer\n",
    "\n",
    "list_corpus = train[\"preprocessed_text\"].tolist()\n",
    "list_labels = train[\"hyperpartisan\"].tolist()\n",
    "\n",
    "X_train, X_test, y_train, y_test = train_test_split(list_corpus, list_labels, test_size=0.2, \n",
    "                                                                                random_state=40)\n",
    "\n",
    "X_train = list_corpus\n",
    "y_train = list_labels\n",
    "\n",
    "X_test = val[\"preprocessed_text\"].tolist()\n",
    "y_test = val[\"hyperpartisan\"].tolist()\n",
    "\n",
    "X_train_counts, count_vectorizer = cv(X_train)\n",
    "X_test_counts = count_vectorizer.transform(X_test)"
   ]
  },
  {
   "cell_type": "code",
   "execution_count": 18,
   "metadata": {},
   "outputs": [],
   "source": [
    "from sklearn.linear_model import LogisticRegression\n",
    "\n",
    "clf = LogisticRegression(C=30.0, class_weight='balanced', solver='newton-cg', \n",
    "                         multi_class='multinomial', n_jobs=-1, random_state=40)\n",
    "clf.fit(X_train_counts, y_train)\n",
    "\n",
    "y_predicted_counts = clf.predict(X_test_counts)"
   ]
  },
  {
   "cell_type": "code",
   "execution_count": 19,
   "metadata": {},
   "outputs": [
    {
     "name": "stdout",
     "output_type": "stream",
     "text": [
      "accuracy = 0.598, precision = 0.610, recall = 0.598, f1 = 0.590\n"
     ]
    }
   ],
   "source": [
    "from sklearn.metrics import accuracy_score, f1_score, precision_score, recall_score, classification_report\n",
    "\n",
    "def get_metrics(y_test, y_predicted):  \n",
    "    # true positives / (true positives+false positives)\n",
    "    precision = precision_score(y_test, y_predicted, pos_label=None,\n",
    "                                    average='weighted')             \n",
    "    # true positives / (true positives + false negatives)\n",
    "    recall = recall_score(y_test, y_predicted, pos_label=None,\n",
    "                              average='weighted')\n",
    "    \n",
    "    # harmonic mean of precision and recall\n",
    "    f1 = f1_score(y_test, y_predicted, pos_label=None, average='weighted')\n",
    "    \n",
    "    # true positives + true negatives/ total\n",
    "    accuracy = accuracy_score(y_test, y_predicted)\n",
    "    return accuracy, precision, recall, f1\n",
    "\n",
    "accuracy, precision, recall, f1 = get_metrics(y_test, y_predicted_counts)\n",
    "print(\"accuracy = %.3f, precision = %.3f, recall = %.3f, f1 = %.3f\" % (accuracy, precision, recall, f1))"
   ]
  },
  {
   "cell_type": "code",
   "execution_count": 22,
   "metadata": {},
   "outputs": [],
   "source": [
    "from sklearn.decomposition import PCA, TruncatedSVD\n",
    "import matplotlib.pyplot as plt\n",
    "import matplotlib.patches as mpatches\n",
    "import numpy as np\n",
    "import itertools\n",
    "from sklearn.metrics import confusion_matrix\n",
    "\n",
    "def plot_confusion_matrix(cm, classes,\n",
    "                          normalize=False,\n",
    "                          title='Confusion matrix',\n",
    "                          cmap=plt.cm.winter):\n",
    "    if normalize:\n",
    "        cm = cm.astype('float') / cm.sum(axis=1)[:, np.newaxis]\n",
    "    plt.imshow(cm, interpolation='nearest', cmap=cmap)\n",
    "    plt.title(title, fontsize=30)\n",
    "    plt.colorbar()\n",
    "    tick_marks = np.arange(len(classes))\n",
    "    plt.xticks(tick_marks, classes, fontsize=20)\n",
    "    plt.yticks(tick_marks, classes, fontsize=20)\n",
    "    \n",
    "    fmt = '.2f' if normalize else 'd'\n",
    "    thresh = cm.max() / 2.\n",
    "\n",
    "    for i, j in itertools.product(range(cm.shape[0]), range(cm.shape[1])):\n",
    "        plt.text(j, i, format(cm[i, j], fmt), horizontalalignment=\"center\", \n",
    "                 color=\"white\" if cm[i, j] < thresh else \"black\", fontsize=40)\n",
    "    \n",
    "    plt.tight_layout()\n",
    "    plt.ylabel('True label', fontsize=30)\n",
    "    plt.xlabel('Predicted label', fontsize=30)\n",
    "\n",
    "    return plt"
   ]
  },
  {
   "cell_type": "code",
   "execution_count": 23,
   "metadata": {},
   "outputs": [
    {
     "data": {
      "image/png": "[encoded data removed]",
      "text/plain": [
       "<Figure size 720x720 with 2 Axes>"
      ]
     },
     "metadata": {
      "needs_background": "light"
     },
     "output_type": "display_data"
    },
    {
     "name": "stdout",
     "output_type": "stream",
     "text": [
      "[[582 689]\n",
      " [315 914]]\n"
     ]
    }
   ],
   "source": [
    "cm = confusion_matrix(y_test, y_predicted_counts)\n",
    "fig = plt.figure(figsize=(10, 10))\n",
    "plot = plot_confusion_matrix(cm, classes=['Not HP', 'HP'], normalize=False, title='Confusion matrix')\n",
    "plt.show()\n",
    "print(cm)"
   ]
  },
  {
   "cell_type": "code",
   "execution_count": 24,
   "metadata": {},
   "outputs": [],
   "source": [
    "def examine_text_diff(row_num):\n",
    "    print(train.loc[row_num,'article_text'])\n",
    "    print('\\n')\n",
    "    print(train.loc[row_num,'preprocessed_text'])"
   ]
  },
  {
   "cell_type": "code",
   "execution_count": 25,
   "metadata": {},
   "outputs": [
    {
     "name": "stdout",
     "output_type": "stream",
     "text": [
      "?The First Monday in May? Met Gala documentary trailer released (Screenshot courtesy of YouTube) \n",
      "?The First Monday in May,? Vogue?s continual foray into documenting behind the scenes of the wild world of fashion, was released this week. \n",
      "The documentary follows Editor-in-Chief Anna Wintour,&#160; Director of Special Projects Sylvana Ward Durret and&#160;the Metropolitan Museum of Art?s Costume Institute curator Andrew Bolton as they perfect last year?s Met Ball. \n",
      "Wintour and her staff organize the gala for that year?s theme, Chinese Whispers: Tales of the East in Art, Film and Fashion, giving an inside look at how everything comes together. Details are agonized over, the guest list is finalized and there is even a brief crisis over if Rihanna will be coming. \n",
      "In the trailer, Wintour is in her full element. When told a certain guest who had decided not to come had changed his mind and wanted to come, Wintour?s patience wears thin. \n",
      "?Okay can he not be on his cell phone the entire time then?? Wintour replies with just the right amount of snark. \n",
      "Celebrities make cameos galore with Justin Bieber, Kim Kardashian West, Kanye West and Karl Lagerfield all making appearances. \n",
      "Andr? Leon Talley also appears calling the Met Ball ?the Super Bowl of social fashion events.? \n",
      "?The First Monday in May? opens at&#160;Tribeca Film Festival on April 13. \n",
      " \n",
      "&#160; \n",
      "Andr? Leon Talley Andrew Bolton Anna Wintour Justin Bieber Kanye West Karl Lagerfield Kim Kardashian West Met Ball Met Gala Rihanna Sylvana Ward Durret The First Monday in May Tribeca Film Festival\n",
      "\n",
      "\n",
      "first monday may meet gala documentary trailer release screenshot courtesy youtube first monday may vogues continual foray document behind scene wild world fashion release week documentary follow editor chief anna wintour director special project sylvana ward durret andthe metropolitan museum arts costume institute curator andrew bolton perfect last years meet ball wintour staff organize gala years theme chinese whisper tale east art film fashion give inside look everything come together detail agonize guest list finalize even brief crisis rihanna come trailer wintour full element tell certain guest decide not come change mind want come wintours patience wear thin okay not cell phone entire time wintour reply right amount snark celebrity make cameo galore justin bieber kim kardashian west kanye west karl lagerfield make appearance andr leon talley also appear call meet ball super bowl social fashion event first monday may open attribeca film festival april andr leon talley andrew bolton anna wintour justin bieber kanye west karl lagerfield kim kardashian west meet ball meet gala rihanna sylvana ward durret first monday may tribeca film festival\n"
     ]
    }
   ],
   "source": [
    "examine_text_diff(8)"
   ]
  },
  {
   "cell_type": "code",
   "execution_count": 26,
   "metadata": {},
   "outputs": [],
   "source": [
    "def get_most_important_features(vectorizer, model, n=5):\n",
    "    index_to_word = {v:k for k,v in vectorizer.vocabulary_.items()}\n",
    "    \n",
    "    # loop for each class\n",
    "    classes ={}\n",
    "    for class_index in range(model.coef_.shape[0]):\n",
    "        word_importances = [(el, index_to_word[i]) for i,el in enumerate(model.coef_[class_index])]\n",
    "        sorted_coeff = sorted(word_importances, key = lambda x : x[0], reverse=True)\n",
    "        tops = sorted(sorted_coeff[:n], key = lambda x : x[0])\n",
    "        bottom = sorted_coeff[-n:]\n",
    "        classes[class_index] = {\n",
    "            'tops':tops,\n",
    "            'bottom':bottom\n",
    "        }\n",
    "    return classes\n",
    "\n",
    "importance = get_most_important_features(count_vectorizer, clf, 10)"
   ]
  },
  {
   "cell_type": "code",
   "execution_count": 27,
   "metadata": {},
   "outputs": [
    {
     "data": {
      "image/png": "[encoded data removed]",
      "text/plain": [
       "<Figure size 720x720 with 2 Axes>"
      ]
     },
     "metadata": {
      "needs_background": "light"
     },
     "output_type": "display_data"
    }
   ],
   "source": [
    "def plot_important_words(top_scores, top_words, bottom_scores, bottom_words, name):\n",
    "    y_pos = np.arange(len(top_words))\n",
    "    top_pairs = [(a,b) for a,b in zip(top_words, top_scores)]\n",
    "    top_pairs = sorted(top_pairs, key=lambda x: x[1])\n",
    "    \n",
    "    bottom_pairs = [(a,b) for a,b in zip(bottom_words, bottom_scores)]\n",
    "    bottom_pairs = sorted(bottom_pairs, key=lambda x: x[1], reverse=True)\n",
    "    \n",
    "    top_words = [a[0] for a in top_pairs]\n",
    "    top_scores = [a[1] for a in top_pairs]\n",
    "    \n",
    "    bottom_words = [a[0] for a in bottom_pairs]\n",
    "    bottom_scores = [a[1] for a in bottom_pairs]\n",
    "    \n",
    "    fig = plt.figure(figsize=(10, 10))  \n",
    "\n",
    "    plt.subplot(121)\n",
    "    plt.barh(y_pos,bottom_scores, align='center', alpha=0.5)\n",
    "    plt.title('Not HP', fontsize=20)\n",
    "    plt.yticks(y_pos, bottom_words, fontsize=14)\n",
    "    plt.suptitle('Key words', fontsize=16)\n",
    "    plt.xlabel('Importance', fontsize=20)\n",
    "    \n",
    "    plt.subplot(122)\n",
    "    plt.barh(y_pos,top_scores, align='center', alpha=0.5)\n",
    "    plt.title('HP', fontsize=20)\n",
    "    plt.yticks(y_pos, top_words, fontsize=14)\n",
    "    plt.suptitle(name, fontsize=16)\n",
    "    plt.xlabel('Importance', fontsize=20)\n",
    "    \n",
    "    plt.subplots_adjust(wspace=0.8)\n",
    "    plt.show()\n",
    "\n",
    "top_scores = [a[0] for a in importance[0]['tops']]\n",
    "top_words = [a[1] for a in importance[0]['tops']]\n",
    "bottom_scores = [a[0] for a in importance[0]['bottom']]\n",
    "bottom_words = [a[1] for a in importance[0]['bottom']]\n",
    "\n",
    "plot_important_words(top_scores, top_words, bottom_scores, bottom_words, \"Most important words for relevance\")"
   ]
  },
  {
   "cell_type": "code",
   "execution_count": 28,
   "metadata": {},
   "outputs": [],
   "source": [
    "def tfidf(data):\n",
    "    tfidf_vectorizer = TfidfVectorizer()\n",
    "\n",
    "    train = tfidf_vectorizer.fit_transform(data)\n",
    "\n",
    "    return train, tfidf_vectorizer\n",
    "\n",
    "X_train_tfidf, tfidf_vectorizer = tfidf(X_train)\n",
    "X_test_tfidf = tfidf_vectorizer.transform(X_test)"
   ]
  },
  {
   "cell_type": "code",
   "execution_count": 29,
   "metadata": {},
   "outputs": [
    {
     "ename": "NameError",
     "evalue": "name 'plot_LSA' is not defined",
     "output_type": "error",
     "traceback": [
      "\u001b[0;31m---------------------------------------------------------------------------\u001b[0m",
      "\u001b[0;31mNameError\u001b[0m                                 Traceback (most recent call last)",
      "\u001b[0;32m<ipython-input-29-7da1fda75dd9>\u001b[0m in \u001b[0;36m<module>\u001b[0;34m()\u001b[0m\n\u001b[1;32m      1\u001b[0m \u001b[0mfig\u001b[0m \u001b[0;34m=\u001b[0m \u001b[0mplt\u001b[0m\u001b[0;34m.\u001b[0m\u001b[0mfigure\u001b[0m\u001b[0;34m(\u001b[0m\u001b[0mfigsize\u001b[0m\u001b[0;34m=\u001b[0m\u001b[0;34m(\u001b[0m\u001b[0;36m16\u001b[0m\u001b[0;34m,\u001b[0m \u001b[0;36m16\u001b[0m\u001b[0;34m)\u001b[0m\u001b[0;34m)\u001b[0m\u001b[0;34m\u001b[0m\u001b[0m\n\u001b[0;32m----> 2\u001b[0;31m \u001b[0mplot_LSA\u001b[0m\u001b[0;34m(\u001b[0m\u001b[0mX_train_tfidf\u001b[0m\u001b[0;34m,\u001b[0m \u001b[0my_train\u001b[0m\u001b[0;34m)\u001b[0m\u001b[0;34m\u001b[0m\u001b[0m\n\u001b[0m\u001b[1;32m      3\u001b[0m \u001b[0mplt\u001b[0m\u001b[0;34m.\u001b[0m\u001b[0mshow\u001b[0m\u001b[0;34m(\u001b[0m\u001b[0;34m)\u001b[0m\u001b[0;34m\u001b[0m\u001b[0m\n",
      "\u001b[0;31mNameError\u001b[0m: name 'plot_LSA' is not defined"
     ]
    },
    {
     "data": {
      "text/plain": [
       "<Figure size 1152x1152 with 0 Axes>"
      ]
     },
     "metadata": {},
     "output_type": "display_data"
    }
   ],
   "source": [
    "fig = plt.figure(figsize=(16, 16))          \n",
    "plot_LSA(X_train_tfidf, y_train)\n",
    "plt.show()"
   ]
  },
  {
   "cell_type": "code",
   "execution_count": 30,
   "metadata": {},
   "outputs": [],
   "source": [
    "clf_tfidf = LogisticRegression(C=30.0, class_weight='balanced', solver='newton-cg', \n",
    "                         multi_class='multinomial', n_jobs=-1, random_state=40)\n",
    "clf_tfidf.fit(X_train_tfidf, y_train)\n",
    "\n",
    "y_predicted_tfidf = clf_tfidf.predict(X_test_tfidf)"
   ]
  },
  {
   "cell_type": "code",
   "execution_count": 31,
   "metadata": {},
   "outputs": [
    {
     "name": "stdout",
     "output_type": "stream",
     "text": [
      "accuracy = 0.607, precision = 0.625, recall = 0.607, f1 = 0.596\n"
     ]
    }
   ],
   "source": [
    "accuracy_tfidf, precision_tfidf, recall_tfidf, f1_tfidf = get_metrics(y_test, y_predicted_tfidf)\n",
    "print(\"accuracy = %.3f, precision = %.3f, recall = %.3f, f1 = %.3f\" % (accuracy_tfidf, precision_tfidf, \n",
    "                                                                       recall_tfidf, f1_tfidf))"
   ]
  },
  {
   "cell_type": "code",
   "execution_count": 80,
   "metadata": {},
   "outputs": [],
   "source": [
    "importance_tfidf = get_most_important_features(tfidf_vectorizer, clf_tfidf, 10)\n"
   ]
  },
  {
   "cell_type": "code",
   "execution_count": 83,
   "metadata": {},
   "outputs": [
    {
     "data": {
      "image/png": "[encoded data removed]",
      "text/plain": [
       "<Figure size 720x720 with 2 Axes>"
      ]
     },
     "metadata": {
      "needs_background": "light"
     },
     "output_type": "display_data"
    }
   ],
   "source": [
    "top_scores = [a[0] for a in importance_tfidf[0]['tops']]\n",
    "top_words = [a[1] for a in importance_tfidf[0]['tops']]\n",
    "bottom_scores = [a[0] for a in importance_tfidf[0]['bottom']]\n",
    "bottom_words = [a[1] for a in importance_tfidf[0]['bottom']]\n",
    "\n",
    "plot_important_words(top_scores, top_words, bottom_scores, bottom_words, \"Most important words for relevance\")"
   ]
  },
  {
   "cell_type": "code",
   "execution_count": 93,
   "metadata": {},
   "outputs": [
    {
     "data": {
      "text/plain": [
       "True     2525\n",
       "False     989\n",
       "Name: hyperpartisan, dtype: int64"
      ]
     },
     "execution_count": 93,
     "metadata": {},
     "output_type": "execute_result"
    }
   ],
   "source": [
    "train[train['preprocessed_text'].str.contains('continue')]['hyperpartisan'].value_counts()"
   ]
  },
  {
   "cell_type": "code",
   "execution_count": 119,
   "metadata": {},
   "outputs": [
    {
     "data": {
      "text/plain": [
       "True     2084\n",
       "False     472\n",
       "Name: hyperpartisan, dtype: int64"
      ]
     },
     "execution_count": 119,
     "metadata": {},
     "output_type": "execute_result"
    }
   ],
   "source": [
    "train[(train['preprocessed_text'].str.contains('continue')) \n",
    "      & (train['preprocessed_text'].str.contains('read'))]['hyperpartisan'].value_counts()"
   ]
  },
  {
   "cell_type": "code",
   "execution_count": 33,
   "metadata": {},
   "outputs": [
    {
     "data": {
      "text/plain": [
       "True     2084\n",
       "False     472\n",
       "Name: hyperpartisan, dtype: int64"
      ]
     },
     "execution_count": 33,
     "metadata": {},
     "output_type": "execute_result"
    }
   ],
   "source": [
    "train[(train['preprocessed_text'].str.contains('continue')) & \n",
    "      (train['preprocessed_text'].str.contains('read'))]['hyperpartisan'].value_counts()"
   ]
  },
  {
   "cell_type": "code",
   "execution_count": 40,
   "metadata": {},
   "outputs": [
    {
     "data": {
      "text/plain": [
       "\"Naspers: Myriad Plans Bond Offering to Repay Existing Notes South African media giant Naspers Ltd. (NPN.JO) said Thursday its subsidiary Myriad International Holdings B.V. (MIH B.V.), is exploring the possibility of an international U.S. dollar bond offering by meeting potential investors on a roadshow. \\nProceeds from the offering, if completed, are expected to be used for general corporate purposes and to repay MIH B.V.'s existing notes maturing in July, Naspers said. \\nContinue Reading Below \\n-Write to Razak Musah Baba at razak.baba@wsj.com; Twitter: @Raztweet \\n(END) Dow Jones Newswires \\nJune 22, 2017 04:25 ET (08:25 GMT)\""
      ]
     },
     "execution_count": 40,
     "metadata": {},
     "output_type": "execute_result"
    }
   ],
   "source": [
    "train[(train['preprocessed_text'].str.contains('continue')) & \n",
    "      (train['preprocessed_text'].str.contains('read')) &\n",
    "      (train['hyperpartisan'] == True) &\n",
    "      (train['url'].str.contains('foxbusiness'))].reset_index()['article_text'][2]"
   ]
  },
  {
   "cell_type": "code",
   "execution_count": null,
   "metadata": {},
   "outputs": [],
   "source": []
  }
 ],
 "metadata": {
  "kernelspec": {
   "display_name": "Python 3",
   "language": "python",
   "name": "python3"
  },
  "language_info": {
   "codemirror_mode": {
    "name": "ipython",
    "version": 3
   },
   "file_extension": ".py",
   "mimetype": "text/x-python",
   "name": "python",
   "nbconvert_exporter": "python",
   "pygments_lexer": "ipython3",
   "version": "3.6.6"
  }
 },
 "nbformat": 4,
 "nbformat_minor": 2
}
