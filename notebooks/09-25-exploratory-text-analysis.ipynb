{
 "cells": [
  {
   "cell_type": "markdown",
   "metadata": {},
   "source": [
    "## SemEval 2019 Task 4 - Extra Preprocessing Steps Exploration\n",
    "\n",
    "Jonathan Miller and Negar Adyaniyazdi, VCU, CMSC516, Fall 2018"
   ]
  },
  {
   "cell_type": "markdown",
   "metadata": {},
   "source": [
    "Goal: Basic exploratory text analysis on a random sample of 10,000 observations"
   ]
  },
  {
   "cell_type": "code",
   "execution_count": 5,
   "metadata": {},
   "outputs": [],
   "source": [
    "import pandas as pd\n",
    "\n",
    "DATA_PATH = '../data/'\n",
    "DATA_PROCESSED_PATH = DATA_PATH + 'processed/'\n",
    "\n",
    "df = pd.read_csv(DATA_PROCESSED_PATH + 'train10000_0.csv')"
   ]
  },
  {
   "cell_type": "code",
   "execution_count": 6,
   "metadata": {},
   "outputs": [
    {
     "data": {
      "text/html": [
       "<div>\n",
       "<style scoped>\n",
       "    .dataframe tbody tr th:only-of-type {\n",
       "        vertical-align: middle;\n",
       "    }\n",
       "\n",
       "    .dataframe tbody tr th {\n",
       "        vertical-align: top;\n",
       "    }\n",
       "\n",
       "    .dataframe thead th {\n",
       "        text-align: right;\n",
       "    }\n",
       "</style>\n",
       "<table border=\"1\" class=\"dataframe\">\n",
       "  <thead>\n",
       "    <tr style=\"text-align: right;\">\n",
       "      <th></th>\n",
       "      <th>id</th>\n",
       "      <th>published-at</th>\n",
       "      <th>title</th>\n",
       "      <th>hyperpartisan</th>\n",
       "      <th>bias</th>\n",
       "      <th>url</th>\n",
       "      <th>labeled-by</th>\n",
       "      <th>article_text</th>\n",
       "      <th>preprocessed_text</th>\n",
       "      <th>tokens</th>\n",
       "    </tr>\n",
       "  </thead>\n",
       "  <tbody>\n",
       "    <tr>\n",
       "      <th>0</th>\n",
       "      <td>310969</td>\n",
       "      <td>2008-12-10</td>\n",
       "      <td>Sweden's ailing auto industry</td>\n",
       "      <td>False</td>\n",
       "      <td>left-center</td>\n",
       "      <td>https://pri.org/stories/2008-12-10/swedens-ail...</td>\n",
       "      <td>publisher</td>\n",
       "      <td>Sweden's ailing auto industry SL says a bailou...</td>\n",
       "      <td>sweden ail auto industry sl say bailout swedis...</td>\n",
       "      <td>['sweden', 'ail', 'auto', 'industry', 'sl', 's...</td>\n",
       "    </tr>\n",
       "    <tr>\n",
       "      <th>1</th>\n",
       "      <td>945112</td>\n",
       "      <td>NaN</td>\n",
       "      <td>Kidnapped Canadian Mining Executive is Now a P...</td>\n",
       "      <td>True</td>\n",
       "      <td>left</td>\n",
       "      <td>http://occupy.com/article/kidnapped-canadian-m...</td>\n",
       "      <td>publisher</td>\n",
       "      <td>Kidnapped Canadian Mining Executive is Now a P...</td>\n",
       "      <td>kidnap canadian mining executive pawn colombia...</td>\n",
       "      <td>['kidnap', 'canadian', 'mining', 'executive', ...</td>\n",
       "    </tr>\n",
       "    <tr>\n",
       "      <th>2</th>\n",
       "      <td>519393</td>\n",
       "      <td>2017-12-31</td>\n",
       "      <td>Separate car wrecks claim father and son withi...</td>\n",
       "      <td>False</td>\n",
       "      <td>least</td>\n",
       "      <td>https://apnews.com/64fbe3af704a402aa1f1ceb071a...</td>\n",
       "      <td>publisher</td>\n",
       "      <td>Separate car wrecks claim father and son withi...</td>\n",
       "      <td>separate car wreck claim father son within wee...</td>\n",
       "      <td>['separate', 'car', 'wreck', 'claim', 'father'...</td>\n",
       "    </tr>\n",
       "    <tr>\n",
       "      <th>3</th>\n",
       "      <td>42462</td>\n",
       "      <td>2017-03-09</td>\n",
       "      <td>A GOP Congressman Just Spent 6 Minutes Defendi...</td>\n",
       "      <td>True</td>\n",
       "      <td>left</td>\n",
       "      <td>https://motherjones.com/politics/2017/03/dana-...</td>\n",
       "      <td>publisher</td>\n",
       "      <td>A GOP Congressman Just Spent 6 Minutes Defendi...</td>\n",
       "      <td>gop congressman spend minute defend vladimir p...</td>\n",
       "      <td>['gop', 'congressman', 'spend', 'minute', 'def...</td>\n",
       "    </tr>\n",
       "    <tr>\n",
       "      <th>4</th>\n",
       "      <td>736303</td>\n",
       "      <td>2017-11-23</td>\n",
       "      <td>No more ?fighting ISIS?? US to stay in Syria t...</td>\n",
       "      <td>False</td>\n",
       "      <td>right-center</td>\n",
       "      <td>https://newsline.com/no-more-fighting-isis-us-...</td>\n",
       "      <td>publisher</td>\n",
       "      <td>No more ?fighting ISIS?? US to stay in Syria t...</td>\n",
       "      <td>no fight isis us stay syria prevent win assad ...</td>\n",
       "      <td>['no', 'fight', 'isis', 'us', 'stay', 'syria',...</td>\n",
       "    </tr>\n",
       "  </tbody>\n",
       "</table>\n",
       "</div>"
      ],
      "text/plain": [
       "       id published-at                                              title  \\\n",
       "0  310969   2008-12-10                      Sweden's ailing auto industry   \n",
       "1  945112          NaN  Kidnapped Canadian Mining Executive is Now a P...   \n",
       "2  519393   2017-12-31  Separate car wrecks claim father and son withi...   \n",
       "3   42462   2017-03-09  A GOP Congressman Just Spent 6 Minutes Defendi...   \n",
       "4  736303   2017-11-23  No more ?fighting ISIS?? US to stay in Syria t...   \n",
       "\n",
       "   hyperpartisan          bias  \\\n",
       "0          False   left-center   \n",
       "1           True          left   \n",
       "2          False         least   \n",
       "3           True          left   \n",
       "4          False  right-center   \n",
       "\n",
       "                                                 url labeled-by  \\\n",
       "0  https://pri.org/stories/2008-12-10/swedens-ail...  publisher   \n",
       "1  http://occupy.com/article/kidnapped-canadian-m...  publisher   \n",
       "2  https://apnews.com/64fbe3af704a402aa1f1ceb071a...  publisher   \n",
       "3  https://motherjones.com/politics/2017/03/dana-...  publisher   \n",
       "4  https://newsline.com/no-more-fighting-isis-us-...  publisher   \n",
       "\n",
       "                                        article_text  \\\n",
       "0  Sweden's ailing auto industry SL says a bailou...   \n",
       "1  Kidnapped Canadian Mining Executive is Now a P...   \n",
       "2  Separate car wrecks claim father and son withi...   \n",
       "3  A GOP Congressman Just Spent 6 Minutes Defendi...   \n",
       "4  No more ?fighting ISIS?? US to stay in Syria t...   \n",
       "\n",
       "                                   preprocessed_text  \\\n",
       "0  sweden ail auto industry sl say bailout swedis...   \n",
       "1  kidnap canadian mining executive pawn colombia...   \n",
       "2  separate car wreck claim father son within wee...   \n",
       "3  gop congressman spend minute defend vladimir p...   \n",
       "4  no fight isis us stay syria prevent win assad ...   \n",
       "\n",
       "                                              tokens  \n",
       "0  ['sweden', 'ail', 'auto', 'industry', 'sl', 's...  \n",
       "1  ['kidnap', 'canadian', 'mining', 'executive', ...  \n",
       "2  ['separate', 'car', 'wreck', 'claim', 'father'...  \n",
       "3  ['gop', 'congressman', 'spend', 'minute', 'def...  \n",
       "4  ['no', 'fight', 'isis', 'us', 'stay', 'syria',...  "
      ]
     },
     "execution_count": 6,
     "metadata": {},
     "output_type": "execute_result"
    }
   ],
   "source": [
    "df.head()"
   ]
  },
  {
   "cell_type": "code",
   "execution_count": 7,
   "metadata": {},
   "outputs": [
    {
     "data": {
      "text/plain": [
       "True     0.5054\n",
       "False    0.4946\n",
       "Name: hyperpartisan, dtype: float64"
      ]
     },
     "execution_count": 7,
     "metadata": {},
     "output_type": "execute_result"
    }
   ],
   "source": [
    "df['hyperpartisan'].value_counts(normalize=True)"
   ]
  },
  {
   "cell_type": "code",
   "execution_count": 8,
   "metadata": {},
   "outputs": [
    {
     "data": {
      "text/plain": [
       "least           0.2781\n",
       "right           0.2531\n",
       "left            0.2523\n",
       "left-center     0.1410\n",
       "right-center    0.0755\n",
       "Name: bias, dtype: float64"
      ]
     },
     "execution_count": 8,
     "metadata": {},
     "output_type": "execute_result"
    }
   ],
   "source": [
    "df['bias'].value_counts(normalize=True)"
   ]
  },
  {
   "cell_type": "code",
   "execution_count": 16,
   "metadata": {},
   "outputs": [],
   "source": [
    "import gensim\n",
    "import numpy as np\n",
    "from sklearn.model_selection import train_test_split"
   ]
  },
  {
   "cell_type": "code",
   "execution_count": 11,
   "metadata": {},
   "outputs": [],
   "source": [
    "DATA_EXTERNAL_PATH = DATA_PATH + 'external/'\n",
    "word2vec_path = DATA_EXTERNAL_PATH + \"GoogleNews-vectors-negative300.bin.gz\"\n",
    "word2vec = gensim.models.KeyedVectors.load_word2vec_format(word2vec_path, binary=True)"
   ]
  },
  {
   "cell_type": "code",
   "execution_count": 12,
   "metadata": {},
   "outputs": [],
   "source": [
    "def get_average_word2vec(tokens_list, vector, generate_missing=False, k=300):\n",
    "    if len(tokens_list)<1:\n",
    "        return np.zeros(k)\n",
    "    if generate_missing:\n",
    "        vectorized = [vector[word] if word in vector else np.random.rand(k) for word in tokens_list]\n",
    "    else:\n",
    "        vectorized = [vector[word] if word in vector else np.zeros(k) for word in tokens_list]\n",
    "    length = len(vectorized)\n",
    "    summed = np.sum(vectorized, axis=0)\n",
    "    averaged = np.divide(summed, length)\n",
    "    return averaged\n",
    "\n",
    "def get_word2vec_embeddings(vectors, clean_questions, generate_missing=False):\n",
    "    embeddings = clean_questions['tokens'].apply(lambda x: get_average_word2vec(x, vectors, \n",
    "                                                                                generate_missing=generate_missing))\n",
    "    return list(embeddings)"
   ]
  },
  {
   "cell_type": "code",
   "execution_count": 17,
   "metadata": {},
   "outputs": [
    {
     "ename": "NameError",
     "evalue": "name 'list_labels' is not defined",
     "output_type": "error",
     "traceback": [
      "\u001b[0;31m---------------------------------------------------------------------------\u001b[0m",
      "\u001b[0;31mNameError\u001b[0m                                 Traceback (most recent call last)",
      "\u001b[0;32m<ipython-input-17-09181af7ba46>\u001b[0m in \u001b[0;36m<module>\u001b[0;34m()\u001b[0m\n\u001b[1;32m      1\u001b[0m \u001b[0membeddings\u001b[0m \u001b[0;34m=\u001b[0m \u001b[0mget_word2vec_embeddings\u001b[0m\u001b[0;34m(\u001b[0m\u001b[0mword2vec\u001b[0m\u001b[0;34m,\u001b[0m \u001b[0mdf\u001b[0m\u001b[0;34m)\u001b[0m\u001b[0;34m\u001b[0m\u001b[0m\n\u001b[0;32m----> 2\u001b[0;31m X_train_word2vec, X_test_word2vec, y_train_word2vec, y_test_word2vec = train_test_split(embeddings, list_labels, \n\u001b[0m\u001b[1;32m      3\u001b[0m                                                                                         test_size=0.2, random_state=40)\n",
      "\u001b[0;31mNameError\u001b[0m: name 'list_labels' is not defined"
     ]
    }
   ],
   "source": [
    "embeddings = get_word2vec_embeddings(word2vec, df)\n",
    "X_train_word2vec, X_test_word2vec, y_train_word2vec, y_test_word2vec = train_test_split(embeddings, list_labels, \n",
    "                                                                                        test_size=0.2, random_state=40)"
   ]
  },
  {
   "cell_type": "code",
   "execution_count": null,
   "metadata": {},
   "outputs": [],
   "source": []
  }
 ],
 "metadata": {
  "kernelspec": {
   "display_name": "Python 3",
   "language": "python",
   "name": "python3"
  },
  "language_info": {
   "codemirror_mode": {
    "name": "ipython",
    "version": 3
   },
   "file_extension": ".py",
   "mimetype": "text/x-python",
   "name": "python",
   "nbconvert_exporter": "python",
   "pygments_lexer": "ipython3",
   "version": "3.6.6"
  }
 },
 "nbformat": 4,
 "nbformat_minor": 2
}
