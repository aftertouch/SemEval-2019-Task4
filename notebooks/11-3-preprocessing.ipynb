{
 "cells": [
  {
   "cell_type": "markdown",
   "metadata": {},
   "source": [
    "# Preprocessing"
   ]
  },
  {
   "cell_type": "markdown",
   "metadata": {},
   "source": [
    "#### Tasks:\n",
    "\n",
    "- Add title to article text\n",
    "\n",
    "- Remove links, HTML, twitter usernames, emails\n",
    "\n",
    "- Remove publisher signatures ( TRAIN ONLY )"
   ]
  },
  {
   "cell_type": "markdown",
   "metadata": {},
   "source": [
    "#### Dependencies"
   ]
  },
  {
   "cell_type": "code",
   "execution_count": 2,
   "metadata": {},
   "outputs": [],
   "source": [
    "import pandas as pd\n",
    "import numpy as np"
   ]
  },
  {
   "cell_type": "code",
   "execution_count": 2,
   "metadata": {},
   "outputs": [],
   "source": [
    "import sys\n",
    "sys.path.append('../src')\n",
    "\n",
    "from datatasks.new_preprocess import preprocess"
   ]
  },
  {
   "cell_type": "code",
   "execution_count": 3,
   "metadata": {},
   "outputs": [
    {
     "name": "stdout",
     "output_type": "stream",
     "text": [
      "Saving\n"
     ]
    }
   ],
   "source": [
    "preprocess('../data/interim/')"
   ]
  },
  {
   "cell_type": "code",
   "execution_count": 3,
   "metadata": {},
   "outputs": [],
   "source": [
    "DATA_INTERIM_PATH = '../data/interim/'\n",
    "\n",
    "train = pd.read_csv(DATA_INTERIM_PATH + 'train_p.csv')\n",
    "val = pd.read_csv(DATA_INTERIM_PATH + 'val_p.csv')"
   ]
  },
  {
   "cell_type": "code",
   "execution_count": 3,
   "metadata": {},
   "outputs": [
    {
     "data": {
      "text/plain": [
       "(761639, 16)"
      ]
     },
     "execution_count": 3,
     "metadata": {},
     "output_type": "execute_result"
    }
   ],
   "source": [
    "train.shape"
   ]
  },
  {
   "cell_type": "code",
   "execution_count": 4,
   "metadata": {},
   "outputs": [
    {
     "data": {
      "text/plain": [
       "(200000, 15)"
      ]
     },
     "execution_count": 4,
     "metadata": {},
     "output_type": "execute_result"
    }
   ],
   "source": [
    "val.shape"
   ]
  },
  {
   "cell_type": "markdown",
   "metadata": {},
   "source": [
    "#### Add title to article text"
   ]
  },
  {
   "cell_type": "code",
   "execution_count": 7,
   "metadata": {},
   "outputs": [],
   "source": [
    "def add_title_to_article_text(article):\n",
    "    if article['title'] is not np.nan:\n",
    "        return str(article['title']) + ' ' + str(article['article_text'])\n",
    "    else:\n",
    "        return str(article['article_text'])"
   ]
  },
  {
   "cell_type": "code",
   "execution_count": 8,
   "metadata": {},
   "outputs": [],
   "source": [
    "for df in [train, val]:\n",
    "    df['preprocessed_text'] = df.apply(add_title_to_article_text, axis=1)"
   ]
  },
  {
   "cell_type": "markdown",
   "metadata": {},
   "source": [
    "#### Remove HTML artifacts"
   ]
  },
  {
   "cell_type": "code",
   "execution_count": 29,
   "metadata": {},
   "outputs": [],
   "source": [
    "import re\n",
    "\n",
    "def replace_html_stuff(article):\n",
    "    preprocessed_text = article['preprocessed_text']\n",
    "    \n",
    "    # Remove all between left and right brackets\n",
    "    preprocessed_text = re.sub(r'(?s)&lt.*?&gt;', '', preprocessed_text)\n",
    "    preprocessed_text = re.sub(r'(?s)lt;.*?gt;', '', preprocessed_text)\n",
    "    \n",
    "    # Remove all html tags\n",
    "    preprocessed_text = re.sub(r'&(.{1,5});', '', preprocessed_text)\n",
    "    preprocessed_text = re.sub(r'amp;', '', preprocessed_text)\n",
    "    \n",
    "    # Remove !function\n",
    "    preprocessed_text = re.sub(r'(?s)!function.*?(\\?|\\\")\\);', '', preprocessed_text)\n",
    "    \n",
    "    return preprocessed_text"
   ]
  },
  {
   "cell_type": "code",
   "execution_count": 30,
   "metadata": {},
   "outputs": [],
   "source": [
    "for df in [train, val]:\n",
    "    df['preprocessed_text'] = df.apply(replace_html_stuff, axis=1)"
   ]
  },
  {
   "cell_type": "markdown",
   "metadata": {},
   "source": [
    "##### TODO: URLs, Twitter Usernames, Emails"
   ]
  },
  {
   "cell_type": "code",
   "execution_count": 38,
   "metadata": {},
   "outputs": [
    {
     "data": {
      "text/plain": [
       "foxbusiness                  115780\n",
       "abqjournal                    91725\n",
       "apnews                        56945\n",
       "pri                           51773\n",
       "newsline                      47590\n",
       "counterpunch                  42407\n",
       "motherjones                   38484\n",
       "truthdig                      33677\n",
       "dailywire                     20962\n",
       "thedailybeast                 19477\n",
       "poynter                       17274\n",
       "baptistnews                   13700\n",
       "nbcnews                       12827\n",
       "reuters                       10914\n",
       "washingtonblade                8256\n",
       "consortiumnews                 7695\n",
       "calwatchdog                    7610\n",
       "thegoldwater                   6868\n",
       "natmonitor                     6556\n",
       "dissentmagazine                6292\n",
       "politicalillusionsexposed      5664\n",
       "chicagoreporter                5278\n",
       "ivn                            4967\n",
       "eppc                           4652\n",
       "factcheck                      4485\n",
       "mintpressnews                  4380\n",
       "circa                          3608\n",
       "billmoyers                     3378\n",
       "thinkprogress                  2846\n",
       "govtslaves                     2840\n",
       "Name: domain, dtype: int64"
      ]
     },
     "execution_count": 38,
     "metadata": {},
     "output_type": "execute_result"
    }
   ],
   "source": [
    "train['domain'].value_counts().head(30)"
   ]
  },
  {
   "cell_type": "code",
   "execution_count": 5,
   "metadata": {},
   "outputs": [],
   "source": [
    "from gensim.models.phrases import Phrases, Phraser\n",
    "from nltk.tokenize.toktok import ToktokTokenizer"
   ]
  },
  {
   "cell_type": "code",
   "execution_count": 52,
   "metadata": {},
   "outputs": [],
   "source": [
    "dailybeast = train[train['domain']=='circa'].reset_index()['preprocessed_text']"
   ]
  },
  {
   "cell_type": "code",
   "execution_count": 53,
   "metadata": {},
   "outputs": [],
   "source": [
    "tokenizer = ToktokTokenizer()"
   ]
  },
  {
   "cell_type": "code",
   "execution_count": 54,
   "metadata": {},
   "outputs": [],
   "source": [
    "all_tokens = [tokenizer.tokenize(dailybeast[i]) for i in range(len(dailybeast))]"
   ]
  },
  {
   "cell_type": "code",
   "execution_count": 57,
   "metadata": {},
   "outputs": [],
   "source": [
    "phraser = Phraser(Phrases(all_tokens, min_count=len(dailybeast)/10, threshold=32))"
   ]
  },
  {
   "cell_type": "code",
   "execution_count": 58,
   "metadata": {},
   "outputs": [
    {
     "data": {
      "text/plain": [
       "{(b'more', b'than'): (683, 45.714749252423864),\n",
       " (b'I', b'am'): (556, 36.06592330501416),\n",
       " (b'Associated', b'Press'): (603, 294.60565844885065),\n",
       " (b'Press', b'contributed'): (478, 163.766092521669),\n",
       " (b'New', b'York'): (635, 207.671408086006),\n",
       " (b'White', b'House'): (549, 154.56206005965092)}"
      ]
     },
     "execution_count": 58,
     "metadata": {},
     "output_type": "execute_result"
    }
   ],
   "source": [
    "phraser.phrasegrams"
   ]
  },
  {
   "cell_type": "code",
   "execution_count": 63,
   "metadata": {},
   "outputs": [
    {
     "name": "stderr",
     "output_type": "stream",
     "text": [
      "/Users/jmill/anaconda3/envs/SemEval2019-4/lib/python3.6/site-packages/ipykernel_launcher.py:1: UserWarning: This pattern has match groups. To actually get the groups, use str.extract.\n",
      "  \"\"\"Entry point for launching an IPython kernel.\n"
     ]
    }
   ],
   "source": [
    "check = train[train['preprocessed_text'].str.contains('\\[(.*)\\]')]"
   ]
  },
  {
   "cell_type": "code",
   "execution_count": 70,
   "metadata": {},
   "outputs": [
    {
     "data": {
      "text/plain": [
       "'John Lewis Advice for Young Activists: March\\n I jumped in the car with two of the young people, and I drove to Selma, late at night, got there at three or four in the morning, got our sleeping bags out, got up the next morning, got dressed, went to the church, and we lined up and we marched. The rest is history. \\nAs the 50th anniversary of the March on Washington for Jobs and Freedom approaches, the spirit of protest seems to be rekindling in many parts of the country. The Dream Defenders remain camped out in the Florida capitol, demanding justice for Trayvon Martin and an end to racial profiling; North Carolinas Moral Monday protesters have rallied and committed civil disobedience each week, defying the far-right agenda of their state legislators. In New York, the coalition against stop and frisk won its victory in court, but it took organizing, rallying, and yes, marching, to make it happen. \\nIt is a good time, then, for a new memoir by congressman and 1960s civil rights leader John Lewis. In March: Book One, out today from Top Shelf Productions, Lewis history and the highs and lows of the civil rights movement are brought to lifevividly, as the memoir is in comic format. \\nThe first of three books follows a young Lewis from his familys farm in Alabama to college and to the Student Nonviolent Coordinating Committee (SNCC), to lunch counter sit-ins, jail cells and a showdown with the mayor of Nashville. Co-written by Andrew Aydin, a staffer who is been with Lewis for years, and drawn by award-winning comics artist Nate Powell, the book makes history feel real and present in a way that few accounts of civil rights legends have managed to. \\nLewis and Aydin sat down with me during a visit to New York to discuss the new comic, their goal of inspiring and instructing a new generation, and where they are finding hope these days. \\nSarah Jaffe: This book is the first of three volumes, all with the title March. Why did you pick that title \\nJohn Lewis: March is the spring, it is life, it is the beginning. So much happened in March. But it is also moving feet. \\nAndrew Aydin: There was a quote that stuck with us very early on, it was something Dr. King said: There is no sound more powerful than the marching feet of the determined people. \\nBut March is so many different things. It is the need to march. It is March 7, 1965. There is so much meaning behind it, it seemed almost self-evident. \\nBook 2 contains a very famous march. During the movement, the Congressman was so committed to action. There were so many moments where people wanted to talk, and he wanted to do. There is this scene in Book 2, when they are saying the violence is getting to be too much, we have to work out a solution, and they would turn to John Lewis and say, What do you think we should do And he would say, We should just march. \\nThey would ask him again and he would say, We should just march. Finally they say, John, everything you are saying is that we should march, but people are going to get hurt, people are going to get killed, it is your own foolish pride that is getting involved with that, you are just nothing but a sinner. \\nAnd he is like, I may be a sinner, but we are gonna march. \\nIt so typifies his view on how to get things done. We can sit around and talk about it, we can make speeches, but really when it comes down to it, the hard part is doing the work. Taking action. \\nJohn Lewis: This may sound a little self-serving here, but my own organization, the Student Nonviolent Coordinating Committee, objected to the march in Selma. We had an all-night discussion, a debate whether we should march. It is clear to me that I should march. And I said, I have been to Selma many many times, I have stood in line at the courthouse, I have been arrested, I have been to jail there. The local people want to march, and I am going to march. \\nSo I jumped in the car with two of the young people, and I drove to Selma, late at night, got there at three or four in the morning, got our sleeping bags out, got up the next morning, got dressed, went to the church, and we lined up and we marched. The rest is history. \\nSometimes you just have to do what your spirit says do. Go for it. \\nWhy did you decide to do this as a comic \\nAndrew Aydin: I was working for the Congressman on the 2008 campaign as his press secretary, and we started talking about what we were going to do after we had our nights and weekends back. I admitted I was going to a comic book conventionin politics that gets you laughs, snickers, a little jeering. But the Congressman said, You know, there was a comic book during the movement and it was incredibly influential. That comic book was  Martin Luther King and the Montgomery Story. \\nI went home that night, Googled it, and read the story about how it inspired the Greensboro 4. I came back the next day and asked him Why do not you write a comic book \\nThe Congressman looked at me like I was crazy there for a second, but we talked about the comic from the 50s, and a couple weeks later I asked again, and the Congressman said, OK, but only if you write it with me. \\nIt just seemed to make sense, the idea of a comic book inspiring young people to get involved and also teaching them the tactics. \\nThe book uses President Obamas inauguration as a framing device. Can you talk about the decision to do that \\nJohn Lewis: People ask me from time to time whether the election of Barack Obama was the fulfillment of Martin Luther Kings dream, and I say, No, it is just a down payment. \\nBecause we are not there. More and more, people are saying that we still have a distance to travel, and that we cannot be at peace or be at home with ourselves in America until we create a truly multiracial democratic society, where no one is left behind, and it does not matter whether you are black or white, Latino or Asian-American or Native America, whether you are straight or gay. . And there is a way to do it. If you want to change things, you got to find a way to make some noise. You cannot be quiet. \\nThe lessons of March say, This is the way another generation did it, and you, too, can follow that path, studying the way of peace, love and nonviolence, and finding a way to get in the way. Finding a way to get in troublegood trouble, necessary trouble. \\nThe book relates some of the experiences you had as a young person that led you to civil rights activism. Most people probably would not think of raising chickens as a thing that would shape a civil rights leader. \\nJohn Lewis: It may sound sort of silly, sort of strange, but I would not be the person I am today if it was not for those chickens. \\n \\nIt was my calling to take care of these innocent little creatures. I am convinced those chickens that I preached to in the 40s and the 50s tended to listen to me much better than some of my colleagues listen to me today in the Congress. Really! Most of those chickens were a little more productive. At least they produce eggs. \\nThey taught me discipline, they taught me patience, they taught me hard work and stick-to-it-ness. \\nYou talk about Emmett Tills death as a pivotal moment for you, and it seems like Trayvon Martins death has been a touchstone for a new generation of activists. Yet both of their deaths came at a time when violence against young black men was not rare. Why do you think each case hit a nerve \\nJohn Lewis: I think there are certain periods in our historyjust a spark.  \\nI was 15 years old, working out in the field when I heard what happened. I kept thinking that it could happen to me, but especially to some of my cousins who lived in Buffalo, New York, who would come South in the summer to spend time with us. \\nA few months later, when Rosa Parks refused to give up her seat, one thing she said in later years was, It is not just my feet that were tired, but also, I thought about Emmett Till. I remember that very, very well. \\nOne of the things that the comic format does so well for this story is capture the violence and brutality that practitioners of nonviolence went through, both in preparation for and during actions. I particularly loved the sequence where one person quit training, saying it was too hard. Talk about the process of getting those moments on paper. \\nJohn Lewis: We provided the words, but [the artist] Nate PowellI love his capacity to capture the drama, to bring it to life, to make it real. You can see it; you can feel it. Even though I lived through it, to see it there makes the words sing. \\nAndrew Aydin: This is very much centered around stories that I have heard the Congressman tell to all these people over the years. Nate lifted that off the paper and made it something at a whole other level. He is very good at finding a natural flow for your eye. \\nWe tried make sure that it was not just accurate for the sake of telling the story, but accurate for the sake of instructing, so that people who have never been to a nonviolent workshop could read and understand what one was. Nate really captured that. \\nAnother thing I think the book did well was capture the real work that went on behind the scenes. We are so rarely shown how many years of preparation and organizing went into making movements happen. I would love to hear about the challenges of showing that part of the story. \\nJohn Lewis: The planning, the training, the nitty-gritty organizingyou may wait for days or weeks or even months before you see something. But you do it. You are consistent and you are persistent, day in and day out. \\nAndrew Aydin: You see how this work ethic has just been such an omnipresent force in the Congressmans life since he was 17, 18 years oldor even before that, on the farm. I remember at several points asking What time did that take place and he would be like Oh, 5:00, 6:00 a.m. And you realize these are college kids. How many college kids today get up at 5:00 in the morning, much less to go to an organizing meeting before class \\nJohn Lewis: On April the 19, 1960, the attorney for the Nashville movement who had defended the students, his home was bombed around 6:00 a.m. And by 6:30 or 6:45 we were in a meeting. Students came from all over the city and we made a decisionit was a consensusthat we would have a march from the heart of the student community down to city hall. We sent the mayor of the city a telegram to meet us at high noon. There were more than 4,000 students saying, Mr. Mayor, do you favor desegregation of the lunch counters And the next day, the banner headline in the local paper read that the Mayor said Yes to the integration of the lunch counters. \\nIt was that sense that we had to act, we had to do something, we could not wait. \\nAndrew Aydin: You always say, You gotta get up! You cannot sleep through the revolution! \\n \\n \\nThe anniversary of the March on Washington is approaching quickly, and it is never seemed more relevant in my lifetime. We are seeing renewed attacks on civil rights and voting rights, along with a renewed movement for racial and economic justice. How are you feeling about the present day \\nJohn Lewis: In spite of all the problems and difficulties, all the apparent setbacks, delays, I feel very hopeful, very optimistic. I think we are in the process of building a very powerful movement. \\nNorth Carolinas governor just yesterday signed into law one of the most unbelievable pieces of legislation that would lead to a systematic, deliberate effort to suppress the votes of minorities, young people and the elderly. But in spite of that, I am hopeful that we are going to continue to push, and it is going to start the fire for a real movement. Look at what is happening in North Carolina now, the Moral Mondays. It is a good sign. It will spread around, not just the South, but around America. \\nWhat do you hope that some of those young people involved in North Carolina, camping out in the capitol in Florida, what do you hope that they take away from this comic \\nJohn Lewis: It is my hope that many of the young people will have an opportunity to read March and be inspired, and see another generation got out there and did what they could, and that we too must pick up and push the ball further down the road. \\nAndrew Aydin: Some people have started getting advance copies, and one of them gave the book to his 9-year-old son. \\nJohn Lewis: It is a white man, right \\nAndrew Aydin: Yes. His kid read the book, enjoyed it, had a little trouble with Emmett Tills death, but it resonated with him, and so now he is put on a suit and is marching around his house demanding equality. \\nWhat does that say about what we have to look forward to \\nJohn Lewis: They shall lead the way. Like the children in Birmingham and Selma, Albany, Georgia and other parts. They led the way. \\nAndrew Aydin: That is part of the bigger message that I think we will really be able to get into after this book. Because the tactics that worked in Birmingham did not necessarily work in Albany, and they had to change. Tactics in one city did not work for every foe or every objective. From that original idea of the Montgomery bus boycott being useful as an example of successful nonviolent direct action, the whole premise is showing more and more examples of different tactics used to express different forms of opposition. As activists today look for new tactics to address their own opposition, they have inspiration and they see concrete examples of how things were reimagined but still stuck to the basic tenets, the philosophy and discipline of nonviolence. \\nPanels from March: Book One courtesy of Top Shelf Productions. All rights reserved. \\nLike what youve read Subscribe to In These Times magazine, or make a tax-deductible donation to fund this reporting. \\nSarah Jaffe is a former staff writer at In These Times and author of Necessary Trouble: Americans in Revolt , which Robin D.G. Kelley called The most compelling social and political portrait of our age. You can follow her on Twitter @sarahljaffe.'"
      ]
     },
     "execution_count": 70,
     "metadata": {},
     "output_type": "execute_result"
    }
   ],
   "source": [
    "check.reset_index()['preprocessed_text'][5]"
   ]
  },
  {
   "cell_type": "code",
   "execution_count": null,
   "metadata": {},
   "outputs": [],
   "source": []
  }
 ],
 "metadata": {
  "kernelspec": {
   "display_name": "Python 3",
   "language": "python",
   "name": "python3"
  },
  "language_info": {
   "codemirror_mode": {
    "name": "ipython",
    "version": 3
   },
   "file_extension": ".py",
   "mimetype": "text/x-python",
   "name": "python",
   "nbconvert_exporter": "python",
   "pygments_lexer": "ipython3",
   "version": "3.6.6"
  }
 },
 "nbformat": 4,
 "nbformat_minor": 2
}
