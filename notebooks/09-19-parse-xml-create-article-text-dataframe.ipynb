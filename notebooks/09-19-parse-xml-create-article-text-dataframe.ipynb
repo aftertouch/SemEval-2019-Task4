{
 "cells": [
  {
   "cell_type": "markdown",
   "metadata": {},
   "source": [
    "## SemEval 2019 Task 4 - Parse XML and load article text into dataframe\n",
    "\n",
    "Jonathan Miller and Negar Adyaniyazdi, VCU, CMSC516, Fall 2018"
   ]
  },
  {
   "cell_type": "code",
   "execution_count": 1,
   "metadata": {},
   "outputs": [],
   "source": [
    "import xml.etree.cElementTree as et\n",
    "import pandas as pd"
   ]
  },
  {
   "cell_type": "code",
   "execution_count": 2,
   "metadata": {},
   "outputs": [],
   "source": [
    "DATA_PATH = '../data/'\n",
    "DATA_RAW_PATH = DATA_PATH + 'raw/'\n",
    "\n",
    "text_train_path = DATA_RAW_PATH + 'articles-training-20180831.xml'\n",
    "text_val_path = DATA_RAW_PATH + 'articles-validation-20180831.xml'"
   ]
  },
  {
   "cell_type": "markdown",
   "metadata": {},
   "source": [
    "Parse XML file for validation article data and create dataframe with ID and raw article text"
   ]
  },
  {
   "cell_type": "code",
   "execution_count": 3,
   "metadata": {},
   "outputs": [],
   "source": [
    "tree = et.parse(text_val_path)\n",
    "root = tree.getroot()\n",
    "articles = root.findall('.//article')"
   ]
  },
  {
   "cell_type": "code",
   "execution_count": 4,
   "metadata": {},
   "outputs": [],
   "source": [
    "article_text_list = []\n",
    "\n",
    "for article in articles:\n",
    "    text_string = article.get('title') + ' '\n",
    "    for t in article.itertext():\n",
    "        text_string += t\n",
    "    article_text_list.append(text_string)"
   ]
  },
  {
   "cell_type": "code",
   "execution_count": 5,
   "metadata": {},
   "outputs": [],
   "source": [
    "xml_data = [[article.get('id')] for article in articles]\n",
    "col_names = ['id']\n",
    "article_text_val = pd.DataFrame(xml_data, columns=col_names)\n",
    "article_text_val['article_text'] = article_text_list\n",
    "article_text_val['id'] = article_text_val['id'].astype(str)"
   ]
  },
  {
   "cell_type": "code",
   "execution_count": 6,
   "metadata": {},
   "outputs": [
    {
     "data": {
      "text/html": [
       "<div>\n",
       "<style scoped>\n",
       "    .dataframe tbody tr th:only-of-type {\n",
       "        vertical-align: middle;\n",
       "    }\n",
       "\n",
       "    .dataframe tbody tr th {\n",
       "        vertical-align: top;\n",
       "    }\n",
       "\n",
       "    .dataframe thead th {\n",
       "        text-align: right;\n",
       "    }\n",
       "</style>\n",
       "<table border=\"1\" class=\"dataframe\">\n",
       "  <thead>\n",
       "    <tr style=\"text-align: right;\">\n",
       "      <th></th>\n",
       "      <th>id</th>\n",
       "      <th>article_text</th>\n",
       "    </tr>\n",
       "  </thead>\n",
       "  <tbody>\n",
       "    <tr>\n",
       "      <th>0</th>\n",
       "      <td>0000017</td>\n",
       "      <td>SAN FRANCISCO / Head of Juvenile Probation Dep...</td>\n",
       "    </tr>\n",
       "    <tr>\n",
       "      <th>1</th>\n",
       "      <td>0000019</td>\n",
       "      <td>Nancy Pelosi Lies On CNN About Gun Control, An...</td>\n",
       "    </tr>\n",
       "    <tr>\n",
       "      <th>2</th>\n",
       "      <td>0000023</td>\n",
       "      <td>University leaders ban pro-life flag display, ...</td>\n",
       "    </tr>\n",
       "    <tr>\n",
       "      <th>3</th>\n",
       "      <td>0000024</td>\n",
       "      <td>What Wine Prices Tell Us About OPEC Why Are Oi...</td>\n",
       "    </tr>\n",
       "    <tr>\n",
       "      <th>4</th>\n",
       "      <td>0000026</td>\n",
       "      <td>The Long Road to Harvard As reported in the Ne...</td>\n",
       "    </tr>\n",
       "  </tbody>\n",
       "</table>\n",
       "</div>"
      ],
      "text/plain": [
       "        id                                       article_text\n",
       "0  0000017  SAN FRANCISCO / Head of Juvenile Probation Dep...\n",
       "1  0000019  Nancy Pelosi Lies On CNN About Gun Control, An...\n",
       "2  0000023  University leaders ban pro-life flag display, ...\n",
       "3  0000024  What Wine Prices Tell Us About OPEC Why Are Oi...\n",
       "4  0000026  The Long Road to Harvard As reported in the Ne..."
      ]
     },
     "execution_count": 6,
     "metadata": {},
     "output_type": "execute_result"
    }
   ],
   "source": [
    "article_text_val.head()"
   ]
  },
  {
   "cell_type": "code",
   "execution_count": 7,
   "metadata": {},
   "outputs": [
    {
     "data": {
      "text/plain": [
       "(200000, 2)"
      ]
     },
     "execution_count": 7,
     "metadata": {},
     "output_type": "execute_result"
    }
   ],
   "source": [
    "article_text_val.shape"
   ]
  },
  {
   "cell_type": "markdown",
   "metadata": {},
   "source": [
    "Parse XML file for training article data and create dataframe with ID and raw article text"
   ]
  },
  {
   "cell_type": "code",
   "execution_count": 8,
   "metadata": {},
   "outputs": [],
   "source": [
    "tree = et.parse(text_train_path)\n",
    "root = tree.getroot()\n",
    "articles = root.findall('.//article')\n",
    "\n",
    "article_text_list = []\n",
    "\n",
    "for article in articles:\n",
    "    text_string = article.get('title') + ' '\n",
    "    for t in article.itertext():\n",
    "        text_string += t\n",
    "    article_text_list.append(text_string)\n",
    "    \n",
    "xml_data = [[article.get('id')] for article in articles]\n",
    "col_names = ['id']\n",
    "article_text_train = pd.DataFrame(xml_data, columns=col_names)\n",
    "article_text_train['article_text'] = article_text_list\n",
    "article_text_train['id'] = article_text_train['id'].astype(str)"
   ]
  },
  {
   "cell_type": "code",
   "execution_count": 9,
   "metadata": {},
   "outputs": [
    {
     "data": {
      "text/html": [
       "<div>\n",
       "<style scoped>\n",
       "    .dataframe tbody tr th:only-of-type {\n",
       "        vertical-align: middle;\n",
       "    }\n",
       "\n",
       "    .dataframe tbody tr th {\n",
       "        vertical-align: top;\n",
       "    }\n",
       "\n",
       "    .dataframe thead th {\n",
       "        text-align: right;\n",
       "    }\n",
       "</style>\n",
       "<table border=\"1\" class=\"dataframe\">\n",
       "  <thead>\n",
       "    <tr style=\"text-align: right;\">\n",
       "      <th></th>\n",
       "      <th>id</th>\n",
       "      <th>article_text</th>\n",
       "    </tr>\n",
       "  </thead>\n",
       "  <tbody>\n",
       "    <tr>\n",
       "      <th>0</th>\n",
       "      <td>0000001</td>\n",
       "      <td>After DeVos Announced Plans To Reexamine Title...</td>\n",
       "    </tr>\n",
       "    <tr>\n",
       "      <th>1</th>\n",
       "      <td>0000002</td>\n",
       "      <td>University To Award Trayvon Martin With Posthu...</td>\n",
       "    </tr>\n",
       "    <tr>\n",
       "      <th>2</th>\n",
       "      <td>0000008</td>\n",
       "      <td>Texas State University suspends Greek life aft...</td>\n",
       "    </tr>\n",
       "    <tr>\n",
       "      <th>3</th>\n",
       "      <td>0000009</td>\n",
       "      <td>Red Sox waste Rodriguez outing in 1-0 loss to ...</td>\n",
       "    </tr>\n",
       "    <tr>\n",
       "      <th>4</th>\n",
       "      <td>0000010</td>\n",
       "      <td>Eve and the New Jerusalem Imaginings of a utop...</td>\n",
       "    </tr>\n",
       "  </tbody>\n",
       "</table>\n",
       "</div>"
      ],
      "text/plain": [
       "        id                                       article_text\n",
       "0  0000001  After DeVos Announced Plans To Reexamine Title...\n",
       "1  0000002  University To Award Trayvon Martin With Posthu...\n",
       "2  0000008  Texas State University suspends Greek life aft...\n",
       "3  0000009  Red Sox waste Rodriguez outing in 1-0 loss to ...\n",
       "4  0000010  Eve and the New Jerusalem Imaginings of a utop..."
      ]
     },
     "execution_count": 9,
     "metadata": {},
     "output_type": "execute_result"
    }
   ],
   "source": [
    "article_text_train.head()"
   ]
  },
  {
   "cell_type": "code",
   "execution_count": 10,
   "metadata": {},
   "outputs": [
    {
     "data": {
      "text/plain": [
       "(800000, 2)"
      ]
     },
     "execution_count": 10,
     "metadata": {},
     "output_type": "execute_result"
    }
   ],
   "source": [
    "article_text_train.shape"
   ]
  },
  {
   "cell_type": "code",
   "execution_count": 11,
   "metadata": {},
   "outputs": [],
   "source": [
    "DATA_INTERIM_PATH = DATA_PATH + 'interim/'\n",
    "\n",
    "article_text_train.to_csv(DATA_INTERIM_PATH + 'text_train.csv', index=False)\n",
    "article_text_val.to_csv(DATA_INTERIM_PATH + 'text_val.csv', index=False)"
   ]
  },
  {
   "cell_type": "code",
   "execution_count": null,
   "metadata": {},
   "outputs": [],
   "source": []
  }
 ],
 "metadata": {
  "kernelspec": {
   "display_name": "Python 3",
   "language": "python",
   "name": "python3"
  },
  "language_info": {
   "codemirror_mode": {
    "name": "ipython",
    "version": 3
   },
   "file_extension": ".py",
   "mimetype": "text/x-python",
   "name": "python",
   "nbconvert_exporter": "python",
   "pygments_lexer": "ipython3",
   "version": "3.6.6"
  }
 },
 "nbformat": 4,
 "nbformat_minor": 2
}
