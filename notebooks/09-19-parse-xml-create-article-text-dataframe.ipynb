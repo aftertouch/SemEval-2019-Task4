{
 "cells": [
  {
   "cell_type": "markdown",
   "metadata": {},
   "source": [
    "## SemEval 2019 Task 4 - Parse XML and load article text into dataframe\n",
    "\n",
    "Jonathan Miller and Negar Adyaniyazdi, VCU, CMSC516, Fall 2018"
   ]
  },
  {
   "cell_type": "code",
   "execution_count": 1,
   "metadata": {},
   "outputs": [],
   "source": [
    "import xml.etree.cElementTree as et\n",
    "import pandas as pd"
   ]
  },
  {
   "cell_type": "code",
   "execution_count": 2,
   "metadata": {},
   "outputs": [],
   "source": [
    "DATA_PATH = '../data/'\n",
    "DATA_RAW_PATH = DATA_PATH + 'raw/'\n",
    "\n",
    "text_train_path = DATA_RAW_PATH + 'articles-training-20180831.xml'\n",
    "text_val_path = DATA_RAW_PATH + 'articles-validation-20180831.xml'"
   ]
  },
  {
   "cell_type": "markdown",
   "metadata": {},
   "source": [
    "Parse XML file for validation article data and create dataframe with ID and raw article text"
   ]
  },
  {
   "cell_type": "code",
   "execution_count": 11,
   "metadata": {},
   "outputs": [],
   "source": [
    "tree = et.parse(text_val_path)\n",
    "root = tree.getroot()\n",
    "articles = root.findall('.//article')"
   ]
  },
  {
   "cell_type": "code",
   "execution_count": 12,
   "metadata": {},
   "outputs": [],
   "source": [
    "article_text_list = []\n",
    "\n",
    "for article in articles:\n",
    "    text_string = article.get('title')\n",
    "    for t in article.itertext():\n",
    "        text_string += t\n",
    "    article_text_list.append(text_string)"
   ]
  },
  {
   "cell_type": "code",
   "execution_count": 13,
   "metadata": {},
   "outputs": [],
   "source": [
    "xml_data = [[article.get('id')] for article in articles]\n",
    "col_names = ['id']\n",
    "article_text_val = pd.DataFrame(xml_data, columns=col_names)\n",
    "article_text_val['article_text'] = article_text_list\n",
    "article_text_val.set_index('id', inplace=True)"
   ]
  },
  {
   "cell_type": "code",
   "execution_count": 14,
   "metadata": {},
   "outputs": [
    {
     "data": {
      "text/html": [
       "<div>\n",
       "<style scoped>\n",
       "    .dataframe tbody tr th:only-of-type {\n",
       "        vertical-align: middle;\n",
       "    }\n",
       "\n",
       "    .dataframe tbody tr th {\n",
       "        vertical-align: top;\n",
       "    }\n",
       "\n",
       "    .dataframe thead th {\n",
       "        text-align: right;\n",
       "    }\n",
       "</style>\n",
       "<table border=\"1\" class=\"dataframe\">\n",
       "  <thead>\n",
       "    <tr style=\"text-align: right;\">\n",
       "      <th></th>\n",
       "      <th>article_text</th>\n",
       "    </tr>\n",
       "    <tr>\n",
       "      <th>id</th>\n",
       "      <th></th>\n",
       "    </tr>\n",
       "  </thead>\n",
       "  <tbody>\n",
       "    <tr>\n",
       "      <th>0000017</th>\n",
       "      <td>SAN FRANCISCO / Head of Juvenile Probation Dep...</td>\n",
       "    </tr>\n",
       "    <tr>\n",
       "      <th>0000019</th>\n",
       "      <td>Nancy Pelosi Lies On CNN About Gun Control, An...</td>\n",
       "    </tr>\n",
       "    <tr>\n",
       "      <th>0000023</th>\n",
       "      <td>University leaders ban pro-life flag display, ...</td>\n",
       "    </tr>\n",
       "    <tr>\n",
       "      <th>0000024</th>\n",
       "      <td>What Wine Prices Tell Us About OPEC Why Are Oi...</td>\n",
       "    </tr>\n",
       "    <tr>\n",
       "      <th>0000026</th>\n",
       "      <td>The Long Road to HarvardAs reported in the New...</td>\n",
       "    </tr>\n",
       "  </tbody>\n",
       "</table>\n",
       "</div>"
      ],
      "text/plain": [
       "                                              article_text\n",
       "id                                                        \n",
       "0000017  SAN FRANCISCO / Head of Juvenile Probation Dep...\n",
       "0000019  Nancy Pelosi Lies On CNN About Gun Control, An...\n",
       "0000023  University leaders ban pro-life flag display, ...\n",
       "0000024  What Wine Prices Tell Us About OPEC Why Are Oi...\n",
       "0000026  The Long Road to HarvardAs reported in the New..."
      ]
     },
     "execution_count": 14,
     "metadata": {},
     "output_type": "execute_result"
    }
   ],
   "source": [
    "article_text_val.head()"
   ]
  },
  {
   "cell_type": "code",
   "execution_count": 15,
   "metadata": {},
   "outputs": [
    {
     "data": {
      "text/plain": [
       "(200000, 1)"
      ]
     },
     "execution_count": 15,
     "metadata": {},
     "output_type": "execute_result"
    }
   ],
   "source": [
    "article_text_val.shape"
   ]
  },
  {
   "cell_type": "markdown",
   "metadata": {},
   "source": [
    "Parse XML file for training article data and create dataframe with ID and raw article text"
   ]
  },
  {
   "cell_type": "code",
   "execution_count": null,
   "metadata": {},
   "outputs": [],
   "source": [
    "tree = et.parse(text_train_path)\n",
    "root = tree.getroot()\n",
    "articles = root.findall('.//article')\n",
    "\n",
    "article_text_list = []\n",
    "\n",
    "for article in articles:\n",
    "    text_string = article.get('title')\n",
    "    for t in article.itertext():\n",
    "        text_string += t\n",
    "    article_text_list.append(text_string)\n",
    "    \n",
    "xml_data = [[article.get('id')] for article in articles]\n",
    "col_names = ['id']\n",
    "article_text_train = pd.DataFrame(xml_data, columns=col_names)\n",
    "article_text_train['article_text'] = article_text_list\n",
    "article_text_train.set_index('id', inplace=True)"
   ]
  },
  {
   "cell_type": "code",
   "execution_count": null,
   "metadata": {},
   "outputs": [],
   "source": [
    "article_text_train.head()"
   ]
  },
  {
   "cell_type": "code",
   "execution_count": null,
   "metadata": {},
   "outputs": [],
   "source": [
    "article_text_train.shape"
   ]
  },
  {
   "cell_type": "code",
   "execution_count": null,
   "metadata": {},
   "outputs": [],
   "source": [
    "DATA_PROCESSED_PATH = DATA_PATH + 'processed/'\n",
    "\n",
    "article_text_train.to_csv(DATA_PROCESSED_PATH + 'text_train.csv')\n",
    "article_text_val.to_csv(DATA_PROCESSED_PATH + 'text_val.csv')"
   ]
  }
 ],
 "metadata": {
  "kernelspec": {
   "display_name": "Python 3",
   "language": "python",
   "name": "python3"
  },
  "language_info": {
   "codemirror_mode": {
    "name": "ipython",
    "version": 3
   },
   "file_extension": ".py",
   "mimetype": "text/x-python",
   "name": "python",
   "nbconvert_exporter": "python",
   "pygments_lexer": "ipython3",
   "version": "3.6.6"
  }
 },
 "nbformat": 4,
 "nbformat_minor": 2
}
