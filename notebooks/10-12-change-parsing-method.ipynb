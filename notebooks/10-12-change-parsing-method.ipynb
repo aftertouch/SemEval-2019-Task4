{
 "cells": [
  {
   "cell_type": "code",
   "execution_count": 2,
   "metadata": {},
   "outputs": [],
   "source": [
    "import xml.etree.cElementTree as et\n",
    "import pandas as pd"
   ]
  },
  {
   "cell_type": "code",
   "execution_count": 3,
   "metadata": {},
   "outputs": [],
   "source": [
    "DATA_PATH = '../data/'\n",
    "DATA_RAW_PATH = DATA_PATH + 'raw/'\n",
    "\n",
    "text_train_path = DATA_RAW_PATH + 'articles-training-20180831.xml'\n",
    "text_val_path = DATA_RAW_PATH + 'articles-validation-20180831.xml'"
   ]
  },
  {
   "cell_type": "code",
   "execution_count": 4,
   "metadata": {},
   "outputs": [],
   "source": [
    "tree = et.parse(text_val_path)\n",
    "root = tree.getroot()\n",
    "articles = root.findall('.//article')"
   ]
  },
  {
   "cell_type": "code",
   "execution_count": 9,
   "metadata": {},
   "outputs": [
    {
     "name": "stdout",
     "output_type": "stream",
     "text": [
      "/search/?action=search&amp;channel=politics&amp;inlineLink=1&amp;searchindex=solr&amp;query=%22Gwendolyn+Tucker%22 Gwendolyn Tucker\n",
      "/search/?action=search&amp;channel=politics&amp;inlineLink=1&amp;searchindex=solr&amp;query=%22Juvenile+Probation+Commission%22 juvenile probation commission\n",
      "/search/?action=search&amp;channel=politics&amp;inlineLink=1&amp;searchindex=solr&amp;query=%22Jesse+Williams%22 Jesse Williams\n",
      "/search/?action=search&amp;channel=politics&amp;inlineLink=1&amp;searchindex=solr&amp;query=%22Gregg+Adam%22 Gregg Adam\n",
      "/search/?action=search&amp;channel=politics&amp;inlineLink=1&amp;searchindex=solr&amp;query=%22Juvenile+Probation+Department%22 Juvenile Probation Department\n",
      "/search/?action=search&amp;channel=politics&amp;inlineLink=1&amp;searchindex=solr&amp;query=%22Andrea+Shorter%22 Andrea Shorter\n",
      "/search/?action=search&amp;channel=politics&amp;inlineLink=1&amp;searchindex=solr&amp;query=%22Center+on+Juvenile%22 Center on Juvenile\n",
      "/search/?action=search&amp;channel=politics&amp;inlineLink=1&amp;searchindex=solr&amp;query=%22Ntanya+Lee%22 Ntanya Lee\n",
      " Gavin Newsom\n",
      "/search/?action=search&amp;channel=politics&amp;inlineLink=1&amp;searchindex=solr&amp;query=%22Jeff+Hatton%22 Jeff Hatton\n",
      "/search/?action=search&amp;channel=politics&amp;inlineLink=1&amp;searchindex=solr&amp;query=%22Larry+Whitney%22 Larry Whitney\n"
     ]
    }
   ],
   "source": [
    "article = articles[0]\n",
    "\n",
    "p_list = article.findall('p')\n",
    "\n",
    "for p in p_list:\n",
    "    links = p.findall('a')\n",
    "    for a in links:\n",
    "        link = a.get('href')\n",
    "        print(a.get('href'), a.text)"
   ]
  },
  {
   "cell_type": "code",
   "execution_count": 11,
   "metadata": {},
   "outputs": [],
   "source": [
    "external_links_lists = []\n",
    "internal_links_lists = []\n",
    "\n",
    "for article in articles[0:10]:\n",
    "    \n",
    "    external_links_dict = {}\n",
    "    internal_links_dict = {}\n",
    "\n",
    "    p_list = article.findall('p')\n",
    "\n",
    "    for p in p_list:\n",
    "        links = p.findall('a')\n",
    "        for a in links:\n",
    "            link = a.get('href')\n",
    "            text = a.text\n",
    "            if a.get('type') == 'external' and bool(link):\n",
    "                if link[0] == '/':\n",
    "                    internal_links_dict[link] = text\n",
    "                else:\n",
    "                    external_links_dict[link] = text\n",
    "                    \n",
    "    external_links_lists.append(external_links_dict)\n",
    "    internal_links_lists.append(internal_links_dict)"
   ]
  },
  {
   "cell_type": "code",
   "execution_count": 12,
   "metadata": {},
   "outputs": [
    {
     "data": {
      "text/plain": [
       "[{'/search/?action=search&amp;channel=politics&amp;inlineLink=1&amp;searchindex=solr&amp;query=%22Gwendolyn+Tucker%22': 'Gwendolyn Tucker',\n",
       "  '/search/?action=search&amp;channel=politics&amp;inlineLink=1&amp;searchindex=solr&amp;query=%22Juvenile+Probation+Commission%22': 'juvenile probation commission',\n",
       "  '/search/?action=search&amp;channel=politics&amp;inlineLink=1&amp;searchindex=solr&amp;query=%22Jesse+Williams%22': 'Jesse Williams',\n",
       "  '/search/?action=search&amp;channel=politics&amp;inlineLink=1&amp;searchindex=solr&amp;query=%22Gregg+Adam%22': 'Gregg Adam',\n",
       "  '/search/?action=search&amp;channel=politics&amp;inlineLink=1&amp;searchindex=solr&amp;query=%22Juvenile+Probation+Department%22': 'Juvenile Probation Department',\n",
       "  '/search/?action=search&amp;channel=politics&amp;inlineLink=1&amp;searchindex=solr&amp;query=%22Andrea+Shorter%22': 'Andrea Shorter',\n",
       "  '/search/?action=search&amp;channel=politics&amp;inlineLink=1&amp;searchindex=solr&amp;query=%22Center+on+Juvenile%22': 'Center on Juvenile',\n",
       "  '/search/?action=search&amp;channel=politics&amp;inlineLink=1&amp;searchindex=solr&amp;query=%22Ntanya+Lee%22': 'Ntanya Lee',\n",
       "  '/search/?action=search&amp;channel=politics&amp;inlineLink=1&amp;searchindex=solr&amp;query=%22Jeff+Hatton%22': 'Jeff Hatton',\n",
       "  '/search/?action=search&amp;channel=politics&amp;inlineLink=1&amp;searchindex=solr&amp;query=%22Larry+Whitney%22': 'Larry Whitney'},\n",
       " {},\n",
       " {},\n",
       " {'/energy-and-environment/fossil-fuels': 'Fossil Fuels',\n",
       "  '/economics': 'Economics',\n",
       "  '/asia/china': 'China',\n",
       "  '/energy-and-environment/renewable-energy': 'Renewable Energy',\n",
       "  '/economics/trade': 'Trade',\n",
       "  '/politics-and-government/media': 'Media',\n",
       "  '/energy-and-environment/climate-change': 'Climate Change',\n",
       "  '/americas/united-states': 'United States',\n",
       "  '/middle-east-and-north-africa/iran': 'Iran',\n",
       "  '/energy-and-environment/nuclear-energy': 'Nuclear Energy',\n",
       "  '/diplomacy-and-international-institutions/sanctions': 'Sanctions'},\n",
       " {},\n",
       " {},\n",
       " {},\n",
       " {'/economics/labor-and-employment': 'Labor and Employment',\n",
       "  '/economics/inequality': 'Inequality',\n",
       "  '/economics/development': 'Development',\n",
       "  '/americas/united-states': 'United States'},\n",
       " {},\n",
       " {}]"
      ]
     },
     "execution_count": 12,
     "metadata": {},
     "output_type": "execute_result"
    }
   ],
   "source": [
    "internal_links_lists"
   ]
  },
  {
   "cell_type": "code",
   "execution_count": 100,
   "metadata": {},
   "outputs": [
    {
     "data": {
      "text/plain": [
       "'DONALD TRUMP, GET YOUR TINY PIGGY PERVERT HANDS OFF KATY TUR RIGHT THE FUCK NOW! Time for Hillary Clinton to go back to Benghazi, because she?s not the only person with a new book out today! Turns out MSNBC?s Katy Tur ended up accidentally picking today to release HER book, Unbelievable: My Front-Row Seat to the Craziest Campaign in American History, which chronicles what it was like to follow Donald Trump around on his puss-grabbing racism tour during the 2016 campaign. (You should buy it when you buy your copy of Hillary Clinton?s book, or just whenever you want, as long as it?s RIGHT NOW.) \\nLet us say on the front end that we love Katy Tur, which means we are #BIAS. She is so smart and good and funny and delightful, and if yr gay-ass Wonkette may be allowed a brief moment of heterosexuality, she is SO PRETTY YOU GUYS OMG. \\nAnyway. \\nTrump harassed the shit out of Tur&#160;constantly during the campaign. He absolutely loved it when she covered his rallies, so he could rile up his cousin-fucking hordes in rage over how the fake news is lying to America. About a week before the election, Trump screamed the following at her, because THERE?S SOMETHING HAPPENING, KATY, YOU?RE NOT REPORTING IT, KATY! \\nKATY, YOU?RE NOT REPORTING IT, KATY. BUT THERE?S SOMETHING HAPPENING, KATY. THERE?S SOMETHING HAPPENING, KATY. \\nAnd he pointed at her like this, so the human tubes of expired Easy Cheese at his rally knew EXACTLY which offending journalist, who just happened to be a young woman, was NOT REPORTING IT, KATY! \\n \\nTrump does this because he is a sexist piece of shit who gets the world?s tiniest erections (which also happen to be his biggest) over exerting creepy filthy chauvinist power over women. \\nTrump also tweeted during the campaign at various times about Tur, saying she was a ?3rd rate reporter? who ?lied? and ?should be fired.? You know, usual third-grade level Trump stuff. \\nBut hey, don?t take all that to suggest Trump doesn?t think Katy Tur is FUCKIN? HOT, or that he doesn?t want to grab her by the pussy and take her furniture shopping. Taegan Goddard posted a quote from Tur?s book Tuesday morning, about this one time Trump tried to grope her on the set of ?Morning Joe?: \\n?Before I know what?s happening, his hands are on my shoulders and his lips are on my cheek. My eyes widen. My body freezes. My heart stops. Fuck. I hope the cameras didn?t see that. My bosses are never going to take me seriously.? \\nFucking hell, he is beyond deplorable. GET YOUR HANDS AND YOUR ORANGE FACE AND YOUR APPLEHEADED VAGINA MOUTH OFF OF KATY TUR, PRESIDENT RAPE VAN, RIGHT THE FUCK NOW! \\nGet the context here! He was verbally abusing Katy Tur from the stage constantly and on Twitter, and yet the physically repulsive pile of hardened cat vomit currently manspreading all over the Oval Office thought it would be cool to get all up on her, like maybe if he stuck his gelatinous tongue in her mouth, she would start reporting that SOMETHING IS HAPPENING, KATY. \\nAlso, how fucked up is it that Tur?s first thought was that her bosses wouldn?t take HER seriously if they saw Trump advancing on her? And they say sexism is dead. (Just kidding, they don?t say that. But don?t mention it, especially if you?re Hillary Clinton!) \\nMSNBC released a longer excerpt from Tur?s book, and oh boy, if you didn?t click the link to pre-order above, you will after you read this account from election night, when Tur realized that, just as she suspected, Trump would win the election: \\nMy brutal, crazy, exasperating year with Trump is going to end ? by not ending at all. Trump will be president. The most powerful person in the world. And I will be locked in a press pen for the rest of my life. Does anyone really believe he?ll respect term limits? I have a vision of myself at sixty, Trump at a hundred, in some midwestern convention hall. The children of his 2016 supporters are spitting on me, and he is calling my name: ?She?s back there, Little Katy! She?s back there.? [?] \\nI?ve heard him insult a war hero, brag about grabbing women by the pussy, denigrate the judicial system, demonize immigrants, fight with the pope, doubt the democratic process, advocate torture and war crimes, tout the size of his junk in a presidential debate, trash the media, and endanger my life. \\nI?ve learned that none of this matters to an Electoral College majority of American voters. They?ve decided that this menacing, indecent, post-truth landscape is where they want to live for the next four years. \\nTur got literal death threats while she was covering Trump?s campaign, because that?s the kind of thing Trump?s example emboldens his stable of pigs to do to people. Indeed, according to her excerpt, a staffer told her during the campaign that, second to Trump, Secret Service paid the most attention to her during events, in order to protect her from them. \\nWe are glad, for Katy Tur?s health and sanity, and for the quality of MSNBC?s daytime news operation, that instead of forcing her to stay in Donald Trump?s loathsome presence all the time, the network just gave her her own show. It?s much better that way. \\nFollow Evan Hurst on Twitter RIGHT HERE. \\nWonkette salaries, servers, and all of the things are fully funded by readers like you! If you love us, click below to fund us! \\n[ Taegan Goddard?s Political Wire / MSNBC]'"
      ]
     },
     "execution_count": 100,
     "metadata": {},
     "output_type": "execute_result"
    }
   ],
   "source": [
    "text_string = article.get('title') + ' '\n",
    "for t in article.itertext():\n",
    "    text_string += t\n",
    "    \n",
    "text_string"
   ]
  },
  {
   "cell_type": "code",
   "execution_count": 38,
   "metadata": {},
   "outputs": [],
   "source": [
    "DATA_INTERIM_PATH = DATA_PATH + 'interim/'\n",
    "DATA_PROCESSED_PATH = DATA_PATH + 'processed/'\n",
    "\n",
    "val = pd.read_csv(DATA_INTERIM_PATH + 'val.csv')\n",
    "val_s = pd.read_csv(DATA_PROCESSED_PATH + 'val2500_0.csv')"
   ]
  },
  {
   "cell_type": "code",
   "execution_count": 40,
   "metadata": {},
   "outputs": [
    {
     "data": {
      "text/plain": [
       "id                                                              864092\n",
       "published-at                                                       NaN\n",
       "title                Advice for Hezbollah: How to Win Over the Pro-...\n",
       "article_text         Advice for Hezbollah: How to Win Over the Pro-...\n",
       "hyperpartisan                                                    False\n",
       "bias                                                             least\n",
       "url                  http://themoderatevoice.com/advice-for-hezboll...\n",
       "labeled-by                                                   publisher\n",
       "preprocessed_text    advice hezbollah win pro west opposition pro w...\n",
       "Name: 0, dtype: object"
      ]
     },
     "execution_count": 40,
     "metadata": {},
     "output_type": "execute_result"
    }
   ],
   "source": [
    "val_s.iloc[0]"
   ]
  },
  {
   "cell_type": "code",
   "execution_count": 42,
   "metadata": {},
   "outputs": [
    {
     "data": {
      "text/html": [
       "<div>\n",
       "<style scoped>\n",
       "    .dataframe tbody tr th:only-of-type {\n",
       "        vertical-align: middle;\n",
       "    }\n",
       "\n",
       "    .dataframe tbody tr th {\n",
       "        vertical-align: top;\n",
       "    }\n",
       "\n",
       "    .dataframe thead th {\n",
       "        text-align: right;\n",
       "    }\n",
       "</style>\n",
       "<table border=\"1\" class=\"dataframe\">\n",
       "  <thead>\n",
       "    <tr style=\"text-align: right;\">\n",
       "      <th></th>\n",
       "      <th>id</th>\n",
       "      <th>published-at</th>\n",
       "      <th>title</th>\n",
       "      <th>article_text</th>\n",
       "      <th>hyperpartisan</th>\n",
       "      <th>bias</th>\n",
       "      <th>url</th>\n",
       "      <th>labeled-by</th>\n",
       "    </tr>\n",
       "  </thead>\n",
       "  <tbody>\n",
       "    <tr>\n",
       "      <th>105421</th>\n",
       "      <td>864092</td>\n",
       "      <td>NaN</td>\n",
       "      <td>Advice for Hezbollah: How to Win Over the Pro-...</td>\n",
       "      <td>Advice for Hezbollah: How to Win Over the Pro-...</td>\n",
       "      <td>False</td>\n",
       "      <td>least</td>\n",
       "      <td>http://themoderatevoice.com/advice-for-hezboll...</td>\n",
       "      <td>publisher</td>\n",
       "    </tr>\n",
       "  </tbody>\n",
       "</table>\n",
       "</div>"
      ],
      "text/plain": [
       "            id published-at  \\\n",
       "105421  864092          NaN   \n",
       "\n",
       "                                                    title  \\\n",
       "105421  Advice for Hezbollah: How to Win Over the Pro-...   \n",
       "\n",
       "                                             article_text  hyperpartisan  \\\n",
       "105421  Advice for Hezbollah: How to Win Over the Pro-...          False   \n",
       "\n",
       "         bias                                                url labeled-by  \n",
       "105421  least  http://themoderatevoice.com/advice-for-hezboll...  publisher  "
      ]
     },
     "execution_count": 42,
     "metadata": {},
     "output_type": "execute_result"
    }
   ],
   "source": [
    "val[val['article_text'].str.contains('Advice for Hezbollah')]"
   ]
  },
  {
   "cell_type": "code",
   "execution_count": 86,
   "metadata": {},
   "outputs": [
    {
     "data": {
      "text/plain": [
       "'What Wine Prices Tell Us About OPEC Why Are Oil Prices So Volatile? The Right Way to Fight a Trade War Five Energy Stories to Watch in 2011 More on Energy Efficiency Fun With Energy and Climate Ngrams Iran is Slashing its Gasoline Subsidies. What Happens Next?'"
      ]
     },
     "execution_count": 86,
     "metadata": {},
     "output_type": "execute_result"
    }
   ],
   "source": [
    "val.iloc[3]['title']"
   ]
  },
  {
   "cell_type": "code",
   "execution_count": 103,
   "metadata": {},
   "outputs": [
    {
     "data": {
      "text/plain": [
       "True     325\n",
       "False      8\n",
       "Name: hyperpartisan, dtype: int64"
      ]
     },
     "execution_count": 103,
     "metadata": {},
     "output_type": "execute_result"
    }
   ],
   "source": [
    "val[val['article_text'].str.contains('FUCK')]['hyperpartisan'].value_counts()"
   ]
  },
  {
   "cell_type": "code",
   "execution_count": null,
   "metadata": {},
   "outputs": [],
   "source": []
  }
 ],
 "metadata": {
  "kernelspec": {
   "display_name": "Python 3",
   "language": "python",
   "name": "python3"
  },
  "language_info": {
   "codemirror_mode": {
    "name": "ipython",
    "version": 3
   },
   "file_extension": ".py",
   "mimetype": "text/x-python",
   "name": "python",
   "nbconvert_exporter": "python",
   "pygments_lexer": "ipython3",
   "version": "3.6.6"
  }
 },
 "nbformat": 4,
 "nbformat_minor": 2
}
