{
 "cells": [
  {
   "cell_type": "code",
   "execution_count": 1,
   "metadata": {},
   "outputs": [],
   "source": [
    "import pandas as pd"
   ]
  },
  {
   "cell_type": "code",
   "execution_count": 2,
   "metadata": {},
   "outputs": [],
   "source": [
    "DATA_PATH = '../data/'\n",
    "DATA_INTERIM_PATH = DATA_PATH + 'interim/'\n",
    "train = pd.read_csv(DATA_INTERIM_PATH + 'train_c.csv')"
   ]
  },
  {
   "cell_type": "code",
   "execution_count": 9,
   "metadata": {},
   "outputs": [],
   "source": [
    "import pickle\n",
    "\n",
    "DATA_EXTERNAL_PATH = DATA_PATH + 'external/'\n",
    "pickle_in = open(DATA_EXTERNAL_PATH + \"tld.pickle\",\"rb\")\n",
    "tlds = pickle.load(pickle_in)"
   ]
  },
  {
   "cell_type": "code",
   "execution_count": 76,
   "metadata": {},
   "outputs": [
    {
     "data": {
      "text/plain": [
       "{'https://www.nbcnews.com/news/us-news/betsy-devos-overhaul-obama-era-guidance-campus-sex-assault-n799471': 'said',\n",
       " 'http://www.washingtontimes.com/news/2017/sep/9/rob-ranco-texas-lawyer-says-he-would-be-ok-if-bets/': 'The Washington Times',\n",
       " 'https://www.redstate.com/brandon_morse/2017/09/09/cowardly-austin-lawyer-wished-sexual-assault-betsy-devos-locked-twitter-account/': 'deleted',\n",
       " 'https://twitter.com/PrisonPlanet': '@PrisonPlanet',\n",
       " 'https://twitter.com/hashtag/RobRanco?src=hash': '#RobRanco',\n",
       " 'https://www.carlsonattorneys.com/team-member/robert-ranco/': 'Team',\n",
       " 'https://www.change.org/p/texas-bar-association-removal-of-law-license-for-misogynistic-tweet-of-approval-of-sexual-assault-on-woman?recruiter=778517695&amp;utm_source=share_petition&amp;utm_medium=twitter&amp;utm_campaign=share_twitter_responsive': 'petition'}"
      ]
     },
     "execution_count": 76,
     "metadata": {},
     "output_type": "execute_result"
    }
   ],
   "source": [
    "import ast\n",
    "\n",
    "ast.literal_eval(train['external_links'][0])"
   ]
  },
  {
   "cell_type": "code",
   "execution_count": 20,
   "metadata": {},
   "outputs": [],
   "source": [
    "from tldextract import extract\n",
    "\n",
    "def external_links_bias(external_links, tlds) :\n",
    "    \n",
    "    HP_links = 0\n",
    "    nonHP_links = 0\n",
    "    unknown_links = 0\n",
    "\n",
    "    for url in ast.literal_eval(external_links):\n",
    "        tld = extract(url)[1]\n",
    "        try:\n",
    "            bias = tlds[tld]\n",
    "            if bias in ['left', 'right']:\n",
    "                HP_links += 1\n",
    "            elif bias in ['leftcenter', 'right-center', 'center']:\n",
    "                nonHP_links += 1\n",
    "        except:\n",
    "            unknown_links += 1\n",
    "            \n",
    "    return pd.Series([HP_links, nonHP_links, unknown_links])"
   ]
  },
  {
   "cell_type": "code",
   "execution_count": 21,
   "metadata": {},
   "outputs": [],
   "source": [
    "train[['HP_links_count', 'nonHP_links_count', 'unknown_links_count']] = train.loc[:,'external_links'].apply(external_links_bias, )"
   ]
  },
  {
   "cell_type": "code",
   "execution_count": 27,
   "metadata": {},
   "outputs": [
    {
     "name": "stdout",
     "output_type": "stream",
     "text": [
      "True\n",
      "Average external links = 3.146135\n",
      "Average HP links = 0.3095375\n",
      "Average nonHP links = 0.8426875\n",
      "False\n",
      "Average external links = 1.8485775\n",
      "Average HP links = 0.104895\n",
      "Average nonHP links = 0.6900025\n"
     ]
    }
   ],
   "source": [
    "for HP in [True, False]:\n",
    "    df = train[train['hyperpartisan'] == HP]\n",
    "    df_shape = df.shape[0]\n",
    "    HP_links = df['HP_links_count'].sum()\n",
    "    nonHP_links = df['nonHP_links_count'].sum() \n",
    "    unknown_links = df['unknown_links_count'].sum()\n",
    "    avg_links = (HP_links + nonHP_links + unknown_links)/df_shape\n",
    "    avg_HP_links = HP_links / df_shape\n",
    "    avg_nonHP_links = nonHP_links / df_shape\n",
    "    print(HP)\n",
    "    print('Average external links = {}'.format(avg_links))\n",
    "    print('Average HP links = {}'.format(avg_HP_links))\n",
    "    print('Average nonHP links = {}'.format(avg_nonHP_links))"
   ]
  },
  {
   "cell_type": "code",
   "execution_count": 77,
   "metadata": {},
   "outputs": [
    {
     "data": {
      "text/plain": [
       "0     375583\n",
       "1      16816\n",
       "2       4103\n",
       "3       1518\n",
       "4        703\n",
       "5        444\n",
       "6        263\n",
       "7        185\n",
       "8        131\n",
       "9         74\n",
       "10        37\n",
       "11        33\n",
       "12        25\n",
       "15        11\n",
       "13        10\n",
       "14         9\n",
       "16         8\n",
       "19         8\n",
       "18         6\n",
       "31         6\n",
       "21         5\n",
       "23         4\n",
       "24         3\n",
       "32         2\n",
       "20         2\n",
       "27         2\n",
       "29         2\n",
       "44         1\n",
       "42         1\n",
       "35         1\n",
       "25         1\n",
       "28         1\n",
       "22         1\n",
       "54         1\n",
       "Name: HP_links_count, dtype: int64"
      ]
     },
     "execution_count": 77,
     "metadata": {},
     "output_type": "execute_result"
    }
   ],
   "source": [
    "train[train['hyperpartisan']==False]['HP_links_count'].value_counts()"
   ]
  },
  {
   "cell_type": "code",
   "execution_count": 83,
   "metadata": {},
   "outputs": [],
   "source": [
    "parry = train[train['article_text'].str.lower().str.contains('fusion')].reset_index()"
   ]
  },
  {
   "cell_type": "code",
   "execution_count": 85,
   "metadata": {},
   "outputs": [
    {
     "data": {
      "text/plain": [
       "newsline                10273\n",
       "counterpunch             1757\n",
       "foxbusiness              1389\n",
       "abqjournal               1127\n",
       "motherjones               696\n",
       "pri                       614\n",
       "truthdig                  607\n",
       "apnews                    542\n",
       "thedailybeast             505\n",
       "consortiumnews            466\n",
       "reuters                   437\n",
       "dailywire                 364\n",
       "eppc                      334\n",
       "baptistnews               248\n",
       "dissentmagazine           177\n",
       "nbcnews                   157\n",
       "calwatchdog               155\n",
       "chicagoreporter           130\n",
       "factcheck                 119\n",
       "billmoyers                117\n",
       "intrepidreport            113\n",
       "mintpressnews             110\n",
       "washingtonblade            94\n",
       "dcclothesline              90\n",
       "21stcenturywire            85\n",
       "thegoldwater               85\n",
       "foreignpolicyjournal       82\n",
       "poynter                    82\n",
       "natmonitor                 74\n",
       "inthesetimes               70\n",
       "                        ...  \n",
       "greensboro                  2\n",
       "eaglerising                 2\n",
       "libertyfederation           2\n",
       "sfchronicle                 2\n",
       "thepopulist                 2\n",
       "freedomsfinalstand          2\n",
       "libertyviral                2\n",
       "rightwingwatch              2\n",
       "politichicks                2\n",
       "mprnews                     2\n",
       "yesmagazine                 2\n",
       "politifact                  2\n",
       "silenceisconsent            2\n",
       "upi                         1\n",
       "usainfonews                 1\n",
       "towleroad                   1\n",
       "samuel-warde                1\n",
       "patriotretort               1\n",
       "valleynewslive              1\n",
       "americanactionnews          1\n",
       "santafenewmexican           1\n",
       "mainebeacon                 1\n",
       "wordpress                   1\n",
       "bluenationreview            1\n",
       "newsandguts                 1\n",
       "trofire                     1\n",
       "beforeitsnews               1\n",
       "angrypatriotmovement        1\n",
       "liberalmountain             1\n",
       "americauncensored           1\n",
       "Name: domain, Length: 138, dtype: int64"
      ]
     },
     "execution_count": 85,
     "metadata": {},
     "output_type": "execute_result"
    }
   ],
   "source": [
    "parry['domain'].value_counts()"
   ]
  },
  {
   "cell_type": "code",
   "execution_count": 86,
   "metadata": {},
   "outputs": [
    {
     "data": {
      "text/plain": [
       "'Singapore issues more financial bans related to 1MDB scandal SINGAPORE (Reuters) ? Singapore?s central bank on Tuesday said it had permanently barred Yeo Jiawei, a former wealth manager of Swiss bank BSI involved in breaches related to Malaysia?s 1MDB fund, from managing financial services firms and advisory activities. In July, a Singapore court jailed Yeo for 4-1/2 years for money laundering and cheating in a case linked to investigations into the siphoning of billions of dollars from Malaysian sovereign fund 1MDB. The Monetary Authority of Singapore said it has issued a permanent prohibition order against Yeo, effective Monday, and a three-year ban for former chief executive of financial advisory firm NRA Capital, Kevin Scully. ?NRA had been appointed to perform the valuation of PetroSaudi Oil Services Limited (PSOSL),? MAS said in a press release. ?Mr Scully had failed to ensure that NRA?s valuation of PSOSL was carried out with sufficient care, judgment and objectivity,? the central bank added. MAS has now issued prohibition orders against eight people involved in 1MDB-related breaches, following two bans announced last month. Once a pet project of Malaysian Prime Minister Najib Razak, who chaired its advisory board, 1MDB is the subject of money-laundering investigations in at least six countries including Switzerland, Singapore and the United States. Najib has denied any wrongdoing. Singapore?s central bank had said in May that it had ended its two-year review of banks with 1MDB-linked transactions.  Fusion Media or anyone involved with Fusion Media will not accept any liability for loss or damage as a result of reliance on the information including data, quotes, charts and buy/sell signals contained within this website. Please be fully informed regarding the risks and costs associated with trading the financial markets, it is one of the riskiest investment forms possible.'"
      ]
     },
     "execution_count": 86,
     "metadata": {},
     "output_type": "execute_result"
    }
   ],
   "source": [
    "parry[parry['domain']=='newsline'].reset_index()['article_text'][0]"
   ]
  },
  {
   "cell_type": "code",
   "execution_count": null,
   "metadata": {},
   "outputs": [],
   "source": []
  }
 ],
 "metadata": {
  "kernelspec": {
   "display_name": "Python 3",
   "language": "python",
   "name": "python3"
  },
  "language_info": {
   "codemirror_mode": {
    "name": "ipython",
    "version": 3
   },
   "file_extension": ".py",
   "mimetype": "text/x-python",
   "name": "python",
   "nbconvert_exporter": "python",
   "pygments_lexer": "ipython3",
   "version": "3.6.6"
  }
 },
 "nbformat": 4,
 "nbformat_minor": 2
}
