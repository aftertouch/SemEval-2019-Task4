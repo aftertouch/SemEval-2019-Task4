{
 "cells": [
  {
   "cell_type": "code",
   "execution_count": 1,
   "metadata": {},
   "outputs": [],
   "source": [
    "import pandas as pd\n",
    "\n",
    "DATA_PATH = '../data/'\n",
    "DATA_INTERIM_PATH = DATA_PATH + 'interim/'"
   ]
  },
  {
   "cell_type": "code",
   "execution_count": 2,
   "metadata": {},
   "outputs": [],
   "source": [
    "import sys\n",
    "sys.path.append('../src')\n",
    "\n",
    "%load_ext autoreload\n",
    "%autoreload 1"
   ]
  },
  {
   "cell_type": "code",
   "execution_count": 3,
   "metadata": {},
   "outputs": [],
   "source": [
    "from datatasks.sample_data import sample_data\n",
    "%aimport datatasks.sample_data"
   ]
  },
  {
   "cell_type": "code",
   "execution_count": 4,
   "metadata": {},
   "outputs": [],
   "source": [
    "from sklearn.pipeline import Pipeline"
   ]
  },
  {
   "cell_type": "code",
   "execution_count": 7,
   "metadata": {},
   "outputs": [],
   "source": [
    "import glob\n",
    "DATA_PROCESSED_PATH = DATA_PATH + 'processed/'\n",
    "\n",
    "# Get training and test data\n",
    "train_path = glob.glob(DATA_PROCESSED_PATH + 'train*.csv')[0]\n",
    "val_path = glob.glob(DATA_PROCESSED_PATH + 'val*.csv')[0]\n",
    "\n",
    "# Load training and validation data\n",
    "train = pd.read_csv(train_path)\n",
    "val = pd.read_csv(val_path)"
   ]
  },
  {
   "cell_type": "code",
   "execution_count": 8,
   "metadata": {},
   "outputs": [
    {
     "data": {
      "text/html": [
       "<div>\n",
       "<style scoped>\n",
       "    .dataframe tbody tr th:only-of-type {\n",
       "        vertical-align: middle;\n",
       "    }\n",
       "\n",
       "    .dataframe tbody tr th {\n",
       "        vertical-align: top;\n",
       "    }\n",
       "\n",
       "    .dataframe thead th {\n",
       "        text-align: right;\n",
       "    }\n",
       "</style>\n",
       "<table border=\"1\" class=\"dataframe\">\n",
       "  <thead>\n",
       "    <tr style=\"text-align: right;\">\n",
       "      <th></th>\n",
       "      <th>id</th>\n",
       "      <th>published-at</th>\n",
       "      <th>title</th>\n",
       "      <th>article_text</th>\n",
       "      <th>external_links</th>\n",
       "      <th>internal_links</th>\n",
       "      <th>hyperpartisan</th>\n",
       "      <th>bias</th>\n",
       "      <th>url</th>\n",
       "      <th>labeled-by</th>\n",
       "      <th>HP_links_count</th>\n",
       "      <th>nonHP_links_count</th>\n",
       "      <th>unknown_links_count</th>\n",
       "      <th>domain</th>\n",
       "      <th>preprocessed_text</th>\n",
       "    </tr>\n",
       "  </thead>\n",
       "  <tbody>\n",
       "    <tr>\n",
       "      <th>0</th>\n",
       "      <td>1049192</td>\n",
       "      <td>2003-05-12</td>\n",
       "      <td>Time Inc.'s Huey thinks outside the box, makes...</td>\n",
       "      <td>Time Inc.'s Huey thinks outside the box, makes...</td>\n",
       "      <td>{}</td>\n",
       "      <td>{}</td>\n",
       "      <td>False</td>\n",
       "      <td>least</td>\n",
       "      <td>https://poynter.org/news/time-incs-huey-thinks...</td>\n",
       "      <td>publisher</td>\n",
       "      <td>0</td>\n",
       "      <td>0</td>\n",
       "      <td>0</td>\n",
       "      <td>poynter</td>\n",
       "      <td>time inc huey think outside box make enemy new...</td>\n",
       "    </tr>\n",
       "    <tr>\n",
       "      <th>1</th>\n",
       "      <td>923492</td>\n",
       "      <td>NaN</td>\n",
       "      <td>Texas group to open southern NM abortion clinic</td>\n",
       "      <td>Texas group to open southern NM abortion clini...</td>\n",
       "      <td>{'http://goo.gl/6s2S93': 'The Las Cruces Sun-N...</td>\n",
       "      <td>{}</td>\n",
       "      <td>False</td>\n",
       "      <td>least</td>\n",
       "      <td>https://abqjournal.com/456723/texas-group-to-o...</td>\n",
       "      <td>publisher</td>\n",
       "      <td>0</td>\n",
       "      <td>0</td>\n",
       "      <td>1</td>\n",
       "      <td>abqjournal</td>\n",
       "      <td>texas group open southern nm abortion clinic l...</td>\n",
       "    </tr>\n",
       "    <tr>\n",
       "      <th>2</th>\n",
       "      <td>1277816</td>\n",
       "      <td>NaN</td>\n",
       "      <td>Texas woman pleads guilty to sex trafficking 9...</td>\n",
       "      <td>Texas woman pleads guilty to sex trafficking 9...</td>\n",
       "      <td>{}</td>\n",
       "      <td>{}</td>\n",
       "      <td>False</td>\n",
       "      <td>least</td>\n",
       "      <td>https://abqjournal.com/1044515/texas-woman-ple...</td>\n",
       "      <td>publisher</td>\n",
       "      <td>0</td>\n",
       "      <td>0</td>\n",
       "      <td>0</td>\n",
       "      <td>abqjournal</td>\n",
       "      <td>texas woman plead guilty sex traffic year old ...</td>\n",
       "    </tr>\n",
       "    <tr>\n",
       "      <th>3</th>\n",
       "      <td>777348</td>\n",
       "      <td>2018-01-11</td>\n",
       "      <td>17 dead in California mudslides, more than a d...</td>\n",
       "      <td>17 dead in California mudslides, more than a d...</td>\n",
       "      <td>{}</td>\n",
       "      <td>{}</td>\n",
       "      <td>False</td>\n",
       "      <td>least</td>\n",
       "      <td>https://apnews.com/amp/67ec5e87bbb74130b7ddedc...</td>\n",
       "      <td>publisher</td>\n",
       "      <td>0</td>\n",
       "      <td>0</td>\n",
       "      <td>0</td>\n",
       "      <td>apnews</td>\n",
       "      <td>dead california mudslide dozen miss montecito ...</td>\n",
       "    </tr>\n",
       "    <tr>\n",
       "      <th>4</th>\n",
       "      <td>89424</td>\n",
       "      <td>NaN</td>\n",
       "      <td>County needs comprehensive effort to generate ...</td>\n",
       "      <td>County needs comprehensive effort to generate ...</td>\n",
       "      <td>{'http://www.sandovalcounty.com/uploads/Downlo...</td>\n",
       "      <td>{}</td>\n",
       "      <td>False</td>\n",
       "      <td>least</td>\n",
       "      <td>https://abqjournal.com/309627/county-needs-com...</td>\n",
       "      <td>publisher</td>\n",
       "      <td>0</td>\n",
       "      <td>0</td>\n",
       "      <td>1</td>\n",
       "      <td>abqjournal</td>\n",
       "      <td>county need comprehensive effort generate need...</td>\n",
       "    </tr>\n",
       "  </tbody>\n",
       "</table>\n",
       "</div>"
      ],
      "text/plain": [
       "        id published-at                                              title  \\\n",
       "0  1049192   2003-05-12  Time Inc.'s Huey thinks outside the box, makes...   \n",
       "1   923492          NaN    Texas group to open southern NM abortion clinic   \n",
       "2  1277816          NaN  Texas woman pleads guilty to sex trafficking 9...   \n",
       "3   777348   2018-01-11  17 dead in California mudslides, more than a d...   \n",
       "4    89424          NaN  County needs comprehensive effort to generate ...   \n",
       "\n",
       "                                        article_text  \\\n",
       "0  Time Inc.'s Huey thinks outside the box, makes...   \n",
       "1  Texas group to open southern NM abortion clini...   \n",
       "2  Texas woman pleads guilty to sex trafficking 9...   \n",
       "3  17 dead in California mudslides, more than a d...   \n",
       "4  County needs comprehensive effort to generate ...   \n",
       "\n",
       "                                      external_links internal_links  \\\n",
       "0                                                 {}             {}   \n",
       "1  {'http://goo.gl/6s2S93': 'The Las Cruces Sun-N...             {}   \n",
       "2                                                 {}             {}   \n",
       "3                                                 {}             {}   \n",
       "4  {'http://www.sandovalcounty.com/uploads/Downlo...             {}   \n",
       "\n",
       "   hyperpartisan   bias                                                url  \\\n",
       "0          False  least  https://poynter.org/news/time-incs-huey-thinks...   \n",
       "1          False  least  https://abqjournal.com/456723/texas-group-to-o...   \n",
       "2          False  least  https://abqjournal.com/1044515/texas-woman-ple...   \n",
       "3          False  least  https://apnews.com/amp/67ec5e87bbb74130b7ddedc...   \n",
       "4          False  least  https://abqjournal.com/309627/county-needs-com...   \n",
       "\n",
       "  labeled-by  HP_links_count  nonHP_links_count  unknown_links_count  \\\n",
       "0  publisher               0                  0                    0   \n",
       "1  publisher               0                  0                    1   \n",
       "2  publisher               0                  0                    0   \n",
       "3  publisher               0                  0                    0   \n",
       "4  publisher               0                  0                    1   \n",
       "\n",
       "       domain                                  preprocessed_text  \n",
       "0     poynter  time inc huey think outside box make enemy new...  \n",
       "1  abqjournal  texas group open southern nm abortion clinic l...  \n",
       "2  abqjournal  texas woman plead guilty sex traffic year old ...  \n",
       "3      apnews  dead california mudslide dozen miss montecito ...  \n",
       "4  abqjournal  county need comprehensive effort generate need...  "
      ]
     },
     "execution_count": 8,
     "metadata": {},
     "output_type": "execute_result"
    }
   ],
   "source": [
    "train.head()"
   ]
  },
  {
   "cell_type": "code",
   "execution_count": 9,
   "metadata": {},
   "outputs": [],
   "source": [
    "X_train = train.drop('hyperpartisan', axis=1)\n",
    "y_train = train['hyperpartisan']\n",
    "X_test = val.drop('hyperpartisan', axis=1)\n",
    "y_test = val['hyperpartisan']"
   ]
  },
  {
   "cell_type": "code",
   "execution_count": 10,
   "metadata": {},
   "outputs": [],
   "source": [
    "# CREDIT: https://www.kaggle.com/baghern/a-deep-dive-into-sklearn-pipelines\n",
    "\n",
    "from sklearn.base import BaseEstimator, TransformerMixin\n",
    "\n",
    "class TextSelector(BaseEstimator, TransformerMixin):\n",
    "    \"\"\"\n",
    "    Transformer to select a single column from the data frame to perform additional transformations on\n",
    "    Use on text columns in the data\n",
    "    \"\"\"\n",
    "    def __init__(self, key):\n",
    "        self.key = key\n",
    "\n",
    "    def fit(self, X, y=None):\n",
    "        return self\n",
    "\n",
    "    def transform(self, X):\n",
    "        return X[self.key]\n",
    "    \n",
    "class NumberSelector(BaseEstimator, TransformerMixin):\n",
    "    \"\"\"\n",
    "    Transformer to select a single column from the data frame to perform additional transformations on\n",
    "    Use on numeric columns in the data\n",
    "    \"\"\"\n",
    "    def __init__(self, key):\n",
    "        self.key = key\n",
    "\n",
    "    def fit(self, X, y=None):\n",
    "        return self\n",
    "\n",
    "    def transform(self, X):\n",
    "        return X[[self.key]]"
   ]
  },
  {
   "cell_type": "code",
   "execution_count": 11,
   "metadata": {},
   "outputs": [],
   "source": [
    "from sklearn.pipeline import Pipeline, FeatureUnion\n",
    "from sklearn.linear_model import LogisticRegression\n",
    "from sklearn.feature_extraction.text import TfidfVectorizer\n",
    "\n",
    "text = Pipeline([\n",
    "    ('selector', TextSelector(key='preprocessed_text')),\n",
    "    ('tfidf', TfidfVectorizer( stop_words='english'))\n",
    "])\n",
    "\n",
    "HP_links = Pipeline([\n",
    "    ('selector', NumberSelector(key='HP_links_count'))\n",
    "])\n",
    "\n",
    "nonHP_links = Pipeline([\n",
    "    ('selector', NumberSelector(key='nonHP_links_count'))\n",
    "])\n",
    "\n",
    "unknown_links = Pipeline([\n",
    "    ('selector', NumberSelector(key='unknown_links_count'))\n",
    "])\n",
    "\n",
    "feats = FeatureUnion([\n",
    "    ('text', text),\n",
    "    ('HP_links', HP_links),\n",
    "    ('nonHP_links', nonHP_links)\n",
    "])\n",
    "\n",
    "pipeline = Pipeline([\n",
    "    ('features',feats),\n",
    "    ('classifier', LogisticRegression(C=30.0, class_weight='None', solver='newton-cg')),\n",
    "])"
   ]
  },
  {
   "cell_type": "code",
   "execution_count": 12,
   "metadata": {},
   "outputs": [
    {
     "data": {
      "text/plain": [
       "Pipeline(memory=None,\n",
       "     steps=[('features', FeatureUnion(n_jobs=1,\n",
       "       transformer_list=[('text', Pipeline(memory=None,\n",
       "     steps=[('selector', TextSelector(key='preprocessed_text')), ('tfidf', TfidfVectorizer(analyzer='word', binary=False, decode_error='strict',\n",
       "        dtype=<class 'numpy.int64'>, encoding='utf-8', i...ty='l2', random_state=None,\n",
       "          solver='newton-cg', tol=0.0001, verbose=0, warm_start=False))])"
      ]
     },
     "execution_count": 12,
     "metadata": {},
     "output_type": "execute_result"
    }
   ],
   "source": [
    "pipeline.fit(X_train, y_train)"
   ]
  },
  {
   "cell_type": "code",
   "execution_count": 13,
   "metadata": {},
   "outputs": [],
   "source": [
    "preds = pipeline.predict(X_test)"
   ]
  },
  {
   "cell_type": "code",
   "execution_count": 14,
   "metadata": {},
   "outputs": [
    {
     "name": "stderr",
     "output_type": "stream",
     "text": [
      "/Users/jmill/anaconda3/envs/SemEval2019-4/lib/python3.6/site-packages/sklearn/ensemble/weight_boosting.py:29: DeprecationWarning: numpy.core.umath_tests is an internal NumPy module and should not be imported. It will be removed in a future NumPy release.\n",
      "  from numpy.core.umath_tests import inner1d\n"
     ]
    }
   ],
   "source": [
    "from models.models import evaluate_model"
   ]
  },
  {
   "cell_type": "code",
   "execution_count": 15,
   "metadata": {},
   "outputs": [
    {
     "name": "stdout",
     "output_type": "stream",
     "text": [
      "             precision    recall  f1-score   support\n",
      "\n",
      "      False       0.71      0.48      0.57      1249\n",
      "       True       0.61      0.80      0.69      1250\n",
      "\n",
      "avg / total       0.66      0.64      0.63      2499\n",
      "\n",
      "Accuracy: 0.6403\n"
     ]
    },
    {
     "data": {
      "text/plain": [
       "0.6402561024409764"
      ]
     },
     "execution_count": 15,
     "metadata": {},
     "output_type": "execute_result"
    }
   ],
   "source": [
    "evaluate_model(preds, y_test)"
   ]
  },
  {
   "cell_type": "code",
   "execution_count": 16,
   "metadata": {},
   "outputs": [],
   "source": [
    "for df in [train, val]:\n",
    "    for col in ['HP_links_count', 'nonHP_links_count', 'unknown_links_count']:\n",
    "        df.loc[:,col] = df.loc[:,col].apply(lambda x: 1 if x > 0 else 0)"
   ]
  },
  {
   "cell_type": "code",
   "execution_count": 85,
   "metadata": {},
   "outputs": [
    {
     "data": {
      "text/plain": [
       "True     277\n",
       "False    189\n",
       "Name: hyperpartisan, dtype: int64"
      ]
     },
     "execution_count": 85,
     "metadata": {},
     "output_type": "execute_result"
    }
   ],
   "source": [
    "train[train['unknown_links_count']==1]['hyperpartisan'].value_counts()"
   ]
  },
  {
   "cell_type": "code",
   "execution_count": 17,
   "metadata": {},
   "outputs": [
    {
     "data": {
      "text/plain": [
       "pandas.core.frame.DataFrame"
      ]
     },
     "execution_count": 17,
     "metadata": {},
     "output_type": "execute_result"
    }
   ],
   "source": [
    "type(X_train)"
   ]
  },
  {
   "cell_type": "code",
   "execution_count": null,
   "metadata": {},
   "outputs": [],
   "source": []
  }
 ],
 "metadata": {
  "kernelspec": {
   "display_name": "Python 3",
   "language": "python",
   "name": "python3"
  },
  "language_info": {
   "codemirror_mode": {
    "name": "ipython",
    "version": 3
   },
   "file_extension": ".py",
   "mimetype": "text/x-python",
   "name": "python",
   "nbconvert_exporter": "python",
   "pygments_lexer": "ipython3",
   "version": "3.6.6"
  }
 },
 "nbformat": 4,
 "nbformat_minor": 2
}
