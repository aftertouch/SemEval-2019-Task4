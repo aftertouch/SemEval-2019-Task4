{
 "cells": [
  {
   "cell_type": "code",
   "execution_count": 1,
   "metadata": {},
   "outputs": [],
   "source": [
    "import pandas as pd\n",
    "\n",
    "DATA_PATH = '../data/'\n",
    "DATA_INTERIM_PATH = DATA_PATH + 'interim/'\n",
    "\n",
    "train = pd.read_csv(DATA_INTERIM_PATH + 'train.csv')\n",
    "val = pd.read_csv(DATA_INTERIM_PATH + 'val.csv')"
   ]
  },
  {
   "cell_type": "code",
   "execution_count": 18,
   "metadata": {},
   "outputs": [
    {
     "data": {
      "text/html": [
       "<div>\n",
       "<style scoped>\n",
       "    .dataframe tbody tr th:only-of-type {\n",
       "        vertical-align: middle;\n",
       "    }\n",
       "\n",
       "    .dataframe tbody tr th {\n",
       "        vertical-align: top;\n",
       "    }\n",
       "\n",
       "    .dataframe thead th {\n",
       "        text-align: right;\n",
       "    }\n",
       "</style>\n",
       "<table border=\"1\" class=\"dataframe\">\n",
       "  <thead>\n",
       "    <tr style=\"text-align: right;\">\n",
       "      <th></th>\n",
       "      <th>id</th>\n",
       "      <th>published-at</th>\n",
       "      <th>title</th>\n",
       "      <th>article_text</th>\n",
       "      <th>external_links</th>\n",
       "      <th>internal_links</th>\n",
       "      <th>hyperpartisan</th>\n",
       "      <th>bias</th>\n",
       "      <th>url</th>\n",
       "      <th>labeled-by</th>\n",
       "    </tr>\n",
       "  </thead>\n",
       "  <tbody>\n",
       "    <tr>\n",
       "      <th>0</th>\n",
       "      <td>1</td>\n",
       "      <td>2017-09-10</td>\n",
       "      <td>After DeVos Announced Plans To Reexamine Title...</td>\n",
       "      <td>After DeVos Announced Plans To Reexamine Title...</td>\n",
       "      <td>['https://www.nbcnews.com/news/us-news/betsy-d...</td>\n",
       "      <td>[]</td>\n",
       "      <td>True</td>\n",
       "      <td>right</td>\n",
       "      <td>https://dailywire.com/news/20858/after-devos-a...</td>\n",
       "      <td>publisher</td>\n",
       "    </tr>\n",
       "    <tr>\n",
       "      <th>1</th>\n",
       "      <td>2</td>\n",
       "      <td>2017-05-05</td>\n",
       "      <td>University To Award Trayvon Martin With Posthu...</td>\n",
       "      <td>University To Award Trayvon Martin With Posthu...</td>\n",
       "      <td>['https://www.facebook.com/FLMemorialUniv/']</td>\n",
       "      <td>[]</td>\n",
       "      <td>True</td>\n",
       "      <td>right</td>\n",
       "      <td>https://dailywire.com/news/16103/university-aw...</td>\n",
       "      <td>publisher</td>\n",
       "    </tr>\n",
       "    <tr>\n",
       "      <th>2</th>\n",
       "      <td>8</td>\n",
       "      <td>2017-11-15</td>\n",
       "      <td>Texas State University suspends Greek life aft...</td>\n",
       "      <td>Texas State University suspends Greek life aft...</td>\n",
       "      <td>['https://www.nbcnews.com/storyline/hazing-in-...</td>\n",
       "      <td>[]</td>\n",
       "      <td>False</td>\n",
       "      <td>right-center</td>\n",
       "      <td>https://newsline.com/texas-state-university-su...</td>\n",
       "      <td>publisher</td>\n",
       "    </tr>\n",
       "    <tr>\n",
       "      <th>3</th>\n",
       "      <td>9</td>\n",
       "      <td>2015-06-10</td>\n",
       "      <td>Red Sox waste Rodriguez outing in 1-0 loss to ...</td>\n",
       "      <td>Red Sox waste Rodriguez outing in 1-0 loss to ...</td>\n",
       "      <td>[]</td>\n",
       "      <td>[]</td>\n",
       "      <td>False</td>\n",
       "      <td>least</td>\n",
       "      <td>https://apnews.com/795c45f6db904f8eb85d72cee61...</td>\n",
       "      <td>publisher</td>\n",
       "    </tr>\n",
       "    <tr>\n",
       "      <th>4</th>\n",
       "      <td>10</td>\n",
       "      <td>NaN</td>\n",
       "      <td>Eve and the New Jerusalem</td>\n",
       "      <td>Eve and the New Jerusalem Imaginings of a utop...</td>\n",
       "      <td>[]</td>\n",
       "      <td>[]</td>\n",
       "      <td>True</td>\n",
       "      <td>left</td>\n",
       "      <td>https://dissentmagazine.org/article/eve-and-th...</td>\n",
       "      <td>publisher</td>\n",
       "    </tr>\n",
       "  </tbody>\n",
       "</table>\n",
       "</div>"
      ],
      "text/plain": [
       "   id published-at                                              title  \\\n",
       "0   1   2017-09-10  After DeVos Announced Plans To Reexamine Title...   \n",
       "1   2   2017-05-05  University To Award Trayvon Martin With Posthu...   \n",
       "2   8   2017-11-15  Texas State University suspends Greek life aft...   \n",
       "3   9   2015-06-10  Red Sox waste Rodriguez outing in 1-0 loss to ...   \n",
       "4  10          NaN                          Eve and the New Jerusalem   \n",
       "\n",
       "                                        article_text  \\\n",
       "0  After DeVos Announced Plans To Reexamine Title...   \n",
       "1  University To Award Trayvon Martin With Posthu...   \n",
       "2  Texas State University suspends Greek life aft...   \n",
       "3  Red Sox waste Rodriguez outing in 1-0 loss to ...   \n",
       "4  Eve and the New Jerusalem Imaginings of a utop...   \n",
       "\n",
       "                                      external_links internal_links  \\\n",
       "0  ['https://www.nbcnews.com/news/us-news/betsy-d...             []   \n",
       "1       ['https://www.facebook.com/FLMemorialUniv/']             []   \n",
       "2  ['https://www.nbcnews.com/storyline/hazing-in-...             []   \n",
       "3                                                 []             []   \n",
       "4                                                 []             []   \n",
       "\n",
       "   hyperpartisan          bias  \\\n",
       "0           True         right   \n",
       "1           True         right   \n",
       "2          False  right-center   \n",
       "3          False         least   \n",
       "4           True          left   \n",
       "\n",
       "                                                 url labeled-by  \n",
       "0  https://dailywire.com/news/20858/after-devos-a...  publisher  \n",
       "1  https://dailywire.com/news/16103/university-aw...  publisher  \n",
       "2  https://newsline.com/texas-state-university-su...  publisher  \n",
       "3  https://apnews.com/795c45f6db904f8eb85d72cee61...  publisher  \n",
       "4  https://dissentmagazine.org/article/eve-and-th...  publisher  "
      ]
     },
     "execution_count": 18,
     "metadata": {},
     "output_type": "execute_result"
    }
   ],
   "source": [
    "train.head()"
   ]
  },
  {
   "cell_type": "markdown",
   "metadata": {},
   "source": [
    "Average external links"
   ]
  },
  {
   "cell_type": "code",
   "execution_count": 3,
   "metadata": {},
   "outputs": [
    {
     "data": {
      "text/plain": [
       "7"
      ]
     },
     "execution_count": 3,
     "metadata": {},
     "output_type": "execute_result"
    }
   ],
   "source": [
    "import ast\n",
    "len(ast.literal_eval(train['external_links'][0]))"
   ]
  },
  {
   "cell_type": "code",
   "execution_count": 20,
   "metadata": {},
   "outputs": [
    {
     "data": {
      "text/plain": [
       "3.3713375"
      ]
     },
     "execution_count": 20,
     "metadata": {},
     "output_type": "execute_result"
    }
   ],
   "source": [
    "e_links_count_HP = 0\n",
    "for links in train[train['hyperpartisan']==True]['external_links']:\n",
    "    e_links_count_HP += len(ast.literal_eval(links))\n",
    "    \n",
    "e_links_count_HP/train[train['hyperpartisan']==True].shape[0]"
   ]
  },
  {
   "cell_type": "code",
   "execution_count": 12,
   "metadata": {},
   "outputs": [
    {
     "data": {
      "text/plain": [
       "2.0891625"
      ]
     },
     "execution_count": 12,
     "metadata": {},
     "output_type": "execute_result"
    }
   ],
   "source": [
    "e_links_count_nonHP = 0\n",
    "for links in train[train['hyperpartisan']==False]['external_links']:\n",
    "    e_links_count_nonHP += len(ast.literal_eval(links))\n",
    "    \n",
    "e_links_count_nonHP/train[train['hyperpartisan']==False].shape[0]"
   ]
  },
  {
   "cell_type": "code",
   "execution_count": 13,
   "metadata": {},
   "outputs": [
    {
     "data": {
      "text/plain": [
       "0.1684775"
      ]
     },
     "execution_count": 13,
     "metadata": {},
     "output_type": "execute_result"
    }
   ],
   "source": [
    "i_links_count_HP = 0\n",
    "for links in train[train['hyperpartisan']==True]['internal_links']:\n",
    "    i_links_count_HP += len(ast.literal_eval(links))\n",
    "    \n",
    "i_links_count_HP/train[train['hyperpartisan']==True].shape[0]"
   ]
  },
  {
   "cell_type": "code",
   "execution_count": 15,
   "metadata": {},
   "outputs": [
    {
     "data": {
      "text/plain": [
       "0.117455"
      ]
     },
     "execution_count": 15,
     "metadata": {},
     "output_type": "execute_result"
    }
   ],
   "source": [
    "i_links_count_nonHP = 0\n",
    "for links in train[train['hyperpartisan']==False]['internal_links']:\n",
    "    i_links_count_nonHP += len(ast.literal_eval(links))\n",
    "    \n",
    "i_links_count_nonHP/train[train['hyperpartisan']==False].shape[0]"
   ]
  },
  {
   "cell_type": "markdown",
   "metadata": {},
   "source": [
    "HP vs. nonHP\n",
    "\n",
    "TRAIN:\n",
    "\n",
    "3.37 vs. 2.09 external links on average\n",
    "\n",
    "0.17 vs. 0.12 internal links on average\n",
    "\n",
    "VAL:\n",
    "\n",
    "4.80 vs. 6.55 external links on average"
   ]
  },
  {
   "cell_type": "code",
   "execution_count": 19,
   "metadata": {},
   "outputs": [
    {
     "data": {
      "text/plain": [
       "4.80703"
      ]
     },
     "execution_count": 19,
     "metadata": {},
     "output_type": "execute_result"
    }
   ],
   "source": [
    "e_links_count_HP = 0\n",
    "for links in val[val['hyperpartisan']==True]['external_links']:\n",
    "    e_links_count_HP += len(ast.literal_eval(links))\n",
    "    \n",
    "e_links_count_HP/val[val['hyperpartisan']==True].shape[0]"
   ]
  },
  {
   "cell_type": "code",
   "execution_count": 21,
   "metadata": {},
   "outputs": [
    {
     "data": {
      "text/plain": [
       "6.55377"
      ]
     },
     "execution_count": 21,
     "metadata": {},
     "output_type": "execute_result"
    }
   ],
   "source": [
    "e_links_count_nonHP = 0\n",
    "for links in val[val['hyperpartisan']==False]['external_links']:\n",
    "    e_links_count_nonHP += len(ast.literal_eval(links))\n",
    "    \n",
    "e_links_count_nonHP/val[val['hyperpartisan']==False].shape[0]"
   ]
  },
  {
   "cell_type": "code",
   "execution_count": 23,
   "metadata": {},
   "outputs": [
    {
     "data": {
      "text/plain": [
       "0.02928"
      ]
     },
     "execution_count": 23,
     "metadata": {},
     "output_type": "execute_result"
    }
   ],
   "source": [
    "i_links_count_HP = 0\n",
    "for links in val[val['hyperpartisan']==True]['internal_links']:\n",
    "    i_links_count_HP += len(ast.literal_eval(links))\n",
    "    \n",
    "i_links_count_HP/val[val['hyperpartisan']==True].shape[0]"
   ]
  },
  {
   "cell_type": "code",
   "execution_count": 24,
   "metadata": {},
   "outputs": [
    {
     "data": {
      "text/plain": [
       "5.96074"
      ]
     },
     "execution_count": 24,
     "metadata": {},
     "output_type": "execute_result"
    }
   ],
   "source": [
    "i_links_count_nonHP = 0\n",
    "for links in val[val['hyperpartisan']==False]['internal_links']:\n",
    "    i_links_count_nonHP += len(ast.literal_eval(links))\n",
    "    \n",
    "i_links_count_nonHP/val[val['hyperpartisan']==False].shape[0]"
   ]
  },
  {
   "cell_type": "code",
   "execution_count": 26,
   "metadata": {},
   "outputs": [],
   "source": [
    "train['num_external_links'] = train.loc[:,'external_links'].apply(lambda x: len(ast.literal_eval(x)))"
   ]
  },
  {
   "cell_type": "code",
   "execution_count": 28,
   "metadata": {},
   "outputs": [
    {
     "data": {
      "text/html": [
       "<div>\n",
       "<style scoped>\n",
       "    .dataframe tbody tr th:only-of-type {\n",
       "        vertical-align: middle;\n",
       "    }\n",
       "\n",
       "    .dataframe tbody tr th {\n",
       "        vertical-align: top;\n",
       "    }\n",
       "\n",
       "    .dataframe thead th {\n",
       "        text-align: right;\n",
       "    }\n",
       "</style>\n",
       "<table border=\"1\" class=\"dataframe\">\n",
       "  <thead>\n",
       "    <tr style=\"text-align: right;\">\n",
       "      <th></th>\n",
       "      <th>external_links</th>\n",
       "      <th>num_external_links</th>\n",
       "    </tr>\n",
       "  </thead>\n",
       "  <tbody>\n",
       "    <tr>\n",
       "      <th>0</th>\n",
       "      <td>['https://www.nbcnews.com/news/us-news/betsy-d...</td>\n",
       "      <td>7</td>\n",
       "    </tr>\n",
       "    <tr>\n",
       "      <th>1</th>\n",
       "      <td>['https://www.facebook.com/FLMemorialUniv/']</td>\n",
       "      <td>1</td>\n",
       "    </tr>\n",
       "    <tr>\n",
       "      <th>2</th>\n",
       "      <td>['https://www.nbcnews.com/storyline/hazing-in-...</td>\n",
       "      <td>2</td>\n",
       "    </tr>\n",
       "    <tr>\n",
       "      <th>3</th>\n",
       "      <td>[]</td>\n",
       "      <td>0</td>\n",
       "    </tr>\n",
       "    <tr>\n",
       "      <th>4</th>\n",
       "      <td>[]</td>\n",
       "      <td>0</td>\n",
       "    </tr>\n",
       "  </tbody>\n",
       "</table>\n",
       "</div>"
      ],
      "text/plain": [
       "                                      external_links  num_external_links\n",
       "0  ['https://www.nbcnews.com/news/us-news/betsy-d...                   7\n",
       "1       ['https://www.facebook.com/FLMemorialUniv/']                   1\n",
       "2  ['https://www.nbcnews.com/storyline/hazing-in-...                   2\n",
       "3                                                 []                   0\n",
       "4                                                 []                   0"
      ]
     },
     "execution_count": 28,
     "metadata": {},
     "output_type": "execute_result"
    }
   ],
   "source": [
    "train[['external_links', 'num_external_links']].head()"
   ]
  },
  {
   "cell_type": "code",
   "execution_count": 29,
   "metadata": {},
   "outputs": [],
   "source": [
    "DATA_PROCESSED_PATH = DATA_PATH + 'processed/'\n",
    "train = pd.read_csv(DATA_PROCESSED_PATH + 'train.csv')\n",
    "val = pd.read_csv(DATA_PROCESSED_PATH + 'val.csv')"
   ]
  },
  {
   "cell_type": "markdown",
   "metadata": {},
   "source": [
    "### Extracting domains"
   ]
  },
  {
   "cell_type": "code",
   "execution_count": 30,
   "metadata": {},
   "outputs": [],
   "source": [
    "import tldextract"
   ]
  },
  {
   "cell_type": "code",
   "execution_count": 33,
   "metadata": {},
   "outputs": [
    {
     "data": {
      "text/plain": [
       "ExtractResult(subdomain='www', domain='nbcnews', suffix='com')"
      ]
     },
     "execution_count": 33,
     "metadata": {},
     "output_type": "execute_result"
    }
   ],
   "source": [
    "tldextract.extract('https://www.nbcnews.com/news/')"
   ]
  },
  {
   "cell_type": "code",
   "execution_count": 36,
   "metadata": {},
   "outputs": [],
   "source": [
    "train['domain'] = train.loc[:,'url'].apply(lambda x: tldextract.extract(x)[1])"
   ]
  },
  {
   "cell_type": "code",
   "execution_count": 37,
   "metadata": {},
   "outputs": [
    {
     "data": {
      "text/html": [
       "<div>\n",
       "<style scoped>\n",
       "    .dataframe tbody tr th:only-of-type {\n",
       "        vertical-align: middle;\n",
       "    }\n",
       "\n",
       "    .dataframe tbody tr th {\n",
       "        vertical-align: top;\n",
       "    }\n",
       "\n",
       "    .dataframe thead th {\n",
       "        text-align: right;\n",
       "    }\n",
       "</style>\n",
       "<table border=\"1\" class=\"dataframe\">\n",
       "  <thead>\n",
       "    <tr style=\"text-align: right;\">\n",
       "      <th></th>\n",
       "      <th>id</th>\n",
       "      <th>published-at</th>\n",
       "      <th>title</th>\n",
       "      <th>article_text</th>\n",
       "      <th>external_links</th>\n",
       "      <th>internal_links</th>\n",
       "      <th>hyperpartisan</th>\n",
       "      <th>bias</th>\n",
       "      <th>url</th>\n",
       "      <th>labeled-by</th>\n",
       "      <th>num_external_links</th>\n",
       "      <th>num_internal_links</th>\n",
       "      <th>domain</th>\n",
       "    </tr>\n",
       "  </thead>\n",
       "  <tbody>\n",
       "    <tr>\n",
       "      <th>0</th>\n",
       "      <td>1</td>\n",
       "      <td>2017-09-10</td>\n",
       "      <td>After DeVos Announced Plans To Reexamine Title...</td>\n",
       "      <td>After DeVos Announced Plans To Reexamine Title...</td>\n",
       "      <td>['https://www.nbcnews.com/news/us-news/betsy-d...</td>\n",
       "      <td>[]</td>\n",
       "      <td>True</td>\n",
       "      <td>right</td>\n",
       "      <td>https://dailywire.com/news/20858/after-devos-a...</td>\n",
       "      <td>publisher</td>\n",
       "      <td>7</td>\n",
       "      <td>0</td>\n",
       "      <td>dailywire</td>\n",
       "    </tr>\n",
       "    <tr>\n",
       "      <th>1</th>\n",
       "      <td>2</td>\n",
       "      <td>2017-05-05</td>\n",
       "      <td>University To Award Trayvon Martin With Posthu...</td>\n",
       "      <td>University To Award Trayvon Martin With Posthu...</td>\n",
       "      <td>['https://www.facebook.com/FLMemorialUniv/']</td>\n",
       "      <td>[]</td>\n",
       "      <td>True</td>\n",
       "      <td>right</td>\n",
       "      <td>https://dailywire.com/news/16103/university-aw...</td>\n",
       "      <td>publisher</td>\n",
       "      <td>1</td>\n",
       "      <td>0</td>\n",
       "      <td>dailywire</td>\n",
       "    </tr>\n",
       "    <tr>\n",
       "      <th>2</th>\n",
       "      <td>8</td>\n",
       "      <td>2017-11-15</td>\n",
       "      <td>Texas State University suspends Greek life aft...</td>\n",
       "      <td>Texas State University suspends Greek life aft...</td>\n",
       "      <td>['https://www.nbcnews.com/storyline/hazing-in-...</td>\n",
       "      <td>[]</td>\n",
       "      <td>False</td>\n",
       "      <td>right-center</td>\n",
       "      <td>https://newsline.com/texas-state-university-su...</td>\n",
       "      <td>publisher</td>\n",
       "      <td>2</td>\n",
       "      <td>0</td>\n",
       "      <td>newsline</td>\n",
       "    </tr>\n",
       "    <tr>\n",
       "      <th>3</th>\n",
       "      <td>9</td>\n",
       "      <td>2015-06-10</td>\n",
       "      <td>Red Sox waste Rodriguez outing in 1-0 loss to ...</td>\n",
       "      <td>Red Sox waste Rodriguez outing in 1-0 loss to ...</td>\n",
       "      <td>[]</td>\n",
       "      <td>[]</td>\n",
       "      <td>False</td>\n",
       "      <td>least</td>\n",
       "      <td>https://apnews.com/795c45f6db904f8eb85d72cee61...</td>\n",
       "      <td>publisher</td>\n",
       "      <td>0</td>\n",
       "      <td>0</td>\n",
       "      <td>apnews</td>\n",
       "    </tr>\n",
       "    <tr>\n",
       "      <th>4</th>\n",
       "      <td>10</td>\n",
       "      <td>NaN</td>\n",
       "      <td>Eve and the New Jerusalem</td>\n",
       "      <td>Eve and the New Jerusalem Imaginings of a utop...</td>\n",
       "      <td>[]</td>\n",
       "      <td>[]</td>\n",
       "      <td>True</td>\n",
       "      <td>left</td>\n",
       "      <td>https://dissentmagazine.org/article/eve-and-th...</td>\n",
       "      <td>publisher</td>\n",
       "      <td>0</td>\n",
       "      <td>0</td>\n",
       "      <td>dissentmagazine</td>\n",
       "    </tr>\n",
       "  </tbody>\n",
       "</table>\n",
       "</div>"
      ],
      "text/plain": [
       "   id published-at                                              title  \\\n",
       "0   1   2017-09-10  After DeVos Announced Plans To Reexamine Title...   \n",
       "1   2   2017-05-05  University To Award Trayvon Martin With Posthu...   \n",
       "2   8   2017-11-15  Texas State University suspends Greek life aft...   \n",
       "3   9   2015-06-10  Red Sox waste Rodriguez outing in 1-0 loss to ...   \n",
       "4  10          NaN                          Eve and the New Jerusalem   \n",
       "\n",
       "                                        article_text  \\\n",
       "0  After DeVos Announced Plans To Reexamine Title...   \n",
       "1  University To Award Trayvon Martin With Posthu...   \n",
       "2  Texas State University suspends Greek life aft...   \n",
       "3  Red Sox waste Rodriguez outing in 1-0 loss to ...   \n",
       "4  Eve and the New Jerusalem Imaginings of a utop...   \n",
       "\n",
       "                                      external_links internal_links  \\\n",
       "0  ['https://www.nbcnews.com/news/us-news/betsy-d...             []   \n",
       "1       ['https://www.facebook.com/FLMemorialUniv/']             []   \n",
       "2  ['https://www.nbcnews.com/storyline/hazing-in-...             []   \n",
       "3                                                 []             []   \n",
       "4                                                 []             []   \n",
       "\n",
       "   hyperpartisan          bias  \\\n",
       "0           True         right   \n",
       "1           True         right   \n",
       "2          False  right-center   \n",
       "3          False         least   \n",
       "4           True          left   \n",
       "\n",
       "                                                 url labeled-by  \\\n",
       "0  https://dailywire.com/news/20858/after-devos-a...  publisher   \n",
       "1  https://dailywire.com/news/16103/university-aw...  publisher   \n",
       "2  https://newsline.com/texas-state-university-su...  publisher   \n",
       "3  https://apnews.com/795c45f6db904f8eb85d72cee61...  publisher   \n",
       "4  https://dissentmagazine.org/article/eve-and-th...  publisher   \n",
       "\n",
       "   num_external_links  num_internal_links           domain  \n",
       "0                   7                   0        dailywire  \n",
       "1                   1                   0        dailywire  \n",
       "2                   2                   0         newsline  \n",
       "3                   0                   0           apnews  \n",
       "4                   0                   0  dissentmagazine  "
      ]
     },
     "execution_count": 37,
     "metadata": {},
     "output_type": "execute_result"
    }
   ],
   "source": [
    "train.head()"
   ]
  },
  {
   "cell_type": "code",
   "execution_count": 38,
   "metadata": {},
   "outputs": [
    {
     "data": {
      "text/plain": [
       "foxbusiness                  116106\n",
       "abqjournal                    93853\n",
       "apnews                        75725\n",
       "pri                           51781\n",
       "newsline                      47593\n",
       "counterpunch                  42410\n",
       "motherjones                   38487\n",
       "truthdig                      33780\n",
       "dailywire                     21538\n",
       "thedailybeast                 19560\n",
       "poynter                       17276\n",
       "baptistnews                   13728\n",
       "nbcnews                       12829\n",
       "reuters                       10914\n",
       "consortiumnews                 9593\n",
       "washingtonblade                8265\n",
       "calwatchdog                    7611\n",
       "thegoldwater                   6947\n",
       "natmonitor                     6556\n",
       "dissentmagazine                6292\n",
       "politicalillusionsexposed      5714\n",
       "chicagoreporter                5316\n",
       "ivn                            4967\n",
       "eppc                           4652\n",
       "mintpressnews                  4494\n",
       "factcheck                      4485\n",
       "billmoyers                     4328\n",
       "circa                          3608\n",
       "govtslaves                     3088\n",
       "dcclothesline                  3030\n",
       "                              ...  \n",
       "wnyc                             85\n",
       "politichicks                     83\n",
       "angrypatriotmovement             80\n",
       "bettergov                        80\n",
       "americauncensored                78\n",
       "americanactionnews               77\n",
       "24dailynew                       76\n",
       "mainebeacon                      76\n",
       "towleroad                        75\n",
       "conservativerevival              70\n",
       "againstcronycapitalism           69\n",
       "washingtonpost                   68\n",
       "bigamericannews                  67\n",
       "americanupdate                   67\n",
       "thepopulist                      62\n",
       "rightwingwatch                   61\n",
       "sfchronicle                      57\n",
       "santafenewmexican                56\n",
       "thepeoplesview                   49\n",
       "reclaimdemocracy                 48\n",
       "abc11                            40\n",
       "newsfrompolitics                 38\n",
       "conservativedeplorable           33\n",
       "freedomfirst                     31\n",
       "theamericancause                 30\n",
       "latimes                          19\n",
       "washingtonmonthly                17\n",
       "occupydemocrats                  10\n",
       "revealingpolitics                 3\n",
       "anncoulter                        2\n",
       "Name: domain, Length: 169, dtype: int64"
      ]
     },
     "execution_count": 38,
     "metadata": {},
     "output_type": "execute_result"
    }
   ],
   "source": [
    "train['domain'].value_counts()"
   ]
  },
  {
   "cell_type": "code",
   "execution_count": null,
   "metadata": {},
   "outputs": [],
   "source": []
  }
 ],
 "metadata": {
  "kernelspec": {
   "display_name": "Python 3",
   "language": "python",
   "name": "python3"
  },
  "language_info": {
   "codemirror_mode": {
    "name": "ipython",
    "version": 3
   },
   "file_extension": ".py",
   "mimetype": "text/x-python",
   "name": "python",
   "nbconvert_exporter": "python",
   "pygments_lexer": "ipython3",
   "version": "3.6.6"
  }
 },
 "nbformat": 4,
 "nbformat_minor": 2
}
