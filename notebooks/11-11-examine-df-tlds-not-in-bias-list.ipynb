{
 "cells": [
  {
   "cell_type": "code",
   "execution_count": 7,
   "metadata": {
    "collapsed": true
   },
   "outputs": [],
   "source": [
    "import pandas as pd\n",
    "import pickle"
   ]
  },
  {
   "cell_type": "code",
   "execution_count": 3,
   "metadata": {},
   "outputs": [],
   "source": [
    "DATA_INTERIM_PATH = 'data/interim/'\n",
    "\n",
    "train = pd.read_csv(DATA_INTERIM_PATH + 'train_p.csv')\n",
    "val = pd.read_csv(DATA_INTERIM_PATH + 'val_p.csv')"
   ]
  },
  {
   "cell_type": "code",
   "execution_count": 8,
   "metadata": {},
   "outputs": [],
   "source": [
    "util_path = 'util/'\n",
    "pickle_in = open(util_path + \"tld.pickle\", \"rb\")\n",
    "tlds = pickle.load(pickle_in)"
   ]
  },
  {
   "cell_type": "code",
   "execution_count": 19,
   "metadata": {},
   "outputs": [],
   "source": [
    "train_domains = set(train['domain'])\n",
    "val_domains = set(val['domain'])\n",
    "df_domains = train_domains.union(val_domains)"
   ]
  },
  {
   "cell_type": "code",
   "execution_count": 20,
   "metadata": {},
   "outputs": [
    {
     "data": {
      "text/plain": [
       "251"
      ]
     },
     "execution_count": 20,
     "metadata": {},
     "output_type": "execute_result"
    }
   ],
   "source": [
    "len(df_domains)"
   ]
  },
  {
   "cell_type": "code",
   "execution_count": 21,
   "metadata": {},
   "outputs": [],
   "source": [
    "scraped_domains = set(tlds.keys())"
   ]
  },
  {
   "cell_type": "code",
   "execution_count": 22,
   "metadata": {},
   "outputs": [],
   "source": [
    "diff = df_domains.difference(scraped_domains)"
   ]
  },
  {
   "cell_type": "code",
   "execution_count": 29,
   "metadata": {},
   "outputs": [
    {
     "data": {
      "text/plain": [
       "{'21stcenturywire': 'left',\n 'foxbusiness': 'right',\n 'teaparty': 'right',\n 'liberalplug': 'left',\n 'rightwingnews': 'right',\n 'americantruepatriots': 'right',\n 'shark-tank': 'right',\n 'frontpagemag': 'right',\n 'americasfreedomfighters': 'right',\n 'newsfrompolitics': 'right',\n 'eaglerising': 'right',\n 'newsandguts': 'leftcenter',\n 'joemygod': 'left',\n 'powderedwigsociety': 'right',\n 'tmn': 'right',\n 'americanactionnews': 'right',\n 'lawandcrime': 'leftcenter',\n 'nationalinsiderpolitics': 'right',\n 'informationclearinghouse': 'left',\n 'anncoulter': 'right',\n 'libertyfederation': 'right',\n 'gotnews': 'right',\n 'breitbart': 'right',\n 'democracyjournal': 'left',\n 'thepopulist': 'left',\n 'politicalblindspot': 'left',\n 'conservativefiringline': 'right',\n 'thepeoplesview': 'left',\n 'madworldnews': 'right',\n 'rushlimbaugh': 'right',\n 'trumptrainnews': 'right',\n 'usainfonews': 'right',\n 'studionewsnetwork': 'leftcenter',\n 'freedomforce': 'right',\n 'occupydemocrats': 'left',\n 'bluetribune': 'left',\n 'usasupreme': 'right',\n 'danaloeschradio': 'right',\n 'againstcronycapitalism': 'left',\n 'veteransnewsnow': 'right',\n 'offthemainpage': 'left',\n 'vdare': 'right',\n 'theamericanmirror': 'right',\n 'truepundit': 'right',\n 'menrec': 'right',\n 'thenewscommenter': 'right',\n 'bigamericannews': 'right',\n 'spartareport': 'right',\n 'americannews': 'right',\n 'freedomfirst': 'right',\n 'therealside': 'right',\n 'americanpatriotdaily': 'right',\n 'patriotoutdoornews': 'right',\n 'bulletsfirst': 'right',\n 'michellemalkin': 'right',\n 'revealingpolitics': 'right',\n 'angrypatriotmovement': 'right',\n '100percentfedup': 'right',\n 'occupy': 'left',\n 'girlsjustwannahaveguns': 'right',\n 'ifyouonlynews': 'left',\n 'wordpress': 'left',\n 'thegoldwater': 'right',\n 'hillary4prisoner': 'right',\n 'libertyblitzkrieg': 'right',\n 'comicallyincorrect': 'right',\n 'blogspot': 'left',\n 'conservativerevival': 'right',\n 'latinorebels': 'left',\n 'hangthebankers': 'right',\n 'bb4sp': 'right',\n 'blacklistednews': 'left',\n 'truthexam': 'left',\n 'constitution': 'right',\n 'americauncensored': 'right',\n 'americanupdate': 'right',\n 'thegatewaypundit': 'right',\n 'conservativedeplorable': 'right',\n 'truthrevolt': 'right',\n 'thefederalistpapers': 'right',\n 'equalvoiceforfamilies': 'left',\n 'secretsofthefed': 'right',\n 'infowars': 'right',\n 'rare': 'right-center',\n 'libertyjuice': 'right',\n 'angelagrahamwest': 'right',\n 'theconservativerepublic': 'right',\n 'freedomsfinalstand': 'right',\n 'govtslaves': 'right',\n 'nowtheendbegins': 'right',\n 'barbwire': 'right',\n 'rinf': 'left',\n 'newstarget': 'right',\n 'beforeitsnews': 'right',\n 'bipartisanreport': 'left',\n '24dailynew': 'right',\n 'dcclothesline': 'right',\n 'resistancereport': 'left',\n 'politicalillusionsexposed': 'right',\n 'reclaimdemocracy': 'left',\n 'tammybruce': 'right',\n 'fury': 'right'}"
      ]
     },
     "execution_count": 29,
     "metadata": {},
     "output_type": "execute_result"
    }
   ],
   "source": [
    "diff_dict = {}\n",
    "for domain in diff:\n",
    "    if domain in train_domains:\n",
    "        diff_dict[domain] = train[train['domain'] == domain]['bias'].values[0]\n",
    "    elif domain in val_domains:\n",
    "        diff_dict[domain] = val[val['domain'] == domain]['bias'].values[0]\n",
    "        \n",
    "    if diff_dict[domain] == 'left-center':\n",
    "        diff_dict[domain] = 'leftcenter'\n",
    "    elif diff_dict[domain] == 'least':\n",
    "        diff_dict[domain] = 'center'\n",
    "        \n",
    "diff_dict"
   ]
  },
  {
   "cell_type": "code",
   "execution_count": 27,
   "metadata": {},
   "outputs": [
    {
     "data": {
      "text/plain": [
       "'right'"
      ]
     },
     "execution_count": 27,
     "metadata": {},
     "output_type": "execute_result"
    }
   ],
   "source": [
    "train[train['domain'] == 'foxbusiness']['bias'].values[0]"
   ]
  },
  {
   "cell_type": "code",
   "execution_count": 31,
   "metadata": {},
   "outputs": [],
   "source": [
    "merged_dict = {**tlds, **diff_dict}"
   ]
  },
  {
   "cell_type": "code",
   "execution_count": 33,
   "metadata": {},
   "outputs": [
    {
     "data": {
      "text/plain": [
       "'right'"
      ]
     },
     "execution_count": 33,
     "metadata": {},
     "output_type": "execute_result"
    }
   ],
   "source": [
    "merged_dict['fury']"
   ]
  },
  {
   "cell_type": "code",
   "execution_count": 39,
   "metadata": {},
   "outputs": [],
   "source": [
    "util_path = 'util/'\n",
    "\n",
    "pickle_out = open(util_path + \"tld.pickle\", \"wb\")\n",
    "pickle.dump(merged_dict, pickle_out)\n",
    "pickle_out.close()"
   ]
  },
  {
   "cell_type": "code",
   "execution_count": 41,
   "metadata": {},
   "outputs": [
    {
     "data": {
      "text/plain": [
       "1655"
      ]
     },
     "execution_count": 41,
     "metadata": {},
     "output_type": "execute_result"
    }
   ],
   "source": [
    "len(merged_dict.keys())"
   ]
  },
  {
   "cell_type": "code",
   "execution_count": 43,
   "metadata": {},
   "outputs": [
    {
     "data": {
      "text/plain": [
       "1553"
      ]
     },
     "execution_count": 43,
     "metadata": {},
     "output_type": "execute_result"
    }
   ],
   "source": [
    "len(tlds.keys())"
   ]
  },
  {
   "cell_type": "code",
   "execution_count": null,
   "metadata": {},
   "outputs": [],
   "source": []
  }
 ],
 "metadata": {
  "kernelspec": {
   "display_name": "Python 2",
   "language": "python",
   "name": "python2"
  },
  "language_info": {
   "codemirror_mode": {
    "name": "ipython",
    "version": 2
   },
   "file_extension": ".py",
   "mimetype": "text/x-python",
   "name": "python",
   "nbconvert_exporter": "python",
   "pygments_lexer": "ipython2",
   "version": "2.7.6"
  }
 },
 "nbformat": 4,
 "nbformat_minor": 0
}
