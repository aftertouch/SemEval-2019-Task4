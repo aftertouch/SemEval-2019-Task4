{
 "cells": [
  {
   "cell_type": "code",
   "execution_count": 8,
   "metadata": {},
   "outputs": [
    {
     "name": "stdout",
     "output_type": "stream",
     "text": [
      "The autoreload extension is already loaded. To reload it, use:\n",
      "  %reload_ext autoreload\n"
     ]
    },
    {
     "name": "stderr",
     "output_type": "stream",
     "text": [
      "/Users/jmill/anaconda3/envs/SemEval2019-4/lib/python3.6/site-packages/sklearn/ensemble/weight_boosting.py:29: DeprecationWarning: numpy.core.umath_tests is an internal NumPy module and should not be imported. It will be removed in a future NumPy release.\n",
      "  from numpy.core.umath_tests import inner1d\n"
     ]
    }
   ],
   "source": [
    "import sys\n",
    "sys.path.append('../src')\n",
    "\n",
    "%load_ext autoreload\n",
    "%autoreload 1\n",
    "\n",
    "from models.models import create_tfidf, create_custom_features, run_models\n",
    "%aimport models.models"
   ]
  },
  {
   "cell_type": "code",
   "execution_count": 20,
   "metadata": {},
   "outputs": [],
   "source": [
    "import pandas as pd\n",
    "\n",
    "DATA_PATH = '../data/'\n",
    "DATA_PROCESSED_PATH = DATA_PATH + 'processed/'\n",
    "train = pd.read_csv(DATA_PROCESSED_PATH + 'train100_0.csv')\n",
    "val = pd.read_csv(DATA_PROCESSED_PATH + 'val25_0.csv')"
   ]
  },
  {
   "cell_type": "code",
   "execution_count": 21,
   "metadata": {},
   "outputs": [],
   "source": [
    "X_train_tfidf, X_test_tfidf, y_train, y_test, tfidf_vectorizer = create_tfidf(train, val)"
   ]
  },
  {
   "cell_type": "code",
   "execution_count": 22,
   "metadata": {},
   "outputs": [
    {
     "data": {
      "text/html": [
       "<div>\n",
       "<style scoped>\n",
       "    .dataframe tbody tr th:only-of-type {\n",
       "        vertical-align: middle;\n",
       "    }\n",
       "\n",
       "    .dataframe tbody tr th {\n",
       "        vertical-align: top;\n",
       "    }\n",
       "\n",
       "    .dataframe thead th {\n",
       "        text-align: right;\n",
       "    }\n",
       "</style>\n",
       "<table border=\"1\" class=\"dataframe\">\n",
       "  <thead>\n",
       "    <tr style=\"text-align: right;\">\n",
       "      <th></th>\n",
       "      <th>id</th>\n",
       "      <th>published-at</th>\n",
       "      <th>title</th>\n",
       "      <th>article_text</th>\n",
       "      <th>external_links</th>\n",
       "      <th>internal_links</th>\n",
       "      <th>hyperpartisan</th>\n",
       "      <th>bias</th>\n",
       "      <th>url</th>\n",
       "      <th>labeled-by</th>\n",
       "      <th>domain</th>\n",
       "      <th>HP_links_count</th>\n",
       "      <th>nonHP_links_count</th>\n",
       "      <th>unknown_links_count</th>\n",
       "      <th>preprocessed_text</th>\n",
       "    </tr>\n",
       "  </thead>\n",
       "  <tbody>\n",
       "    <tr>\n",
       "      <th>0</th>\n",
       "      <td>1049192</td>\n",
       "      <td>2003-05-12</td>\n",
       "      <td>Time Inc.'s Huey thinks outside the box, makes...</td>\n",
       "      <td>Time Inc.'s Huey thinks outside the box, makes...</td>\n",
       "      <td>{}</td>\n",
       "      <td>{}</td>\n",
       "      <td>False</td>\n",
       "      <td>least</td>\n",
       "      <td>https://poynter.org/news/time-incs-huey-thinks...</td>\n",
       "      <td>publisher</td>\n",
       "      <td>poynter</td>\n",
       "      <td>0</td>\n",
       "      <td>0</td>\n",
       "      <td>0</td>\n",
       "      <td>time inc huey think outside box make enemy new...</td>\n",
       "    </tr>\n",
       "    <tr>\n",
       "      <th>1</th>\n",
       "      <td>923492</td>\n",
       "      <td>NaN</td>\n",
       "      <td>Texas group to open southern NM abortion clinic</td>\n",
       "      <td>Texas group to open southern NM abortion clini...</td>\n",
       "      <td>{'http://goo.gl/6s2S93': 'The Las Cruces Sun-N...</td>\n",
       "      <td>{}</td>\n",
       "      <td>False</td>\n",
       "      <td>least</td>\n",
       "      <td>https://abqjournal.com/456723/texas-group-to-o...</td>\n",
       "      <td>publisher</td>\n",
       "      <td>abqjournal</td>\n",
       "      <td>0</td>\n",
       "      <td>0</td>\n",
       "      <td>1</td>\n",
       "      <td>texas group open southern nm abortion clinic l...</td>\n",
       "    </tr>\n",
       "    <tr>\n",
       "      <th>2</th>\n",
       "      <td>1277816</td>\n",
       "      <td>NaN</td>\n",
       "      <td>Texas woman pleads guilty to sex trafficking 9...</td>\n",
       "      <td>Texas woman pleads guilty to sex trafficking 9...</td>\n",
       "      <td>{}</td>\n",
       "      <td>{}</td>\n",
       "      <td>False</td>\n",
       "      <td>least</td>\n",
       "      <td>https://abqjournal.com/1044515/texas-woman-ple...</td>\n",
       "      <td>publisher</td>\n",
       "      <td>abqjournal</td>\n",
       "      <td>0</td>\n",
       "      <td>0</td>\n",
       "      <td>0</td>\n",
       "      <td>texas woman plead guilty sex traffic year old ...</td>\n",
       "    </tr>\n",
       "    <tr>\n",
       "      <th>3</th>\n",
       "      <td>777348</td>\n",
       "      <td>2018-01-11</td>\n",
       "      <td>17 dead in California mudslides, more than a d...</td>\n",
       "      <td>17 dead in California mudslides, more than a d...</td>\n",
       "      <td>{}</td>\n",
       "      <td>{}</td>\n",
       "      <td>False</td>\n",
       "      <td>least</td>\n",
       "      <td>https://apnews.com/amp/67ec5e87bbb74130b7ddedc...</td>\n",
       "      <td>publisher</td>\n",
       "      <td>apnews</td>\n",
       "      <td>0</td>\n",
       "      <td>0</td>\n",
       "      <td>0</td>\n",
       "      <td>dead california mudslide dozen miss montecito ...</td>\n",
       "    </tr>\n",
       "    <tr>\n",
       "      <th>4</th>\n",
       "      <td>89424</td>\n",
       "      <td>NaN</td>\n",
       "      <td>County needs comprehensive effort to generate ...</td>\n",
       "      <td>County needs comprehensive effort to generate ...</td>\n",
       "      <td>{'http://www.sandovalcounty.com/uploads/Downlo...</td>\n",
       "      <td>{}</td>\n",
       "      <td>False</td>\n",
       "      <td>least</td>\n",
       "      <td>https://abqjournal.com/309627/county-needs-com...</td>\n",
       "      <td>publisher</td>\n",
       "      <td>abqjournal</td>\n",
       "      <td>0</td>\n",
       "      <td>0</td>\n",
       "      <td>1</td>\n",
       "      <td>county need comprehensive effort generate need...</td>\n",
       "    </tr>\n",
       "  </tbody>\n",
       "</table>\n",
       "</div>"
      ],
      "text/plain": [
       "        id published-at                                              title  \\\n",
       "0  1049192   2003-05-12  Time Inc.'s Huey thinks outside the box, makes...   \n",
       "1   923492          NaN    Texas group to open southern NM abortion clinic   \n",
       "2  1277816          NaN  Texas woman pleads guilty to sex trafficking 9...   \n",
       "3   777348   2018-01-11  17 dead in California mudslides, more than a d...   \n",
       "4    89424          NaN  County needs comprehensive effort to generate ...   \n",
       "\n",
       "                                        article_text  \\\n",
       "0  Time Inc.'s Huey thinks outside the box, makes...   \n",
       "1  Texas group to open southern NM abortion clini...   \n",
       "2  Texas woman pleads guilty to sex trafficking 9...   \n",
       "3  17 dead in California mudslides, more than a d...   \n",
       "4  County needs comprehensive effort to generate ...   \n",
       "\n",
       "                                      external_links internal_links  \\\n",
       "0                                                 {}             {}   \n",
       "1  {'http://goo.gl/6s2S93': 'The Las Cruces Sun-N...             {}   \n",
       "2                                                 {}             {}   \n",
       "3                                                 {}             {}   \n",
       "4  {'http://www.sandovalcounty.com/uploads/Downlo...             {}   \n",
       "\n",
       "   hyperpartisan   bias                                                url  \\\n",
       "0          False  least  https://poynter.org/news/time-incs-huey-thinks...   \n",
       "1          False  least  https://abqjournal.com/456723/texas-group-to-o...   \n",
       "2          False  least  https://abqjournal.com/1044515/texas-woman-ple...   \n",
       "3          False  least  https://apnews.com/amp/67ec5e87bbb74130b7ddedc...   \n",
       "4          False  least  https://abqjournal.com/309627/county-needs-com...   \n",
       "\n",
       "  labeled-by      domain  HP_links_count  nonHP_links_count  \\\n",
       "0  publisher     poynter               0                  0   \n",
       "1  publisher  abqjournal               0                  0   \n",
       "2  publisher  abqjournal               0                  0   \n",
       "3  publisher      apnews               0                  0   \n",
       "4  publisher  abqjournal               0                  0   \n",
       "\n",
       "   unknown_links_count                                  preprocessed_text  \n",
       "0                    0  time inc huey think outside box make enemy new...  \n",
       "1                    1  texas group open southern nm abortion clinic l...  \n",
       "2                    0  texas woman plead guilty sex traffic year old ...  \n",
       "3                    0  dead california mudslide dozen miss montecito ...  \n",
       "4                    1  county need comprehensive effort generate need...  "
      ]
     },
     "execution_count": 22,
     "metadata": {},
     "output_type": "execute_result"
    }
   ],
   "source": [
    "train.head()"
   ]
  },
  {
   "cell_type": "code",
   "execution_count": 29,
   "metadata": {},
   "outputs": [],
   "source": [
    "X_custom, y_custom = create_custom_features(train, val, names=['HP_links_count', 'nonHP_links_count'])"
   ]
  },
  {
   "cell_type": "code",
   "execution_count": 31,
   "metadata": {},
   "outputs": [
    {
     "ename": "AttributeError",
     "evalue": "append not found",
     "output_type": "error",
     "traceback": [
      "\u001b[0;31m---------------------------------------------------------------------------\u001b[0m",
      "\u001b[0;31mAttributeError\u001b[0m                            Traceback (most recent call last)",
      "\u001b[0;32m<ipython-input-31-d3ead2eda53c>\u001b[0m in \u001b[0;36m<module>\u001b[0;34m()\u001b[0m\n\u001b[0;32m----> 1\u001b[0;31m \u001b[0mrun_models\u001b[0m\u001b[0;34m(\u001b[0m\u001b[0;34m[\u001b[0m\u001b[0;34m'lr'\u001b[0m\u001b[0;34m]\u001b[0m\u001b[0;34m,\u001b[0m \u001b[0mX_train_tfidf\u001b[0m\u001b[0;34m,\u001b[0m \u001b[0mX_test_tfidf\u001b[0m\u001b[0;34m,\u001b[0m \u001b[0my_train\u001b[0m\u001b[0;34m,\u001b[0m \u001b[0my_test\u001b[0m\u001b[0;34m,\u001b[0m \u001b[0mX_custom\u001b[0m\u001b[0;34m,\u001b[0m \u001b[0my_custom\u001b[0m\u001b[0;34m)\u001b[0m\u001b[0;34m\u001b[0m\u001b[0m\n\u001b[0m",
      "\u001b[0;32m~/VCU/Fall2018/CMSC516/Project/src/models/models.py\u001b[0m in \u001b[0;36mrun_models\u001b[0;34m(model_list, X_train, X_test, y_train, y_test, X_custom, y_custom, random_state)\u001b[0m\n\u001b[1;32m     55\u001b[0m     \u001b[0;31m# If custom features are passed, add them to training and validation data\u001b[0m\u001b[0;34m\u001b[0m\u001b[0;34m\u001b[0m\u001b[0m\n\u001b[1;32m     56\u001b[0m     \u001b[0;32mif\u001b[0m \u001b[0mX_custom\u001b[0m \u001b[0;32mis\u001b[0m \u001b[0;32mnot\u001b[0m \u001b[0;32mNone\u001b[0m \u001b[0;32mand\u001b[0m \u001b[0my_custom\u001b[0m \u001b[0;32mis\u001b[0m \u001b[0;32mnot\u001b[0m \u001b[0;32mNone\u001b[0m\u001b[0;34m:\u001b[0m\u001b[0;34m\u001b[0m\u001b[0m\n\u001b[0;32m---> 57\u001b[0;31m         \u001b[0mX_train\u001b[0m\u001b[0;34m.\u001b[0m\u001b[0mappend\u001b[0m\u001b[0;34m(\u001b[0m\u001b[0mX_custom\u001b[0m\u001b[0;34m)\u001b[0m\u001b[0;34m\u001b[0m\u001b[0m\n\u001b[0m\u001b[1;32m     58\u001b[0m         \u001b[0my_train\u001b[0m\u001b[0;34m.\u001b[0m\u001b[0mappend\u001b[0m\u001b[0;34m(\u001b[0m\u001b[0my_custom\u001b[0m\u001b[0;34m)\u001b[0m\u001b[0;34m\u001b[0m\u001b[0m\n\u001b[1;32m     59\u001b[0m \u001b[0;34m\u001b[0m\u001b[0m\n",
      "\u001b[0;32m~/anaconda3/envs/SemEval2019-4/lib/python3.6/site-packages/scipy/sparse/base.py\u001b[0m in \u001b[0;36m__getattr__\u001b[0;34m(self, attr)\u001b[0m\n\u001b[1;32m    684\u001b[0m             \u001b[0;32mreturn\u001b[0m \u001b[0mself\u001b[0m\u001b[0;34m.\u001b[0m\u001b[0mgetnnz\u001b[0m\u001b[0;34m(\u001b[0m\u001b[0;34m)\u001b[0m\u001b[0;34m\u001b[0m\u001b[0m\n\u001b[1;32m    685\u001b[0m         \u001b[0;32melse\u001b[0m\u001b[0;34m:\u001b[0m\u001b[0;34m\u001b[0m\u001b[0m\n\u001b[0;32m--> 686\u001b[0;31m             \u001b[0;32mraise\u001b[0m \u001b[0mAttributeError\u001b[0m\u001b[0;34m(\u001b[0m\u001b[0mattr\u001b[0m \u001b[0;34m+\u001b[0m \u001b[0;34m\" not found\"\u001b[0m\u001b[0;34m)\u001b[0m\u001b[0;34m\u001b[0m\u001b[0m\n\u001b[0m\u001b[1;32m    687\u001b[0m \u001b[0;34m\u001b[0m\u001b[0m\n\u001b[1;32m    688\u001b[0m     \u001b[0;32mdef\u001b[0m \u001b[0mtranspose\u001b[0m\u001b[0;34m(\u001b[0m\u001b[0mself\u001b[0m\u001b[0;34m,\u001b[0m \u001b[0maxes\u001b[0m\u001b[0;34m=\u001b[0m\u001b[0;32mNone\u001b[0m\u001b[0;34m,\u001b[0m \u001b[0mcopy\u001b[0m\u001b[0;34m=\u001b[0m\u001b[0;32mFalse\u001b[0m\u001b[0;34m)\u001b[0m\u001b[0;34m:\u001b[0m\u001b[0;34m\u001b[0m\u001b[0m\n",
      "\u001b[0;31mAttributeError\u001b[0m: append not found"
     ]
    }
   ],
   "source": [
    "run_models(['lr'], X_train_tfidf, X_test_tfidf, y_train, y_test, X_custom, y_custom)"
   ]
  },
  {
   "cell_type": "code",
   "execution_count": 45,
   "metadata": {},
   "outputs": [
    {
     "data": {
      "text/plain": [
       "array([[0., 0., 0., ..., 0., 0., 0.],\n",
       "       [0., 0., 0., ..., 0., 0., 0.],\n",
       "       [0., 0., 0., ..., 0., 0., 0.],\n",
       "       ...,\n",
       "       [0., 0., 0., ..., 0., 0., 8.],\n",
       "       [0., 0., 0., ..., 0., 0., 0.],\n",
       "       [0., 0., 0., ..., 0., 0., 1.]])"
      ]
     },
     "execution_count": 45,
     "metadata": {},
     "output_type": "execute_result"
    }
   ],
   "source": [
    "import numpy as np\n",
    "from scipy.sparse import hstack\n",
    "\n",
    "hstack((X_train_tfidf, np.array(X_custom))).A"
   ]
  },
  {
   "cell_type": "code",
   "execution_count": null,
   "metadata": {},
   "outputs": [],
   "source": []
  }
 ],
 "metadata": {
  "kernelspec": {
   "display_name": "Python 3",
   "language": "python",
   "name": "python3"
  },
  "language_info": {
   "codemirror_mode": {
    "name": "ipython",
    "version": 3
   },
   "file_extension": ".py",
   "mimetype": "text/x-python",
   "name": "python",
   "nbconvert_exporter": "python",
   "pygments_lexer": "ipython3",
   "version": "3.6.6"
  }
 },
 "nbformat": 4,
 "nbformat_minor": 2
}
