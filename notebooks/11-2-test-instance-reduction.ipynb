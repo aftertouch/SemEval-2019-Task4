{
 "cells": [
  {
   "cell_type": "code",
   "execution_count": 1,
   "metadata": {},
   "outputs": [],
   "source": [
    "import sys\n",
    "sys.path.append('../src')\n",
    "\n",
    "%load_ext autoreload\n",
    "%autoreload 1\n",
    "\n",
    "from datatasks.remove_articles import remove_articles\n",
    "%aimport datatasks.remove_articles"
   ]
  },
  {
   "cell_type": "code",
   "execution_count": 2,
   "metadata": {},
   "outputs": [],
   "source": [
    "DATA_INTERIM_PATH = '../data/interim/'\n",
    "remove_articles(DATA_INTERIM_PATH)"
   ]
  },
  {
   "cell_type": "code",
   "execution_count": 3,
   "metadata": {},
   "outputs": [],
   "source": [
    "import pandas as pd"
   ]
  },
  {
   "cell_type": "code",
   "execution_count": 4,
   "metadata": {},
   "outputs": [],
   "source": [
    "train = pd.read_csv(DATA_INTERIM_PATH + 'train_reduced.csv')"
   ]
  },
  {
   "cell_type": "code",
   "execution_count": 5,
   "metadata": {},
   "outputs": [
    {
     "data": {
      "text/plain": [
       "761639"
      ]
     },
     "execution_count": 5,
     "metadata": {},
     "output_type": "execute_result"
    }
   ],
   "source": [
    "train.shape[0]"
   ]
  },
  {
   "cell_type": "code",
   "execution_count": 6,
   "metadata": {},
   "outputs": [
    {
     "data": {
      "text/plain": [
       "True     0.50674\n",
       "False    0.49326\n",
       "Name: hyperpartisan, dtype: float64"
      ]
     },
     "execution_count": 6,
     "metadata": {},
     "output_type": "execute_result"
    }
   ],
   "source": [
    "train['hyperpartisan'].value_counts(normalize=True)"
   ]
  },
  {
   "cell_type": "code",
   "execution_count": 7,
   "metadata": {},
   "outputs": [
    {
     "data": {
      "text/plain": [
       "least           0.261227\n",
       "left            0.255767\n",
       "right           0.250973\n",
       "left-center     0.146997\n",
       "right-center    0.085035\n",
       "Name: bias, dtype: float64"
      ]
     },
     "execution_count": 7,
     "metadata": {},
     "output_type": "execute_result"
    }
   ],
   "source": [
    "pd.read_csv(DATA_INTERIM_PATH)"
   ]
  },
  {
   "cell_type": "code",
   "execution_count": 11,
   "metadata": {},
   "outputs": [],
   "source": [
    "train.drop('Unnamed: 0', axis=1, inplace=True)\n",
    "train.reset_index(inplace=True)\n",
    "train.to_csv(DATA_INTERIM_PATH + 'train_reduced.csv')"
   ]
  },
  {
   "cell_type": "code",
   "execution_count": 13,
   "metadata": {},
   "outputs": [],
   "source": [
    "train.drop('index', axis=1, inplace=True)"
   ]
  },
  {
   "cell_type": "code",
   "execution_count": 14,
   "metadata": {},
   "outputs": [],
   "source": [
    "train.to_csv(DATA_INTERIM_PATH + 'train_reduced.csv', index=False)"
   ]
  },
  {
   "cell_type": "code",
   "execution_count": 15,
   "metadata": {},
   "outputs": [
    {
     "data": {
      "text/html": [
       "<div>\n",
       "<style scoped>\n",
       "    .dataframe tbody tr th:only-of-type {\n",
       "        vertical-align: middle;\n",
       "    }\n",
       "\n",
       "    .dataframe tbody tr th {\n",
       "        vertical-align: top;\n",
       "    }\n",
       "\n",
       "    .dataframe thead th {\n",
       "        text-align: right;\n",
       "    }\n",
       "</style>\n",
       "<table border=\"1\" class=\"dataframe\">\n",
       "  <thead>\n",
       "    <tr style=\"text-align: right;\">\n",
       "      <th></th>\n",
       "      <th>id</th>\n",
       "      <th>published-at</th>\n",
       "      <th>title</th>\n",
       "      <th>article_text</th>\n",
       "      <th>external_links</th>\n",
       "      <th>internal_links</th>\n",
       "      <th>hyperpartisan</th>\n",
       "      <th>bias</th>\n",
       "      <th>url</th>\n",
       "      <th>labeled-by</th>\n",
       "    </tr>\n",
       "  </thead>\n",
       "  <tbody>\n",
       "    <tr>\n",
       "      <th>0</th>\n",
       "      <td>1</td>\n",
       "      <td>2017-09-10</td>\n",
       "      <td>After DeVos Announced Plans To Reexamine Title...</td>\n",
       "      <td>When explaining her decision to reevaluate Tit...</td>\n",
       "      <td>{'https://www.nbcnews.com/news/us-news/betsy-d...</td>\n",
       "      <td>{}</td>\n",
       "      <td>True</td>\n",
       "      <td>right</td>\n",
       "      <td>https://dailywire.com/news/20858/after-devos-a...</td>\n",
       "      <td>publisher</td>\n",
       "    </tr>\n",
       "    <tr>\n",
       "      <th>1</th>\n",
       "      <td>2</td>\n",
       "      <td>2017-05-05</td>\n",
       "      <td>University To Award Trayvon Martin With Posthu...</td>\n",
       "      <td>A Florida university will honor Trayvon Martin...</td>\n",
       "      <td>{'https://www.facebook.com/FLMemorialUniv/': '...</td>\n",
       "      <td>{}</td>\n",
       "      <td>True</td>\n",
       "      <td>right</td>\n",
       "      <td>https://dailywire.com/news/16103/university-aw...</td>\n",
       "      <td>publisher</td>\n",
       "    </tr>\n",
       "    <tr>\n",
       "      <th>2</th>\n",
       "      <td>8</td>\n",
       "      <td>2017-11-15</td>\n",
       "      <td>Texas State University suspends Greek life aft...</td>\n",
       "      <td>Nov. 15 (UPI) ? Texas State University has sus...</td>\n",
       "      <td>{'https://www.nbcnews.com/storyline/hazing-in-...</td>\n",
       "      <td>{}</td>\n",
       "      <td>False</td>\n",
       "      <td>right-center</td>\n",
       "      <td>https://newsline.com/texas-state-university-su...</td>\n",
       "      <td>publisher</td>\n",
       "    </tr>\n",
       "    <tr>\n",
       "      <th>3</th>\n",
       "      <td>9</td>\n",
       "      <td>2015-06-10</td>\n",
       "      <td>Red Sox waste Rodriguez outing in 1-0 loss to ...</td>\n",
       "      <td>BALTIMORE (AP) ? On a night in which Boston di...</td>\n",
       "      <td>{}</td>\n",
       "      <td>{}</td>\n",
       "      <td>False</td>\n",
       "      <td>least</td>\n",
       "      <td>https://apnews.com/795c45f6db904f8eb85d72cee61...</td>\n",
       "      <td>publisher</td>\n",
       "    </tr>\n",
       "    <tr>\n",
       "      <th>4</th>\n",
       "      <td>10</td>\n",
       "      <td>NaN</td>\n",
       "      <td>Eve and the New Jerusalem</td>\n",
       "      <td>Imaginings of a utopian, or utopian socialist,...</td>\n",
       "      <td>{}</td>\n",
       "      <td>{}</td>\n",
       "      <td>True</td>\n",
       "      <td>left</td>\n",
       "      <td>https://dissentmagazine.org/article/eve-and-th...</td>\n",
       "      <td>publisher</td>\n",
       "    </tr>\n",
       "  </tbody>\n",
       "</table>\n",
       "</div>"
      ],
      "text/plain": [
       "   id published-at                                              title  \\\n",
       "0   1   2017-09-10  After DeVos Announced Plans To Reexamine Title...   \n",
       "1   2   2017-05-05  University To Award Trayvon Martin With Posthu...   \n",
       "2   8   2017-11-15  Texas State University suspends Greek life aft...   \n",
       "3   9   2015-06-10  Red Sox waste Rodriguez outing in 1-0 loss to ...   \n",
       "4  10          NaN                          Eve and the New Jerusalem   \n",
       "\n",
       "                                        article_text  \\\n",
       "0  When explaining her decision to reevaluate Tit...   \n",
       "1  A Florida university will honor Trayvon Martin...   \n",
       "2  Nov. 15 (UPI) ? Texas State University has sus...   \n",
       "3  BALTIMORE (AP) ? On a night in which Boston di...   \n",
       "4  Imaginings of a utopian, or utopian socialist,...   \n",
       "\n",
       "                                      external_links internal_links  \\\n",
       "0  {'https://www.nbcnews.com/news/us-news/betsy-d...             {}   \n",
       "1  {'https://www.facebook.com/FLMemorialUniv/': '...             {}   \n",
       "2  {'https://www.nbcnews.com/storyline/hazing-in-...             {}   \n",
       "3                                                 {}             {}   \n",
       "4                                                 {}             {}   \n",
       "\n",
       "   hyperpartisan          bias  \\\n",
       "0           True         right   \n",
       "1           True         right   \n",
       "2          False  right-center   \n",
       "3          False         least   \n",
       "4           True          left   \n",
       "\n",
       "                                                 url labeled-by  \n",
       "0  https://dailywire.com/news/20858/after-devos-a...  publisher  \n",
       "1  https://dailywire.com/news/16103/university-aw...  publisher  \n",
       "2  https://newsline.com/texas-state-university-su...  publisher  \n",
       "3  https://apnews.com/795c45f6db904f8eb85d72cee61...  publisher  \n",
       "4  https://dissentmagazine.org/article/eve-and-th...  publisher  "
      ]
     },
     "execution_count": 15,
     "metadata": {},
     "output_type": "execute_result"
    }
   ],
   "source": [
    "train.head()"
   ]
  },
  {
   "cell_type": "code",
   "execution_count": null,
   "metadata": {},
   "outputs": [],
   "source": []
  }
 ],
 "metadata": {
  "kernelspec": {
   "display_name": "Python 3",
   "language": "python",
   "name": "python3"
  },
  "language_info": {
   "codemirror_mode": {
    "name": "ipython",
    "version": 3
   },
   "file_extension": ".py",
   "mimetype": "text/x-python",
   "name": "python",
   "nbconvert_exporter": "python",
   "pygments_lexer": "ipython3",
   "version": "3.6.6"
  }
 },
 "nbformat": 4,
 "nbformat_minor": 2
}
