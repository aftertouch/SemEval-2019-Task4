{
 "cells": [
  {
   "cell_type": "markdown",
   "metadata": {},
   "source": [
    "## A notebook to hand-label articles as political or non-political"
   ]
  },
  {
   "cell_type": "markdown",
   "metadata": {},
   "source": [
    "### Load data"
   ]
  },
  {
   "cell_type": "code",
   "execution_count": 1,
   "metadata": {},
   "outputs": [],
   "source": [
    "import pandas as pd\n",
    "\n",
    "DATA_PATH = '../data/'\n",
    "DATA_INTERIM_PATH = DATA_PATH + 'interim/'\n",
    "train = pd.read_csv(DATA_INTERIM_PATH + 'train_c.csv')"
   ]
  },
  {
   "cell_type": "markdown",
   "metadata": {},
   "source": [
    "### Load P/NP list"
   ]
  },
  {
   "cell_type": "code",
   "execution_count": 5,
   "metadata": {},
   "outputs": [],
   "source": [
    "import pickle\n",
    "\n",
    "UTIL_PATH = '../util/'\n",
    "\n",
    "pickle_in = open(UTIL_PATH + \"is_political.pickle\",\"rb\")\n",
    "is_political = pickle.load(pickle_in)"
   ]
  },
  {
   "cell_type": "code",
   "execution_count": 6,
   "metadata": {},
   "outputs": [
    {
     "data": {
      "text/plain": [
       "True     39\n",
       "False    37\n",
       "dtype: int64"
      ]
     },
     "execution_count": 6,
     "metadata": {},
     "output_type": "execute_result"
    }
   ],
   "source": [
    "is_political.value_counts()"
   ]
  },
  {
   "cell_type": "code",
   "execution_count": 7,
   "metadata": {},
   "outputs": [
    {
     "data": {
      "application/vnd.jupyter.widget-view+json": {
       "model_id": "e0af3acb05054c7b99a07a03915541ed",
       "version_major": 2,
       "version_minor": 0
      },
      "text/plain": [
       "VBox(children=(HBox(children=(Button(description='Political', style=ButtonStyle()), Button(description='Non-Po…"
      ]
     },
     "metadata": {},
     "output_type": "display_data"
    }
   ],
   "source": [
    "from IPython.display import display\n",
    "import ipywidgets as widgets\n",
    "\n",
    "session_i_list = []\n",
    "i = is_political[is_political.isnull()].sample(1).index.values[0]\n",
    "session_i_list.append(i)\n",
    "\n",
    "political_button = widgets.Button(description='Political')\n",
    "nonpolitical_button = widgets.Button(description='Non-Political')\n",
    "out = widgets.Output()\n",
    "out.append_stdout(train.loc[i,'article_text'])\n",
    "\n",
    "def on_political_clicked(b):\n",
    "    out.clear_output()\n",
    "    political(i)\n",
    "    generate_new_instance()\n",
    "    \n",
    "def on_nonpolitical_clicked(b):\n",
    "    out.clear_output()\n",
    "    nonpolitical(i)\n",
    "    generate_new_instance()\n",
    "    \n",
    "def political(i):\n",
    "    is_political[i] = True\n",
    "        \n",
    "def nonpolitical(i):\n",
    "    is_political[i] = False\n",
    "    \n",
    "def generate_new_instance():\n",
    "    global i\n",
    "    i = is_political[is_political.isnull()].sample(1).index.values[0]\n",
    "    global session_i_list\n",
    "    session_i_list.append(i)\n",
    "    with out:\n",
    "        print(train.loc[i,['domain','hyperpartisan']])\n",
    "        print(train.loc[i,'article_text'])\n",
    "        \n",
    "political_button.on_click(on_political_clicked)\n",
    "nonpolitical_button.on_click(on_nonpolitical_clicked)\n",
    "widgets.VBox([widgets.HBox([political_button, nonpolitical_button]), out])"
   ]
  },
  {
   "cell_type": "markdown",
   "metadata": {},
   "source": [
    "### Save when done"
   ]
  },
  {
   "cell_type": "code",
   "execution_count": 6,
   "metadata": {},
   "outputs": [],
   "source": [
    "pickle_out = open(DATA_EXTERNAL_PATH + \"is_political.pickle\",\"wb\")\n",
    "pickle.dump(is_political, pickle_out)\n",
    "pickle_out.close()"
   ]
  },
  {
   "cell_type": "code",
   "execution_count": 15,
   "metadata": {},
   "outputs": [],
   "source": [
    "links_df = train[train['article_text'].str.contains('http:')].reset_index()"
   ]
  },
  {
   "cell_type": "code",
   "execution_count": 23,
   "metadata": {},
   "outputs": [
    {
     "data": {
      "text/plain": [
       "'Why Washington Needs Dick Lugar Sen. Dick Lugar (R-Ind.) &lt;a href=\"http://www.flickr.com/photos/talkradionews/2510926965/sizes/l/in/photostream/\"&gt;TalkRadioNews&lt;/a&gt;/Flickr  Centrism and bipartisan consensus often are unduly worshiped by Washington?s punditeers, who are ever bemoaning the decline of across-the-aisle dialogue and compromise. Frequently, these calls for cooperation are escape routes for those who prefer to transcend real and important political and policy divides and who yearn to position themselves above the critical but down-and-dirty squabbles that shape this country?s future. Yet there are times when the pursuit of a common purpose uniting Democrats and Republicans is necessary to advance important policy aims and to demonstrate to the citizenry that the nation?s capital can function and serve the public interest. And in an era of increasing political rancor, Washington?s ability to rise to this task is now diminished with the primary defeat of Sen. Dick Lugar, an Indiana Republican. Lugar was beaten on Tuesday by Richard Mourdock, the tea-party-favored state treasurer. This was not unexpected. Lugar, a moderate GOPer who had served in the Senate since 1977, was ripe for the defenestration. Tea partiers in recent years had eviscerated other targeted-from-the-right Republican senators, including Bob Bennett of Utah and Lisa Murkowski of Alaska. (Murkowski was able to retain her seat via an unconventional write-in campaign.) And Lugar, unlike John McCain (who successfully beat back this sort of challenge in 2010), did little to protect his right flank in the past two years. Lugar?s defeat will be cited by the hand-wringing DC pooh-bahs as another sign of hopelessness. But the loss of Lugar?as opposed to, say, the loss of Bennett?will have true policy ramifications, for this Hoosier frequently endeavored to forge bipartisan coalitions to advance national security priorities. Most notably, as I recounted in my new book, Showdown: The Inside Story of How Obama Fought Back Against Boehner, Cantor, and the Tea Party, Lugar worked?that is, conspired with?the Obama White House to win ratification of the New START treaty reducing the number of US and Russian nuclear weapons. With leading Senate Republicans opposed to the treaty?mainly, it seemed, because Obama had negotiated it?Lugar, the senior Republican on the Senate foreign relations committee, collaborated with Sen. John Kerry (D-Mass.), the chair of that committee, and Vice President Joe Biden to devise a strategy to circumvent his party?s opposition. This entailed undercutting McCain, Minority Leader Mitch McConnell (R-Ky.), and the GOP?s chief voice on arms control, Sen. Jon Kyl (R-Ariz.). The yearlong effort to achieve ratification?which was approved on a bipartisan vote as the lame-duck session of 2010 was coming to a close?was a deftly mounted effort. At one point, Kerry, though he controlled the committee, had Lugar introduce the ratification resolution in order to win over a couple of Republican senators so the White House could claim the treaty had bipartisan backing. And Kerry even complained publicly about Lugar?s resolution to make it easier for Lugar to sell it to his GOP comrades. It is hard to envision a Democratic White House cooperating as closely with another Republican senator on such a significant matter. Lugar?who years earlier had worked in the Senate with Obama to pass legislation to detect and secure loose nukes overseas?was not a pushover for Obama. Prior to Obama?s launching of multilateral strikes on Libya, he told the president he would not support this action. He also publicly raised questions about US involvement in Afghanistan, noting in 2011, ?It is exceedingly difficult to conclude that our vast expenditures in Afghanistan represent a rational allocation of our military and financial assets.? But he was the rare Republican lawmaker who preferred to collaborate than clash with the president. Lugar was an independent?and often reasonable?GOP voice on foreign policy, surviving for decades within a party that often put a premium on extreme and harsh positions. A decade ago, he joined with Joe Biden, then a senator, and fellow Republican Sen. Chuck Hagel (R-Neb.) to try to slow President George W. Bush?s rush to war in Iraq. In response to Bush?s request for legislation authorizing him to attack Iraq at a time of his own choosing, Lugar, Biden, and Hagel pushed an alternative that would permit Bush to initiate a war only for the purpose of destroying Iraq?s WMD and only after seeking United Nations approval. Absent a UN green light, Bush would have to come back to Congress and demonstrate that the Iraqi weapons threat was so ?grave? that only military action could eliminate it. (The Biden-Lugar-Hagel effort ended up being derailed by none other than Rep. Dick Gephardt, the House Democratic leader, who cut a deal with the Bush White House and essentially accepted the resolution Bush was demanding.) Lugar was a charisma-challenged Republican. His attempt at a presidential campaign in the 1996 cycle was ludicrous. (During his announcement, he stood alone on a rather big stage and looked quite small.) But he was a policy-minded legislator who did the heavy-lifting on issues far from the spotlight and who was not reluctant to put aside partisanship when policy progress was possible. As Washington?s centrism fanciers predictably grieve the electoral demise of another member of that endangered breed, the Republican moderate, this is indeed a genuine loss for those who care about arms control, nuclear nonproliferation, and foreign-policy discussions that are serious and deep, not silly and opportunistic. UPDATE: On Tuesday night, Obama released this statement: ?As a friend and former colleague, I want to express my deep appreciation for Dick Lugar?s distinguished service in the United States Senate. While Dick and I didn?t always agree on everything, I found during my time in the Senate that he was often willing to reach across the aisle and get things done. My administration?s efforts to secure the world?s most dangerous weapons has been based on the work that Senator Lugar began, as well as the bipartisan cooperation we forged during my first overseas trip as Senator to Russia, Ukraine and Azerbaijan.? '"
      ]
     },
     "execution_count": 23,
     "metadata": {},
     "output_type": "execute_result"
    }
   ],
   "source": [
    "links_df['article_text'][6]"
   ]
  },
  {
   "cell_type": "code",
   "execution_count": null,
   "metadata": {},
   "outputs": [],
   "source": []
  }
 ],
 "metadata": {
  "kernelspec": {
   "display_name": "Python 3",
   "language": "python",
   "name": "python3"
  },
  "language_info": {
   "codemirror_mode": {
    "name": "ipython",
    "version": 3
   },
   "file_extension": ".py",
   "mimetype": "text/x-python",
   "name": "python",
   "nbconvert_exporter": "python",
   "pygments_lexer": "ipython3",
   "version": "3.6.6"
  }
 },
 "nbformat": 4,
 "nbformat_minor": 2
}
