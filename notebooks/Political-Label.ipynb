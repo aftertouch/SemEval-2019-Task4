{
 "cells": [
  {
   "cell_type": "markdown",
   "metadata": {},
   "source": [
    "## A notebook to hand-label articles as political or non-political"
   ]
  },
  {
   "cell_type": "markdown",
   "metadata": {},
   "source": [
    "### Load data"
   ]
  },
  {
   "cell_type": "code",
   "execution_count": 1,
   "metadata": {},
   "outputs": [],
   "source": [
    "import pandas as pd\n",
    "\n",
    "DATA_PATH = '../data/'\n",
    "DATA_INTERIM_PATH = DATA_PATH + 'interim/'\n",
    "train = pd.read_csv(DATA_INTERIM_PATH + 'train_c.csv')"
   ]
  },
  {
   "cell_type": "markdown",
   "metadata": {},
   "source": [
    "### Load P/NP list"
   ]
  },
  {
   "cell_type": "code",
   "execution_count": 2,
   "metadata": {},
   "outputs": [],
   "source": [
    "import pickle\n",
    "\n",
    "DATA_EXTERNAL_PATH = DATA_PATH + 'external/'\n",
    "\n",
    "pickle_in = open(DATA_EXTERNAL_PATH + \"is_political.pickle\",\"rb\")\n",
    "is_political = pickle.load(pickle_in)"
   ]
  },
  {
   "cell_type": "code",
   "execution_count": 5,
   "metadata": {},
   "outputs": [
    {
     "data": {
      "text/plain": [
       "True     39\n",
       "False    37\n",
       "dtype: int64"
      ]
     },
     "execution_count": 5,
     "metadata": {},
     "output_type": "execute_result"
    }
   ],
   "source": [
    "is_political.value_counts()"
   ]
  },
  {
   "cell_type": "code",
   "execution_count": 4,
   "metadata": {},
   "outputs": [
    {
     "data": {
      "application/vnd.jupyter.widget-view+json": {
       "model_id": "e6cadc7207be483f816aa39ecf8662ad",
       "version_major": 2,
       "version_minor": 0
      },
      "text/plain": [
       "VBox(children=(HBox(children=(Button(description='Political', style=ButtonStyle()), Button(description='Non-Po…"
      ]
     },
     "metadata": {},
     "output_type": "display_data"
    }
   ],
   "source": [
    "from IPython.display import display\n",
    "import ipywidgets as widgets\n",
    "\n",
    "session_i_list = []\n",
    "i = is_political[is_political.isnull()].sample(1).index.values[0]\n",
    "session_i_list.append(i)\n",
    "\n",
    "political_button = widgets.Button(description='Political')\n",
    "nonpolitical_button = widgets.Button(description='Non-Political')\n",
    "out = widgets.Output()\n",
    "out.append_stdout(train.loc[i,'article_text'])\n",
    "\n",
    "def on_political_clicked(b):\n",
    "    out.clear_output()\n",
    "    political(i)\n",
    "    generate_new_instance()\n",
    "    \n",
    "def on_nonpolitical_clicked(b):\n",
    "    out.clear_output()\n",
    "    nonpolitical(i)\n",
    "    generate_new_instance()\n",
    "    \n",
    "def political(i):\n",
    "    is_political[i] = True\n",
    "        \n",
    "def nonpolitical(i):\n",
    "    is_political[i] = False\n",
    "    \n",
    "def generate_new_instance():\n",
    "    global i\n",
    "    i = is_political[is_political.isnull()].sample(1).index.values[0]\n",
    "    global session_i_list\n",
    "    session_i_list.append(i)\n",
    "    with out:\n",
    "        print(train.loc[i,['domain','hyperpartisan']])\n",
    "        print(train.loc[i,'article_text'])\n",
    "        \n",
    "political_button.on_click(on_political_clicked)\n",
    "nonpolitical_button.on_click(on_nonpolitical_clicked)\n",
    "widgets.VBox([widgets.HBox([political_button, nonpolitical_button]), out])"
   ]
  },
  {
   "cell_type": "markdown",
   "metadata": {},
   "source": [
    "### Save when done"
   ]
  },
  {
   "cell_type": "code",
   "execution_count": 6,
   "metadata": {},
   "outputs": [],
   "source": [
    "pickle_out = open(DATA_EXTERNAL_PATH + \"is_political.pickle\",\"wb\")\n",
    "pickle.dump(is_political, pickle_out)\n",
    "pickle_out.close()"
   ]
  },
  {
   "cell_type": "code",
   "execution_count": null,
   "metadata": {},
   "outputs": [],
   "source": []
  }
 ],
 "metadata": {
  "kernelspec": {
   "display_name": "Python 3",
   "language": "python",
   "name": "python3"
  },
  "language_info": {
   "codemirror_mode": {
    "name": "ipython",
    "version": 3
   },
   "file_extension": ".py",
   "mimetype": "text/x-python",
   "name": "python",
   "nbconvert_exporter": "python",
   "pygments_lexer": "ipython3",
   "version": "3.6.6"
  }
 },
 "nbformat": 4,
 "nbformat_minor": 2
}
