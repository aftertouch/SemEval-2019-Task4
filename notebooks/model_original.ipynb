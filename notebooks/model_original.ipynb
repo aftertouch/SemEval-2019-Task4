{
 "cells": [
  {
   "cell_type": "code",
   "execution_count": 1,
   "metadata": {},
   "outputs": [],
   "source": [
    "\"\"\"\n",
    "@author: Negar\n",
    "\"\"\"\n",
    "import pandas\n",
    "from sklearn.feature_extraction.text import TfidfTransformer\n",
    "from sklearn.feature_extraction.text import CountVectorizer, TfidfVectorizer\n",
    "from sklearn.ensemble import GradientBoostingClassifier\n",
    "import numpy as np\n",
    "from sklearn import metrics\n",
    "from sklearn.naive_bayes import MultinomialNB\n",
    "from sklearn.linear_model import LogisticRegression\n",
    "\n",
    "\n",
    "def create_train_test_tfidf(trainFilePath, testFilePath):\n",
    "    train = pandas.read_csv(trainFilePath)\n",
    "    vectorizer = CountVectorizer(ngram_range=(1, 3))\n",
    "    text = train.preprocessed_text.tolist()\n",
    "    bag_of_words = vectorizer.fit(text)\n",
    "    bag_of_words = vectorizer.transform(text)\n",
    "    #tf and tfidf\n",
    "    tfidf_transformer = TfidfTransformer()\n",
    "    X_train_tfidf = tfidf_transformer.fit_transform(bag_of_words)\n",
    "    y_train = train.hyperpartisan.tolist()\n",
    "    #X_train_tfidf.shape\n",
    "    #testing\n",
    "    test = pandas.read_csv(testFilePath)\n",
    "    testdata = test.preprocessed_text.tolist()\n",
    "    #newbag = vectorizer.fit(testdata)\n",
    "    testbag = vectorizer.transform(testdata)\n",
    "    X_test_tfidf = tfidf_transformer.transform(testbag)\n",
    "    y_test = test.hyperpartisan.tolist()\n",
    "    return X_train_tfidf, X_test_tfidf, y_train, y_test\n",
    "\n",
    "def run_model(model_list, X_train, X_test, y_train, y_test):\n",
    "    \n",
    "    model_dict ={\n",
    "        'nb' : 'Multinomial Naive Bayes',\n",
    "        'lr' : 'LogisticRegression',\n",
    "        'gb' : 'GradientBoostingClassifier'\n",
    "    } \n",
    "    \n",
    "    for model_type in model_list:\n",
    "        if model_type == 'nb':\n",
    "            clf = MultinomialNB().fit(X_train, y_train)\n",
    "        elif model_type == 'lr':\n",
    "            clf = LogisticRegression(C=30.0, class_weight='balanced', solver='newton-cg', multi_class='multinomial', n_jobs=-1, random_state=40)\n",
    "            clf.fit(X_train, y_train)\n",
    "        elif model_type == 'gb':\n",
    "            clf = GradientBoostingClassifier(n_estimators=170, max_depth=5, learning_rate=0.5, min_samples_leaf=3, min_samples_split=4).fit(X_train, y_train)\n",
    "        else:\n",
    "            raise ValueError(\"No model type provided\")        \n",
    "        predicted = clf.predict(X_test)\n",
    "        print(model_dict[model_type])\n",
    "        evaluate_model(predicted, y_test)\n",
    "\n",
    "def evaluate_model(predicted, y_test):\n",
    "    #rint(predicted)\n",
    "    print(np.mean(predicted == y_test))\n",
    "    print(metrics.classification_report(y_test, predicted))"
   ]
  },
  {
   "cell_type": "code",
   "execution_count": null,
   "metadata": {},
   "outputs": [],
   "source": []
  }
 ],
 "metadata": {
  "kernelspec": {
   "display_name": "Python 3",
   "language": "python",
   "name": "python3"
  },
  "language_info": {
   "codemirror_mode": {
    "name": "ipython",
    "version": 3
   },
   "file_extension": ".py",
   "mimetype": "text/x-python",
   "name": "python",
   "nbconvert_exporter": "python",
   "pygments_lexer": "ipython3",
   "version": "3.6.6"
  }
 },
 "nbformat": 4,
 "nbformat_minor": 2
}
