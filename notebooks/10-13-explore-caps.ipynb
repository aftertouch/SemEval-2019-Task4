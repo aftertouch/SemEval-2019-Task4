{
 "cells": [
  {
   "cell_type": "code",
   "execution_count": 4,
   "metadata": {},
   "outputs": [],
   "source": [
    "import pandas as pd\n",
    "\n",
    "DATA_PATH = '../data/'\n",
    "DATA_INTERIM_PATH = DATA_PATH + 'interim/'\n",
    "train = pd.read_csv(DATA_INTERIM_PATH + 'train_c.csv')\n",
    "val = pd.read_csv(DATA_INTERIM_PATH + 'val_c.csv')"
   ]
  },
  {
   "cell_type": "code",
   "execution_count": 9,
   "metadata": {},
   "outputs": [],
   "source": [
    "import re\n",
    "caps = r\"\\b[A-Z][A-Z]+\\b\""
   ]
  },
  {
   "cell_type": "code",
   "execution_count": 12,
   "metadata": {},
   "outputs": [],
   "source": [
    "train['num_caps_words'] = train.loc[:,'article_text'].apply(lambda x: len(re.findall(caps,x)))"
   ]
  },
  {
   "cell_type": "code",
   "execution_count": 2,
   "metadata": {},
   "outputs": [],
   "source": [
    "t = train[train['hyperpartisan']==True].reset_index()['article_text']"
   ]
  },
  {
   "cell_type": "code",
   "execution_count": 3,
   "metadata": {},
   "outputs": [
    {
     "data": {
      "text/plain": [
       "\"After DeVos Announced Plans To Reexamine Title IX, Texas Attorney Tweets He Would 'Be Ok If [She] Was Sexually Assaulted' When explaining her decision to reevaluate Title IX guidelines as they pertain to sexual assault on college campuses, Secretary of Education Betsy DeVos said: ?Every survivor of sexual misconduct must be taken seriously. Every student accused of sexual misconduct must know that guilt is not predetermined.? \\nThe Obama administration?s changes to Title IX have been criticized for, among other things, substantially lowering the burden of proof as it pertains to sexual assault, as well as denying elements of due process to the accused. \\nHowever, many progressives are lashing out at DeVos because they hate her, and also rape culture and stuff. \\nPerhaps the most grotesque attack came when Rob Ranco, a Texas attorney, tweeted Friday that ?I'm not wishing for it ? but I'd be ok if #BetsyDevos was sexually assaulted. #Sexual Assault #TitleIX.? \\nThe Washington Times reports that in several other tweets (condensed for this publication), Ranco wrote: ?Perhaps Betsy doesn?t understand how horrible rape is. She?s made the world more dangerous for my daughters. I need her to understand,? and ?Make the world more dangerous for my daughters ? intentionally ? and your well being is not my concern. Full stop.? \\nRanco's additional tweets don't make his first one any less vile. \\nIn the wake of the overwhelming negative response, Ranco locked his Twitter profile, then deleted it. \\nMany on social media are calling for the attorney to be fired from The Carlson Law Firm, where he is a partner, or even disbarred: \\n@PrisonPlanet I'm wishing for it... but I'd be ok if #RobRanco was disbarred. \\nAs of this publication, the law firm?s Twitter account has also been locked, though Ranco is still listed on the official website?s ? Team? section. \\nA petition, which currently boasts nearly 2,200 signatures, has also been started in an effort to get the attorney disbarred.\""
      ]
     },
     "execution_count": 3,
     "metadata": {},
     "output_type": "execute_result"
    }
   ],
   "source": [
    "t[0]"
   ]
  },
  {
   "cell_type": "code",
   "execution_count": 13,
   "metadata": {},
   "outputs": [],
   "source": [
    "def compare_text(text, text_type='article_text'):\n",
    "    print('Train HP: ' + str(train[(train['article_text'].str.contains(text)) & (train['hyperpartisan']==True)].shape[0]))\n",
    "    print('Train nonHP: ' + str(train[(train['article_text'].str.contains(text)) & (train['hyperpartisan']==False)].shape[0]))\n",
    "    print('Val HP: ' + str(val[(val['article_text'].str.contains(text)) & (val['hyperpartisan']==True)].shape[0]))\n",
    "    print('Val nonHP: ' + str(val[(val['article_text'].str.contains(text)) & (val['hyperpartisan']==False)].shape[0]))"
   ]
  },
  {
   "cell_type": "code",
   "execution_count": 35,
   "metadata": {},
   "outputs": [
    {
     "name": "stdout",
     "output_type": "stream",
     "text": [
      "Train HP: 52792\n",
      "Train nonHP: 47161\n",
      "Val HP: 17441\n",
      "Val nonHP: 19005\n"
     ]
    }
   ],
   "source": [
    "compare_text('a lot')"
   ]
  },
  {
   "cell_type": "code",
   "execution_count": 33,
   "metadata": {},
   "outputs": [
    {
     "data": {
      "text/plain": [
       "'https://counterpunch.org/2007/04/18/don-imus-s-firing-and-the-hip-hop-culture/'"
      ]
     },
     "execution_count": 33,
     "metadata": {},
     "output_type": "execute_result"
    }
   ],
   "source": [
    "train[(train['article_text'].str.contains('BITCH')) & (train['hyperpartisan']==True)].reset_index()['url'][3]"
   ]
  },
  {
   "cell_type": "code",
   "execution_count": 2,
   "metadata": {},
   "outputs": [],
   "source": [
    "import sys\n",
    "sys.path.append('../src')\n",
    "\n",
    "%load_ext autoreload\n",
    "%autoreload 1\n",
    "\n",
    "from models.EDA import compare_text\n",
    "%aimport models.EDA"
   ]
  },
  {
   "cell_type": "code",
   "execution_count": 48,
   "metadata": {},
   "outputs": [
    {
     "name": "stdout",
     "output_type": "stream",
     "text": [
      "Train HP: 15273\n",
      "Train nonHP: 5252\n",
      "Val HP: 7926\n",
      "Val nonHP: 2673\n"
     ]
    }
   ],
   "source": [
    "compare_text('Fox News', train, val)"
   ]
  },
  {
   "cell_type": "code",
   "execution_count": 6,
   "metadata": {},
   "outputs": [
    {
     "name": "stdout",
     "output_type": "stream",
     "text": [
      "Train HP: 684\n",
      "Train nonHP: 243\n",
      "Val HP: 407\n",
      "Val nonHP: 216\n"
     ]
    }
   ],
   "source": [
    "compare_text('memes', train, val)"
   ]
  },
  {
   "cell_type": "code",
   "execution_count": null,
   "metadata": {},
   "outputs": [],
   "source": []
  }
 ],
 "metadata": {
  "kernelspec": {
   "display_name": "Python 3",
   "language": "python",
   "name": "python3"
  },
  "language_info": {
   "codemirror_mode": {
    "name": "ipython",
    "version": 3
   },
   "file_extension": ".py",
   "mimetype": "text/x-python",
   "name": "python",
   "nbconvert_exporter": "python",
   "pygments_lexer": "ipython3",
   "version": "3.6.6"
  }
 },
 "nbformat": 4,
 "nbformat_minor": 2
}
