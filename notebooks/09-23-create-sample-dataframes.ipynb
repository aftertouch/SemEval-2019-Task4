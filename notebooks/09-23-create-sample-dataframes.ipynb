{
 "cells": [
  {
   "cell_type": "markdown",
   "metadata": {},
   "source": [
    "# SemEval 2019 Task 4 - Generate Training Data Samples\n",
    "\n",
    "Jonathan Miller and Negar Adyaniyazdi, VCU, CMSC516, Fall 2018"
   ]
  },
  {
   "cell_type": "code",
   "execution_count": 1,
   "metadata": {},
   "outputs": [],
   "source": [
    "import pandas as pd\n",
    "import numpy as np\n",
    "\n",
    "import sys\n",
    "sys.path.append('../src')\n",
    "\n",
    "%load_ext autoreload\n",
    "%autoreload 1\n",
    "\n",
    "import preprocess\n",
    "%aimport preprocess"
   ]
  },
  {
   "cell_type": "markdown",
   "metadata": {},
   "source": [
    "Load data"
   ]
  },
  {
   "cell_type": "code",
   "execution_count": 2,
   "metadata": {},
   "outputs": [],
   "source": [
    "DATA_PATH = '../data/'\n",
    "DATA_INTERIM_PATH = DATA_PATH + 'interim/'\n",
    "\n",
    "train = pd.read_csv(DATA_INTERIM_PATH + 'train.csv', dtype={'id' : str})\n",
    "val = pd.read_csv(DATA_INTERIM_PATH + 'val.csv', dtype={'id' : str})"
   ]
  },
  {
   "cell_type": "markdown",
   "metadata": {},
   "source": [
    "Examine 'bias' distribution of original data"
   ]
  },
  {
   "cell_type": "code",
   "execution_count": 3,
   "metadata": {},
   "outputs": [
    {
     "data": {
      "text/plain": [
       "least           0.277220\n",
       "left            0.250000\n",
       "right           0.250000\n",
       "left-center     0.141244\n",
       "right-center    0.081536\n",
       "Name: bias, dtype: float64"
      ]
     },
     "execution_count": 3,
     "metadata": {},
     "output_type": "execute_result"
    }
   ],
   "source": [
    "train['bias'].value_counts(normalize=True)"
   ]
  },
  {
   "cell_type": "code",
   "execution_count": 4,
   "metadata": {},
   "outputs": [
    {
     "data": {
      "text/plain": [
       "right           0.250000\n",
       "left            0.250000\n",
       "least           0.200820\n",
       "left-center     0.182045\n",
       "right-center    0.117135\n",
       "Name: bias, dtype: float64"
      ]
     },
     "execution_count": 4,
     "metadata": {},
     "output_type": "execute_result"
    }
   ],
   "source": [
    "val['bias'].value_counts(normalize=True)"
   ]
  },
  {
   "cell_type": "markdown",
   "metadata": {},
   "source": [
    "Generate and preprocess some samples of data"
   ]
  },
  {
   "cell_type": "code",
   "execution_count": 6,
   "metadata": {},
   "outputs": [
    {
     "data": {
      "text/html": [
       "<div>\n",
       "<style scoped>\n",
       "    .dataframe tbody tr th:only-of-type {\n",
       "        vertical-align: middle;\n",
       "    }\n",
       "\n",
       "    .dataframe tbody tr th {\n",
       "        vertical-align: top;\n",
       "    }\n",
       "\n",
       "    .dataframe thead th {\n",
       "        text-align: right;\n",
       "    }\n",
       "</style>\n",
       "<table border=\"1\" class=\"dataframe\">\n",
       "  <thead>\n",
       "    <tr style=\"text-align: right;\">\n",
       "      <th></th>\n",
       "      <th>id</th>\n",
       "      <th>published-at</th>\n",
       "      <th>title</th>\n",
       "      <th>hyperpartisan</th>\n",
       "      <th>bias</th>\n",
       "      <th>url</th>\n",
       "      <th>labeled-by</th>\n",
       "      <th>article_text</th>\n",
       "      <th>preprocessed_text</th>\n",
       "    </tr>\n",
       "  </thead>\n",
       "  <tbody>\n",
       "    <tr>\n",
       "      <th>54458</th>\n",
       "      <td>0425037</td>\n",
       "      <td>2015-02-13</td>\n",
       "      <td>Texas Supreme Court Rejects BP's $750 Million ...</td>\n",
       "      <td>False</td>\n",
       "      <td>least</td>\n",
       "      <td>http://texastribune.org/2015/02/13/supreme-cou...</td>\n",
       "      <td>publisher</td>\n",
       "      <td>Texas Supreme Court Rejects BP's $750 Million ...</td>\n",
       "      <td>texas supreme court reject bps million insuran...</td>\n",
       "    </tr>\n",
       "    <tr>\n",
       "      <th>118646</th>\n",
       "      <td>0944397</td>\n",
       "      <td>2017-09-02</td>\n",
       "      <td>Donald Trump To Military Members Helping With ...</td>\n",
       "      <td>True</td>\n",
       "      <td>left</td>\n",
       "      <td>https://truthexam.com/2017/09/donald-trump-mil...</td>\n",
       "      <td>publisher</td>\n",
       "      <td>Donald Trump To Military Members Helping With ...</td>\n",
       "      <td>donald trump military member help houston floo...</td>\n",
       "    </tr>\n",
       "    <tr>\n",
       "      <th>57401</th>\n",
       "      <td>0451321</td>\n",
       "      <td>NaN</td>\n",
       "      <td>Andrew Klavan: Why I Voted For Trump Even Thou...</td>\n",
       "      <td>True</td>\n",
       "      <td>right</td>\n",
       "      <td>https://thenewscommenter.com/news/andrew-klava...</td>\n",
       "      <td>publisher</td>\n",
       "      <td>Andrew Klavan: Why I Voted For Trump Even Thou...</td>\n",
       "      <td>andrew klavan vote trump even though see chanc...</td>\n",
       "    </tr>\n",
       "    <tr>\n",
       "      <th>115324</th>\n",
       "      <td>0924194</td>\n",
       "      <td>NaN</td>\n",
       "      <td>NaN</td>\n",
       "      <td>True</td>\n",
       "      <td>left</td>\n",
       "      <td>https://politicususa.com/2012/03/16/tax-exempt...</td>\n",
       "      <td>publisher</td>\n",
       "      <td>\\nI noticed a recent Tea Party dust-up with ...</td>\n",
       "      <td>notice recent tea party dust irs c tax exempt ...</td>\n",
       "    </tr>\n",
       "    <tr>\n",
       "      <th>71684</th>\n",
       "      <td>0582677</td>\n",
       "      <td>2015-07-17</td>\n",
       "      <td>Clinton reaching out to military veterans</td>\n",
       "      <td>True</td>\n",
       "      <td>right</td>\n",
       "      <td>https://veteransnewsnow.com/2015/07/17/clinton...</td>\n",
       "      <td>publisher</td>\n",
       "      <td>Clinton reaching out to military veterans Clin...</td>\n",
       "      <td>clinton reach military veteran clinton visit v...</td>\n",
       "    </tr>\n",
       "  </tbody>\n",
       "</table>\n",
       "</div>"
      ],
      "text/plain": [
       "             id published-at  \\\n",
       "54458   0425037   2015-02-13   \n",
       "118646  0944397   2017-09-02   \n",
       "57401   0451321          NaN   \n",
       "115324  0924194          NaN   \n",
       "71684   0582677   2015-07-17   \n",
       "\n",
       "                                                    title  hyperpartisan  \\\n",
       "54458   Texas Supreme Court Rejects BP's $750 Million ...          False   \n",
       "118646  Donald Trump To Military Members Helping With ...           True   \n",
       "57401   Andrew Klavan: Why I Voted For Trump Even Thou...           True   \n",
       "115324                                                NaN           True   \n",
       "71684           Clinton reaching out to military veterans           True   \n",
       "\n",
       "         bias                                                url labeled-by  \\\n",
       "54458   least  http://texastribune.org/2015/02/13/supreme-cou...  publisher   \n",
       "118646   left  https://truthexam.com/2017/09/donald-trump-mil...  publisher   \n",
       "57401   right  https://thenewscommenter.com/news/andrew-klava...  publisher   \n",
       "115324   left  https://politicususa.com/2012/03/16/tax-exempt...  publisher   \n",
       "71684   right  https://veteransnewsnow.com/2015/07/17/clinton...  publisher   \n",
       "\n",
       "                                             article_text  \\\n",
       "54458   Texas Supreme Court Rejects BP's $750 Million ...   \n",
       "118646  Donald Trump To Military Members Helping With ...   \n",
       "57401   Andrew Klavan: Why I Voted For Trump Even Thou...   \n",
       "115324    \\nI noticed a recent Tea Party dust-up with ...   \n",
       "71684   Clinton reaching out to military veterans Clin...   \n",
       "\n",
       "                                        preprocessed_text  \n",
       "54458   texas supreme court reject bps million insuran...  \n",
       "118646  donald trump military member help houston floo...  \n",
       "57401   andrew klavan vote trump even though see chanc...  \n",
       "115324  notice recent tea party dust irs c tax exempt ...  \n",
       "71684   clinton reach military veteran clinton visit v...  "
      ]
     },
     "execution_count": 6,
     "metadata": {},
     "output_type": "execute_result"
    }
   ],
   "source": [
    "N_SAMPLES_TRAIN = 2\n",
    "SAMPLE_SIZE = 100\n",
    "TRAIN_OR_VAL = 'val'\n",
    "df_samples = []\n",
    "\n",
    "for i in range(N_SAMPLES_TRAIN):\n",
    "    if TRAIN_OR_VAL == 'train':\n",
    "        df = train\n",
    "    elif TRAIN_OR_VAL == 'val':\n",
    "        df = val\n",
    "    df_sample = df.sample(n=SAMPLE_SIZE, random_state=i)\n",
    "    df_sample['preprocessed_text'] = preprocess.normalize_corpus(df_sample['article_text'])\n",
    "    df_samples.append(df_sample)\n",
    "    \n",
    "df_samples[0].head()"
   ]
  },
  {
   "cell_type": "code",
   "execution_count": 8,
   "metadata": {},
   "outputs": [],
   "source": [
    "DATA_PROCESSED_PATH = DATA_PATH + 'processed/'\n",
    "\n",
    "for i in range(len(df_samples)):\n",
    "    df_samples[i].to_csv(DATA_PROCESSED_PATH + TRAIN_OR_VAL + str(SAMPLE_SIZE) + '_' + str(i) + '.csv', index=False)"
   ]
  },
  {
   "cell_type": "code",
   "execution_count": 34,
   "metadata": {},
   "outputs": [],
   "source": [
    "train100_0 = pd.read_csv(DATA_PROCESSED_PATH + 'train100_0.csv', dtype={'id' : str})"
   ]
  },
  {
   "cell_type": "code",
   "execution_count": 35,
   "metadata": {},
   "outputs": [
    {
     "data": {
      "text/html": [
       "<div>\n",
       "<style scoped>\n",
       "    .dataframe tbody tr th:only-of-type {\n",
       "        vertical-align: middle;\n",
       "    }\n",
       "\n",
       "    .dataframe tbody tr th {\n",
       "        vertical-align: top;\n",
       "    }\n",
       "\n",
       "    .dataframe thead th {\n",
       "        text-align: right;\n",
       "    }\n",
       "</style>\n",
       "<table border=\"1\" class=\"dataframe\">\n",
       "  <thead>\n",
       "    <tr style=\"text-align: right;\">\n",
       "      <th></th>\n",
       "      <th>id</th>\n",
       "      <th>published-at</th>\n",
       "      <th>title</th>\n",
       "      <th>hyperpartisan</th>\n",
       "      <th>bias</th>\n",
       "      <th>url</th>\n",
       "      <th>labeled-by</th>\n",
       "      <th>article_text</th>\n",
       "      <th>preprocessed_text</th>\n",
       "    </tr>\n",
       "  </thead>\n",
       "  <tbody>\n",
       "    <tr>\n",
       "      <th>0</th>\n",
       "      <td>310969</td>\n",
       "      <td>2008-12-10</td>\n",
       "      <td>Sweden's ailing auto industry</td>\n",
       "      <td>False</td>\n",
       "      <td>left-center</td>\n",
       "      <td>https://pri.org/stories/2008-12-10/swedens-ail...</td>\n",
       "      <td>publisher</td>\n",
       "      <td>Sweden's ailing auto industry SL says a bailou...</td>\n",
       "      <td>sweden ail auto industry sl say bailout swedis...</td>\n",
       "    </tr>\n",
       "    <tr>\n",
       "      <th>1</th>\n",
       "      <td>945112</td>\n",
       "      <td>NaN</td>\n",
       "      <td>Kidnapped Canadian Mining Executive is Now a P...</td>\n",
       "      <td>True</td>\n",
       "      <td>left</td>\n",
       "      <td>http://occupy.com/article/kidnapped-canadian-m...</td>\n",
       "      <td>publisher</td>\n",
       "      <td>Kidnapped Canadian Mining Executive is Now a P...</td>\n",
       "      <td>kidnap canadian mining executive pawn colombia...</td>\n",
       "    </tr>\n",
       "    <tr>\n",
       "      <th>2</th>\n",
       "      <td>519393</td>\n",
       "      <td>2017-12-31</td>\n",
       "      <td>Separate car wrecks claim father and son withi...</td>\n",
       "      <td>False</td>\n",
       "      <td>least</td>\n",
       "      <td>https://apnews.com/64fbe3af704a402aa1f1ceb071a...</td>\n",
       "      <td>publisher</td>\n",
       "      <td>Separate car wrecks claim father and son withi...</td>\n",
       "      <td>separate car wreck claim father son within wee...</td>\n",
       "    </tr>\n",
       "    <tr>\n",
       "      <th>3</th>\n",
       "      <td>42462</td>\n",
       "      <td>2017-03-09</td>\n",
       "      <td>A GOP Congressman Just Spent 6 Minutes Defendi...</td>\n",
       "      <td>True</td>\n",
       "      <td>left</td>\n",
       "      <td>https://motherjones.com/politics/2017/03/dana-...</td>\n",
       "      <td>publisher</td>\n",
       "      <td>A GOP Congressman Just Spent 6 Minutes Defendi...</td>\n",
       "      <td>gop congressman spend minute defend vladimir p...</td>\n",
       "    </tr>\n",
       "    <tr>\n",
       "      <th>4</th>\n",
       "      <td>736303</td>\n",
       "      <td>2017-11-23</td>\n",
       "      <td>No more ?fighting ISIS?? US to stay in Syria t...</td>\n",
       "      <td>False</td>\n",
       "      <td>right-center</td>\n",
       "      <td>https://newsline.com/no-more-fighting-isis-us-...</td>\n",
       "      <td>publisher</td>\n",
       "      <td>No more ?fighting ISIS?? US to stay in Syria t...</td>\n",
       "      <td>no fight isis us stay syria prevent win assad ...</td>\n",
       "    </tr>\n",
       "  </tbody>\n",
       "</table>\n",
       "</div>"
      ],
      "text/plain": [
       "       id published-at                                              title  \\\n",
       "0  310969   2008-12-10                      Sweden's ailing auto industry   \n",
       "1  945112          NaN  Kidnapped Canadian Mining Executive is Now a P...   \n",
       "2  519393   2017-12-31  Separate car wrecks claim father and son withi...   \n",
       "3   42462   2017-03-09  A GOP Congressman Just Spent 6 Minutes Defendi...   \n",
       "4  736303   2017-11-23  No more ?fighting ISIS?? US to stay in Syria t...   \n",
       "\n",
       "   hyperpartisan          bias  \\\n",
       "0          False   left-center   \n",
       "1           True          left   \n",
       "2          False         least   \n",
       "3           True          left   \n",
       "4          False  right-center   \n",
       "\n",
       "                                                 url labeled-by  \\\n",
       "0  https://pri.org/stories/2008-12-10/swedens-ail...  publisher   \n",
       "1  http://occupy.com/article/kidnapped-canadian-m...  publisher   \n",
       "2  https://apnews.com/64fbe3af704a402aa1f1ceb071a...  publisher   \n",
       "3  https://motherjones.com/politics/2017/03/dana-...  publisher   \n",
       "4  https://newsline.com/no-more-fighting-isis-us-...  publisher   \n",
       "\n",
       "                                        article_text  \\\n",
       "0  Sweden's ailing auto industry SL says a bailou...   \n",
       "1  Kidnapped Canadian Mining Executive is Now a P...   \n",
       "2  Separate car wrecks claim father and son withi...   \n",
       "3  A GOP Congressman Just Spent 6 Minutes Defendi...   \n",
       "4  No more ?fighting ISIS?? US to stay in Syria t...   \n",
       "\n",
       "                                   preprocessed_text  \n",
       "0  sweden ail auto industry sl say bailout swedis...  \n",
       "1  kidnap canadian mining executive pawn colombia...  \n",
       "2  separate car wreck claim father son within wee...  \n",
       "3  gop congressman spend minute defend vladimir p...  \n",
       "4  no fight isis us stay syria prevent win assad ...  "
      ]
     },
     "execution_count": 35,
     "metadata": {},
     "output_type": "execute_result"
    }
   ],
   "source": [
    "train100_0.head()"
   ]
  },
  {
   "cell_type": "code",
   "execution_count": 36,
   "metadata": {},
   "outputs": [
    {
     "data": {
      "text/plain": [
       "\"Sweden's ailing auto industry SL says a bailout for the Swedish auto industry is inevitable: we have the same situation as in the U.S. Volvo is in a slightly better situation, just like Ford. (these bailouts have been called nationalization, so were these companies ever been nationalized?) No they haven't and they will be viewed as nationalizing, which gets mixed opinions. (If the American companies pull out it could be disastrous for the towns in Sweden where these companies are.) Yes, we're talking about something like 140,000 jobs directly involved with the auto business. That's why everybody is concerned. The uncertainty is the worst, we don't know what happens if General Motors goes bankrupt. (The Swedish Prime Minister has been critical towards the auto industry.) Yes, and this is simply not true, Volvo has been run well. They are making greener cars now as well. (I'd be interested to know the public's attitudes towards these companies and their leaders?) We don't know about the CEOs of these companies but it's never been an issue.\""
      ]
     },
     "execution_count": 36,
     "metadata": {},
     "output_type": "execute_result"
    }
   ],
   "source": [
    "train100_0.loc[0,'article_text']"
   ]
  },
  {
   "cell_type": "code",
   "execution_count": 37,
   "metadata": {},
   "outputs": [
    {
     "data": {
      "text/plain": [
       "'sweden ail auto industry sl say bailout swedish auto industry inevitable situation u volvo slightly good situation like ford bailout call nationalization company ever nationalize no not view nationalizing get mixed opinion american company pull could disastrous town sweden company yes talk something like job directly involve auto business everybody concern uncertainty bad not know happen general motor go bankrupt swedish prime minister critical towards auto industry yes simply not true volvo run well make green car well would interested know public attitud towards company leader not know ceo company never issue'"
      ]
     },
     "execution_count": 37,
     "metadata": {},
     "output_type": "execute_result"
    }
   ],
   "source": [
    "train100_0.loc[0,'preprocessed_text']"
   ]
  },
  {
   "cell_type": "code",
   "execution_count": null,
   "metadata": {},
   "outputs": [],
   "source": []
  }
 ],
 "metadata": {
  "kernelspec": {
   "display_name": "Python 3",
   "language": "python",
   "name": "python3"
  },
  "language_info": {
   "codemirror_mode": {
    "name": "ipython",
    "version": 3
   },
   "file_extension": ".py",
   "mimetype": "text/x-python",
   "name": "python",
   "nbconvert_exporter": "python",
   "pygments_lexer": "ipython3",
   "version": "3.6.6"
  }
 },
 "nbformat": 4,
 "nbformat_minor": 2
}
