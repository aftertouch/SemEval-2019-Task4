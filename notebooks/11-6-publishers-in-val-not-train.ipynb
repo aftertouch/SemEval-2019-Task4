{
 "cells": [
  {
   "cell_type": "markdown",
   "metadata": {},
   "source": [
    "# Investigating publisher breakdown in train/val"
   ]
  },
  {
   "cell_type": "markdown",
   "metadata": {},
   "source": [
    "Look specifically for publishers in val but not in train and add to evaluate model function to show how model performs on unseen publishers"
   ]
  },
  {
   "cell_type": "code",
   "execution_count": 1,
   "metadata": {},
   "outputs": [],
   "source": [
    "import pandas as pd"
   ]
  },
  {
   "cell_type": "code",
   "execution_count": 2,
   "metadata": {},
   "outputs": [],
   "source": [
    "DATA_INTERIM_PATH = '../data/interim/'\n",
    "\n",
    "train = pd.read_csv(DATA_INTERIM_PATH + 'train_p.csv')\n",
    "val = pd.read_csv(DATA_INTERIM_PATH + 'val_p.csv')"
   ]
  },
  {
   "cell_type": "code",
   "execution_count": 3,
   "metadata": {},
   "outputs": [],
   "source": [
    "train_pubs = set(list(train['domain']))\n",
    "val_pubs = set(list(val['domain']))"
   ]
  },
  {
   "cell_type": "code",
   "execution_count": 4,
   "metadata": {},
   "outputs": [],
   "source": [
    "val_diff = val_pubs - train_pubs"
   ]
  },
  {
   "cell_type": "code",
   "execution_count": 5,
   "metadata": {},
   "outputs": [
    {
     "data": {
      "text/plain": [
       "{'100percentfedup',\n",
       " 'ahtribune',\n",
       " 'americablog',\n",
       " 'americannews',\n",
       " 'americannewsx',\n",
       " 'americanpatriotdaily',\n",
       " 'americanthinker',\n",
       " 'americantruepatriots',\n",
       " 'americasfreedomfighters',\n",
       " 'angelagrahamwest',\n",
       " 'barbwire',\n",
       " 'biggovernment',\n",
       " 'bigleaguepolitics',\n",
       " 'blacklistednews',\n",
       " 'blogspot',\n",
       " 'breitbart',\n",
       " 'bullshido',\n",
       " 'businessinsider',\n",
       " 'c4ss',\n",
       " 'cfr',\n",
       " 'chicagotribune',\n",
       " 'cjr',\n",
       " 'constitution',\n",
       " 'countercurrents',\n",
       " 'cscmediagroupus',\n",
       " 'dailykos',\n",
       " 'federalistpress',\n",
       " 'frontpagemag',\n",
       " 'gatestoneinstitute',\n",
       " 'gotnews',\n",
       " 'grist',\n",
       " 'hillary4prisoner',\n",
       " 'ifyouonlynews',\n",
       " 'informationclearinghouse',\n",
       " 'ipatriot',\n",
       " 'lawandcrime',\n",
       " 'leftscoop',\n",
       " 'libertyblitzkrieg',\n",
       " 'libertyjuice',\n",
       " 'lifezette',\n",
       " 'limacharlienews',\n",
       " 'lynx',\n",
       " 'madworldnews',\n",
       " 'michellemalkin',\n",
       " 'nationalinsiderpolitics',\n",
       " 'newsbusters',\n",
       " 'newshounds',\n",
       " 'newsmax',\n",
       " 'nytimes',\n",
       " 'patriotoutdoornews',\n",
       " 'pjmedia',\n",
       " 'politicususa',\n",
       " 'prospect',\n",
       " 'rawstory',\n",
       " 'realclearpolitics',\n",
       " 'redalertpolitics',\n",
       " 'restoreamericanglory',\n",
       " 'sfgate',\n",
       " 'snopes',\n",
       " 'spectator',\n",
       " 'suntimes',\n",
       " 'texastribune',\n",
       " 'the-american-interest',\n",
       " 'theamericanconservative',\n",
       " 'thecollegefix',\n",
       " 'theconservativerepublic',\n",
       " 'thegatewaypundit',\n",
       " 'theknifemedia',\n",
       " 'themoderatevoice',\n",
       " 'thenewscommenter',\n",
       " 'therightscoop',\n",
       " 'tmn',\n",
       " 'trumptrainnews',\n",
       " 'truthexam',\n",
       " 'twitchy',\n",
       " 'tytnetwork',\n",
       " 'usasupreme',\n",
       " 'vdare',\n",
       " 'veteransnewsnow',\n",
       " 'vox',\n",
       " 'westernjournalism',\n",
       " 'wonkette'}"
      ]
     },
     "execution_count": 5,
     "metadata": {},
     "output_type": "execute_result"
    }
   ],
   "source": [
    "val_diff"
   ]
  },
  {
   "cell_type": "code",
   "execution_count": 8,
   "metadata": {},
   "outputs": [
    {
     "data": {
      "text/plain": [
       "(200000, 15)"
      ]
     },
     "execution_count": 8,
     "metadata": {},
     "output_type": "execute_result"
    }
   ],
   "source": [
    "val[val['domain'].isin(val_diff)].shape"
   ]
  },
  {
   "cell_type": "code",
   "execution_count": 9,
   "metadata": {},
   "outputs": [
    {
     "data": {
      "text/plain": [
       "vox                         22059\n",
       "cfr                         16736\n",
       "themoderatevoice            16736\n",
       "grist                       16735\n",
       "texastribune                15417\n",
       "sfgate                      14319\n",
       "politicususa                 8106\n",
       "snopes                       7232\n",
       "theamericanconservative      4978\n",
       "veteransnewsnow              4977\n",
       "the-american-interest        4128\n",
       "constitution                 3979\n",
       "americannewsx                3613\n",
       "wonkette                     3496\n",
       "thecollegefix                3193\n",
       "thegatewaypundit             2895\n",
       "newsmax                      2890\n",
       "newshounds                   2859\n",
       "pjmedia                      2712\n",
       "vdare                        2667\n",
       "therightscoop                2663\n",
       "lynx                         2563\n",
       "cjr                          2334\n",
       "gotnews                      2332\n",
       "americablog                  2327\n",
       "truthexam                    1904\n",
       "realclearpolitics            1762\n",
       "twitchy                      1626\n",
       "c4ss                         1582\n",
       "nytimes                      1492\n",
       "                            ...  \n",
       "tmn                           273\n",
       "bigleaguepolitics             264\n",
       "theconservativerepublic       247\n",
       "blacklistednews               148\n",
       "michellemalkin                141\n",
       "lifezette                     137\n",
       "hillary4prisoner              110\n",
       "leftscoop                     108\n",
       "businessinsider               107\n",
       "bullshido                      99\n",
       "redalertpolitics               97\n",
       "gatestoneinstitute             97\n",
       "restoreamericanglory           97\n",
       "cscmediagroupus                90\n",
       "patriotoutdoornews             87\n",
       "ifyouonlynews                  87\n",
       "theknifemedia                  84\n",
       "prospect                       84\n",
       "dailykos                       77\n",
       "100percentfedup                68\n",
       "westernjournalism              64\n",
       "biggovernment                  57\n",
       "breitbart                      56\n",
       "tytnetwork                     54\n",
       "lawandcrime                    40\n",
       "trumptrainnews                 32\n",
       "angelagrahamwest               24\n",
       "informationclearinghouse       24\n",
       "americanthinker                15\n",
       "americasfreedomfighters        14\n",
       "Name: domain, Length: 82, dtype: int64"
      ]
     },
     "execution_count": 9,
     "metadata": {},
     "output_type": "execute_result"
    }
   ],
   "source": [
    "val['domain'].value_counts()"
   ]
  },
  {
   "cell_type": "markdown",
   "metadata": {},
   "source": [
    "#### Looks like val is all new publishers...oops"
   ]
  },
  {
   "cell_type": "code",
   "execution_count": null,
   "metadata": {},
   "outputs": [],
   "source": []
  }
 ],
 "metadata": {
  "kernelspec": {
   "display_name": "Python 3",
   "language": "python",
   "name": "python3"
  },
  "language_info": {
   "codemirror_mode": {
    "name": "ipython",
    "version": 3
   },
   "file_extension": ".py",
   "mimetype": "text/x-python",
   "name": "python",
   "nbconvert_exporter": "python",
   "pygments_lexer": "ipython3",
   "version": "3.6.6"
  }
 },
 "nbformat": 4,
 "nbformat_minor": 2
}
