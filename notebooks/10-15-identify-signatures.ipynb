{
 "cells": [
  {
   "cell_type": "code",
   "execution_count": 1,
   "metadata": {},
   "outputs": [],
   "source": [
    "import sys\n",
    "sys.path.append('../src')\n",
    "\n",
    "%load_ext autoreload\n",
    "%autoreload 1\n",
    "\n",
    "from models.EDA import find_domain_signatures\n",
    "%aimport models.EDA"
   ]
  },
  {
   "cell_type": "code",
   "execution_count": 2,
   "metadata": {},
   "outputs": [],
   "source": [
    "import pandas as pd"
   ]
  },
  {
   "cell_type": "code",
   "execution_count": 3,
   "metadata": {},
   "outputs": [],
   "source": [
    "DATA_PATH = '../data/'\n",
    "DATA_INTERIM_PATH = DATA_PATH + 'interim/'\n",
    "train = pd.read_csv(DATA_INTERIM_PATH + 'train_c.csv')"
   ]
  },
  {
   "cell_type": "code",
   "execution_count": 4,
   "metadata": {},
   "outputs": [
    {
     "data": {
      "text/plain": [
       "Index(['foxbusiness', 'abqjournal', 'apnews', 'pri', 'newsline',\n",
       "       'counterpunch', 'motherjones', 'truthdig', 'dailywire', 'thedailybeast',\n",
       "       ...\n",
       "       'abc11', 'newsfrompolitics', 'conservativedeplorable', 'freedomfirst',\n",
       "       'theamericancause', 'latimes', 'washingtonmonthly', 'occupydemocrats',\n",
       "       'revealingpolitics', 'anncoulter'],\n",
       "      dtype='object', length=169)"
      ]
     },
     "execution_count": 4,
     "metadata": {},
     "output_type": "execute_result"
    }
   ],
   "source": [
    "domains = train['domain'].value_counts().keys()\n",
    "domains"
   ]
  },
  {
   "cell_type": "markdown",
   "metadata": {},
   "source": [
    "Initialize empty domain keywords list and iterate"
   ]
  },
  {
   "cell_type": "code",
   "execution_count": 8,
   "metadata": {},
   "outputs": [],
   "source": [
    "signatures = {}\n",
    "for domain in domains:\n",
    "    sig = find_domain_signatures(train, domain, should_print=False)\n",
    "    signatures[domain] = sig"
   ]
  },
  {
   "cell_type": "code",
   "execution_count": 9,
   "metadata": {},
   "outputs": [
    {
     "data": {
      "text/plain": [
       "{'according': 0.45,\n",
       " 'american': 0.411,\n",
       " 'com': 0.431,\n",
       " 'courtesy': 0.497,\n",
       " 'going': 0.411,\n",
       " 'government': 0.439,\n",
       " 'just': 0.613,\n",
       " 'know': 0.428,\n",
       " 'like': 0.537,\n",
       " 'new': 0.474,\n",
       " 'people': 0.668,\n",
       " 'said': 0.608,\n",
       " 'state': 0.456,\n",
       " 'time': 0.547,\n",
       " 'world': 0.405,\n",
       " 'year': 0.416,\n",
       " 'years': 0.404}"
      ]
     },
     "execution_count": 9,
     "metadata": {},
     "output_type": "execute_result"
    }
   ],
   "source": [
    "signatures['dcclothesline']"
   ]
  },
  {
   "cell_type": "code",
   "execution_count": 10,
   "metadata": {},
   "outputs": [],
   "source": [
    "from sklearn.feature_extraction.text import CountVectorizer\n",
    "\n",
    "vectorizer = CountVectorizer(stop_words='english',binary=True)\n",
    "X = vectorizer.fit_transform(train['article_text'])"
   ]
  },
  {
   "cell_type": "code",
   "execution_count": 11,
   "metadata": {},
   "outputs": [
    {
     "data": {
      "text/plain": [
       "74267"
      ]
     },
     "execution_count": 11,
     "metadata": {},
     "output_type": "execute_result"
    }
   ],
   "source": [
    "features = vectorizer.get_feature_names()\n",
    "features.index('according')"
   ]
  },
  {
   "cell_type": "code",
   "execution_count": 12,
   "metadata": {},
   "outputs": [
    {
     "data": {
      "text/plain": [
       "0.58358875"
      ]
     },
     "execution_count": 12,
     "metadata": {},
     "output_type": "execute_result"
    }
   ],
   "source": [
    "X[:,701867].sum()/train.shape[0]"
   ]
  },
  {
   "cell_type": "code",
   "execution_count": 13,
   "metadata": {},
   "outputs": [],
   "source": [
    "domain = 'truthdig'\n",
    "features = vectorizer.get_feature_names()\n",
    "diffs = {}\n",
    "for key in signatures[domain].keys():\n",
    "    index = features.index(key)\n",
    "    percent = X[:,index].sum()/train.shape[0]\n",
    "    diff = round(float(signatures[domain][key]) - percent, 3)\n",
    "    diffs[key] = diff"
   ]
  },
  {
   "cell_type": "code",
   "execution_count": 23,
   "metadata": {},
   "outputs": [],
   "source": [
    "from models.EDA import filter_common_signatures\n",
    "%aimport models.EDA"
   ]
  },
  {
   "cell_type": "code",
   "execution_count": 142,
   "metadata": {},
   "outputs": [],
   "source": [
    "diffs = filter_common_signatures(signatures, vectorizer, X)"
   ]
  },
  {
   "cell_type": "code",
   "execution_count": 143,
   "metadata": {},
   "outputs": [
    {
     "name": "stdout",
     "output_type": "stream",
     "text": [
      "foxbusiness {'advertisement': 0.577, 'continue': 0.749, 'reading': 0.822}\n",
      "abqjournal {'advertisement': 0.755}\n",
      "apnews {'ap': 0.814}\n",
      "pri {}\n",
      "newsline {}\n",
      "counterpunch {}\n",
      "motherjones {}\n",
      "truthdig {}\n",
      "dailywire {}\n",
      "thedailybeast {'beast': 0.605, 'daily': 0.555, 'finish': 0.519, 'smart': 0.521, 'speedy': 0.527, 'stories': 0.502, 'summary': 0.521}\n",
      "poynter {}\n",
      "baptistnews {'baptist': 0.696, 'church': 0.699}\n",
      "nbcnews {}\n",
      "reuters {'10': 0.51, '2016': 0.614, '2017': 0.702, '2018': 0.921, 'according': 0.544, 'added': 0.513, 'additional': 0.787, 'april': 0.602, 'based': 0.521, 'biggest': 0.524, 'billion': 0.553, 'chief': 0.61, 'china': 0.547, 'comment': 0.563, 'companies': 0.527, 'company': 0.639, 'coverage': 0.677, 'david': 0.529, 'did': 0.508, 'donald': 0.684, 'editing': 0.964, 'expected': 0.556, 'february': 0.548, 'file': 0.802, 'friday': 0.523, 'global': 0.545, 'government': 0.575, 'group': 0.555, 'images': 0.686, 'including': 0.612, 'international': 0.502, 'jan': 0.658, 'january': 0.538, 'london': 0.518, 'march': 0.742, 'million': 0.548, 'month': 0.601, 'news': 0.504, 'officials': 0.509, 'percent': 0.608, 'photo': 0.788, 'president': 0.615, 'principles': 0.968, 'related': 0.647, 'reporting': 0.926, 'reuters': 0.946, 'seen': 0.668, 'senior': 0.501, 'slideshow': 0.709, 'source': 0.533, 'sponsored': 0.592, 'standards': 0.955, 'statement': 0.638, 'states': 0.665, 'thomson': 0.982, 'told': 0.682, 'trade': 0.561, 'trump': 0.693, 'trust': 0.95, 'united': 0.706, 'washington': 0.588, 'week': 0.637, 'world': 0.538, 'writing': 0.585, 'year': 0.505, 'york': 0.58}\n",
      "consortiumnews {'war': 0.569}\n",
      "washingtonblade {'gay': 0.501, 'lgbt': 0.532, 'photo': 0.6}\n",
      "calwatchdog {'california': 0.781, 'state': 0.512}\n",
      "thegoldwater {'source': 0.631}\n",
      "natmonitor {}\n",
      "dissentmagazine {}\n",
      "politicalillusionsexposed {'original': 0.893}\n",
      "chicagoreporter {'chicago': 0.808, 'education': 0.532, 'school': 0.66, 'schools': 0.645, 'students': 0.537, 'teachers': 0.512}\n",
      "ivn {}\n",
      "eppc {'center': 0.614, 'ethics': 0.712, 'fellow': 0.651, 'policy': 0.583, 'public': 0.549}\n",
      "mintpressnews {}\n",
      "factcheck {}\n",
      "billmoyers {}\n",
      "circa {}\n",
      "govtslaves {'email': 0.617}\n",
      "dcclothesline {}\n"
     ]
    }
   ],
   "source": [
    "for key in list(diffs.keys())[0:30]:\n",
    "    \n",
    "    print(key, diffs[key])"
   ]
  },
  {
   "cell_type": "code",
   "execution_count": 144,
   "metadata": {},
   "outputs": [
    {
     "name": "stderr",
     "output_type": "stream",
     "text": [
      "/Users/jmill/anaconda3/envs/SemEval2019-4/lib/python3.6/site-packages/ipykernel_launcher.py:4: SettingWithCopyWarning: \n",
      "A value is trying to be set on a copy of a slice from a DataFrame.\n",
      "Try using .loc[row_indexer,col_indexer] = value instead\n",
      "\n",
      "See the caveats in the documentation: http://pandas.pydata.org/pandas-docs/stable/indexing.html#indexing-view-versus-copy\n",
      "  after removing the cwd from sys.path.\n"
     ]
    }
   ],
   "source": [
    "domain = 'foxbusiness'\n",
    "df = train[train['domain']==domain]\n",
    "df.reset_index(inplace=True)\n",
    "df['article_text'] = df['article_text'].str.lower()"
   ]
  },
  {
   "cell_type": "code",
   "execution_count": 147,
   "metadata": {},
   "outputs": [
    {
     "data": {
      "text/plain": [
       "(43600,)"
      ]
     },
     "execution_count": 147,
     "metadata": {},
     "output_type": "execute_result"
    }
   ],
   "source": [
    "word = 'opens a new window'\n",
    "df[(df['article_text'].str.contains(word))].reset_index()['article_text'].replace(word, word.upper()).shape"
   ]
  },
  {
   "cell_type": "code",
   "execution_count": 148,
   "metadata": {},
   "outputs": [
    {
     "data": {
      "text/plain": [
       "(116106, 14)"
      ]
     },
     "execution_count": 148,
     "metadata": {},
     "output_type": "execute_result"
    }
   ],
   "source": [
    "df.shape"
   ]
  },
  {
   "cell_type": "code",
   "execution_count": 155,
   "metadata": {},
   "outputs": [],
   "source": [
    "sample = df.sample(n=1000)\n",
    "vectorizer = CountVectorizer(stop_words='english',binary=True,ngram_range=(2,2))\n",
    "X = vectorizer.fit_transform(sample['article_text'])"
   ]
  },
  {
   "cell_type": "code",
   "execution_count": 192,
   "metadata": {},
   "outputs": [],
   "source": [
    "sums = X.sum(axis=0)"
   ]
  },
  {
   "cell_type": "code",
   "execution_count": null,
   "metadata": {},
   "outputs": [],
   "source": [
    "feature_names = vectorizer.get_feature_names()"
   ]
  },
  {
   "cell_type": "code",
   "execution_count": 198,
   "metadata": {},
   "outputs": [],
   "source": [
    "import numpy as np\n",
    "\n",
    "thresh = 0.15\n",
    "max_indices = np.argwhere(sums >= thresh*df.shape[0])"
   ]
  },
  {
   "cell_type": "code",
   "execution_count": 211,
   "metadata": {},
   "outputs": [
    {
     "name": "stdout",
     "output_type": "stream",
     "text": [
      "click opens\n",
      "0.167\n",
      "continue reading\n",
      "1.0\n",
      "disclosure policy\n",
      "0.264\n",
      "dow jones\n",
      "0.173\n",
      "fool disclosure\n",
      "0.264\n",
      "image source\n",
      "0.176\n",
      "motley fool\n",
      "0.264\n",
      "new window\n",
      "0.376\n",
      "opens new\n",
      "0.376\n",
      "policy opens\n",
      "0.251\n",
      "position stocks\n",
      "0.167\n",
      "stocks mentioned\n",
      "0.168\n",
      "wall street\n",
      "0.173\n"
     ]
    }
   ],
   "source": [
    "for index in max_indices:\n",
    "    feature = feature_names[index[1]]\n",
    "    print(feature)\n",
    "    print(round(sums[0,index[1]]/df.shape[0], 3))"
   ]
  },
  {
   "cell_type": "code",
   "execution_count": 193,
   "metadata": {},
   "outputs": [
    {
     "ename": "TypeError",
     "evalue": "list indices must be integers or slices, not tuple",
     "output_type": "error",
     "traceback": [
      "\u001b[0;31m---------------------------------------------------------------------------\u001b[0m",
      "\u001b[0;31mTypeError\u001b[0m                                 Traceback (most recent call last)",
      "\u001b[0;32m<ipython-input-193-a20c19228e22>\u001b[0m in \u001b[0;36m<module>\u001b[0;34m()\u001b[0m\n\u001b[0;32m----> 1\u001b[0;31m \u001b[0mfeature_names\u001b[0m\u001b[0;34m[\u001b[0m\u001b[0;36m0\u001b[0m\u001b[0;34m,\u001b[0m \u001b[0;36m2149224\u001b[0m\u001b[0;34m]\u001b[0m\u001b[0;34m\u001b[0m\u001b[0m\n\u001b[0m",
      "\u001b[0;31mTypeError\u001b[0m: list indices must be integers or slices, not tuple"
     ]
    }
   ],
   "source": [
    "feature_names[2149224]"
   ]
  },
  {
   "cell_type": "code",
   "execution_count": 230,
   "metadata": {},
   "outputs": [
    {
     "data": {
      "text/plain": [
       "(1, 252903)"
      ]
     },
     "execution_count": 230,
     "metadata": {},
     "output_type": "execute_result"
    }
   ],
   "source": [
    "sums.shape"
   ]
  },
  {
   "cell_type": "code",
   "execution_count": 225,
   "metadata": {},
   "outputs": [
    {
     "name": "stdout",
     "output_type": "stream",
     "text": [
      "{'beast': 0.63, 'daily': 0.647, 'day': 0.677, 'don': 0.698, 'just': 0.656, 'know': 0.67, 'like': 0.692, 'need': 0.631, 'new': 0.654, 'news': 0.651, 'people': 0.604, 'start': 0.605, 'time': 0.622}\n",
      "{'beast speedy': 0.538, 'daily beast': 0.607, 'day stories': 0.538, 'finish day': 0.538, 'know don': 0.538, 'need know': 0.539, 'new york': 0.305, 'news need': 0.538, 'smart summary': 0.538, 'speedy smart': 0.538, 'start finish': 0.538, 'stories daily': 0.538, 'summary news': 0.538, 'united states': 0.165, 'year old': 0.192}\n"
     ]
    }
   ],
   "source": [
    "domain = 'thedailybeast'\n",
    "uni_sigs = find_domain_signatures(train, domain)\n",
    "bi_sigs = find_domain_signatures(train, domain, thresh=0.15, ngram_range=(2,2))"
   ]
  },
  {
   "cell_type": "code",
   "execution_count": 234,
   "metadata": {},
   "outputs": [
    {
     "data": {
      "text/plain": [
       "\"GOP?s Top Campaign Whisperers for 2012 Presidential Candidates Mitt Romney?s economic advisers are as squarely establishment as he is. This is reassuring to old-school conservatives like New York Times columnist David Brooks, who calls them the ?gold standard of adviser teams,? and it could appeal to middle-of-the-road voters in a general election. They aren?t purists or populists, but then, Republican primary voters already know Romney?s not that guy. The people who whisper advice into a candidate?s ear don?t usually get much attention, but they were a hot topic at Tuesday?s GOP debate on the economy. Asked whom they?d rely on for economic guidance, the candidates gave answers ranging from ?the American people? (Herman Cain) to ?my own father? (Jon Huntsman) to pioneering conservative economist Milton Friedman (who is unavailable; he died in 2006). That last came from Romney, perhaps trying to soften the impact of who his advisers really are?two Ivy League academics and two Capitol Hill veterans who are as mainstream as they come. Rick Perry, who will unveil his economic plan starting with an energy speech on Friday, did not get a chance to answer that question during the New Hampshire debate. But his campaign told me Wednesday that Steve Forbes is among those advising the Texas governor. Forbes, chairman and editor in chief of Forbes Media, ran for president in 1996 and 2000 and pushed both times for a flat tax, private Social Security accounts, and medical savings accounts. The most obscure name that came up onstage was Rich Lowrie, a Cleveland-area wealth manager for Wells Fargo?not to be confused with National Review editor Rich Lowry. Lowrie is Cain?s senior economic adviser and the man who helped him work up the 9-9-9 plan that?s drawing new scrutiny as Cain surges and even leads in some state and national polls. Lowrie has a degree in accounting, not economics, from Case Western Reserve University. He served three years on the advisory board of the conservative group Americans for Prosperity, backed by the billionaire Koch brothers, at a time when Cain headed its ?Prosperity Expansion Project.? Lowrie is now on the advisory board of the American Conservative Union. The 9-9-9 plan would replace the current tax code with a 9 percent national sales tax, a 9 percent individual income tax, and a 9 percent corporate income tax. Lowrie has been playing defense on Twitter as Cain?s rivals go on the attack. It was back to the future?and supply-side economics?Wednesday when Lowrie retweeted praise from Karol Hansen, a Southern California wife, mother, Sunday school teacher, and author of a children?s book called Easter Egg Hunt for Jesus. ?I respect Art Laffer who was one of Reagan?s economic advisors and he says he likes the 9-9-9 plan very much!? she tweeted. Cain, who is running a shoestring campaign, said he has other advisers but declined to name them. The Romney brain trust includes Columbia Business School dean Glenn Hubbard and Harvard professor Gregory Mankiw, each of whom served as chief economic adviser to George W. Bush. Also on the team are two former swing-state members of Congress: former Sen. Jim Talent of Missouri, now a defense expert at the Heritage Foundation, and former Rep. Vin Weber of Minnesota, a lobbyist and GOP strategist. All were lying low on Wednesday. Both economists have displayed flashes of ideological independence. Hubbard was influential in designing Bush?s signature 2001 and 2003 tax cuts. But he has said he grew uneasy about the tax cuts as deficit spending surged during Bush?s eight years on such big-ticket items as the Medicare prescription drug benefit. Hubbard told The Washington Post?s Ezra Klein last December that he does not support a permanent extension of the Bush-era rates. In a July interview with Fortune, Hubbard said he was ?mystified by both sides? emphasis on the Bush tax cuts as if those are religious articles to either attack at one side or defend on the other. What we need is tax reform?? He suggested going after deductions and other ?tax expenditures? to wring more revenue from the tax system in the near term. That?s what Romney did as governor of Massachusetts? scour the tax code for corporate loopholes?and it did not endear him to conservatives or the business community. Still, some national conservatives, such as Sen. Tom Coburn (R-OK), have been open to the idea, given the soaring national debt and Republican resistance to raising tax rates. Documentary lovers may recall Hubbard from his cameo in the 2010 film Inside Job. He lost his temper on camera when director Charles Ferguson asked him if there was a potential conflict of interest in his unreported consulting work for financial-services firms. ?This isn?t a deposition, sir. I was polite enough to give you time, foolishly, I now see. But you have three more minutes. Give it your best shot,? Hubbard snapped. Start and finish your day with the top stories from The Daily Beast. A speedy, smart summary of all the news you need to know (and nothing you don't). The academic had another moment in the spotlight at Tuesday night?s Washington Post/Bloomberg debate, when Perry told Romney that Hubbard, ?your chief economic adviser? who you know well, he said that Romneycare was Obamacare. And Romneycare has driven the cost of small-business insurance premiums up by 14 percent over the national average?? Romney said his plan is not like Obama?s and added that ?Glenn Hubbard is a fine fellow.? But a 2010 paper co-authored by Hubbard backs up Perry?s points. ?Because the [Massachusetts] Plan?s main components are the same as those of the new health reform law, the effects of the Plan provide a window onto the country?s future,? the authors wrote. They said the Massachusetts experience suggests that federal policymakers ?should be concerned? about the impact of the law on the cost of private insurance. Mankiw succeeded Hubbard in the Bush White House despite objections on the right. Stephen Moore at National Review upbraided him for calling Ronald Reagan?s supply-side advisers ?charlatans and cranks? and said it didn?t matter if his views had since changed because he had already been ?indoctrinating young economists with wrongheaded thinking.? Mankiw says he?s also been attacked from the left, by liberals who say his ideas are right-wing propaganda. He says his teaching reflects ?the economic mainstream,? which he defines as slightly right of center. As for Romney?s other two advisers, Talent is a supporter of robust defense spending whose views are reflected in Romney?s call to build more ships, ramp up missile defense, add 100,000 troops, and raise military spending from 3.8 percent to 4 percent of gross domestic product. Weber is the fifth most influential lobbyist in Washington, or at least he was in 2007, according to Washingtonian magazine. Being a lobbyist is not a selling point, but Weber has another credential, one that Romney sorely needs. Elected to the House in 1980, he was a soldier in Reagan?s supply-side revolution. In the end, Romney will win or lose the nomination on his own. But his gold-plated economic team may give conservatives yet another reason to be wary of him.\""
      ]
     },
     "execution_count": 234,
     "metadata": {},
     "output_type": "execute_result"
    }
   ],
   "source": [
    "train[(train['domain']=='thedailybeast') & (train['article_text'].str.contains('speedy'))].reset_index()['article_text'][0]"
   ]
  },
  {
   "cell_type": "code",
   "execution_count": 236,
   "metadata": {},
   "outputs": [
    {
     "data": {
      "text/plain": [
       "apnews                   1434\n",
       "foxbusiness              1082\n",
       "abqjournal                552\n",
       "counterpunch              527\n",
       "reuters                   326\n",
       "newsline                  258\n",
       "pri                       251\n",
       "calwatchdog               215\n",
       "motherjones               176\n",
       "truthdig                  149\n",
       "thedailybeast             117\n",
       "nbcnews                    78\n",
       "consortiumnews             66\n",
       "ivn                        45\n",
       "chicagoreporter            43\n",
       "washingtonblade            43\n",
       "baptistnews                41\n",
       "dailywire                  37\n",
       "leftvoice                  35\n",
       "poynter                    32\n",
       "eppc                       30\n",
       "natmonitor                 29\n",
       "dissentmagazine            27\n",
       "mintpressnews              24\n",
       "thegoldwater               23\n",
       "intrepidreport             21\n",
       "reviewjournal              19\n",
       "billmoyers                 18\n",
       "fury                       17\n",
       "equalvoiceforfamilies      15\n",
       "                         ... \n",
       "wordpress                   2\n",
       "bulletsfirst                2\n",
       "legalinsurrection           2\n",
       "studionewsnetwork           2\n",
       "egbertowillies              2\n",
       "offthemainpage              2\n",
       "therebel                    2\n",
       "aclj                        2\n",
       "greensboro                  2\n",
       "nowtheendbegins             2\n",
       "powderedwigsociety          2\n",
       "beforeitsnews               2\n",
       "samuel-warde                1\n",
       "santafenewmexican           1\n",
       "everydayfeminism            1\n",
       "danaloeschradio             1\n",
       "belfercenter                1\n",
       "teaparty                    1\n",
       "rushlimbaugh                1\n",
       "rightwingnews               1\n",
       "deadstate                   1\n",
       "valleynewslive              1\n",
       "forwardprogressives         1\n",
       "pewresearch                 1\n",
       "bipartisanreport            1\n",
       "mediamatters                1\n",
       "politifact                  1\n",
       "thetrace                    1\n",
       "democracyjournal            1\n",
       "angrypatriotmovement        1\n",
       "Name: domain, Length: 106, dtype: int64"
      ]
     },
     "execution_count": 236,
     "metadata": {},
     "output_type": "execute_result"
    }
   ],
   "source": [
    "train[train['article_text'].str.lower().str.contains(' lta ')]['domain'].value_counts()"
   ]
  },
  {
   "cell_type": "code",
   "execution_count": 238,
   "metadata": {},
   "outputs": [
    {
     "ename": "TypeError",
     "evalue": "cannot compare a dtyped [bool] array with a scalar of type [bool]",
     "output_type": "error",
     "traceback": [
      "\u001b[0;31m---------------------------------------------------------------------------\u001b[0m",
      "\u001b[0;31mTypeError\u001b[0m                                 Traceback (most recent call last)",
      "\u001b[0;32m~/anaconda3/envs/SemEval2019-4/lib/python3.6/site-packages/pandas/core/ops.py\u001b[0m in \u001b[0;36mna_op\u001b[0;34m(x, y)\u001b[0m\n\u001b[1;32m   1303\u001b[0m         \u001b[0;32mtry\u001b[0m\u001b[0;34m:\u001b[0m\u001b[0;34m\u001b[0m\u001b[0m\n\u001b[0;32m-> 1304\u001b[0;31m             \u001b[0mresult\u001b[0m \u001b[0;34m=\u001b[0m \u001b[0mop\u001b[0m\u001b[0;34m(\u001b[0m\u001b[0mx\u001b[0m\u001b[0;34m,\u001b[0m \u001b[0my\u001b[0m\u001b[0;34m)\u001b[0m\u001b[0;34m\u001b[0m\u001b[0m\n\u001b[0m\u001b[1;32m   1305\u001b[0m         \u001b[0;32mexcept\u001b[0m \u001b[0mTypeError\u001b[0m\u001b[0;34m:\u001b[0m\u001b[0;34m\u001b[0m\u001b[0m\n",
      "\u001b[0;32m~/anaconda3/envs/SemEval2019-4/lib/python3.6/site-packages/pandas/core/ops.py\u001b[0m in \u001b[0;36mrand_\u001b[0;34m(left, right)\u001b[0m\n\u001b[1;32m    148\u001b[0m \u001b[0;32mdef\u001b[0m \u001b[0mrand_\u001b[0m\u001b[0;34m(\u001b[0m\u001b[0mleft\u001b[0m\u001b[0;34m,\u001b[0m \u001b[0mright\u001b[0m\u001b[0;34m)\u001b[0m\u001b[0;34m:\u001b[0m\u001b[0;34m\u001b[0m\u001b[0m\n\u001b[0;32m--> 149\u001b[0;31m     \u001b[0;32mreturn\u001b[0m \u001b[0moperator\u001b[0m\u001b[0;34m.\u001b[0m\u001b[0mand_\u001b[0m\u001b[0;34m(\u001b[0m\u001b[0mright\u001b[0m\u001b[0;34m,\u001b[0m \u001b[0mleft\u001b[0m\u001b[0;34m)\u001b[0m\u001b[0;34m\u001b[0m\u001b[0m\n\u001b[0m\u001b[1;32m    150\u001b[0m \u001b[0;34m\u001b[0m\u001b[0m\n",
      "\u001b[0;31mTypeError\u001b[0m: ufunc 'bitwise_and' not supported for the input types, and the inputs could not be safely coerced to any supported types according to the casting rule ''safe''",
      "\nDuring handling of the above exception, another exception occurred:\n",
      "\u001b[0;31mValueError\u001b[0m                                Traceback (most recent call last)",
      "\u001b[0;32m~/anaconda3/envs/SemEval2019-4/lib/python3.6/site-packages/pandas/core/ops.py\u001b[0m in \u001b[0;36mna_op\u001b[0;34m(x, y)\u001b[0m\n\u001b[1;32m   1320\u001b[0m                 \u001b[0;32mtry\u001b[0m\u001b[0;34m:\u001b[0m\u001b[0;34m\u001b[0m\u001b[0m\n\u001b[0;32m-> 1321\u001b[0;31m                     \u001b[0mresult\u001b[0m \u001b[0;34m=\u001b[0m \u001b[0mlibops\u001b[0m\u001b[0;34m.\u001b[0m\u001b[0mscalar_binop\u001b[0m\u001b[0;34m(\u001b[0m\u001b[0mx\u001b[0m\u001b[0;34m,\u001b[0m \u001b[0my\u001b[0m\u001b[0;34m,\u001b[0m \u001b[0mop\u001b[0m\u001b[0;34m)\u001b[0m\u001b[0;34m\u001b[0m\u001b[0m\n\u001b[0m\u001b[1;32m   1322\u001b[0m                 \u001b[0;32mexcept\u001b[0m\u001b[0;34m:\u001b[0m\u001b[0;34m\u001b[0m\u001b[0m\n",
      "\u001b[0;32mpandas/_libs/ops.pyx\u001b[0m in \u001b[0;36mpandas._libs.ops.scalar_binop\u001b[0;34m()\u001b[0m\n",
      "\u001b[0;31mValueError\u001b[0m: Does not understand character buffer dtype format string ('?')",
      "\nDuring handling of the above exception, another exception occurred:\n",
      "\u001b[0;31mTypeError\u001b[0m                                 Traceback (most recent call last)",
      "\u001b[0;32m<ipython-input-238-7dd22736d64b>\u001b[0m in \u001b[0;36m<module>\u001b[0;34m()\u001b[0m\n\u001b[0;32m----> 1\u001b[0;31m \u001b[0mtrain\u001b[0m\u001b[0;34m[\u001b[0m\u001b[0mtrain\u001b[0m\u001b[0;34m[\u001b[0m\u001b[0;34m'domain'\u001b[0m\u001b[0;34m]\u001b[0m\u001b[0;34m==\u001b[0m\u001b[0;34m'foxbusiness'\u001b[0m \u001b[0;34m&\u001b[0m \u001b[0;34m(\u001b[0m\u001b[0mtrain\u001b[0m\u001b[0;34m[\u001b[0m\u001b[0;34m'article_text'\u001b[0m\u001b[0;34m]\u001b[0m\u001b[0;34m.\u001b[0m\u001b[0mstr\u001b[0m\u001b[0;34m.\u001b[0m\u001b[0mlower\u001b[0m\u001b[0;34m(\u001b[0m\u001b[0;34m)\u001b[0m\u001b[0;34m.\u001b[0m\u001b[0mstr\u001b[0m\u001b[0;34m.\u001b[0m\u001b[0mcontains\u001b[0m\u001b[0;34m(\u001b[0m\u001b[0;34m' lta '\u001b[0m\u001b[0;34m)\u001b[0m\u001b[0;34m)\u001b[0m\u001b[0;34m]\u001b[0m\u001b[0;34m.\u001b[0m\u001b[0mreset_index\u001b[0m\u001b[0;34m(\u001b[0m\u001b[0;34m)\u001b[0m\u001b[0;34m[\u001b[0m\u001b[0;34m'article_text'\u001b[0m\u001b[0;34m]\u001b[0m\u001b[0;34m[\u001b[0m\u001b[0;36m0\u001b[0m\u001b[0;34m]\u001b[0m\u001b[0;34m\u001b[0m\u001b[0m\n\u001b[0m",
      "\u001b[0;32m~/anaconda3/envs/SemEval2019-4/lib/python3.6/site-packages/pandas/core/ops.py\u001b[0m in \u001b[0;36mwrapper\u001b[0;34m(self, other)\u001b[0m\n\u001b[1;32m   1358\u001b[0m                       is_integer_dtype(np.asarray(other)) else fill_bool)\n\u001b[1;32m   1359\u001b[0m \u001b[0;34m\u001b[0m\u001b[0m\n\u001b[0;32m-> 1360\u001b[0;31m             \u001b[0mres_values\u001b[0m \u001b[0;34m=\u001b[0m \u001b[0mna_op\u001b[0m\u001b[0;34m(\u001b[0m\u001b[0mself\u001b[0m\u001b[0;34m.\u001b[0m\u001b[0mvalues\u001b[0m\u001b[0;34m,\u001b[0m \u001b[0mother\u001b[0m\u001b[0;34m)\u001b[0m\u001b[0;34m\u001b[0m\u001b[0m\n\u001b[0m\u001b[1;32m   1361\u001b[0m             \u001b[0munfilled\u001b[0m \u001b[0;34m=\u001b[0m \u001b[0mself\u001b[0m\u001b[0;34m.\u001b[0m\u001b[0m_constructor\u001b[0m\u001b[0;34m(\u001b[0m\u001b[0mres_values\u001b[0m\u001b[0;34m,\u001b[0m \u001b[0mindex\u001b[0m\u001b[0;34m=\u001b[0m\u001b[0mself\u001b[0m\u001b[0;34m.\u001b[0m\u001b[0mindex\u001b[0m\u001b[0;34m)\u001b[0m\u001b[0;34m\u001b[0m\u001b[0m\n\u001b[1;32m   1362\u001b[0m             \u001b[0;32mreturn\u001b[0m \u001b[0mfiller\u001b[0m\u001b[0;34m(\u001b[0m\u001b[0munfilled\u001b[0m\u001b[0;34m)\u001b[0m\u001b[0;34m.\u001b[0m\u001b[0m__finalize__\u001b[0m\u001b[0;34m(\u001b[0m\u001b[0mself\u001b[0m\u001b[0;34m)\u001b[0m\u001b[0;34m\u001b[0m\u001b[0m\n",
      "\u001b[0;32m~/anaconda3/envs/SemEval2019-4/lib/python3.6/site-packages/pandas/core/ops.py\u001b[0m in \u001b[0;36mna_op\u001b[0;34m(x, y)\u001b[0m\n\u001b[1;32m   1324\u001b[0m                                     \u001b[0;34m\"with a scalar of type [{typ}]\"\u001b[0m\u001b[0;34m\u001b[0m\u001b[0m\n\u001b[1;32m   1325\u001b[0m                                     .format(dtype=x.dtype,\n\u001b[0;32m-> 1326\u001b[0;31m                                             typ=type(y).__name__))\n\u001b[0m\u001b[1;32m   1327\u001b[0m \u001b[0;34m\u001b[0m\u001b[0m\n\u001b[1;32m   1328\u001b[0m         \u001b[0;32mreturn\u001b[0m \u001b[0mresult\u001b[0m\u001b[0;34m\u001b[0m\u001b[0m\n",
      "\u001b[0;31mTypeError\u001b[0m: cannot compare a dtyped [bool] array with a scalar of type [bool]"
     ]
    }
   ],
   "source": [
    "train[train['domain']=='foxbusiness' & (train['article_text'].str.lower().str.contains(' lta '))].reset_index()['article_text'][0]"
   ]
  },
  {
   "cell_type": "code",
   "execution_count": null,
   "metadata": {},
   "outputs": [],
   "source": []
  }
 ],
 "metadata": {
  "kernelspec": {
   "display_name": "Python 3",
   "language": "python",
   "name": "python3"
  },
  "language_info": {
   "codemirror_mode": {
    "name": "ipython",
    "version": 3
   },
   "file_extension": ".py",
   "mimetype": "text/x-python",
   "name": "python",
   "nbconvert_exporter": "python",
   "pygments_lexer": "ipython3",
   "version": "3.6.6"
  }
 },
 "nbformat": 4,
 "nbformat_minor": 2
}
