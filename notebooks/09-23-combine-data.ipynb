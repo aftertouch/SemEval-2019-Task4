{
 "cells": [
  {
   "cell_type": "markdown",
   "metadata": {},
   "source": [
    "## SemEval 2019 Task 4 - Combine data files for convenience\n",
    "\n",
    "Jonathan Miller and Negar Adyaniyazdi, VCU, CMSC516, Fall 2018"
   ]
  },
  {
   "cell_type": "markdown",
   "metadata": {},
   "source": [
    "Load data"
   ]
  },
  {
   "cell_type": "code",
   "execution_count": 1,
   "metadata": {},
   "outputs": [],
   "source": [
    "import pandas as pd\n",
    "\n",
    "DATA_PATH = '../data/'\n",
    "DATA_INTERIM_PATH = DATA_PATH + 'interim/'\n",
    "\n",
    "text_train_path = DATA_INTERIM_PATH + 'text_train.csv'\n",
    "text_val_path = DATA_INTERIM_PATH + 'text_val.csv'\n",
    "\n",
    "md_train_path = DATA_INTERIM_PATH + 'md_train.csv'\n",
    "md_val_path = DATA_INTERIM_PATH + 'md_val.csv'"
   ]
  },
  {
   "cell_type": "code",
   "execution_count": 2,
   "metadata": {},
   "outputs": [],
   "source": [
    "text_train = pd.read_csv(DATA_INTERIM_PATH + 'text_train.csv', dtype={'id' : str})\n",
    "text_val = pd.read_csv(DATA_INTERIM_PATH + 'text_val.csv', dtype={'id' : str})\n",
    "\n",
    "md_train = pd.read_csv(DATA_INTERIM_PATH + 'md_train.csv', dtype={'id' : str})\n",
    "md_val = pd.read_csv(DATA_INTERIM_PATH + 'md_val.csv', dtype={'id' : str})"
   ]
  },
  {
   "cell_type": "code",
   "execution_count": 3,
   "metadata": {},
   "outputs": [],
   "source": [
    "train = md_train.merge(text_train, on='id')\n",
    "val = md_val.merge(text_val, on='id')"
   ]
  },
  {
   "cell_type": "code",
   "execution_count": 4,
   "metadata": {},
   "outputs": [
    {
     "data": {
      "text/html": [
       "<div>\n",
       "<style scoped>\n",
       "    .dataframe tbody tr th:only-of-type {\n",
       "        vertical-align: middle;\n",
       "    }\n",
       "\n",
       "    .dataframe tbody tr th {\n",
       "        vertical-align: top;\n",
       "    }\n",
       "\n",
       "    .dataframe thead th {\n",
       "        text-align: right;\n",
       "    }\n",
       "</style>\n",
       "<table border=\"1\" class=\"dataframe\">\n",
       "  <thead>\n",
       "    <tr style=\"text-align: right;\">\n",
       "      <th></th>\n",
       "      <th>id</th>\n",
       "      <th>published-at</th>\n",
       "      <th>title</th>\n",
       "      <th>hyperpartisan</th>\n",
       "      <th>bias</th>\n",
       "      <th>url</th>\n",
       "      <th>labeled-by</th>\n",
       "      <th>article_text</th>\n",
       "    </tr>\n",
       "  </thead>\n",
       "  <tbody>\n",
       "    <tr>\n",
       "      <th>0</th>\n",
       "      <td>0000001</td>\n",
       "      <td>2017-09-10</td>\n",
       "      <td>After DeVos Announced Plans To Reexamine Title...</td>\n",
       "      <td>True</td>\n",
       "      <td>right</td>\n",
       "      <td>https://dailywire.com/news/20858/after-devos-a...</td>\n",
       "      <td>publisher</td>\n",
       "      <td>After DeVos Announced Plans To Reexamine Title...</td>\n",
       "    </tr>\n",
       "    <tr>\n",
       "      <th>1</th>\n",
       "      <td>0000002</td>\n",
       "      <td>2017-05-05</td>\n",
       "      <td>University To Award Trayvon Martin With Posthu...</td>\n",
       "      <td>True</td>\n",
       "      <td>right</td>\n",
       "      <td>https://dailywire.com/news/16103/university-aw...</td>\n",
       "      <td>publisher</td>\n",
       "      <td>University To Award Trayvon Martin With Posthu...</td>\n",
       "    </tr>\n",
       "    <tr>\n",
       "      <th>2</th>\n",
       "      <td>0000008</td>\n",
       "      <td>2017-11-15</td>\n",
       "      <td>Texas State University suspends Greek life aft...</td>\n",
       "      <td>False</td>\n",
       "      <td>right-center</td>\n",
       "      <td>https://newsline.com/texas-state-university-su...</td>\n",
       "      <td>publisher</td>\n",
       "      <td>Texas State University suspends Greek life aft...</td>\n",
       "    </tr>\n",
       "    <tr>\n",
       "      <th>3</th>\n",
       "      <td>0000009</td>\n",
       "      <td>2015-06-10</td>\n",
       "      <td>Red Sox waste Rodriguez outing in 1-0 loss to ...</td>\n",
       "      <td>False</td>\n",
       "      <td>least</td>\n",
       "      <td>https://apnews.com/795c45f6db904f8eb85d72cee61...</td>\n",
       "      <td>publisher</td>\n",
       "      <td>Red Sox waste Rodriguez outing in 1-0 loss to ...</td>\n",
       "    </tr>\n",
       "    <tr>\n",
       "      <th>4</th>\n",
       "      <td>0000010</td>\n",
       "      <td>NaN</td>\n",
       "      <td>Eve and the New Jerusalem</td>\n",
       "      <td>True</td>\n",
       "      <td>left</td>\n",
       "      <td>https://dissentmagazine.org/article/eve-and-th...</td>\n",
       "      <td>publisher</td>\n",
       "      <td>Eve and the New Jerusalem Imaginings of a utop...</td>\n",
       "    </tr>\n",
       "  </tbody>\n",
       "</table>\n",
       "</div>"
      ],
      "text/plain": [
       "        id published-at                                              title  \\\n",
       "0  0000001   2017-09-10  After DeVos Announced Plans To Reexamine Title...   \n",
       "1  0000002   2017-05-05  University To Award Trayvon Martin With Posthu...   \n",
       "2  0000008   2017-11-15  Texas State University suspends Greek life aft...   \n",
       "3  0000009   2015-06-10  Red Sox waste Rodriguez outing in 1-0 loss to ...   \n",
       "4  0000010          NaN                          Eve and the New Jerusalem   \n",
       "\n",
       "   hyperpartisan          bias  \\\n",
       "0           True         right   \n",
       "1           True         right   \n",
       "2          False  right-center   \n",
       "3          False         least   \n",
       "4           True          left   \n",
       "\n",
       "                                                 url labeled-by  \\\n",
       "0  https://dailywire.com/news/20858/after-devos-a...  publisher   \n",
       "1  https://dailywire.com/news/16103/university-aw...  publisher   \n",
       "2  https://newsline.com/texas-state-university-su...  publisher   \n",
       "3  https://apnews.com/795c45f6db904f8eb85d72cee61...  publisher   \n",
       "4  https://dissentmagazine.org/article/eve-and-th...  publisher   \n",
       "\n",
       "                                        article_text  \n",
       "0  After DeVos Announced Plans To Reexamine Title...  \n",
       "1  University To Award Trayvon Martin With Posthu...  \n",
       "2  Texas State University suspends Greek life aft...  \n",
       "3  Red Sox waste Rodriguez outing in 1-0 loss to ...  \n",
       "4  Eve and the New Jerusalem Imaginings of a utop...  "
      ]
     },
     "execution_count": 4,
     "metadata": {},
     "output_type": "execute_result"
    }
   ],
   "source": [
    "train.head()"
   ]
  },
  {
   "cell_type": "code",
   "execution_count": 8,
   "metadata": {},
   "outputs": [
    {
     "data": {
      "text/plain": [
       "(800000, 8)"
      ]
     },
     "execution_count": 8,
     "metadata": {},
     "output_type": "execute_result"
    }
   ],
   "source": [
    "train.shape"
   ]
  },
  {
   "cell_type": "code",
   "execution_count": 5,
   "metadata": {},
   "outputs": [
    {
     "data": {
      "text/html": [
       "<div>\n",
       "<style scoped>\n",
       "    .dataframe tbody tr th:only-of-type {\n",
       "        vertical-align: middle;\n",
       "    }\n",
       "\n",
       "    .dataframe tbody tr th {\n",
       "        vertical-align: top;\n",
       "    }\n",
       "\n",
       "    .dataframe thead th {\n",
       "        text-align: right;\n",
       "    }\n",
       "</style>\n",
       "<table border=\"1\" class=\"dataframe\">\n",
       "  <thead>\n",
       "    <tr style=\"text-align: right;\">\n",
       "      <th></th>\n",
       "      <th>id</th>\n",
       "      <th>published-at</th>\n",
       "      <th>title</th>\n",
       "      <th>hyperpartisan</th>\n",
       "      <th>bias</th>\n",
       "      <th>url</th>\n",
       "      <th>labeled-by</th>\n",
       "      <th>article_text</th>\n",
       "    </tr>\n",
       "  </thead>\n",
       "  <tbody>\n",
       "    <tr>\n",
       "      <th>0</th>\n",
       "      <td>0000017</td>\n",
       "      <td>2004-07-29</td>\n",
       "      <td>SAN FRANCISCO / Head of Juvenile Probation Dep...</td>\n",
       "      <td>False</td>\n",
       "      <td>left-center</td>\n",
       "      <td>http://sfgate.com/politics/article/SAN-FRANCIS...</td>\n",
       "      <td>publisher</td>\n",
       "      <td>SAN FRANCISCO / Head of Juvenile Probation Dep...</td>\n",
       "    </tr>\n",
       "    <tr>\n",
       "      <th>1</th>\n",
       "      <td>0000019</td>\n",
       "      <td>2017-10-05</td>\n",
       "      <td>Nancy Pelosi Lies On CNN About Gun Control, An...</td>\n",
       "      <td>True</td>\n",
       "      <td>right</td>\n",
       "      <td>http://madworldnews.com/nancy-pelosi-lies-cnn-...</td>\n",
       "      <td>publisher</td>\n",
       "      <td>Nancy Pelosi Lies On CNN About Gun Control, An...</td>\n",
       "    </tr>\n",
       "    <tr>\n",
       "      <th>2</th>\n",
       "      <td>0000023</td>\n",
       "      <td>2017-04-20</td>\n",
       "      <td>University leaders ban pro-life flag display, ...</td>\n",
       "      <td>True</td>\n",
       "      <td>right</td>\n",
       "      <td>https://thecollegefix.com/post/32204/</td>\n",
       "      <td>publisher</td>\n",
       "      <td>University leaders ban pro-life flag display, ...</td>\n",
       "    </tr>\n",
       "    <tr>\n",
       "      <th>3</th>\n",
       "      <td>0000024</td>\n",
       "      <td>2011-01-14</td>\n",
       "      <td>What Wine Prices Tell Us About OPEC Why Are Oi...</td>\n",
       "      <td>False</td>\n",
       "      <td>right-center</td>\n",
       "      <td>https://cfr.org/blog/what-wine-prices-tell-us-...</td>\n",
       "      <td>publisher</td>\n",
       "      <td>What Wine Prices Tell Us About OPEC Why Are Oi...</td>\n",
       "    </tr>\n",
       "    <tr>\n",
       "      <th>4</th>\n",
       "      <td>0000026</td>\n",
       "      <td>2016-01-13</td>\n",
       "      <td>The Long Road to Harvard</td>\n",
       "      <td>False</td>\n",
       "      <td>right-center</td>\n",
       "      <td>https://the-american-interest.com/2016/01/13/t...</td>\n",
       "      <td>publisher</td>\n",
       "      <td>The Long Road to Harvard As reported in the Ne...</td>\n",
       "    </tr>\n",
       "  </tbody>\n",
       "</table>\n",
       "</div>"
      ],
      "text/plain": [
       "        id published-at                                              title  \\\n",
       "0  0000017   2004-07-29  SAN FRANCISCO / Head of Juvenile Probation Dep...   \n",
       "1  0000019   2017-10-05  Nancy Pelosi Lies On CNN About Gun Control, An...   \n",
       "2  0000023   2017-04-20  University leaders ban pro-life flag display, ...   \n",
       "3  0000024   2011-01-14  What Wine Prices Tell Us About OPEC Why Are Oi...   \n",
       "4  0000026   2016-01-13                           The Long Road to Harvard   \n",
       "\n",
       "   hyperpartisan          bias  \\\n",
       "0          False   left-center   \n",
       "1           True         right   \n",
       "2           True         right   \n",
       "3          False  right-center   \n",
       "4          False  right-center   \n",
       "\n",
       "                                                 url labeled-by  \\\n",
       "0  http://sfgate.com/politics/article/SAN-FRANCIS...  publisher   \n",
       "1  http://madworldnews.com/nancy-pelosi-lies-cnn-...  publisher   \n",
       "2              https://thecollegefix.com/post/32204/  publisher   \n",
       "3  https://cfr.org/blog/what-wine-prices-tell-us-...  publisher   \n",
       "4  https://the-american-interest.com/2016/01/13/t...  publisher   \n",
       "\n",
       "                                        article_text  \n",
       "0  SAN FRANCISCO / Head of Juvenile Probation Dep...  \n",
       "1  Nancy Pelosi Lies On CNN About Gun Control, An...  \n",
       "2  University leaders ban pro-life flag display, ...  \n",
       "3  What Wine Prices Tell Us About OPEC Why Are Oi...  \n",
       "4  The Long Road to Harvard As reported in the Ne...  "
      ]
     },
     "execution_count": 5,
     "metadata": {},
     "output_type": "execute_result"
    }
   ],
   "source": [
    "val.head()"
   ]
  },
  {
   "cell_type": "code",
   "execution_count": 6,
   "metadata": {},
   "outputs": [
    {
     "data": {
      "text/plain": [
       "(200000, 8)"
      ]
     },
     "execution_count": 6,
     "metadata": {},
     "output_type": "execute_result"
    }
   ],
   "source": [
    "val.shape"
   ]
  },
  {
   "cell_type": "code",
   "execution_count": 9,
   "metadata": {},
   "outputs": [],
   "source": [
    "train.to_csv(DATA_INTERIM_PATH + 'train.csv', index=False)\n",
    "val.to_csv(DATA_INTERIM_PATH + 'val.csv', index=False)"
   ]
  },
  {
   "cell_type": "code",
   "execution_count": null,
   "metadata": {},
   "outputs": [],
   "source": []
  }
 ],
 "metadata": {
  "kernelspec": {
   "display_name": "Python 3",
   "language": "python",
   "name": "python3"
  },
  "language_info": {
   "codemirror_mode": {
    "name": "ipython",
    "version": 3
   },
   "file_extension": ".py",
   "mimetype": "text/x-python",
   "name": "python",
   "nbconvert_exporter": "python",
   "pygments_lexer": "ipython3",
   "version": "3.6.6"
  }
 },
 "nbformat": 4,
 "nbformat_minor": 2
}
