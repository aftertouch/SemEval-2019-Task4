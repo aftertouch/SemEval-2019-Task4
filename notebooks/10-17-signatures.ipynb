{
 "cells": [
  {
   "cell_type": "code",
   "execution_count": 22,
   "metadata": {},
   "outputs": [],
   "source": [
    "import pandas as pd\n",
    "\n",
    "DATA_PATH = '../data/'\n",
    "DATA_INTERIM_PATH = DATA_PATH + 'interim/'\n",
    "train = pd.read_csv(DATA_INTERIM_PATH + 'train_c.csv')"
   ]
  },
  {
   "cell_type": "code",
   "execution_count": 23,
   "metadata": {},
   "outputs": [],
   "source": [
    "train.loc[:,'article_text_lower'] = train['article_text'].str.lower()"
   ]
  },
  {
   "cell_type": "code",
   "execution_count": 24,
   "metadata": {},
   "outputs": [
    {
     "data": {
      "text/plain": [
       "Index(['foxbusiness', 'abqjournal', 'apnews', 'pri', 'newsline',\n",
       "       'counterpunch', 'motherjones', 'truthdig', 'dailywire', 'thedailybeast',\n",
       "       ...\n",
       "       'abc11', 'newsfrompolitics', 'conservativedeplorable', 'freedomfirst',\n",
       "       'theamericancause', 'latimes', 'washingtonmonthly', 'occupydemocrats',\n",
       "       'revealingpolitics', 'anncoulter'],\n",
       "      dtype='object', length=169)"
      ]
     },
     "execution_count": 24,
     "metadata": {},
     "output_type": "execute_result"
    }
   ],
   "source": [
    "domains = train['domain'].value_counts().keys()\n",
    "domains"
   ]
  },
  {
   "cell_type": "code",
   "execution_count": 80,
   "metadata": {},
   "outputs": [
    {
     "name": "stdout",
     "output_type": "stream",
     "text": [
      "The autoreload extension is already loaded. To reload it, use:\n",
      "  %reload_ext autoreload\n"
     ]
    }
   ],
   "source": [
    "import sys\n",
    "sys.path.append('../src')\n",
    "\n",
    "%load_ext autoreload\n",
    "%autoreload 1\n",
    "\n",
    "from models.EDA import find_domain_signatures\n",
    "%aimport models.EDA\n",
    "\n",
    "def sigs(domain):\n",
    "    uni_sigs = find_domain_signatures(train, domain)\n",
    "    bi_sigs = find_domain_signatures(train, domain, thresh=0.15, ngram_range=(2,2))"
   ]
  },
  {
   "cell_type": "code",
   "execution_count": 113,
   "metadata": {},
   "outputs": [
    {
     "name": "stdout",
     "output_type": "stream",
     "text": [
      "washingtonblade\n",
      "{'photo': 0.669}\n",
      "{'blade photo': 0.228, 'human rights': 0.177, 'lgbt rights': 0.158, 'michael key': 0.226, 'new york': 0.151, 'photo courtesy': 0.177, 'photo michael': 0.261, 'washington blade': 0.422}\n"
     ]
    }
   ],
   "source": [
    "current_domain = domains[15]\n",
    "print(current_domain)\n",
    "sigs(current_domain)"
   ]
  },
  {
   "cell_type": "code",
   "execution_count": 114,
   "metadata": {},
   "outputs": [],
   "source": [
    "article_text = train[(train['domain']==current_domain) & (train['article_text_lower'].str.contains('michael key'))].reset_index()['article_text']"
   ]
  },
  {
   "cell_type": "code",
   "execution_count": 115,
   "metadata": {},
   "outputs": [
    {
     "data": {
      "text/plain": [
       "'QUEERY: Melanie Kreidich Melanie Kreidich (Washington Blade photo by Michael Key) Melanie Kreidich has been involved in activism of all kinds starting in middle school when she helped her aunt, an environmental activist, with beach clean-ups, protests and letter-writing campaigns. ?I?m involved in all kinds,? the Florida native says. ?I?m passionate about voting rights and ensuring progressive candidates are elected in future elections.? Through mutual activists, Kreidich met Vicki Braun two weeks ago and found out about the Concerned Citizens for LGBT Safety and Rights March, which will be held Sunday, March 12 from 10 a.m.-1 p.m. at Lafayette Square in Washington (H and 17th streets, N.W.). The march to Logan Circle will begin at 10:45 a.m. where a short rally will take place. Braun was inspired by recent trans murders in the South and Kreidich agreed to help organize the event. ?Not long ago, I was walking around Rehoboth Beach holding hands with my wife, Susannah, and we were harassed,? Kreidich says. ?So this is a real concern for all. We need to go forward and not let the hate groups and bullies who feel empowered with the new administration bring back that environment. With the bathroom law being overturned, I believe this will help embolden hate groups even more. We all need to stand up for one another and others.? Look for the event on Facebook for full details. Kreidich came to the area in 2002 to live in a more liberal environment. She and her wife live in Montgomery County. Kreidich enjoys reading in her free time.  How long have you been out and who was the hardest person to tell? ; Since I graduated from college, and my parents were the hardest to tell.  Who?s your LGBT hero? ; Ellen DeGeneres because she brought the LGBTQ culture into every living room.  What?s Washington?s best nightspot, past or present? ; Cobalt ;  Describe your dream wedding? ; I already had it.  What non-LGBT issue are you most passionate about? ; All issues are LGBTQ issues.  What historical outcome would you change? ; I would change that the electoral college vote determines the winner of the U.S. presidency. If popular vote was the determination for presidency, VP Al Gore and Secretary Hillary Clinton would have both been president.  What?s been the most memorable pop culture moment of your lifetime? ; Supreme Court ruling allowing LGBTQ marriage.  On what do you insist? ; Love and kindness.  What was your last Facebook post or Tweet? ; My last tweet was a reminder about the March 12th event.  If your life were a book, what would the title be? ; ?Do All the Good You Can?  If science discovered a way to change sexual orientation, what would you do? ; No, we are who were are.  What do you believe in beyond the physical world? ; I don?t know, but I hope someone is looking out for us.  What?s your advice for LGBT movement leaders? ; Keep going ? more work to do.  What would you walk across hot coals for? ; To stop bullying.  What LGBT stereotype annoys you most? ; All of them.  What?s your favorite LGBT movie? ; The first one that I ever watched that wasn?t sad and had a happy ending ? ?But I?m a Cheerleader.?  What?s the most overrated social custom? ; Hillary Clinton said, ?We need more love and kindness.? These words have never been more true.  What trophy or prize do you most covet?  ; Who wouldn?t want their name engraved on the Stanley Cup?  What do you wish you?d known at 18? ; It would be difficult to travel after college.  Why Washington? ; It?s the most accepting city of everybody on the East Coast. Concerned Citizens for LGBT Safety and Rights March D.C. Lafayette Square Logan Circle Melanie Kreidich Rehoboth Beach Vicki Braun'"
      ]
     },
     "execution_count": 115,
     "metadata": {},
     "output_type": "execute_result"
    }
   ],
   "source": [
    "article_text[0]"
   ]
  },
  {
   "cell_type": "markdown",
   "metadata": {},
   "source": [
    "### General:\n",
    "urls, email addresses, twitter usernames\n",
    "\n",
    "### foxbusiness:\n",
    "\n",
    "'Continue Reading Below', \n",
    "'Advertisement', \n",
    "'Image source:',\n",
    "'Click here',\n",
    "'Opens a New Window..'\n",
    "'disclosure policy'\n",
    "'The Motley Fool'\n",
    "'has no position',\n",
    "'stocks mentioned'\n",
    "\n",
    "### abqjournal\n",
    "'ALBEQUERQE, N.M.'\n",
    "'ADVERTISEMENT'\n",
    "'new mexico'\n",
    "\n",
    "### apnews\n",
    "'(AP)'\n",
    "\n",
    "### newsline\n",
    "'Fusion Media or anyone involved with Fusion Media will not accept any liability for loss or damage as a result of reliance on the information including data, quotes, charts and buy/sell signals contained within this website. Please be fully informed regarding the risks and costs associated with trading the financial markets, it is one of the riskiest investment forms possible.'\n",
    "\n",
    "### motherjones\n",
    "first line is often broken link like '&lt;a href=\"http://www.flickr.com/photos/talkradionews/2510926965/sizes/l/in/photostream/\"&gt;TalkRadioNews&lt;/a&gt;/Flickr'\n",
    "\n",
    "### thedailybeast\n",
    "'Start and finish your day with the top stories from The Daily Beast. A speedy, smart summary of all the news you need to know (and nothing you don't).'\n",
    "\n",
    "### nbcnews\n",
    "'nbc'\n",
    "\n",
    "### reuters\n",
    "come back to this\n",
    "\n",
    "### consortiumnews\n",
    "'Robert Parry'"
   ]
  },
  {
   "cell_type": "code",
   "execution_count": null,
   "metadata": {},
   "outputs": [],
   "source": []
  }
 ],
 "metadata": {
  "kernelspec": {
   "display_name": "Python 3",
   "language": "python",
   "name": "python3"
  },
  "language_info": {
   "codemirror_mode": {
    "name": "ipython",
    "version": 3
   },
   "file_extension": ".py",
   "mimetype": "text/x-python",
   "name": "python",
   "nbconvert_exporter": "python",
   "pygments_lexer": "ipython3",
   "version": "3.6.6"
  }
 },
 "nbformat": 4,
 "nbformat_minor": 2
}
