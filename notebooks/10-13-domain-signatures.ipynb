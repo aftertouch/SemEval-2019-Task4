{
 "cells": [
  {
   "cell_type": "markdown",
   "metadata": {},
   "source": [
    "### Domain 'signatures'\n",
    "\n",
    "Attempting to find per-publisher 'signatures', or phrases that appear in most-all of a particular publisher's articles. Models are likely heavily overfitting on these terms."
   ]
  },
  {
   "cell_type": "code",
   "execution_count": 2,
   "metadata": {},
   "outputs": [],
   "source": [
    "import pandas as pd\n",
    "\n",
    "DATA_PATH = '../data/'\n",
    "DATA_INTERIM_PATH = DATA_PATH + 'interim/'\n",
    "train = pd.read_csv(DATA_INTERIM_PATH + 'train_c.csv')\n",
    "val = pd.read_csv(DATA_INTERIM_PATH + 'val_c.csv')"
   ]
  },
  {
   "cell_type": "code",
   "execution_count": 3,
   "metadata": {},
   "outputs": [
    {
     "data": {
      "text/html": [
       "<div>\n",
       "<style scoped>\n",
       "    .dataframe tbody tr th:only-of-type {\n",
       "        vertical-align: middle;\n",
       "    }\n",
       "\n",
       "    .dataframe tbody tr th {\n",
       "        vertical-align: top;\n",
       "    }\n",
       "\n",
       "    .dataframe thead th {\n",
       "        text-align: right;\n",
       "    }\n",
       "</style>\n",
       "<table border=\"1\" class=\"dataframe\">\n",
       "  <thead>\n",
       "    <tr style=\"text-align: right;\">\n",
       "      <th></th>\n",
       "      <th>id</th>\n",
       "      <th>published-at</th>\n",
       "      <th>title</th>\n",
       "      <th>article_text</th>\n",
       "      <th>external_links</th>\n",
       "      <th>internal_links</th>\n",
       "      <th>hyperpartisan</th>\n",
       "      <th>bias</th>\n",
       "      <th>url</th>\n",
       "      <th>labeled-by</th>\n",
       "      <th>num_external_links</th>\n",
       "      <th>num_internal_links</th>\n",
       "      <th>domain</th>\n",
       "    </tr>\n",
       "  </thead>\n",
       "  <tbody>\n",
       "    <tr>\n",
       "      <th>0</th>\n",
       "      <td>1</td>\n",
       "      <td>2017-09-10</td>\n",
       "      <td>After DeVos Announced Plans To Reexamine Title...</td>\n",
       "      <td>After DeVos Announced Plans To Reexamine Title...</td>\n",
       "      <td>{'https://www.nbcnews.com/news/us-news/betsy-d...</td>\n",
       "      <td>{}</td>\n",
       "      <td>True</td>\n",
       "      <td>right</td>\n",
       "      <td>https://dailywire.com/news/20858/after-devos-a...</td>\n",
       "      <td>publisher</td>\n",
       "      <td>7</td>\n",
       "      <td>0</td>\n",
       "      <td>dailywire</td>\n",
       "    </tr>\n",
       "    <tr>\n",
       "      <th>1</th>\n",
       "      <td>2</td>\n",
       "      <td>2017-05-05</td>\n",
       "      <td>University To Award Trayvon Martin With Posthu...</td>\n",
       "      <td>University To Award Trayvon Martin With Posthu...</td>\n",
       "      <td>{'https://www.facebook.com/FLMemorialUniv/': '...</td>\n",
       "      <td>{}</td>\n",
       "      <td>True</td>\n",
       "      <td>right</td>\n",
       "      <td>https://dailywire.com/news/16103/university-aw...</td>\n",
       "      <td>publisher</td>\n",
       "      <td>1</td>\n",
       "      <td>0</td>\n",
       "      <td>dailywire</td>\n",
       "    </tr>\n",
       "    <tr>\n",
       "      <th>2</th>\n",
       "      <td>8</td>\n",
       "      <td>2017-11-15</td>\n",
       "      <td>Texas State University suspends Greek life aft...</td>\n",
       "      <td>Texas State University suspends Greek life aft...</td>\n",
       "      <td>{'https://www.nbcnews.com/storyline/hazing-in-...</td>\n",
       "      <td>{}</td>\n",
       "      <td>False</td>\n",
       "      <td>right-center</td>\n",
       "      <td>https://newsline.com/texas-state-university-su...</td>\n",
       "      <td>publisher</td>\n",
       "      <td>2</td>\n",
       "      <td>0</td>\n",
       "      <td>newsline</td>\n",
       "    </tr>\n",
       "    <tr>\n",
       "      <th>3</th>\n",
       "      <td>9</td>\n",
       "      <td>2015-06-10</td>\n",
       "      <td>Red Sox waste Rodriguez outing in 1-0 loss to ...</td>\n",
       "      <td>Red Sox waste Rodriguez outing in 1-0 loss to ...</td>\n",
       "      <td>{}</td>\n",
       "      <td>{}</td>\n",
       "      <td>False</td>\n",
       "      <td>least</td>\n",
       "      <td>https://apnews.com/795c45f6db904f8eb85d72cee61...</td>\n",
       "      <td>publisher</td>\n",
       "      <td>0</td>\n",
       "      <td>0</td>\n",
       "      <td>apnews</td>\n",
       "    </tr>\n",
       "    <tr>\n",
       "      <th>4</th>\n",
       "      <td>10</td>\n",
       "      <td>NaN</td>\n",
       "      <td>Eve and the New Jerusalem</td>\n",
       "      <td>Eve and the New Jerusalem Imaginings of a utop...</td>\n",
       "      <td>{}</td>\n",
       "      <td>{}</td>\n",
       "      <td>True</td>\n",
       "      <td>left</td>\n",
       "      <td>https://dissentmagazine.org/article/eve-and-th...</td>\n",
       "      <td>publisher</td>\n",
       "      <td>0</td>\n",
       "      <td>0</td>\n",
       "      <td>dissentmagazine</td>\n",
       "    </tr>\n",
       "  </tbody>\n",
       "</table>\n",
       "</div>"
      ],
      "text/plain": [
       "   id published-at                                              title  \\\n",
       "0   1   2017-09-10  After DeVos Announced Plans To Reexamine Title...   \n",
       "1   2   2017-05-05  University To Award Trayvon Martin With Posthu...   \n",
       "2   8   2017-11-15  Texas State University suspends Greek life aft...   \n",
       "3   9   2015-06-10  Red Sox waste Rodriguez outing in 1-0 loss to ...   \n",
       "4  10          NaN                          Eve and the New Jerusalem   \n",
       "\n",
       "                                        article_text  \\\n",
       "0  After DeVos Announced Plans To Reexamine Title...   \n",
       "1  University To Award Trayvon Martin With Posthu...   \n",
       "2  Texas State University suspends Greek life aft...   \n",
       "3  Red Sox waste Rodriguez outing in 1-0 loss to ...   \n",
       "4  Eve and the New Jerusalem Imaginings of a utop...   \n",
       "\n",
       "                                      external_links internal_links  \\\n",
       "0  {'https://www.nbcnews.com/news/us-news/betsy-d...             {}   \n",
       "1  {'https://www.facebook.com/FLMemorialUniv/': '...             {}   \n",
       "2  {'https://www.nbcnews.com/storyline/hazing-in-...             {}   \n",
       "3                                                 {}             {}   \n",
       "4                                                 {}             {}   \n",
       "\n",
       "   hyperpartisan          bias  \\\n",
       "0           True         right   \n",
       "1           True         right   \n",
       "2          False  right-center   \n",
       "3          False         least   \n",
       "4           True          left   \n",
       "\n",
       "                                                 url labeled-by  \\\n",
       "0  https://dailywire.com/news/20858/after-devos-a...  publisher   \n",
       "1  https://dailywire.com/news/16103/university-aw...  publisher   \n",
       "2  https://newsline.com/texas-state-university-su...  publisher   \n",
       "3  https://apnews.com/795c45f6db904f8eb85d72cee61...  publisher   \n",
       "4  https://dissentmagazine.org/article/eve-and-th...  publisher   \n",
       "\n",
       "   num_external_links  num_internal_links           domain  \n",
       "0                   7                   0        dailywire  \n",
       "1                   1                   0        dailywire  \n",
       "2                   2                   0         newsline  \n",
       "3                   0                   0           apnews  \n",
       "4                   0                   0  dissentmagazine  "
      ]
     },
     "execution_count": 3,
     "metadata": {},
     "output_type": "execute_result"
    }
   ],
   "source": [
    "train.head()"
   ]
  },
  {
   "cell_type": "code",
   "execution_count": 4,
   "metadata": {},
   "outputs": [
    {
     "data": {
      "text/plain": [
       "foxbusiness                  116106\n",
       "abqjournal                    93853\n",
       "apnews                        75725\n",
       "pri                           51781\n",
       "newsline                      47593\n",
       "counterpunch                  42410\n",
       "motherjones                   38487\n",
       "truthdig                      33780\n",
       "dailywire                     21538\n",
       "thedailybeast                 19560\n",
       "poynter                       17276\n",
       "baptistnews                   13728\n",
       "nbcnews                       12829\n",
       "reuters                       10914\n",
       "consortiumnews                 9593\n",
       "washingtonblade                8265\n",
       "calwatchdog                    7611\n",
       "thegoldwater                   6947\n",
       "natmonitor                     6556\n",
       "dissentmagazine                6292\n",
       "politicalillusionsexposed      5714\n",
       "chicagoreporter                5316\n",
       "ivn                            4967\n",
       "eppc                           4652\n",
       "mintpressnews                  4494\n",
       "factcheck                      4485\n",
       "billmoyers                     4328\n",
       "circa                          3608\n",
       "govtslaves                     3088\n",
       "dcclothesline                  3030\n",
       "                              ...  \n",
       "wnyc                             85\n",
       "politichicks                     83\n",
       "angrypatriotmovement             80\n",
       "bettergov                        80\n",
       "americauncensored                78\n",
       "americanactionnews               77\n",
       "mainebeacon                      76\n",
       "24dailynew                       76\n",
       "towleroad                        75\n",
       "conservativerevival              70\n",
       "againstcronycapitalism           69\n",
       "washingtonpost                   68\n",
       "americanupdate                   67\n",
       "bigamericannews                  67\n",
       "thepopulist                      62\n",
       "rightwingwatch                   61\n",
       "sfchronicle                      57\n",
       "santafenewmexican                56\n",
       "thepeoplesview                   49\n",
       "reclaimdemocracy                 48\n",
       "abc11                            40\n",
       "newsfrompolitics                 38\n",
       "conservativedeplorable           33\n",
       "freedomfirst                     31\n",
       "theamericancause                 30\n",
       "latimes                          19\n",
       "washingtonmonthly                17\n",
       "occupydemocrats                  10\n",
       "revealingpolitics                 3\n",
       "anncoulter                        2\n",
       "Name: domain, Length: 169, dtype: int64"
      ]
     },
     "execution_count": 4,
     "metadata": {},
     "output_type": "execute_result"
    }
   ],
   "source": [
    "train['domain'].value_counts()"
   ]
  },
  {
   "cell_type": "code",
   "execution_count": 62,
   "metadata": {},
   "outputs": [
    {
     "data": {
      "text/plain": [
       "\"2017's 3 Best Index Funds  \\n2017 has been a tumultuous year, with plenty going on in the political and financial realms. Yet the stock market has done quite well, and index funds that track popular stock benchmarks have given their investors solid returns. In particular, among the most popular exchange-traded funds, iShares MSCI Emerging Markets (NYSEMKT: EEM), PowerShares QQQ (NASDAQ: QQQ), and iShares Core MSCI EAFE (NYSEMKT: IEFA) have delivered some of the best returns. \\nContinue Reading Below \\nData source: Fund providers, ETFdb.com. \\nAmong U.S.-oriented index funds, the PowerShares QQQ leads the field with strong returns in the upper teens. The ETF tracks the Nasdaq 100 Index Opens a New Window., which is composed of the 100 top nonfinancial companies that trade on the Nasdaq exchange. Although intermingling of stocks across the Nasdaq and New York Stock Exchanges over the past several years has made both indexes more diverse, the Nasdaq still has a preponderance of technology companies within its upper echelon. That makes the index particularly susceptible to tech-stock trends, and when technology is in the ascendancy -- as it has been so far in 2017 -- the Nasdaq does well. \\nThe PowerShares QQQ does a good job of tracking the Nasdaq, with a relatively low 0.2% expense ratio taking only a minimal portion of the overall return of the index. With ample liquidity from plenty of trading volume every day, the PowerShares QQQ is an efficient way for you to tap into the profit potential of the Nasdaq and amplify your domestic stock exposure. \\nAdvertisement \\nImage source: Getty Images. \\nWhat's noteworthy, though, is that international markets have, in general, outpaced returns in the U.S. That's true both in other developed markets, where the MSCI EAFE index governs, and in emerging markets. \\nThe two iShares funds represented here not only blanket the world between them, but also have different approaches toward their investing strategies and business models. The iShares Emerging Markets ETF tracks emerging-market stocks, and it's designed for use by institutional investors, with high trading volumes and ample liquidity. However, as you can see from the 0.69% expense ratio, the index fund is relatively costly compared to other ETFs. \\nIt's true that investing in emerging markets involves more expense than buying and selling stocks in the U.S. and in other better-developed markets, but even so, the iShares offering isn't the most cost-effective solution. That's why it's noteworthy that the ETF has outpaced some of its lower-cost peers. \\nMeanwhile, the iShares Core MSCI EAFE ETF is an example of a lower-cost philosophy from iShares. The core series of ETFs Opens a New Window. are designed for longer-term investors, with less liquidity, but lower expenses. Investors have the opportunity to pay just 0.08% in annual expenses using the Core MSCI EAFE fund, and that compares quite favorably to the 0.33% expense ratio that its non-core iShares counterpart charges. \\nOverseas markets have done well so far in 2017. Improving economic conditions suggest that a long period of sluggishness might finally be coming to an end, and many investors have seen international stocks as being better bargains than the U.S. stock market, especially after eight years of bull-market conditions. That has pushed up international index funds across the board, but iShares stands out with superior performance compared to other large providers so far this year. \\n2017 has been kind to these three ETFs, and the trends that have supported their returns will likely continue further into the year. By understanding why these funds have done so well, you can get some insight into choosing ETFs that are likely to be the best in the future. \\n10 stocks we like better than PowerShares QQQ Trust Series 1When investing geniuses David and Tom Gardner have a stock tip, it can pay to listen. After all, the newsletter they have run for over a decade, Motley Fool Stock Advisor, has tripled the market.* \\nDavid and Tom just revealed what they believe are the 10 best stocks Opens a New Window. for investors to buy right now... and PowerShares QQQ Trust Series 1 wasn't one of them! That's right -- they think these 10 stocks are even better buys. \\nClick here Opens a New Window. to learn about these picks! \\n*Stock Advisor returns as of May 1, 2017 \\nDan Caplinger Opens a New Window. has no position in any stocks mentioned. The Motley Fool has the following options: short January 2018 $114 puts on PowerShares QQQ Trust Series 1 and long January 2018 $125 puts on PowerShares QQQ Trust Series 1. The Motley Fool has a disclosure policy Opens a New Window..\""
      ]
     },
     "execution_count": 62,
     "metadata": {},
     "output_type": "execute_result"
    }
   ],
   "source": [
    "train[train['domain'] == 'foxbusiness'].reset_index()['article_text'][0]"
   ]
  },
  {
   "cell_type": "code",
   "execution_count": 6,
   "metadata": {},
   "outputs": [
    {
     "data": {
      "text/plain": [
       "1.0"
      ]
     },
     "execution_count": 6,
     "metadata": {},
     "output_type": "execute_result"
    }
   ],
   "source": [
    "train[(train['domain'] == 'foxbusiness') & (train['article_text'].str.contains('Continue Reading Below'))].shape[0] / train[train['domain'] == 'foxbusiness'].shape[0]"
   ]
  },
  {
   "cell_type": "markdown",
   "metadata": {},
   "source": [
    "#### Every single Fox Business article in the dataset contains the phrase 'Continue Reading Below'"
   ]
  },
  {
   "cell_type": "code",
   "execution_count": 33,
   "metadata": {},
   "outputs": [],
   "source": [
    "df = train[train['domain'] == 'foxbusiness'].reset_index()[0:500]"
   ]
  },
  {
   "cell_type": "code",
   "execution_count": 34,
   "metadata": {},
   "outputs": [
    {
     "data": {
      "text/plain": [
       "(500, 14)"
      ]
     },
     "execution_count": 34,
     "metadata": {},
     "output_type": "execute_result"
    }
   ],
   "source": [
    "df.shape"
   ]
  },
  {
   "cell_type": "code",
   "execution_count": 35,
   "metadata": {},
   "outputs": [],
   "source": [
    "import numpy as np\n",
    "from sklearn.feature_extraction.text import CountVectorizer"
   ]
  },
  {
   "cell_type": "code",
   "execution_count": 36,
   "metadata": {},
   "outputs": [],
   "source": [
    "vectorizer = CountVectorizer(stop_words='english',binary=True)\n",
    "X = vectorizer.fit_transform(df['article_text'])"
   ]
  },
  {
   "cell_type": "code",
   "execution_count": 37,
   "metadata": {},
   "outputs": [],
   "source": [
    "X = X.toarray()"
   ]
  },
  {
   "cell_type": "code",
   "execution_count": 38,
   "metadata": {},
   "outputs": [],
   "source": [
    "sums = X.sum(axis=0)"
   ]
  },
  {
   "cell_type": "code",
   "execution_count": 39,
   "metadata": {},
   "outputs": [
    {
     "data": {
      "text/plain": [
       "500"
      ]
     },
     "execution_count": 39,
     "metadata": {},
     "output_type": "execute_result"
    }
   ],
   "source": [
    "sums.max()"
   ]
  },
  {
   "cell_type": "code",
   "execution_count": 63,
   "metadata": {},
   "outputs": [
    {
     "name": "stdout",
     "output_type": "stream",
     "text": [
      "[[ 1089]\n",
      " [ 3816]\n",
      " [12185]]\n"
     ]
    }
   ],
   "source": [
    "thresh = 0.8\n",
    "max_indices = np.argwhere(sums >= thresh*df.shape[0])\n",
    "print(max_indices)"
   ]
  },
  {
   "cell_type": "code",
   "execution_count": 55,
   "metadata": {},
   "outputs": [
    {
     "name": "stdout",
     "output_type": "stream",
     "text": [
      "advertisement\n",
      "company\n",
      "continue\n",
      "new\n",
      "reading\n",
      "said\n",
      "year\n"
     ]
    }
   ],
   "source": [
    "for index in max_indices:\n",
    "    feature = vectorizer.get_feature_names()[index[0]]\n",
    "    print(feature)"
   ]
  },
  {
   "cell_type": "code",
   "execution_count": 65,
   "metadata": {},
   "outputs": [
    {
     "data": {
      "text/plain": [
       "'Wall Street Worries How Patient Fed will Remain The Dow and the S&amp;P 500 fell on Tuesday as materials shares declined and nervousness increased ahead of a Federal Reserve statement, while the Nasdaq ended higher. \\nStocks cut losses in afternoon trading, led by a rise in tech shares. The S&amp;P 500 technology index ended up 0.1 percent, helped by gains in Apple, up 1.7 percent at $127.04, and Facebook, up 1.7 percent at $79.36. \\nContinue Reading Below \\nAfter the bell, shares of Oracle rose 3.4 percent to $44.33 following results. \\nInvestors were anxious as the Federal Open Market Committee kicked off a two-day policy meeting, to be followed by a statement from Fed Chair Janet Yellen Wednesday afternoon. \\nMost economists expect the Fed to remove a pledge to be \"patient\" about raising interest rates from its statement. Market strategists said with or without a change in the language, the Fed may still be on track to raise rates as early as June. \\n\"People are waiting for the Fed to provide some degree of clarity,\" said Michael O\\'Rourke, chief market strategist at JonesTrading in Greenwich, Connecticut. \\nAmong S&amp;P 500 sectors, materials was the weakest with a 1.2 percent decline, led by DuPont, down 3.1 percent at $74.68. \\nAdvertisement \\nThe Dow Jones industrial average fell 128.34 points, or 0.71 percent, to 17,849.08, the S&amp;P 500 lost 6.91 points, or 0.33 percent, to 2,074.28 and the Nasdaq Composite added 7.93 points, or 0.16 percent, to 4,937.44. \\nIn addition to anxiety about the Fed statement, options expiration on Friday may have contributed to the day\\'s volatility, said Bruce Zaro, chief technical strategist, Bolton Global Asset Management in Boston. \\nWhile higher rates would be a sign of strength in the U.S. economy, some investors question whether the economy is strong enough to handle increased borrowing costs. \\nThe S&amp;P 500\\'s pullback followed its biggest percentage gain since Feb. 3 on Monday. \\nJohnson &amp; Johnson weighed most heavily on the S&amp;P 500 with a 1.2 percent decline to $99.89. \\nAlso boosting the Nasdaq, shares in American Airlines jumped 6.9 percent to $53.69 after an announcement that it would join the S&amp;P 500. \\nAbout 6.1 billion shares changed hands on U.S. exchanges, below the 6.6 billion average for the month to date, according to BATS Global Markets. \\nDeclining issues outnumbered advancing ones on the NYSE by 1,607 to 1,429, for a 1.12-to-1 ratio; on the Nasdaq, 1,384 issues rose and 1,330 fell, for a 1.04-to-1 ratio favoring advancers. \\nThe S&amp;P 500 posted 26 new 52-week highs and three new lows; the Nasdaq Composite recorded 112 new highs and 62 new lows. \\n(By Caroline Valetkevitch; Editing by Nick Zieminski and James Dalgleish)'"
      ]
     },
     "execution_count": 65,
     "metadata": {},
     "output_type": "execute_result"
    }
   ],
   "source": [
    "df[df['article_text'].str.contains('below')].reset_index()['article_text'][2]"
   ]
  },
  {
   "cell_type": "code",
   "execution_count": 72,
   "metadata": {},
   "outputs": [],
   "source": [
    "import numpy as np\n",
    "from sklearn.feature_extraction.text import CountVectorizer\n",
    "\n",
    "# Extract and inspect words that appear in some (large) percentage of a publisher's articles\n",
    "def find_domain_signatures(df, domain, thresh, stop_words='english', should_print=True):\n",
    "    \n",
    "    # Get all articles by provided publisher\n",
    "    df = df[df['domain'] == domain]\n",
    "    \n",
    "    # Create counter vectorizer\n",
    "    vectorizer = CountVectorizer(stop_words=stop_words,binary=True)\n",
    "    X = vectorizer.fit_transform(df['article_text'])\n",
    "    \n",
    "    # Convert to dense array\n",
    "    X = X.toarray()\n",
    "    \n",
    "    # Create sums vector with entry for each word\n",
    "    sums = X.sum(axis=0)\n",
    "    \n",
    "    # Find all indices which exceed the given percentage for inclusion\n",
    "    thresh = thresh\n",
    "    max_indices = np.argwhere(sums >= thresh*df.shape[0])\n",
    "    \n",
    "    signature_tokens = []\n",
    "    \n",
    "    # Find words at indices and append to list\n",
    "    for index in max_indices:\n",
    "        feature = vectorizer.get_feature_names()[index[0]]\n",
    "        signature_tokens.append(feature)\n",
    "    \n",
    "    # Print and return\n",
    "    if should_print:\n",
    "        print(signature_tokens)\n",
    "    return signature_tokens"
   ]
  },
  {
   "cell_type": "code",
   "execution_count": 73,
   "metadata": {},
   "outputs": [],
   "source": [
    "import sys\n",
    "sys.path.append('../src')\n",
    "\n",
    "%load_ext autoreload\n",
    "%autoreload 1\n",
    "\n",
    "from models.EDA import find_domain_signatures\n",
    "%aimport models.EDA"
   ]
  },
  {
   "cell_type": "code",
   "execution_count": 118,
   "metadata": {},
   "outputs": [
    {
     "name": "stdout",
     "output_type": "stream",
     "text": [
      "{'advertisement': 0.828, 'company': 0.505, 'continue': 1.0, 'new': 0.684, 'reading': 1.0, 'said': 0.606, 'year': 0.658}\n"
     ]
    }
   ],
   "source": [
    "sig = find_domain_signatures(train, 'foxbusiness', thresh=0.5)"
   ]
  },
  {
   "cell_type": "code",
   "execution_count": 116,
   "metadata": {},
   "outputs": [
    {
     "data": {
      "text/plain": [
       "'https://thedailybeast.com/the-week-in-wingnuts-mandatory-guns-and-state-religions'"
      ]
     },
     "execution_count": 116,
     "metadata": {},
     "output_type": "execute_result"
    }
   ],
   "source": [
    "train[(train['domain']=='thedailybeast') & (train['article_text'].str.contains('beast'))].reset_index()['url'][0]"
   ]
  },
  {
   "cell_type": "code",
   "execution_count": null,
   "metadata": {},
   "outputs": [],
   "source": []
  }
 ],
 "metadata": {
  "kernelspec": {
   "display_name": "Python 3",
   "language": "python",
   "name": "python3"
  },
  "language_info": {
   "codemirror_mode": {
    "name": "ipython",
    "version": 3
   },
   "file_extension": ".py",
   "mimetype": "text/x-python",
   "name": "python",
   "nbconvert_exporter": "python",
   "pygments_lexer": "ipython3",
   "version": "3.6.6"
  }
 },
 "nbformat": 4,
 "nbformat_minor": 2
}
