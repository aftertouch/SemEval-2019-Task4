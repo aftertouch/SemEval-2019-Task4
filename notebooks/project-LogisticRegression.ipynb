import pandas
import numpy as np
from sklearn.model_selection import train_test_split
from sklearn.feature_extraction.text import CountVectorizer, TfidfVectorizer
from sklearn.linear_model import LogisticRegression
from sklearn.feature_extraction.text import TfidfTransformer
from sklearn import metrics

trainfile = 'C:/Users/Negar/Downloads/train10000_0.csv'
data = pandas.read_csv(trainfile)
#vectorizer = CountVectorizer()
vectorizer = TfidfVectorizer(sublinear_tf=True, max_df=0.1)
text = data.preprocessed_text.tolist()
bag_of_words = vectorizer.fit(text)
bag_of_words = vectorizer.transform(text)

#tf and tfidf
tf_transformer = TfidfTransformer(use_idf=False).fit(bag_of_words)
X_train_tf = tf_transformer.transform(bag_of_words)
X_train_tf.shape

tfidf_transformer = TfidfTransformer()
X_train_tfidf = tfidf_transformer.fit_transform(bag_of_words)
X_train_tfidf.shape

#training
#clf = MultinomialNB().fit(X_train_tfidf, data.hyperpartisan.tolist())
clf = LogisticRegression(C=30.0, class_weight='balanced', solver='newton-cg', multi_class='multinomial', n_jobs=-1, random_state=40)
clf.fit(X_train_tfidf, data.hyperpartisan.tolist())

#testing
testfile = 'val100_0.csv'
df = pandas.read_csv(testfile)
testdata = df.preprocessed_text.tolist()
#newbag = vectorizer.fit(testdata)
newbag = vectorizer.transform(testdata)

#print(vectorizer.vocabulary_)

tf_transformer = TfidfTransformer(use_idf=False).fit(newbag)
X_new_tf = tf_transformer.transform(newbag)
#X_new_tf.shape

X_new_tfidf = tfidf_transformer.fit_transform(newbag)
#X_new_tfidf.shape


#predicted = clf.predict(X_new_tfidf)
predicted = clf.predict(X_new_tfidf)


#print(predicted)
print("accuracy:")
print(np.mean(predicted == df.hyperpartisan))


print(metrics.classification_report(df.hyperpartisan, predicted))