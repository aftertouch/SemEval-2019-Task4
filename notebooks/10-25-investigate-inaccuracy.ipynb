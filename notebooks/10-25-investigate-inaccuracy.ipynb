{
 "cells": [
  {
   "cell_type": "code",
   "execution_count": 1,
   "metadata": {},
   "outputs": [],
   "source": [
    "import pandas as pd"
   ]
  },
  {
   "cell_type": "code",
   "execution_count": 4,
   "metadata": {},
   "outputs": [],
   "source": [
    "import glob\n",
    "DATA_PATH = '../data/'\n",
    "DATA_PROCESSED_PATH = DATA_PATH + 'processed/'\n",
    "filepath = DATA_PROCESSED_PATH + '*.csv'\n",
    "# Get training and test data\n",
    "train_path = glob.glob(DATA_PROCESSED_PATH + 'train*.csv')[0]\n",
    "val_path = glob.glob(DATA_PROCESSED_PATH + 'val*.csv')[0]"
   ]
  },
  {
   "cell_type": "code",
   "execution_count": 6,
   "metadata": {},
   "outputs": [
    {
     "name": "stdout",
     "output_type": "stream",
     "text": [
      "Majority baseline accuracy is 0.4999\n",
      "Multinomial Naive Bayes\n",
      "             precision    recall  f1-score   support\n",
      "\n",
      "      False       0.77      0.38      0.51      1249\n",
      "       True       0.59      0.89      0.71      1250\n",
      "\n",
      "avg / total       0.68      0.63      0.61      2499\n",
      "\n",
      "Accuracy: 0.6339\n",
      "Logistic Regression\n",
      "             precision    recall  f1-score   support\n",
      "\n",
      "      False       0.71      0.48      0.57      1249\n",
      "       True       0.61      0.80      0.69      1250\n",
      "\n",
      "avg / total       0.66      0.64      0.63      2499\n",
      "\n",
      "Accuracy: 0.6403\n",
      "Best model is Logistic Regression with an accuracy score of 0.6403\n"
     ]
    }
   ],
   "source": [
    "import sys\n",
    "sys.path.append('../src')\n",
    "from models.models import calculate_baseline, run_models\n",
    "from models.pipeline import make_features_pipeline\n",
    "\n",
    "# Load training and validation data\n",
    "train = pd.read_csv(train_path)\n",
    "val = pd.read_csv(val_path)\n",
    "\n",
    "# Train test split\n",
    "X_train = train.drop('hyperpartisan', axis=1)\n",
    "y_train = train['hyperpartisan']\n",
    "X_test = val.drop('hyperpartisan', axis=1)\n",
    "y_test = val['hyperpartisan']\n",
    "\n",
    "# Calculate Baseline\n",
    "baseline = calculate_baseline(train)\n",
    "\n",
    "# Create Feature Union\n",
    "feats = make_features_pipeline()\n",
    "\n",
    "# Evaluate Models\n",
    "model_list = ['nb', 'lr']\n",
    "best_tfidf_model, best_tfidf_model_type, best_tfidf_model_predictions = run_models(feats, model_list, X_train, X_test, y_train, y_test)"
   ]
  },
  {
   "cell_type": "code",
   "execution_count": 10,
   "metadata": {},
   "outputs": [],
   "source": [
    "preds = pd.Series(best_tfidf_model_predictions)"
   ]
  },
  {
   "cell_type": "code",
   "execution_count": 20,
   "metadata": {},
   "outputs": [],
   "source": [
    "pvt = pd.DataFrame({'true': y_test, 'pred' : preds})"
   ]
  },
  {
   "cell_type": "code",
   "execution_count": 22,
   "metadata": {},
   "outputs": [
    {
     "data": {
      "text/plain": [
       "Int64Index([ 504,  507,  512,  517,  520,  521,  523,  524,  526,  533,\n",
       "            ...\n",
       "            2161, 2170, 2172, 2177, 2178, 2181, 2185, 2199, 2201, 2204],\n",
       "           dtype='int64', length=245)"
      ]
     },
     "execution_count": 22,
     "metadata": {},
     "output_type": "execute_result"
    }
   ],
   "source": [
    "pvt[(pvt['true']==True) & (pvt['pred']==False)].index"
   ]
  },
  {
   "cell_type": "code",
   "execution_count": 29,
   "metadata": {},
   "outputs": [
    {
     "data": {
      "text/plain": [
       "'https://pjmedia.com/parenting/2015/11/30/top-ten-christmas-movies-we-love-to-watch-over-and-over-again'"
      ]
     },
     "execution_count": 29,
     "metadata": {},
     "output_type": "execute_result"
    }
   ],
   "source": [
    "val.iloc[pvt[(pvt['true']==True) & (pvt['pred']==False)].index].reset_index()['url'][201]"
   ]
  },
  {
   "cell_type": "code",
   "execution_count": null,
   "metadata": {},
   "outputs": [],
   "source": []
  }
 ],
 "metadata": {
  "kernelspec": {
   "display_name": "Python 3",
   "language": "python",
   "name": "python3"
  },
  "language_info": {
   "codemirror_mode": {
    "name": "ipython",
    "version": 3
   },
   "file_extension": ".py",
   "mimetype": "text/x-python",
   "name": "python",
   "nbconvert_exporter": "python",
   "pygments_lexer": "ipython3",
   "version": "3.6.6"
  }
 },
 "nbformat": 4,
 "nbformat_minor": 2
}
