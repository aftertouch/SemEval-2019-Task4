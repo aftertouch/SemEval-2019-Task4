{
 "cells": [
  {
   "cell_type": "markdown",
   "metadata": {},
   "source": [
    "# Looking at 'eli5' package explanation of classifier"
   ]
  },
  {
   "cell_type": "markdown",
   "metadata": {},
   "source": [
    "#### Dependencies"
   ]
  },
  {
   "cell_type": "code",
   "execution_count": 1,
   "metadata": {},
   "outputs": [
    {
     "name": "stderr",
     "output_type": "stream",
     "text": [
      "/Users/jmill/anaconda3/envs/SemEval2019-4/lib/python3.6/site-packages/sklearn/ensemble/weight_boosting.py:29: DeprecationWarning: numpy.core.umath_tests is an internal NumPy module and should not be imported. It will be removed in a future NumPy release.\n",
      "  from numpy.core.umath_tests import inner1d\n"
     ]
    }
   ],
   "source": [
    "import pandas as pd\n",
    "import eli5\n",
    "import matplotlib.pyplot as plit\n",
    "%matplotlib inline\n",
    "from eli5.sklearn import InvertableHashingVectorizer\n",
    "import numpy as np\n",
    "\n",
    "\n",
    "from sklearn.feature_extraction import text\n",
    "from sklearn.feature_extraction.text import TfidfVectorizer, HashingVectorizer\n",
    "from sklearn.linear_model import LogisticRegression, LogisticRegressionCV, SGDClassifier\n",
    "from sklearn.pipeline import Pipeline, FeatureUnion\n",
    "from sklearn.decomposition import TruncatedSVD\n",
    "\n",
    "from xgboost import XGBClassifier\n",
    "\n",
    "import sys\n",
    "sys.path.append('../src')\n",
    "\n",
    "%load_ext autoreload\n",
    "%autoreload 1\n",
    "\n",
    "from datatasks.sample_data import sample_data\n",
    "%aimport datatasks.sample_data\n",
    "\n",
    "from models.models import evaluate_model\n",
    "\n",
    "from models.plot import plot_confusion_matrix\n",
    "\n",
    "from models.pipeline import make_features_pipeline"
   ]
  },
  {
   "cell_type": "markdown",
   "metadata": {},
   "source": [
    "#### Load data"
   ]
  },
  {
   "cell_type": "code",
   "execution_count": 2,
   "metadata": {},
   "outputs": [],
   "source": [
    "DATA_PATH = '../data/'\n",
    "DATA_INTERIM_PATH = DATA_PATH + 'interim/'\n",
    "train = pd.read_csv(DATA_INTERIM_PATH + 'train_p.csv')\n",
    "val = pd.read_csv(DATA_INTERIM_PATH + 'val_p.csv')"
   ]
  },
  {
   "cell_type": "code",
   "execution_count": 3,
   "metadata": {},
   "outputs": [],
   "source": [
    "train = train[~(train['domain']=='foxbusiness')]"
   ]
  },
  {
   "cell_type": "markdown",
   "metadata": {},
   "source": [
    "#### Sample data"
   ]
  },
  {
   "cell_type": "code",
   "execution_count": 4,
   "metadata": {},
   "outputs": [],
   "source": [
    "train_s = sample_data(train, 70000, 'train')\n",
    "val_s = sample_data(val, 10000, 'val')"
   ]
  },
  {
   "cell_type": "code",
   "execution_count": 5,
   "metadata": {},
   "outputs": [],
   "source": [
    "train_s.loc[train_s[\"HP_links_count\"] > 0, \"HP_links_count\"] = 1\n",
    "val_s.loc[val_s[\"HP_links_count\"] > 0, \"HP_links_count\"] = 1"
   ]
  },
  {
   "cell_type": "code",
   "execution_count": 6,
   "metadata": {},
   "outputs": [],
   "source": [
    "y_train = train_s['hyperpartisan']\n",
    "y_test = val_s['hyperpartisan']"
   ]
  },
  {
   "cell_type": "code",
   "execution_count": 7,
   "metadata": {},
   "outputs": [],
   "source": [
    "my_stop_words = text.ENGLISH_STOP_WORDS.union([\"jan\", 'feb', 'mar', 'apr', 'may', 'jun', 'jul', 'aug', 'sep', 'oct', 'nov', 'dec',\n",
    "                                               'january', 'february', 'march', 'april', 'may', 'june', 'july', 'august', 'september',\n",
    "                                               'october', 'november', 'december', 'monday', 'tuesday', 'wednesday', 'thursday',\n",
    "                                               'friday', 'saturday', 'sunday', 'mon', 'tue', 'wed', 'thu', 'fri', 'sat', 'sun',\n",
    "                                              'advertisement', 'said', 'image', 'year'\n",
    "                                              '2017', '2018', '2016', '2015'])"
   ]
  },
  {
   "cell_type": "code",
   "execution_count": 22,
   "metadata": {},
   "outputs": [],
   "source": [
    "vec = HashingVectorizer(norm='l2', ngram_range=(1,3), stop_words=my_stop_words)\n",
    "clf = SGDClassifier()\n",
    "feats = make_features_pipeline(vec, 'preprocessed_text')\n",
    "\n",
    "pipeline = Pipeline([\n",
    "    ('vec', vec),\n",
    "    #('feats', feats),\n",
    "    ('clf', clf)\n",
    "])"
   ]
  },
  {
   "cell_type": "code",
   "execution_count": 24,
   "metadata": {},
   "outputs": [
    {
     "name": "stderr",
     "output_type": "stream",
     "text": [
      "/Users/jmill/anaconda3/envs/SemEval2019-4/lib/python3.6/site-packages/sklearn/linear_model/stochastic_gradient.py:128: FutureWarning: max_iter and tol parameters have been added in <class 'sklearn.linear_model.stochastic_gradient.SGDClassifier'> in 0.19. If both are left unset, they default to max_iter=5 and tol=None. If tol is not None, max_iter defaults to max_iter=1000. From 0.21, default max_iter will be 1000, and default tol will be 1e-3.\n",
      "  \"and default tol will be 1e-3.\" % type(self), FutureWarning)\n"
     ]
    },
    {
     "data": {
      "text/plain": [
       "Pipeline(memory=None,\n",
       "     steps=[('vec', HashingVectorizer(alternate_sign=True, analyzer='word', binary=False,\n",
       "         decode_error='strict', dtype=<class 'numpy.float64'>,\n",
       "         encoding='utf-8', input='content', lowercase=True,\n",
       "         n_features=1048576, ngram_range=(1, 3), non_negative=False,\n",
       "         norm='l2', pre...='l2', power_t=0.5, random_state=None,\n",
       "       shuffle=True, tol=None, verbose=0, warm_start=False))])"
      ]
     },
     "execution_count": 24,
     "metadata": {},
     "output_type": "execute_result"
    }
   ],
   "source": [
    "pipeline.fit(train_s['preprocessed_text'], y_train)"
   ]
  },
  {
   "cell_type": "code",
   "execution_count": 25,
   "metadata": {},
   "outputs": [
    {
     "name": "stdout",
     "output_type": "stream",
     "text": [
      "             precision    recall  f1-score   support\n",
      "\n",
      "      False       0.72      0.52      0.61      4999\n",
      "       True       0.63      0.80      0.70      5000\n",
      "\n",
      "avg / total       0.67      0.66      0.65      9999\n",
      "\n",
      "Accuracy: 0.6612\n"
     ]
    },
    {
     "data": {
      "text/plain": [
       "0.6611661166116611"
      ]
     },
     "execution_count": 25,
     "metadata": {},
     "output_type": "execute_result"
    }
   ],
   "source": [
    "predicted = pipeline.predict(val_s['preprocessed_text'])\n",
    "evaluate_model(predicted, y_test)"
   ]
  },
  {
   "cell_type": "code",
   "execution_count": 26,
   "metadata": {},
   "outputs": [
    {
     "data": {
      "image/png": "[encoded data removed]",
      "text/plain": [
       "<Figure size 576x576 with 2 Axes>"
      ]
     },
     "metadata": {
      "needs_background": "light"
     },
     "output_type": "display_data"
    }
   ],
   "source": [
    "plot_confusion_matrix(y_test, predicted)"
   ]
  },
  {
   "cell_type": "code",
   "execution_count": 27,
   "metadata": {},
   "outputs": [],
   "source": [
    "ivec = InvertableHashingVectorizer(vec)\n",
    "sample_size = len(train_s['preprocessed_text']) // 10\n",
    "X_sample = np.random.choice(train_s['preprocessed_text'], size=sample_size)\n",
    "ivec.fit(X_sample);"
   ]
  },
  {
   "cell_type": "code",
   "execution_count": 29,
   "metadata": {},
   "outputs": [
    {
     "name": "stderr",
     "output_type": "stream",
     "text": [
      "ERROR:root:Internal Python error in the inspect module.\n",
      "Below is the traceback from this internal error.\n",
      "\n"
     ]
    },
    {
     "name": "stdout",
     "output_type": "stream",
     "text": [
      "Traceback (most recent call last):\n",
      "  File \"/Users/jmill/anaconda3/envs/SemEval2019-4/lib/python3.6/site-packages/IPython/core/interactiveshell.py\", line 2961, in run_code\n",
      "    exec(code_obj, self.user_global_ns, self.user_ns)\n",
      "  File \"<ipython-input-29-aedf53e86a81>\", line 1, in <module>\n",
      "    eli5.show_weights(clf, vec=ivec, top=100)\n",
      "  File \"/Users/jmill/anaconda3/envs/SemEval2019-4/lib/python3.6/site-packages/eli5/ipython.py\", line 119, in show_weights\n",
      "    expl = explain_weights(estimator, **explain_kwargs)\n",
      "  File \"/Users/jmill/anaconda3/envs/SemEval2019-4/lib/python3.6/site-packages/singledispatch.py\", line 210, in wrapper\n",
      "    return dispatch(args[0].__class__)(*args, **kw)\n",
      "  File \"/Users/jmill/anaconda3/envs/SemEval2019-4/lib/python3.6/site-packages/eli5/sklearn/explain_weights.py\", line 217, in explain_linear_classifier_weights\n",
      "    coef_scale)\n",
      "  File \"/Users/jmill/anaconda3/envs/SemEval2019-4/lib/python3.6/site-packages/eli5/sklearn/unhashing.py\", line 255, in handle_hashing_vec\n",
      "    feature_names = vec.get_feature_names(always_signed=False)\n",
      "  File \"/Users/jmill/anaconda3/envs/SemEval2019-4/lib/python3.6/site-packages/eli5/sklearn/unhashing.py\", line 84, in get_feature_names\n",
      "    always_positive=self._always_positive(),\n",
      "  File \"/Users/jmill/anaconda3/envs/SemEval2019-4/lib/python3.6/site-packages/eli5/sklearn/unhashing.py\", line 150, in get_feature_names\n",
      "    column_ids, term_names, term_signs = self._get_collision_info()\n",
      "  File \"/Users/jmill/anaconda3/envs/SemEval2019-4/lib/python3.6/site-packages/eli5/sklearn/unhashing.py\", line 205, in _get_collision_info\n",
      "    term_names.append(self.terms_[_term_ids])\n",
      "KeyboardInterrupt\n",
      "\n",
      "During handling of the above exception, another exception occurred:\n",
      "\n",
      "Traceback (most recent call last):\n",
      "  File \"/Users/jmill/anaconda3/envs/SemEval2019-4/lib/python3.6/site-packages/IPython/core/interactiveshell.py\", line 1863, in showtraceback\n",
      "    stb = value._render_traceback_()\n",
      "AttributeError: 'KeyboardInterrupt' object has no attribute '_render_traceback_'\n",
      "\n",
      "During handling of the above exception, another exception occurred:\n",
      "\n",
      "Traceback (most recent call last):\n",
      "  File \"/Users/jmill/anaconda3/envs/SemEval2019-4/lib/python3.6/site-packages/IPython/core/ultratb.py\", line 1095, in get_records\n",
      "    return _fixed_getinnerframes(etb, number_of_lines_of_context, tb_offset)\n",
      "  File \"/Users/jmill/anaconda3/envs/SemEval2019-4/lib/python3.6/site-packages/IPython/core/ultratb.py\", line 311, in wrapped\n",
      "    return f(*args, **kwargs)\n",
      "  File \"/Users/jmill/anaconda3/envs/SemEval2019-4/lib/python3.6/site-packages/IPython/core/ultratb.py\", line 345, in _fixed_getinnerframes\n",
      "    records = fix_frame_records_filenames(inspect.getinnerframes(etb, context))\n",
      "  File \"/Users/jmill/anaconda3/envs/SemEval2019-4/lib/python3.6/inspect.py\", line 1483, in getinnerframes\n",
      "    frameinfo = (tb.tb_frame,) + getframeinfo(tb, context)\n",
      "  File \"/Users/jmill/anaconda3/envs/SemEval2019-4/lib/python3.6/inspect.py\", line 1441, in getframeinfo\n",
      "    filename = getsourcefile(frame) or getfile(frame)\n",
      "  File \"/Users/jmill/anaconda3/envs/SemEval2019-4/lib/python3.6/inspect.py\", line 685, in getsourcefile\n",
      "    all_bytecode_suffixes = importlib.machinery.DEBUG_BYTECODE_SUFFIXES[:]\n",
      "KeyboardInterrupt\n"
     ]
    },
    {
     "ename": "KeyboardInterrupt",
     "evalue": "",
     "output_type": "error",
     "traceback": [
      "\u001b[0;31m---------------------------------------------------------------------------\u001b[0m"
     ]
    }
   ],
   "source": [
    "eli5.show_weights(clf, vec=ivec, top=100)"
   ]
  },
  {
   "cell_type": "code",
   "execution_count": null,
   "metadata": {},
   "outputs": [],
   "source": [
    "obs = 799\n",
    "eli5.show_prediction(clf, val_s['preprocessed_text'][obs], vec=ivec)"
   ]
  },
  {
   "cell_type": "code",
   "execution_count": 20,
   "metadata": {},
   "outputs": [
    {
     "data": {
      "text/plain": [
       "hyperpartisan\n",
       "False    0.061917\n",
       "True     0.237082\n",
       "Name: HP_links_count, dtype: float64"
      ]
     },
     "execution_count": 20,
     "metadata": {},
     "output_type": "execute_result"
    }
   ],
   "source": [
    "train_s.groupby('hyperpartisan')['HP_links_count'].mean()"
   ]
  },
  {
   "cell_type": "code",
   "execution_count": null,
   "metadata": {},
   "outputs": [],
   "source": []
  }
 ],
 "metadata": {
  "kernelspec": {
   "display_name": "Python 3",
   "language": "python",
   "name": "python3"
  },
  "language_info": {
   "codemirror_mode": {
    "name": "ipython",
    "version": 3
   },
   "file_extension": ".py",
   "mimetype": "text/x-python",
   "name": "python",
   "nbconvert_exporter": "python",
   "pygments_lexer": "ipython3",
   "version": "3.6.6"
  }
 },
 "nbformat": 4,
 "nbformat_minor": 2
}
