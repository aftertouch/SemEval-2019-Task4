{
 "cells": [
  {
   "cell_type": "markdown",
   "metadata": {},
   "source": [
    "# Converting project to Gensim best pratices"
   ]
  },
  {
   "cell_type": "markdown",
   "metadata": {},
   "source": [
    "#### Dependencies"
   ]
  },
  {
   "cell_type": "code",
   "execution_count": 20,
   "metadata": {},
   "outputs": [
    {
     "name": "stdout",
     "output_type": "stream",
     "text": [
      "The autoreload extension is already loaded. To reload it, use:\n",
      "  %reload_ext autoreload\n"
     ]
    }
   ],
   "source": [
    "import logging\n",
    "import gensim\n",
    "from gensim import corpora\n",
    "from pprint import pprint\n",
    "from gensim.models import TfidfModel\n",
    "from gensim.utils import simple_preprocess\n",
    "from gensim.sklearn_api import TfIdfTransformer\n",
    "from smart_open import smart_open\n",
    "import os\n",
    "import pandas as pd\n",
    "import numpy as np\n",
    "import ast\n",
    "from tqdm import tqdm\n",
    "import pickle\n",
    "import glob\n",
    "import itertools\n",
    "from gensim.sklearn_api import TfIdfTransformer\n",
    "from sklearn.pipeline import Pipeline\n",
    "from sklearn.linear_model import LogisticRegression\n",
    "\n",
    "import sys\n",
    "sys.path.append('../src')\n",
    "\n",
    "%load_ext autoreload\n",
    "%autoreload 1\n",
    "\n",
    "from models.models import evaluate_model\n",
    "\n",
    "from models.plot import plot_LSA, plot_confusion_matrix\n",
    "\n",
    "logging.basicConfig(format='%(levelname)s : %(message)s', level=logging.INFO)\n",
    "logging.root.level = logging.INFO  # ipython sometimes messes up the logging setup; restore"
   ]
  },
  {
   "cell_type": "markdown",
   "metadata": {},
   "source": [
    "#### Load data and get token lists from dataframe\n",
    "\n",
    "This only needs to be run once. Token lists will be saved in order to take advantage of Gensim's loading"
   ]
  },
  {
   "cell_type": "code",
   "execution_count": 4,
   "metadata": {},
   "outputs": [],
   "source": [
    "DATA_PATH = '../data/'\n",
    "DATA_INTERIM_PATH = DATA_PATH + 'interim/'\n",
    "DATA_PROCESSED_PATH = DATA_PATH + 'processed/'"
   ]
  },
  {
   "cell_type": "code",
   "execution_count": 21,
   "metadata": {},
   "outputs": [
    {
     "name": "stderr",
     "output_type": "stream",
     "text": [
      "100%|██████████| 149999/149999 [05:17<00:00, 471.75it/s]\n"
     ]
    }
   ],
   "source": [
    "#train = pd.read_csv(DATA_INTERIM_PATH + 'train_p.csv', usecols=['tokens'])\n",
    "#train_tokens1 = [ast.literal_eval(train['tokens'].values[i]) for i in tqdm(range(0, 149999))]\n",
    "\n",
    "#with open(DATA_PROCESSED_PATH + \"train_tokens1.txt\", \"wb\") as internal_filename:\n",
    "#    pickle.dump(train_tokens1, internal_filename)"
   ]
  },
  {
   "cell_type": "code",
   "execution_count": 3,
   "metadata": {},
   "outputs": [
    {
     "name": "stderr",
     "output_type": "stream",
     "text": [
      "100%|██████████| 150000/150000 [10:40<00:00, 234.33it/s]\n"
     ]
    }
   ],
   "source": [
    "#val = pd.read_csv(DATA_INTERIM_PATH + 'val_p.csv', usecols=['tokens'])\n",
    "#val_tokens = [ast.literal_eval(val['tokens'].values[i]) for i in tqdm(range(0,val.shape[0]))]\n",
    "#with open(DATA_PROCESSED_PATH + \"val_tokens.txt\", \"wb\") as internal_filename:\n",
    "#    pickle.dump(val_tokens, internal_filename)"
   ]
  },
  {
   "cell_type": "markdown",
   "metadata": {},
   "source": [
    "#### Create Gensim Dictionary and Bag-of-Words Corpus"
   ]
  },
  {
   "cell_type": "code",
   "execution_count": 47,
   "metadata": {},
   "outputs": [],
   "source": [
    "#train_dictionary = corpora.Dictionary()\n",
    "#fnames = list(reversed(glob.glob(DATA_PROCESSED_PATH + 'train_tokens*')))\n",
    "#for fname in fnames:\n",
    "#    with open(fname, \"rb\") as internal_filename:\n",
    "#        train_tokens = pickle.load(internal_filename)\n",
    "#    train_dictionary.add_documents(train_tokens)\n",
    "\n",
    "#train_dictionary.save(DATA_PROCESSED_PATH + 'train_dict.dict')"
   ]
  },
  {
   "cell_type": "code",
   "execution_count": 5,
   "metadata": {},
   "outputs": [],
   "source": [
    "class MyCorpus(object):\n",
    "    \n",
    "    def __init__(self, filepath, dictionary, trainorval):\n",
    "        self.filepath = filepath\n",
    "        self.dictionary = dictionary\n",
    "        self.trainorval = trainorval\n",
    "        self.fnames = list(reversed(glob.glob(filepath + trainorval + '_tokens*')))\n",
    "    \n",
    "    def __iter__(self):\n",
    "        for fname in self.fnames:\n",
    "            with open(fname, \"rb\") as internal_filename:\n",
    "                for doc in pickle.load(internal_filename):\n",
    "                    yield self.dictionary.doc2bow(doc)"
   ]
  },
  {
   "cell_type": "markdown",
   "metadata": {},
   "source": [
    "#### Serialize train and val BoW"
   ]
  },
  {
   "cell_type": "code",
   "execution_count": 6,
   "metadata": {},
   "outputs": [],
   "source": [
    "train_dictionary = corpora.Dictionary.load(DATA_PROCESSED_PATH + 'train_dict.dict')\n",
    "train_corpus = MyCorpus(DATA_PROCESSED_PATH, train_dictionary, 'train')\n",
    "gensim.corpora.MmCorpus.serialize(DATA_PROCESSED_PATH + 'train_bow.mm', train_corpus)"
   ]
  },
  {
   "cell_type": "code",
   "execution_count": 15,
   "metadata": {},
   "outputs": [],
   "source": [
    "val_corpus = MyCorpus(DATA_PROCESSED_PATH, train_dictionary, 'val')\n",
    "gensim.corpora.MmCorpus.serialize(DATA_PROCESSED_PATH + 'val_bow.mm', train_corpus)"
   ]
  },
  {
   "cell_type": "markdown",
   "metadata": {},
   "source": [
    "#### Load BoW"
   ]
  },
  {
   "cell_type": "code",
   "execution_count": 17,
   "metadata": {},
   "outputs": [],
   "source": [
    "train_mm_corpus = gensim.corpora.MmCorpus(DATA_PROCESSED_PATH + 'train_bow.mm')\n",
    "val_mm_corpus = gensim.corpora.MmCorpus(DATA_PROCESSED_PATH + 'val_bow.mm')"
   ]
  },
  {
   "cell_type": "markdown",
   "metadata": {},
   "source": [
    "#### Load targets"
   ]
  },
  {
   "cell_type": "code",
   "execution_count": 18,
   "metadata": {},
   "outputs": [],
   "source": [
    "y_train = pd.read_csv(DATA_INTERIM_PATH + 'train_p.csv', usecols=['hyperpartisan'])\n",
    "y_test = pd.read_csv(DATA_INTERIM_PATH + 'val_p.csv', usecols=['hyperpartisan'])"
   ]
  },
  {
   "cell_type": "markdown",
   "metadata": {},
   "source": [
    "#### TF-IDF"
   ]
  },
  {
   "cell_type": "code",
   "execution_count": 21,
   "metadata": {},
   "outputs": [
    {
     "name": "stderr",
     "output_type": "stream",
     "text": [
      "WARNING : constructor received both corpus and explicit inverse document frequencies; ignoring the corpus\n"
     ]
    }
   ],
   "source": [
    "tfidf = TfIdfTransformer(dictionary=train_dictionary)\n",
    "X_train = tfidf.fit_transform(train_mm_corpus)"
   ]
  },
  {
   "cell_type": "markdown",
   "metadata": {},
   "source": [
    "#### Fit Classifier"
   ]
  },
  {
   "cell_type": "code",
   "execution_count": null,
   "metadata": {},
   "outputs": [],
   "source": [
    "clf = LogisticRegression()\n",
    "clf.fit(X_train, y_train['hyperpartisan'].tolist())"
   ]
  },
  {
   "cell_type": "markdown",
   "metadata": {},
   "source": [
    "#### Predict and Evaluate"
   ]
  },
  {
   "cell_type": "code",
   "execution_count": null,
   "metadata": {},
   "outputs": [],
   "source": [
    "X_test = tfidf.transform(val_mm_corpus)"
   ]
  },
  {
   "cell_type": "code",
   "execution_count": null,
   "metadata": {},
   "outputs": [],
   "source": [
    "preds = clf.predict(X_test, y_test['hyperpartisan'].tolist())"
   ]
  },
  {
   "cell_type": "code",
   "execution_count": null,
   "metadata": {},
   "outputs": [],
   "source": [
    "evaluate_model(y_test, preds)"
   ]
  },
  {
   "cell_type": "code",
   "execution_count": null,
   "metadata": {},
   "outputs": [],
   "source": [
    "plot_confusion_matrix(y_test, preds)"
   ]
  },
  {
   "cell_type": "code",
   "execution_count": null,
   "metadata": {},
   "outputs": [],
   "source": []
  }
 ],
 "metadata": {
  "kernelspec": {
   "display_name": "Python 3",
   "language": "python",
   "name": "python3"
  },
  "language_info": {
   "codemirror_mode": {
    "name": "ipython",
    "version": 3
   },
   "file_extension": ".py",
   "mimetype": "text/x-python",
   "name": "python",
   "nbconvert_exporter": "python",
   "pygments_lexer": "ipython3",
   "version": "3.6.6"
  }
 },
 "nbformat": 4,
 "nbformat_minor": 2
}
