{
 "cells": [
  {
   "cell_type": "code",
   "execution_count": 3,
   "metadata": {},
   "outputs": [],
   "source": [
    "import pandas as pd\n",
    "import numpy as np"
   ]
  },
  {
   "cell_type": "code",
   "execution_count": 4,
   "metadata": {},
   "outputs": [],
   "source": [
    "DATA_PATH = '../data/'\n",
    "nonenglish = pd.read_csv(DATA_PATH + 'processed/' + 'nonenglish_train.csv')\n",
    "nonenglishval = pd.read_csv(DATA_PATH + 'processed/' + 'nonenglish_val.csv')"
   ]
  },
  {
   "cell_type": "code",
   "execution_count": 5,
   "metadata": {},
   "outputs": [
    {
     "data": {
      "text/html": [
       "<div>\n",
       "<style scoped>\n",
       "    .dataframe tbody tr th:only-of-type {\n",
       "        vertical-align: middle;\n",
       "    }\n",
       "\n",
       "    .dataframe tbody tr th {\n",
       "        vertical-align: top;\n",
       "    }\n",
       "\n",
       "    .dataframe thead th {\n",
       "        text-align: right;\n",
       "    }\n",
       "</style>\n",
       "<table border=\"1\" class=\"dataframe\">\n",
       "  <thead>\n",
       "    <tr style=\"text-align: right;\">\n",
       "      <th></th>\n",
       "      <th>id</th>\n",
       "      <th>published-at</th>\n",
       "      <th>title</th>\n",
       "      <th>hyperpartisan</th>\n",
       "      <th>bias</th>\n",
       "      <th>url</th>\n",
       "      <th>labeled-by</th>\n",
       "      <th>article_text</th>\n",
       "      <th>language</th>\n",
       "    </tr>\n",
       "  </thead>\n",
       "  <tbody>\n",
       "    <tr>\n",
       "      <th>0</th>\n",
       "      <td>60</td>\n",
       "      <td>2018-01-06</td>\n",
       "      <td>Dem?cratas en los estados preparan respuestas ...</td>\n",
       "      <td>False</td>\n",
       "      <td>least</td>\n",
       "      <td>https://apnews.com/acc3bd7adda046419e2da44e415...</td>\n",
       "      <td>publisher</td>\n",
       "      <td>Dem?cratas en los estados preparan respuestas ...</td>\n",
       "      <td>spanish</td>\n",
       "    </tr>\n",
       "    <tr>\n",
       "      <th>1</th>\n",
       "      <td>352</td>\n",
       "      <td>2018-01-18</td>\n",
       "      <td>Wenger: ?Probable? que Alexis S?nchez pase a M...</td>\n",
       "      <td>False</td>\n",
       "      <td>least</td>\n",
       "      <td>https://apnews.com/5c8f52d19f7843dfbd8be198cab...</td>\n",
       "      <td>publisher</td>\n",
       "      <td>Wenger: ?Probable? que Alexis S?nchez pase a M...</td>\n",
       "      <td>spanish</td>\n",
       "    </tr>\n",
       "    <tr>\n",
       "      <th>2</th>\n",
       "      <td>403</td>\n",
       "      <td>2018-01-05</td>\n",
       "      <td>Thursday?s Scores</td>\n",
       "      <td>False</td>\n",
       "      <td>least</td>\n",
       "      <td>https://apnews.com/ec83f45afabd44dfbc4e0a18838...</td>\n",
       "      <td>publisher</td>\n",
       "      <td>Thursday?s Scores Borah 64, Mountain View 61, ...</td>\n",
       "      <td>french</td>\n",
       "    </tr>\n",
       "    <tr>\n",
       "      <th>3</th>\n",
       "      <td>691</td>\n",
       "      <td>2016-12-02</td>\n",
       "      <td>National Liberty Federation added a new photo.</td>\n",
       "      <td>True</td>\n",
       "      <td>right</td>\n",
       "      <td>http://libertyfederation.org/national-liberty-...</td>\n",
       "      <td>publisher</td>\n",
       "      <td>National Liberty Federation added a new photo....</td>\n",
       "      <td>azerbaijani</td>\n",
       "    </tr>\n",
       "    <tr>\n",
       "      <th>4</th>\n",
       "      <td>1384</td>\n",
       "      <td>2018-01-21</td>\n",
       "      <td>Saturday?s Scores</td>\n",
       "      <td>False</td>\n",
       "      <td>least</td>\n",
       "      <td>https://apnews.com/ceb97cdeb24d41ed99386fa3a84...</td>\n",
       "      <td>publisher</td>\n",
       "      <td>Saturday?s Scores Alamosa 47, Bayfield 32 \\nAr...</td>\n",
       "      <td>french</td>\n",
       "    </tr>\n",
       "  </tbody>\n",
       "</table>\n",
       "</div>"
      ],
      "text/plain": [
       "     id published-at                                              title  \\\n",
       "0    60   2018-01-06  Dem?cratas en los estados preparan respuestas ...   \n",
       "1   352   2018-01-18  Wenger: ?Probable? que Alexis S?nchez pase a M...   \n",
       "2   403   2018-01-05                                  Thursday?s Scores   \n",
       "3   691   2016-12-02     National Liberty Federation added a new photo.   \n",
       "4  1384   2018-01-21                                  Saturday?s Scores   \n",
       "\n",
       "   hyperpartisan   bias                                                url  \\\n",
       "0          False  least  https://apnews.com/acc3bd7adda046419e2da44e415...   \n",
       "1          False  least  https://apnews.com/5c8f52d19f7843dfbd8be198cab...   \n",
       "2          False  least  https://apnews.com/ec83f45afabd44dfbc4e0a18838...   \n",
       "3           True  right  http://libertyfederation.org/national-liberty-...   \n",
       "4          False  least  https://apnews.com/ceb97cdeb24d41ed99386fa3a84...   \n",
       "\n",
       "  labeled-by                                       article_text     language  \n",
       "0  publisher  Dem?cratas en los estados preparan respuestas ...      spanish  \n",
       "1  publisher  Wenger: ?Probable? que Alexis S?nchez pase a M...      spanish  \n",
       "2  publisher  Thursday?s Scores Borah 64, Mountain View 61, ...       french  \n",
       "3  publisher  National Liberty Federation added a new photo....  azerbaijani  \n",
       "4  publisher  Saturday?s Scores Alamosa 47, Bayfield 32 \\nAr...       french  "
      ]
     },
     "execution_count": 5,
     "metadata": {},
     "output_type": "execute_result"
    }
   ],
   "source": [
    "nonenglish.head()"
   ]
  },
  {
   "cell_type": "code",
   "execution_count": 6,
   "metadata": {},
   "outputs": [
    {
     "data": {
      "text/plain": [
       "False    6673\n",
       "True      710\n",
       "Name: hyperpartisan, dtype: int64"
      ]
     },
     "execution_count": 6,
     "metadata": {},
     "output_type": "execute_result"
    }
   ],
   "source": [
    "nonenglish['hyperpartisan'].value_counts()"
   ]
  },
  {
   "cell_type": "code",
   "execution_count": 7,
   "metadata": {},
   "outputs": [
    {
     "data": {
      "text/html": [
       "<div>\n",
       "<style scoped>\n",
       "    .dataframe tbody tr th:only-of-type {\n",
       "        vertical-align: middle;\n",
       "    }\n",
       "\n",
       "    .dataframe tbody tr th {\n",
       "        vertical-align: top;\n",
       "    }\n",
       "\n",
       "    .dataframe thead th {\n",
       "        text-align: right;\n",
       "    }\n",
       "</style>\n",
       "<table border=\"1\" class=\"dataframe\">\n",
       "  <thead>\n",
       "    <tr style=\"text-align: right;\">\n",
       "      <th>language</th>\n",
       "      <th>arabic</th>\n",
       "      <th>azerbaijani</th>\n",
       "      <th>danish</th>\n",
       "      <th>dutch</th>\n",
       "      <th>french</th>\n",
       "      <th>german</th>\n",
       "      <th>hungarian</th>\n",
       "      <th>indonesian</th>\n",
       "      <th>italian</th>\n",
       "      <th>portuguese</th>\n",
       "      <th>romanian</th>\n",
       "      <th>spanish</th>\n",
       "    </tr>\n",
       "    <tr>\n",
       "      <th>hyperpartisan</th>\n",
       "      <th></th>\n",
       "      <th></th>\n",
       "      <th></th>\n",
       "      <th></th>\n",
       "      <th></th>\n",
       "      <th></th>\n",
       "      <th></th>\n",
       "      <th></th>\n",
       "      <th></th>\n",
       "      <th></th>\n",
       "      <th></th>\n",
       "      <th></th>\n",
       "    </tr>\n",
       "  </thead>\n",
       "  <tbody>\n",
       "    <tr>\n",
       "      <th>False</th>\n",
       "      <td>9</td>\n",
       "      <td>5</td>\n",
       "      <td>21</td>\n",
       "      <td>32</td>\n",
       "      <td>543</td>\n",
       "      <td>2</td>\n",
       "      <td>119</td>\n",
       "      <td>1</td>\n",
       "      <td>15</td>\n",
       "      <td>1</td>\n",
       "      <td>16</td>\n",
       "      <td>5909</td>\n",
       "    </tr>\n",
       "    <tr>\n",
       "      <th>True</th>\n",
       "      <td>3</td>\n",
       "      <td>536</td>\n",
       "      <td>101</td>\n",
       "      <td>1</td>\n",
       "      <td>26</td>\n",
       "      <td>1</td>\n",
       "      <td>0</td>\n",
       "      <td>3</td>\n",
       "      <td>12</td>\n",
       "      <td>1</td>\n",
       "      <td>17</td>\n",
       "      <td>9</td>\n",
       "    </tr>\n",
       "  </tbody>\n",
       "</table>\n",
       "</div>"
      ],
      "text/plain": [
       "language       arabic  azerbaijani  danish  dutch  french  german  hungarian  \\\n",
       "hyperpartisan                                                                  \n",
       "False               9            5      21     32     543       2        119   \n",
       "True                3          536     101      1      26       1          0   \n",
       "\n",
       "language       indonesian  italian  portuguese  romanian  spanish  \n",
       "hyperpartisan                                                      \n",
       "False                   1       15           1        16     5909  \n",
       "True                    3       12           1        17        9  "
      ]
     },
     "execution_count": 7,
     "metadata": {},
     "output_type": "execute_result"
    }
   ],
   "source": [
    "pd.crosstab(nonenglish['hyperpartisan'], nonenglish['language'])"
   ]
  },
  {
   "cell_type": "code",
   "execution_count": 10,
   "metadata": {},
   "outputs": [
    {
     "data": {
      "text/plain": [
       "'Prep Basketball Statistics 01/12/12 .......... .......... .......... .......... .......... .......... .......... .......... .......... .......... .......... .......... .......... .......... .......... .......... .......... .......... \\n \\n[gdocs type=?spreadsheet? st_id=?0AqQxNNYJuN_-dFNGdUdBa0VCOFV4TWhldGZkc256a0E? wt_id=?od6? sort=?true?] \\n[gdocs type=?spreadsheet? st_id=?0AqQxNNYJuN_-dFNGdUdBa0VCOFV4TWhldGZkc256a0E? wt_id=?od7? sort=?true?] \\n[gdocs type=?spreadsheet? st_id=?0AqQxNNYJuN_-dFNGdUdBa0VCOFV4TWhldGZkc256a0E? wt_id=?od4? sort=?true?] \\nGirls \\nADVERTISEMENT \\n[gdocs type=?spreadsheet? st_id=?0AqQxNNYJuN_-dEZxOTE5S3JZOHlldVJwcG5TcEUyQ1E? wt_id=?od6? sort=?true?] \\n[gdocs type=?spreadsheet? st_id=?0AqQxNNYJuN_-dEZxOTE5S3JZOHlldVJwcG5TcEUyQ1E? wt_id=?od7? sort=?true?] \\n[gdocs type=?spreadsheet? st_id=?0AqQxNNYJuN_-dEZxOTE5S3JZOHlldVJwcG5TcEUyQ1E? wt_id=?od4? sort=?true?]'"
      ]
     },
     "execution_count": 10,
     "metadata": {},
     "output_type": "execute_result"
    }
   ],
   "source": [
    "nonenglish[nonenglish['language'] == 'arabic']['article_text'][5930]"
   ]
  },
  {
   "cell_type": "code",
   "execution_count": 32,
   "metadata": {},
   "outputs": [
    {
     "data": {
      "text/html": [
       "<div>\n",
       "<style scoped>\n",
       "    .dataframe tbody tr th:only-of-type {\n",
       "        vertical-align: middle;\n",
       "    }\n",
       "\n",
       "    .dataframe tbody tr th {\n",
       "        vertical-align: top;\n",
       "    }\n",
       "\n",
       "    .dataframe thead th {\n",
       "        text-align: right;\n",
       "    }\n",
       "</style>\n",
       "<table border=\"1\" class=\"dataframe\">\n",
       "  <thead>\n",
       "    <tr style=\"text-align: right;\">\n",
       "      <th></th>\n",
       "      <th>id</th>\n",
       "      <th>published-at</th>\n",
       "      <th>title</th>\n",
       "      <th>hyperpartisan</th>\n",
       "      <th>bias</th>\n",
       "      <th>url</th>\n",
       "      <th>labeled-by</th>\n",
       "      <th>article_text</th>\n",
       "      <th>language</th>\n",
       "    </tr>\n",
       "  </thead>\n",
       "  <tbody>\n",
       "    <tr>\n",
       "      <th>0</th>\n",
       "      <td>24954</td>\n",
       "      <td>2016-12-08</td>\n",
       "      <td>Anarchici senza Aggettivi</td>\n",
       "      <td>True</td>\n",
       "      <td>left</td>\n",
       "      <td>https://c4ss.org/content/47154</td>\n",
       "      <td>publisher</td>\n",
       "      <td>Anarchici senza Aggettivi [Di Kevin Carson. Or...</td>\n",
       "      <td>italian</td>\n",
       "    </tr>\n",
       "    <tr>\n",
       "      <th>1</th>\n",
       "      <td>55536</td>\n",
       "      <td>NaN</td>\n",
       "      <td>Gerardo Ortiz, Ulices Chaidez, R?gulo Caro y L...</td>\n",
       "      <td>False</td>\n",
       "      <td>left-center</td>\n",
       "      <td>http://chicagotribune.com/hoy/entretenimiento/...</td>\n",
       "      <td>publisher</td>\n",
       "      <td>Gerardo Ortiz, Ulices Chaidez, R?gulo Caro y L...</td>\n",
       "      <td>spanish</td>\n",
       "    </tr>\n",
       "    <tr>\n",
       "      <th>2</th>\n",
       "      <td>72841</td>\n",
       "      <td>2016-11-13</td>\n",
       "      <td>Polizia Discriminata?</td>\n",
       "      <td>True</td>\n",
       "      <td>left</td>\n",
       "      <td>https://c4ss.org/content/46899</td>\n",
       "      <td>publisher</td>\n",
       "      <td>Polizia Discriminata? [Di Logan Glitterbomb. O...</td>\n",
       "      <td>italian</td>\n",
       "    </tr>\n",
       "    <tr>\n",
       "      <th>3</th>\n",
       "      <td>72957</td>\n",
       "      <td>2012-07-23</td>\n",
       "      <td>Seis tesis de ret?rica libertaria</td>\n",
       "      <td>True</td>\n",
       "      <td>left</td>\n",
       "      <td>http://c4ss.org/content/11240</td>\n",
       "      <td>publisher</td>\n",
       "      <td>Seis tesis de ret?rica libertaria Roderick T. ...</td>\n",
       "      <td>spanish</td>\n",
       "    </tr>\n",
       "    <tr>\n",
       "      <th>4</th>\n",
       "      <td>93456</td>\n",
       "      <td>NaN</td>\n",
       "      <td>Osorio: 'M?xico tiene el derecho de aspirar a ...</td>\n",
       "      <td>False</td>\n",
       "      <td>left-center</td>\n",
       "      <td>http://chicagotribune.com/hoy/deportes/ct-hoy-...</td>\n",
       "      <td>publisher</td>\n",
       "      <td>Osorio: 'M?xico tiene el derecho de aspirar a ...</td>\n",
       "      <td>spanish</td>\n",
       "    </tr>\n",
       "  </tbody>\n",
       "</table>\n",
       "</div>"
      ],
      "text/plain": [
       "      id published-at                                              title  \\\n",
       "0  24954   2016-12-08                          Anarchici senza Aggettivi   \n",
       "1  55536          NaN  Gerardo Ortiz, Ulices Chaidez, R?gulo Caro y L...   \n",
       "2  72841   2016-11-13                              Polizia Discriminata?   \n",
       "3  72957   2012-07-23                  Seis tesis de ret?rica libertaria   \n",
       "4  93456          NaN  Osorio: 'M?xico tiene el derecho de aspirar a ...   \n",
       "\n",
       "   hyperpartisan         bias  \\\n",
       "0           True         left   \n",
       "1          False  left-center   \n",
       "2           True         left   \n",
       "3           True         left   \n",
       "4          False  left-center   \n",
       "\n",
       "                                                 url labeled-by  \\\n",
       "0                     https://c4ss.org/content/47154  publisher   \n",
       "1  http://chicagotribune.com/hoy/entretenimiento/...  publisher   \n",
       "2                     https://c4ss.org/content/46899  publisher   \n",
       "3                      http://c4ss.org/content/11240  publisher   \n",
       "4  http://chicagotribune.com/hoy/deportes/ct-hoy-...  publisher   \n",
       "\n",
       "                                        article_text language  \n",
       "0  Anarchici senza Aggettivi [Di Kevin Carson. Or...  italian  \n",
       "1  Gerardo Ortiz, Ulices Chaidez, R?gulo Caro y L...  spanish  \n",
       "2  Polizia Discriminata? [Di Logan Glitterbomb. O...  italian  \n",
       "3  Seis tesis de ret?rica libertaria Roderick T. ...  spanish  \n",
       "4  Osorio: 'M?xico tiene el derecho de aspirar a ...  spanish  "
      ]
     },
     "execution_count": 32,
     "metadata": {},
     "output_type": "execute_result"
    }
   ],
   "source": [
    "nonenglishval.head()"
   ]
  },
  {
   "cell_type": "code",
   "execution_count": 33,
   "metadata": {},
   "outputs": [
    {
     "data": {
      "text/html": [
       "<div>\n",
       "<style scoped>\n",
       "    .dataframe tbody tr th:only-of-type {\n",
       "        vertical-align: middle;\n",
       "    }\n",
       "\n",
       "    .dataframe tbody tr th {\n",
       "        vertical-align: top;\n",
       "    }\n",
       "\n",
       "    .dataframe thead th {\n",
       "        text-align: right;\n",
       "    }\n",
       "</style>\n",
       "<table border=\"1\" class=\"dataframe\">\n",
       "  <thead>\n",
       "    <tr style=\"text-align: right;\">\n",
       "      <th>language</th>\n",
       "      <th>arabic</th>\n",
       "      <th>dutch</th>\n",
       "      <th>french</th>\n",
       "      <th>italian</th>\n",
       "      <th>portuguese</th>\n",
       "      <th>romanian</th>\n",
       "      <th>spanish</th>\n",
       "      <th>swedish</th>\n",
       "    </tr>\n",
       "    <tr>\n",
       "      <th>hyperpartisan</th>\n",
       "      <th></th>\n",
       "      <th></th>\n",
       "      <th></th>\n",
       "      <th></th>\n",
       "      <th></th>\n",
       "      <th></th>\n",
       "      <th></th>\n",
       "      <th></th>\n",
       "    </tr>\n",
       "  </thead>\n",
       "  <tbody>\n",
       "    <tr>\n",
       "      <th>False</th>\n",
       "      <td>1</td>\n",
       "      <td>0</td>\n",
       "      <td>4</td>\n",
       "      <td>0</td>\n",
       "      <td>0</td>\n",
       "      <td>3</td>\n",
       "      <td>22</td>\n",
       "      <td>0</td>\n",
       "    </tr>\n",
       "    <tr>\n",
       "      <th>True</th>\n",
       "      <td>2</td>\n",
       "      <td>1</td>\n",
       "      <td>2</td>\n",
       "      <td>37</td>\n",
       "      <td>7</td>\n",
       "      <td>0</td>\n",
       "      <td>23</td>\n",
       "      <td>1</td>\n",
       "    </tr>\n",
       "  </tbody>\n",
       "</table>\n",
       "</div>"
      ],
      "text/plain": [
       "language       arabic  dutch  french  italian  portuguese  romanian  spanish  \\\n",
       "hyperpartisan                                                                  \n",
       "False               1      0       4        0           0         3       22   \n",
       "True                2      1       2       37           7         0       23   \n",
       "\n",
       "language       swedish  \n",
       "hyperpartisan           \n",
       "False                0  \n",
       "True                 1  "
      ]
     },
     "execution_count": 33,
     "metadata": {},
     "output_type": "execute_result"
    }
   ],
   "source": [
    "pd.crosstab(nonenglishval['hyperpartisan'], nonenglishval['language'])"
   ]
  },
  {
   "cell_type": "code",
   "execution_count": 34,
   "metadata": {},
   "outputs": [],
   "source": [
    "nonenglish['id'].to_csv(DATA_PATH + 'processed/' + 'nonenglish_id_train.csv')\n",
    "nonenglishval['id'].to_csv(DATA_PATH + 'processed/' + 'nonenglish_id_val.csv')"
   ]
  },
  {
   "cell_type": "code",
   "execution_count": 11,
   "metadata": {},
   "outputs": [
    {
     "data": {
      "text/plain": [
       "(7383, 9)"
      ]
     },
     "execution_count": 11,
     "metadata": {},
     "output_type": "execute_result"
    }
   ],
   "source": [
    "nonenglish.shape"
   ]
  },
  {
   "cell_type": "code",
   "execution_count": 13,
   "metadata": {},
   "outputs": [
    {
     "data": {
      "text/plain": [
       "(103, 9)"
      ]
     },
     "execution_count": 13,
     "metadata": {},
     "output_type": "execute_result"
    }
   ],
   "source": [
    "nonenglishval.shape"
   ]
  },
  {
   "cell_type": "code",
   "execution_count": null,
   "metadata": {},
   "outputs": [],
   "source": []
  }
 ],
 "metadata": {
  "kernelspec": {
   "display_name": "Python 3",
   "language": "python",
   "name": "python3"
  },
  "language_info": {
   "codemirror_mode": {
    "name": "ipython",
    "version": 3
   },
   "file_extension": ".py",
   "mimetype": "text/x-python",
   "name": "python",
   "nbconvert_exporter": "python",
   "pygments_lexer": "ipython3",
   "version": "3.6.6"
  }
 },
 "nbformat": 4,
 "nbformat_minor": 2
}
