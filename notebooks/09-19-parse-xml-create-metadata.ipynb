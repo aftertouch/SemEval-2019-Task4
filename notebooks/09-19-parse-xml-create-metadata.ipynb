{
 "cells": [
  {
   "cell_type": "markdown",
   "metadata": {},
   "source": [
    "## SemEval 2019 Task 4 - Parse XML and load article metadata into dataframe\n",
    "\n",
    "Jonathan Miller and Negar Adyaniyazdi, VCU, CMSC516, Fall 2018"
   ]
  },
  {
   "cell_type": "code",
   "execution_count": 1,
   "metadata": {},
   "outputs": [],
   "source": [
    "import xml.etree.cElementTree as et\n",
    "import pandas as pd"
   ]
  },
  {
   "cell_type": "markdown",
   "metadata": {},
   "source": [
    "Get file paths and column names for ground truth and article text XML files"
   ]
  },
  {
   "cell_type": "code",
   "execution_count": 2,
   "metadata": {},
   "outputs": [],
   "source": [
    "DATA_PATH = '../data/'\n",
    "DATA_RAW_PATH = DATA_PATH + 'raw/'\n",
    "\n",
    "gt_train_path = DATA_RAW_PATH + 'ground-truth-training-20180831.xml'\n",
    "gt_val_path = DATA_RAW_PATH + 'ground-truth-validation-20180831.xml'\n",
    "gt_cols = ['id', 'hyperpartisan', 'bias', 'url', 'labeled-by']\n",
    "\n",
    "text_train_path = DATA_RAW_PATH + 'articles-training-20180831.xml'\n",
    "text_val_path = DATA_RAW_PATH + 'articles-validation-20180831.xml'\n",
    "text_cols = ['id', 'published-at', 'title']"
   ]
  },
  {
   "cell_type": "markdown",
   "metadata": {},
   "source": [
    "Parse ground truth XML files"
   ]
  },
  {
   "cell_type": "code",
   "execution_count": 24,
   "metadata": {},
   "outputs": [],
   "source": [
    "tree = et.parse(gt_train_path)\n",
    "root = tree.getroot()\n",
    "articles = root.findall('.//article')\n",
    "\n",
    "xml_data = [[article.get('id'), article.get('hyperpartisan'), article.get('bias'), article.get('url'), article.get('labeled-by')] \n",
    "            for article in articles]\n",
    "\n",
    "gt_train = pd.DataFrame(xml_data, columns=gt_cols)\n",
    "gt_train['id'] = gt_train['id'].astype(str)"
   ]
  },
  {
   "cell_type": "code",
   "execution_count": 25,
   "metadata": {},
   "outputs": [
    {
     "data": {
      "text/html": [
       "<div>\n",
       "<style scoped>\n",
       "    .dataframe tbody tr th:only-of-type {\n",
       "        vertical-align: middle;\n",
       "    }\n",
       "\n",
       "    .dataframe tbody tr th {\n",
       "        vertical-align: top;\n",
       "    }\n",
       "\n",
       "    .dataframe thead th {\n",
       "        text-align: right;\n",
       "    }\n",
       "</style>\n",
       "<table border=\"1\" class=\"dataframe\">\n",
       "  <thead>\n",
       "    <tr style=\"text-align: right;\">\n",
       "      <th></th>\n",
       "      <th>id</th>\n",
       "      <th>hyperpartisan</th>\n",
       "      <th>bias</th>\n",
       "      <th>url</th>\n",
       "      <th>labeled-by</th>\n",
       "    </tr>\n",
       "  </thead>\n",
       "  <tbody>\n",
       "    <tr>\n",
       "      <th>0</th>\n",
       "      <td>0000001</td>\n",
       "      <td>true</td>\n",
       "      <td>right</td>\n",
       "      <td>https://dailywire.com/news/20858/after-devos-a...</td>\n",
       "      <td>publisher</td>\n",
       "    </tr>\n",
       "    <tr>\n",
       "      <th>1</th>\n",
       "      <td>0000002</td>\n",
       "      <td>true</td>\n",
       "      <td>right</td>\n",
       "      <td>https://dailywire.com/news/16103/university-aw...</td>\n",
       "      <td>publisher</td>\n",
       "    </tr>\n",
       "    <tr>\n",
       "      <th>2</th>\n",
       "      <td>0000008</td>\n",
       "      <td>false</td>\n",
       "      <td>right-center</td>\n",
       "      <td>https://newsline.com/texas-state-university-su...</td>\n",
       "      <td>publisher</td>\n",
       "    </tr>\n",
       "    <tr>\n",
       "      <th>3</th>\n",
       "      <td>0000009</td>\n",
       "      <td>false</td>\n",
       "      <td>least</td>\n",
       "      <td>https://apnews.com/795c45f6db904f8eb85d72cee61...</td>\n",
       "      <td>publisher</td>\n",
       "    </tr>\n",
       "    <tr>\n",
       "      <th>4</th>\n",
       "      <td>0000010</td>\n",
       "      <td>true</td>\n",
       "      <td>left</td>\n",
       "      <td>https://dissentmagazine.org/article/eve-and-th...</td>\n",
       "      <td>publisher</td>\n",
       "    </tr>\n",
       "  </tbody>\n",
       "</table>\n",
       "</div>"
      ],
      "text/plain": [
       "        id hyperpartisan          bias  \\\n",
       "0  0000001          true         right   \n",
       "1  0000002          true         right   \n",
       "2  0000008         false  right-center   \n",
       "3  0000009         false         least   \n",
       "4  0000010          true          left   \n",
       "\n",
       "                                                 url labeled-by  \n",
       "0  https://dailywire.com/news/20858/after-devos-a...  publisher  \n",
       "1  https://dailywire.com/news/16103/university-aw...  publisher  \n",
       "2  https://newsline.com/texas-state-university-su...  publisher  \n",
       "3  https://apnews.com/795c45f6db904f8eb85d72cee61...  publisher  \n",
       "4  https://dissentmagazine.org/article/eve-and-th...  publisher  "
      ]
     },
     "execution_count": 25,
     "metadata": {},
     "output_type": "execute_result"
    }
   ],
   "source": [
    "gt_train.head()"
   ]
  },
  {
   "cell_type": "code",
   "execution_count": 26,
   "metadata": {},
   "outputs": [
    {
     "data": {
      "text/plain": [
       "(800000, 5)"
      ]
     },
     "execution_count": 26,
     "metadata": {},
     "output_type": "execute_result"
    }
   ],
   "source": [
    "gt_train.shape"
   ]
  },
  {
   "cell_type": "code",
   "execution_count": 27,
   "metadata": {},
   "outputs": [],
   "source": [
    "tree = et.parse(gt_val_path)\n",
    "root = tree.getroot()\n",
    "articles = root.findall('.//article')\n",
    "\n",
    "xml_data = [[article.get('id'), article.get('hyperpartisan'), article.get('bias'), article.get('url'), article.get('labeled-by')] \n",
    "            for article in articles]\n",
    "\n",
    "gt_val = pd.DataFrame(xml_data, columns=gt_cols)\n",
    "gt_val['id'] = gt_val['id'].astype(str)"
   ]
  },
  {
   "cell_type": "code",
   "execution_count": 28,
   "metadata": {},
   "outputs": [
    {
     "data": {
      "text/html": [
       "<div>\n",
       "<style scoped>\n",
       "    .dataframe tbody tr th:only-of-type {\n",
       "        vertical-align: middle;\n",
       "    }\n",
       "\n",
       "    .dataframe tbody tr th {\n",
       "        vertical-align: top;\n",
       "    }\n",
       "\n",
       "    .dataframe thead th {\n",
       "        text-align: right;\n",
       "    }\n",
       "</style>\n",
       "<table border=\"1\" class=\"dataframe\">\n",
       "  <thead>\n",
       "    <tr style=\"text-align: right;\">\n",
       "      <th></th>\n",
       "      <th>id</th>\n",
       "      <th>hyperpartisan</th>\n",
       "      <th>bias</th>\n",
       "      <th>url</th>\n",
       "      <th>labeled-by</th>\n",
       "    </tr>\n",
       "  </thead>\n",
       "  <tbody>\n",
       "    <tr>\n",
       "      <th>0</th>\n",
       "      <td>0000017</td>\n",
       "      <td>false</td>\n",
       "      <td>left-center</td>\n",
       "      <td>http://sfgate.com/politics/article/SAN-FRANCIS...</td>\n",
       "      <td>publisher</td>\n",
       "    </tr>\n",
       "    <tr>\n",
       "      <th>1</th>\n",
       "      <td>0000019</td>\n",
       "      <td>true</td>\n",
       "      <td>right</td>\n",
       "      <td>http://madworldnews.com/nancy-pelosi-lies-cnn-...</td>\n",
       "      <td>publisher</td>\n",
       "    </tr>\n",
       "    <tr>\n",
       "      <th>2</th>\n",
       "      <td>0000023</td>\n",
       "      <td>true</td>\n",
       "      <td>right</td>\n",
       "      <td>https://thecollegefix.com/post/32204/</td>\n",
       "      <td>publisher</td>\n",
       "    </tr>\n",
       "    <tr>\n",
       "      <th>3</th>\n",
       "      <td>0000024</td>\n",
       "      <td>false</td>\n",
       "      <td>right-center</td>\n",
       "      <td>https://cfr.org/blog/what-wine-prices-tell-us-...</td>\n",
       "      <td>publisher</td>\n",
       "    </tr>\n",
       "    <tr>\n",
       "      <th>4</th>\n",
       "      <td>0000026</td>\n",
       "      <td>false</td>\n",
       "      <td>right-center</td>\n",
       "      <td>https://the-american-interest.com/2016/01/13/t...</td>\n",
       "      <td>publisher</td>\n",
       "    </tr>\n",
       "  </tbody>\n",
       "</table>\n",
       "</div>"
      ],
      "text/plain": [
       "        id hyperpartisan          bias  \\\n",
       "0  0000017         false   left-center   \n",
       "1  0000019          true         right   \n",
       "2  0000023          true         right   \n",
       "3  0000024         false  right-center   \n",
       "4  0000026         false  right-center   \n",
       "\n",
       "                                                 url labeled-by  \n",
       "0  http://sfgate.com/politics/article/SAN-FRANCIS...  publisher  \n",
       "1  http://madworldnews.com/nancy-pelosi-lies-cnn-...  publisher  \n",
       "2              https://thecollegefix.com/post/32204/  publisher  \n",
       "3  https://cfr.org/blog/what-wine-prices-tell-us-...  publisher  \n",
       "4  https://the-american-interest.com/2016/01/13/t...  publisher  "
      ]
     },
     "execution_count": 28,
     "metadata": {},
     "output_type": "execute_result"
    }
   ],
   "source": [
    "gt_val.head()"
   ]
  },
  {
   "cell_type": "code",
   "execution_count": 29,
   "metadata": {},
   "outputs": [
    {
     "data": {
      "text/plain": [
       "(200000, 5)"
      ]
     },
     "execution_count": 29,
     "metadata": {},
     "output_type": "execute_result"
    }
   ],
   "source": [
    "gt_val.shape"
   ]
  },
  {
   "cell_type": "markdown",
   "metadata": {},
   "source": [
    "Parse Article XML files"
   ]
  },
  {
   "cell_type": "code",
   "execution_count": 30,
   "metadata": {},
   "outputs": [],
   "source": [
    "tree = et.parse(text_train_path)\n",
    "root = tree.getroot()\n",
    "articles = root.findall('.//article')\n",
    "\n",
    "xml_data = [[article.get('id'), article.get('published-at'), article.get('title')] \n",
    "            for article in articles]\n",
    "\n",
    "text_train = pd.DataFrame(xml_data, columns=text_cols)\n",
    "text_train['id'] = text_train['id'].astype(str)"
   ]
  },
  {
   "cell_type": "code",
   "execution_count": 31,
   "metadata": {},
   "outputs": [
    {
     "data": {
      "text/html": [
       "<div>\n",
       "<style scoped>\n",
       "    .dataframe tbody tr th:only-of-type {\n",
       "        vertical-align: middle;\n",
       "    }\n",
       "\n",
       "    .dataframe tbody tr th {\n",
       "        vertical-align: top;\n",
       "    }\n",
       "\n",
       "    .dataframe thead th {\n",
       "        text-align: right;\n",
       "    }\n",
       "</style>\n",
       "<table border=\"1\" class=\"dataframe\">\n",
       "  <thead>\n",
       "    <tr style=\"text-align: right;\">\n",
       "      <th></th>\n",
       "      <th>id</th>\n",
       "      <th>published-at</th>\n",
       "      <th>title</th>\n",
       "    </tr>\n",
       "  </thead>\n",
       "  <tbody>\n",
       "    <tr>\n",
       "      <th>0</th>\n",
       "      <td>0000001</td>\n",
       "      <td>2017-09-10</td>\n",
       "      <td>After DeVos Announced Plans To Reexamine Title...</td>\n",
       "    </tr>\n",
       "    <tr>\n",
       "      <th>1</th>\n",
       "      <td>0000002</td>\n",
       "      <td>2017-05-05</td>\n",
       "      <td>University To Award Trayvon Martin With Posthu...</td>\n",
       "    </tr>\n",
       "    <tr>\n",
       "      <th>2</th>\n",
       "      <td>0000008</td>\n",
       "      <td>2017-11-15</td>\n",
       "      <td>Texas State University suspends Greek life aft...</td>\n",
       "    </tr>\n",
       "    <tr>\n",
       "      <th>3</th>\n",
       "      <td>0000009</td>\n",
       "      <td>2015-06-10</td>\n",
       "      <td>Red Sox waste Rodriguez outing in 1-0 loss to ...</td>\n",
       "    </tr>\n",
       "    <tr>\n",
       "      <th>4</th>\n",
       "      <td>0000010</td>\n",
       "      <td>None</td>\n",
       "      <td>Eve and the New Jerusalem</td>\n",
       "    </tr>\n",
       "  </tbody>\n",
       "</table>\n",
       "</div>"
      ],
      "text/plain": [
       "        id published-at                                              title\n",
       "0  0000001   2017-09-10  After DeVos Announced Plans To Reexamine Title...\n",
       "1  0000002   2017-05-05  University To Award Trayvon Martin With Posthu...\n",
       "2  0000008   2017-11-15  Texas State University suspends Greek life aft...\n",
       "3  0000009   2015-06-10  Red Sox waste Rodriguez outing in 1-0 loss to ...\n",
       "4  0000010         None                          Eve and the New Jerusalem"
      ]
     },
     "execution_count": 31,
     "metadata": {},
     "output_type": "execute_result"
    }
   ],
   "source": [
    "text_train.head()"
   ]
  },
  {
   "cell_type": "code",
   "execution_count": 32,
   "metadata": {},
   "outputs": [
    {
     "data": {
      "text/plain": [
       "(800000, 3)"
      ]
     },
     "execution_count": 32,
     "metadata": {},
     "output_type": "execute_result"
    }
   ],
   "source": [
    "text_train.shape"
   ]
  },
  {
   "cell_type": "code",
   "execution_count": 33,
   "metadata": {},
   "outputs": [],
   "source": [
    "tree = et.parse(text_val_path)\n",
    "root = tree.getroot()\n",
    "articles = root.findall('.//article')\n",
    "\n",
    "xml_data = [[article.get('id'), article.get('published-at'), article.get('title')] \n",
    "            for article in articles]\n",
    "\n",
    "text_val = pd.DataFrame(xml_data, columns=text_cols)\n",
    "text_val['id'] = text_val['id'].astype(str)"
   ]
  },
  {
   "cell_type": "code",
   "execution_count": 34,
   "metadata": {},
   "outputs": [
    {
     "data": {
      "text/html": [
       "<div>\n",
       "<style scoped>\n",
       "    .dataframe tbody tr th:only-of-type {\n",
       "        vertical-align: middle;\n",
       "    }\n",
       "\n",
       "    .dataframe tbody tr th {\n",
       "        vertical-align: top;\n",
       "    }\n",
       "\n",
       "    .dataframe thead th {\n",
       "        text-align: right;\n",
       "    }\n",
       "</style>\n",
       "<table border=\"1\" class=\"dataframe\">\n",
       "  <thead>\n",
       "    <tr style=\"text-align: right;\">\n",
       "      <th></th>\n",
       "      <th>id</th>\n",
       "      <th>published-at</th>\n",
       "      <th>title</th>\n",
       "    </tr>\n",
       "  </thead>\n",
       "  <tbody>\n",
       "    <tr>\n",
       "      <th>0</th>\n",
       "      <td>0000017</td>\n",
       "      <td>2004-07-29</td>\n",
       "      <td>SAN FRANCISCO / Head of Juvenile Probation Dep...</td>\n",
       "    </tr>\n",
       "    <tr>\n",
       "      <th>1</th>\n",
       "      <td>0000019</td>\n",
       "      <td>2017-10-05</td>\n",
       "      <td>Nancy Pelosi Lies On CNN About Gun Control, An...</td>\n",
       "    </tr>\n",
       "    <tr>\n",
       "      <th>2</th>\n",
       "      <td>0000023</td>\n",
       "      <td>2017-04-20</td>\n",
       "      <td>University leaders ban pro-life flag display, ...</td>\n",
       "    </tr>\n",
       "    <tr>\n",
       "      <th>3</th>\n",
       "      <td>0000024</td>\n",
       "      <td>2011-01-14</td>\n",
       "      <td>What Wine Prices Tell Us About OPEC Why Are Oi...</td>\n",
       "    </tr>\n",
       "    <tr>\n",
       "      <th>4</th>\n",
       "      <td>0000026</td>\n",
       "      <td>2016-01-13</td>\n",
       "      <td>The Long Road to Harvard</td>\n",
       "    </tr>\n",
       "  </tbody>\n",
       "</table>\n",
       "</div>"
      ],
      "text/plain": [
       "        id published-at                                              title\n",
       "0  0000017   2004-07-29  SAN FRANCISCO / Head of Juvenile Probation Dep...\n",
       "1  0000019   2017-10-05  Nancy Pelosi Lies On CNN About Gun Control, An...\n",
       "2  0000023   2017-04-20  University leaders ban pro-life flag display, ...\n",
       "3  0000024   2011-01-14  What Wine Prices Tell Us About OPEC Why Are Oi...\n",
       "4  0000026   2016-01-13                           The Long Road to Harvard"
      ]
     },
     "execution_count": 34,
     "metadata": {},
     "output_type": "execute_result"
    }
   ],
   "source": [
    "text_val.head()"
   ]
  },
  {
   "cell_type": "code",
   "execution_count": 35,
   "metadata": {},
   "outputs": [
    {
     "data": {
      "text/plain": [
       "(200000, 3)"
      ]
     },
     "execution_count": 35,
     "metadata": {},
     "output_type": "execute_result"
    }
   ],
   "source": [
    "text_val.shape"
   ]
  },
  {
   "cell_type": "markdown",
   "metadata": {},
   "source": [
    "Merge article and ground truth dataframes on index"
   ]
  },
  {
   "cell_type": "code",
   "execution_count": 44,
   "metadata": {},
   "outputs": [],
   "source": [
    "md_train = text_train.merge(gt_train, on='id')\n",
    "md_val = text_val.merge(gt_val, on='id')"
   ]
  },
  {
   "cell_type": "markdown",
   "metadata": {},
   "source": [
    "Examine test set dataframe and columns"
   ]
  },
  {
   "cell_type": "code",
   "execution_count": 45,
   "metadata": {},
   "outputs": [
    {
     "name": "stdout",
     "output_type": "stream",
     "text": [
      "<class 'pandas.core.frame.DataFrame'>\n",
      "Int64Index: 800000 entries, 0 to 799999\n",
      "Data columns (total 7 columns):\n",
      "id               800000 non-null object\n",
      "published-at     686082 non-null object\n",
      "title            800000 non-null object\n",
      "hyperpartisan    800000 non-null object\n",
      "bias             800000 non-null object\n",
      "url              800000 non-null object\n",
      "labeled-by       800000 non-null object\n",
      "dtypes: object(7)\n",
      "memory usage: 48.8+ MB\n"
     ]
    }
   ],
   "source": [
    "md_train.info()"
   ]
  },
  {
   "cell_type": "code",
   "execution_count": 46,
   "metadata": {},
   "outputs": [
    {
     "data": {
      "text/plain": [
       "true     400000\n",
       "false    400000\n",
       "Name: hyperpartisan, dtype: int64"
      ]
     },
     "execution_count": 46,
     "metadata": {},
     "output_type": "execute_result"
    }
   ],
   "source": [
    "md_train['hyperpartisan'].value_counts()"
   ]
  },
  {
   "cell_type": "code",
   "execution_count": 47,
   "metadata": {},
   "outputs": [
    {
     "data": {
      "text/plain": [
       "least           221776\n",
       "left            200000\n",
       "right           200000\n",
       "left-center     112995\n",
       "right-center     65229\n",
       "Name: bias, dtype: int64"
      ]
     },
     "execution_count": 47,
     "metadata": {},
     "output_type": "execute_result"
    }
   ],
   "source": [
    "md_train['bias'].value_counts()"
   ]
  },
  {
   "cell_type": "code",
   "execution_count": 48,
   "metadata": {},
   "outputs": [
    {
     "data": {
      "text/plain": [
       "publisher    800000\n",
       "Name: labeled-by, dtype: int64"
      ]
     },
     "execution_count": 48,
     "metadata": {},
     "output_type": "execute_result"
    }
   ],
   "source": [
    "md_train['labeled-by'].value_counts()"
   ]
  },
  {
   "cell_type": "markdown",
   "metadata": {},
   "source": [
    "Write metadata dataframes as csv"
   ]
  },
  {
   "cell_type": "code",
   "execution_count": 50,
   "metadata": {},
   "outputs": [],
   "source": [
    "DATA_INTERIM_PATH = DATA_PATH + 'interim/'\n",
    "\n",
    "md_train.to_csv(DATA_INTERIM_PATH + 'md_train.csv', index=False)\n",
    "md_val.to_csv(DATA_INTERIM_PATH + 'md_val.csv', index=False)"
   ]
  },
  {
   "cell_type": "code",
   "execution_count": 49,
   "metadata": {},
   "outputs": [
    {
     "data": {
      "text/html": [
       "<div>\n",
       "<style scoped>\n",
       "    .dataframe tbody tr th:only-of-type {\n",
       "        vertical-align: middle;\n",
       "    }\n",
       "\n",
       "    .dataframe tbody tr th {\n",
       "        vertical-align: top;\n",
       "    }\n",
       "\n",
       "    .dataframe thead th {\n",
       "        text-align: right;\n",
       "    }\n",
       "</style>\n",
       "<table border=\"1\" class=\"dataframe\">\n",
       "  <thead>\n",
       "    <tr style=\"text-align: right;\">\n",
       "      <th></th>\n",
       "      <th>id</th>\n",
       "      <th>published-at</th>\n",
       "      <th>title</th>\n",
       "      <th>hyperpartisan</th>\n",
       "      <th>bias</th>\n",
       "      <th>url</th>\n",
       "      <th>labeled-by</th>\n",
       "    </tr>\n",
       "  </thead>\n",
       "  <tbody>\n",
       "    <tr>\n",
       "      <th>0</th>\n",
       "      <td>0000001</td>\n",
       "      <td>2017-09-10</td>\n",
       "      <td>After DeVos Announced Plans To Reexamine Title...</td>\n",
       "      <td>true</td>\n",
       "      <td>right</td>\n",
       "      <td>https://dailywire.com/news/20858/after-devos-a...</td>\n",
       "      <td>publisher</td>\n",
       "    </tr>\n",
       "    <tr>\n",
       "      <th>1</th>\n",
       "      <td>0000002</td>\n",
       "      <td>2017-05-05</td>\n",
       "      <td>University To Award Trayvon Martin With Posthu...</td>\n",
       "      <td>true</td>\n",
       "      <td>right</td>\n",
       "      <td>https://dailywire.com/news/16103/university-aw...</td>\n",
       "      <td>publisher</td>\n",
       "    </tr>\n",
       "    <tr>\n",
       "      <th>2</th>\n",
       "      <td>0000008</td>\n",
       "      <td>2017-11-15</td>\n",
       "      <td>Texas State University suspends Greek life aft...</td>\n",
       "      <td>false</td>\n",
       "      <td>right-center</td>\n",
       "      <td>https://newsline.com/texas-state-university-su...</td>\n",
       "      <td>publisher</td>\n",
       "    </tr>\n",
       "    <tr>\n",
       "      <th>3</th>\n",
       "      <td>0000009</td>\n",
       "      <td>2015-06-10</td>\n",
       "      <td>Red Sox waste Rodriguez outing in 1-0 loss to ...</td>\n",
       "      <td>false</td>\n",
       "      <td>least</td>\n",
       "      <td>https://apnews.com/795c45f6db904f8eb85d72cee61...</td>\n",
       "      <td>publisher</td>\n",
       "    </tr>\n",
       "    <tr>\n",
       "      <th>4</th>\n",
       "      <td>0000010</td>\n",
       "      <td>None</td>\n",
       "      <td>Eve and the New Jerusalem</td>\n",
       "      <td>true</td>\n",
       "      <td>left</td>\n",
       "      <td>https://dissentmagazine.org/article/eve-and-th...</td>\n",
       "      <td>publisher</td>\n",
       "    </tr>\n",
       "  </tbody>\n",
       "</table>\n",
       "</div>"
      ],
      "text/plain": [
       "        id published-at                                              title  \\\n",
       "0  0000001   2017-09-10  After DeVos Announced Plans To Reexamine Title...   \n",
       "1  0000002   2017-05-05  University To Award Trayvon Martin With Posthu...   \n",
       "2  0000008   2017-11-15  Texas State University suspends Greek life aft...   \n",
       "3  0000009   2015-06-10  Red Sox waste Rodriguez outing in 1-0 loss to ...   \n",
       "4  0000010         None                          Eve and the New Jerusalem   \n",
       "\n",
       "  hyperpartisan          bias  \\\n",
       "0          true         right   \n",
       "1          true         right   \n",
       "2         false  right-center   \n",
       "3         false         least   \n",
       "4          true          left   \n",
       "\n",
       "                                                 url labeled-by  \n",
       "0  https://dailywire.com/news/20858/after-devos-a...  publisher  \n",
       "1  https://dailywire.com/news/16103/university-aw...  publisher  \n",
       "2  https://newsline.com/texas-state-university-su...  publisher  \n",
       "3  https://apnews.com/795c45f6db904f8eb85d72cee61...  publisher  \n",
       "4  https://dissentmagazine.org/article/eve-and-th...  publisher  "
      ]
     },
     "execution_count": 49,
     "metadata": {},
     "output_type": "execute_result"
    }
   ],
   "source": [
    "md_train.head()"
   ]
  },
  {
   "cell_type": "code",
   "execution_count": null,
   "metadata": {},
   "outputs": [],
   "source": []
  }
 ],
 "metadata": {
  "kernelspec": {
   "display_name": "Python 3",
   "language": "python",
   "name": "python3"
  },
  "language_info": {
   "codemirror_mode": {
    "name": "ipython",
    "version": 3
   },
   "file_extension": ".py",
   "mimetype": "text/x-python",
   "name": "python",
   "nbconvert_exporter": "python",
   "pygments_lexer": "ipython3",
   "version": "3.6.6"
  }
 },
 "nbformat": 4,
 "nbformat_minor": 2
}
