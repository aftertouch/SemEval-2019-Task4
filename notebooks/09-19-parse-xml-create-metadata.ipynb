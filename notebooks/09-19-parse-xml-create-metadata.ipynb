{
 "cells": [
  {
   "cell_type": "markdown",
   "metadata": {},
   "source": [
    "## SemEval 2019 Task 4 - Parse XML and load article metadata into dataframe\n",
    "\n",
    "Jonathan Miller and Negar Adyaniyazdi, VCU, CMSC516, Fall 2018"
   ]
  },
  {
   "cell_type": "code",
   "execution_count": 1,
   "metadata": {},
   "outputs": [],
   "source": [
    "import xml.etree.cElementTree as et\n",
    "import pandas as pd"
   ]
  },
  {
   "cell_type": "markdown",
   "metadata": {},
   "source": [
    "Get file paths and column names for ground truth and article text XML files"
   ]
  },
  {
   "cell_type": "code",
   "execution_count": 2,
   "metadata": {},
   "outputs": [],
   "source": [
    "DATA_PATH = '../data/'\n",
    "DATA_RAW_PATH = DATA_PATH + 'raw/'\n",
    "\n",
    "gt_train_path = DATA_RAW_PATH + 'ground-truth-training-20180831.xml'\n",
    "gt_val_path = DATA_RAW_PATH + 'ground-truth-validation-20180831.xml'\n",
    "gt_cols = ['id', 'hyperpartisan', 'bias', 'url', 'labeled-by']\n",
    "\n",
    "text_train_path = DATA_RAW_PATH + 'articles-training-20180831.xml'\n",
    "text_val_path = DATA_RAW_PATH + 'articles-validation-20180831.xml'\n",
    "text_cols = ['id', 'published-at', 'title']"
   ]
  },
  {
   "cell_type": "markdown",
   "metadata": {},
   "source": [
    "Parse ground truth XML files"
   ]
  },
  {
   "cell_type": "code",
   "execution_count": 3,
   "metadata": {},
   "outputs": [],
   "source": [
    "tree = et.parse(gt_train_path)\n",
    "root = tree.getroot()\n",
    "articles = root.findall('.//article')\n",
    "\n",
    "xml_data = [[article.get('id'), article.get('hyperpartisan'), article.get('bias'), article.get('url'), article.get('labeled-by')] \n",
    "            for article in articles]\n",
    "\n",
    "gt_train = pd.DataFrame(xml_data, columns=gt_cols)\n",
    "gt_train.set_index('id', inplace=True)"
   ]
  },
  {
   "cell_type": "code",
   "execution_count": 4,
   "metadata": {},
   "outputs": [
    {
     "data": {
      "text/html": [
       "<div>\n",
       "<style scoped>\n",
       "    .dataframe tbody tr th:only-of-type {\n",
       "        vertical-align: middle;\n",
       "    }\n",
       "\n",
       "    .dataframe tbody tr th {\n",
       "        vertical-align: top;\n",
       "    }\n",
       "\n",
       "    .dataframe thead th {\n",
       "        text-align: right;\n",
       "    }\n",
       "</style>\n",
       "<table border=\"1\" class=\"dataframe\">\n",
       "  <thead>\n",
       "    <tr style=\"text-align: right;\">\n",
       "      <th></th>\n",
       "      <th>hyperpartisan</th>\n",
       "      <th>bias</th>\n",
       "      <th>url</th>\n",
       "      <th>labeled-by</th>\n",
       "    </tr>\n",
       "    <tr>\n",
       "      <th>id</th>\n",
       "      <th></th>\n",
       "      <th></th>\n",
       "      <th></th>\n",
       "      <th></th>\n",
       "    </tr>\n",
       "  </thead>\n",
       "  <tbody>\n",
       "    <tr>\n",
       "      <th>0000001</th>\n",
       "      <td>true</td>\n",
       "      <td>right</td>\n",
       "      <td>https://dailywire.com/news/20858/after-devos-a...</td>\n",
       "      <td>publisher</td>\n",
       "    </tr>\n",
       "    <tr>\n",
       "      <th>0000002</th>\n",
       "      <td>true</td>\n",
       "      <td>right</td>\n",
       "      <td>https://dailywire.com/news/16103/university-aw...</td>\n",
       "      <td>publisher</td>\n",
       "    </tr>\n",
       "    <tr>\n",
       "      <th>0000008</th>\n",
       "      <td>false</td>\n",
       "      <td>right-center</td>\n",
       "      <td>https://newsline.com/texas-state-university-su...</td>\n",
       "      <td>publisher</td>\n",
       "    </tr>\n",
       "    <tr>\n",
       "      <th>0000009</th>\n",
       "      <td>false</td>\n",
       "      <td>least</td>\n",
       "      <td>https://apnews.com/795c45f6db904f8eb85d72cee61...</td>\n",
       "      <td>publisher</td>\n",
       "    </tr>\n",
       "    <tr>\n",
       "      <th>0000010</th>\n",
       "      <td>true</td>\n",
       "      <td>left</td>\n",
       "      <td>https://dissentmagazine.org/article/eve-and-th...</td>\n",
       "      <td>publisher</td>\n",
       "    </tr>\n",
       "  </tbody>\n",
       "</table>\n",
       "</div>"
      ],
      "text/plain": [
       "        hyperpartisan          bias  \\\n",
       "id                                    \n",
       "0000001          true         right   \n",
       "0000002          true         right   \n",
       "0000008         false  right-center   \n",
       "0000009         false         least   \n",
       "0000010          true          left   \n",
       "\n",
       "                                                       url labeled-by  \n",
       "id                                                                     \n",
       "0000001  https://dailywire.com/news/20858/after-devos-a...  publisher  \n",
       "0000002  https://dailywire.com/news/16103/university-aw...  publisher  \n",
       "0000008  https://newsline.com/texas-state-university-su...  publisher  \n",
       "0000009  https://apnews.com/795c45f6db904f8eb85d72cee61...  publisher  \n",
       "0000010  https://dissentmagazine.org/article/eve-and-th...  publisher  "
      ]
     },
     "execution_count": 4,
     "metadata": {},
     "output_type": "execute_result"
    }
   ],
   "source": [
    "gt_train.head()"
   ]
  },
  {
   "cell_type": "code",
   "execution_count": 5,
   "metadata": {},
   "outputs": [
    {
     "data": {
      "text/plain": [
       "(800000, 4)"
      ]
     },
     "execution_count": 5,
     "metadata": {},
     "output_type": "execute_result"
    }
   ],
   "source": [
    "gt_train.shape"
   ]
  },
  {
   "cell_type": "code",
   "execution_count": 6,
   "metadata": {},
   "outputs": [],
   "source": [
    "tree = et.parse(gt_val_path)\n",
    "root = tree.getroot()\n",
    "articles = root.findall('.//article')\n",
    "\n",
    "xml_data = [[article.get('id'), article.get('hyperpartisan'), article.get('bias'), article.get('url'), article.get('labeled-by')] \n",
    "            for article in articles]\n",
    "\n",
    "gt_val = pd.DataFrame(xml_data, columns=gt_cols)\n",
    "gt_val.set_index('id', inplace=True);"
   ]
  },
  {
   "cell_type": "code",
   "execution_count": 7,
   "metadata": {},
   "outputs": [
    {
     "data": {
      "text/html": [
       "<div>\n",
       "<style scoped>\n",
       "    .dataframe tbody tr th:only-of-type {\n",
       "        vertical-align: middle;\n",
       "    }\n",
       "\n",
       "    .dataframe tbody tr th {\n",
       "        vertical-align: top;\n",
       "    }\n",
       "\n",
       "    .dataframe thead th {\n",
       "        text-align: right;\n",
       "    }\n",
       "</style>\n",
       "<table border=\"1\" class=\"dataframe\">\n",
       "  <thead>\n",
       "    <tr style=\"text-align: right;\">\n",
       "      <th></th>\n",
       "      <th>hyperpartisan</th>\n",
       "      <th>bias</th>\n",
       "      <th>url</th>\n",
       "      <th>labeled-by</th>\n",
       "    </tr>\n",
       "    <tr>\n",
       "      <th>id</th>\n",
       "      <th></th>\n",
       "      <th></th>\n",
       "      <th></th>\n",
       "      <th></th>\n",
       "    </tr>\n",
       "  </thead>\n",
       "  <tbody>\n",
       "    <tr>\n",
       "      <th>0000017</th>\n",
       "      <td>false</td>\n",
       "      <td>left-center</td>\n",
       "      <td>http://sfgate.com/politics/article/SAN-FRANCIS...</td>\n",
       "      <td>publisher</td>\n",
       "    </tr>\n",
       "    <tr>\n",
       "      <th>0000019</th>\n",
       "      <td>true</td>\n",
       "      <td>right</td>\n",
       "      <td>http://madworldnews.com/nancy-pelosi-lies-cnn-...</td>\n",
       "      <td>publisher</td>\n",
       "    </tr>\n",
       "    <tr>\n",
       "      <th>0000023</th>\n",
       "      <td>true</td>\n",
       "      <td>right</td>\n",
       "      <td>https://thecollegefix.com/post/32204/</td>\n",
       "      <td>publisher</td>\n",
       "    </tr>\n",
       "    <tr>\n",
       "      <th>0000024</th>\n",
       "      <td>false</td>\n",
       "      <td>right-center</td>\n",
       "      <td>https://cfr.org/blog/what-wine-prices-tell-us-...</td>\n",
       "      <td>publisher</td>\n",
       "    </tr>\n",
       "    <tr>\n",
       "      <th>0000026</th>\n",
       "      <td>false</td>\n",
       "      <td>right-center</td>\n",
       "      <td>https://the-american-interest.com/2016/01/13/t...</td>\n",
       "      <td>publisher</td>\n",
       "    </tr>\n",
       "  </tbody>\n",
       "</table>\n",
       "</div>"
      ],
      "text/plain": [
       "        hyperpartisan          bias  \\\n",
       "id                                    \n",
       "0000017         false   left-center   \n",
       "0000019          true         right   \n",
       "0000023          true         right   \n",
       "0000024         false  right-center   \n",
       "0000026         false  right-center   \n",
       "\n",
       "                                                       url labeled-by  \n",
       "id                                                                     \n",
       "0000017  http://sfgate.com/politics/article/SAN-FRANCIS...  publisher  \n",
       "0000019  http://madworldnews.com/nancy-pelosi-lies-cnn-...  publisher  \n",
       "0000023              https://thecollegefix.com/post/32204/  publisher  \n",
       "0000024  https://cfr.org/blog/what-wine-prices-tell-us-...  publisher  \n",
       "0000026  https://the-american-interest.com/2016/01/13/t...  publisher  "
      ]
     },
     "execution_count": 7,
     "metadata": {},
     "output_type": "execute_result"
    }
   ],
   "source": [
    "gt_val.head()"
   ]
  },
  {
   "cell_type": "code",
   "execution_count": 8,
   "metadata": {},
   "outputs": [
    {
     "data": {
      "text/plain": [
       "(200000, 4)"
      ]
     },
     "execution_count": 8,
     "metadata": {},
     "output_type": "execute_result"
    }
   ],
   "source": [
    "gt_val.shape"
   ]
  },
  {
   "cell_type": "markdown",
   "metadata": {},
   "source": [
    "Parse Article XML files"
   ]
  },
  {
   "cell_type": "code",
   "execution_count": 9,
   "metadata": {},
   "outputs": [],
   "source": [
    "tree = et.parse(text_train_path)\n",
    "root = tree.getroot()\n",
    "articles = root.findall('.//article')\n",
    "\n",
    "xml_data = [[article.get('id'), article.get('published-at'), article.get('title')] \n",
    "            for article in articles]\n",
    "\n",
    "text_train = pd.DataFrame(xml_data, columns=text_cols)\n",
    "text_train.set_index('id', inplace=True)"
   ]
  },
  {
   "cell_type": "code",
   "execution_count": 10,
   "metadata": {},
   "outputs": [
    {
     "data": {
      "text/html": [
       "<div>\n",
       "<style scoped>\n",
       "    .dataframe tbody tr th:only-of-type {\n",
       "        vertical-align: middle;\n",
       "    }\n",
       "\n",
       "    .dataframe tbody tr th {\n",
       "        vertical-align: top;\n",
       "    }\n",
       "\n",
       "    .dataframe thead th {\n",
       "        text-align: right;\n",
       "    }\n",
       "</style>\n",
       "<table border=\"1\" class=\"dataframe\">\n",
       "  <thead>\n",
       "    <tr style=\"text-align: right;\">\n",
       "      <th></th>\n",
       "      <th>published-at</th>\n",
       "      <th>title</th>\n",
       "    </tr>\n",
       "    <tr>\n",
       "      <th>id</th>\n",
       "      <th></th>\n",
       "      <th></th>\n",
       "    </tr>\n",
       "  </thead>\n",
       "  <tbody>\n",
       "    <tr>\n",
       "      <th>0000001</th>\n",
       "      <td>2017-09-10</td>\n",
       "      <td>After DeVos Announced Plans To Reexamine Title...</td>\n",
       "    </tr>\n",
       "    <tr>\n",
       "      <th>0000002</th>\n",
       "      <td>2017-05-05</td>\n",
       "      <td>University To Award Trayvon Martin With Posthu...</td>\n",
       "    </tr>\n",
       "    <tr>\n",
       "      <th>0000008</th>\n",
       "      <td>2017-11-15</td>\n",
       "      <td>Texas State University suspends Greek life aft...</td>\n",
       "    </tr>\n",
       "    <tr>\n",
       "      <th>0000009</th>\n",
       "      <td>2015-06-10</td>\n",
       "      <td>Red Sox waste Rodriguez outing in 1-0 loss to ...</td>\n",
       "    </tr>\n",
       "    <tr>\n",
       "      <th>0000010</th>\n",
       "      <td>None</td>\n",
       "      <td>Eve and the New Jerusalem</td>\n",
       "    </tr>\n",
       "  </tbody>\n",
       "</table>\n",
       "</div>"
      ],
      "text/plain": [
       "        published-at                                              title\n",
       "id                                                                     \n",
       "0000001   2017-09-10  After DeVos Announced Plans To Reexamine Title...\n",
       "0000002   2017-05-05  University To Award Trayvon Martin With Posthu...\n",
       "0000008   2017-11-15  Texas State University suspends Greek life aft...\n",
       "0000009   2015-06-10  Red Sox waste Rodriguez outing in 1-0 loss to ...\n",
       "0000010         None                          Eve and the New Jerusalem"
      ]
     },
     "execution_count": 10,
     "metadata": {},
     "output_type": "execute_result"
    }
   ],
   "source": [
    "text_train.head()"
   ]
  },
  {
   "cell_type": "code",
   "execution_count": 11,
   "metadata": {},
   "outputs": [
    {
     "data": {
      "text/plain": [
       "(800000, 2)"
      ]
     },
     "execution_count": 11,
     "metadata": {},
     "output_type": "execute_result"
    }
   ],
   "source": [
    "text_train.shape"
   ]
  },
  {
   "cell_type": "code",
   "execution_count": 12,
   "metadata": {},
   "outputs": [],
   "source": [
    "tree = et.parse(text_val_path)\n",
    "root = tree.getroot()\n",
    "articles = root.findall('.//article')\n",
    "\n",
    "xml_data = [[article.get('id'), article.get('published-at'), article.get('title')] \n",
    "            for article in articles]\n",
    "\n",
    "text_val = pd.DataFrame(xml_data, columns=text_cols)\n",
    "text_val.set_index('id', inplace=True)"
   ]
  },
  {
   "cell_type": "code",
   "execution_count": 13,
   "metadata": {},
   "outputs": [
    {
     "data": {
      "text/html": [
       "<div>\n",
       "<style scoped>\n",
       "    .dataframe tbody tr th:only-of-type {\n",
       "        vertical-align: middle;\n",
       "    }\n",
       "\n",
       "    .dataframe tbody tr th {\n",
       "        vertical-align: top;\n",
       "    }\n",
       "\n",
       "    .dataframe thead th {\n",
       "        text-align: right;\n",
       "    }\n",
       "</style>\n",
       "<table border=\"1\" class=\"dataframe\">\n",
       "  <thead>\n",
       "    <tr style=\"text-align: right;\">\n",
       "      <th></th>\n",
       "      <th>published-at</th>\n",
       "      <th>title</th>\n",
       "    </tr>\n",
       "    <tr>\n",
       "      <th>id</th>\n",
       "      <th></th>\n",
       "      <th></th>\n",
       "    </tr>\n",
       "  </thead>\n",
       "  <tbody>\n",
       "    <tr>\n",
       "      <th>0000017</th>\n",
       "      <td>2004-07-29</td>\n",
       "      <td>SAN FRANCISCO / Head of Juvenile Probation Dep...</td>\n",
       "    </tr>\n",
       "    <tr>\n",
       "      <th>0000019</th>\n",
       "      <td>2017-10-05</td>\n",
       "      <td>Nancy Pelosi Lies On CNN About Gun Control, An...</td>\n",
       "    </tr>\n",
       "    <tr>\n",
       "      <th>0000023</th>\n",
       "      <td>2017-04-20</td>\n",
       "      <td>University leaders ban pro-life flag display, ...</td>\n",
       "    </tr>\n",
       "    <tr>\n",
       "      <th>0000024</th>\n",
       "      <td>2011-01-14</td>\n",
       "      <td>What Wine Prices Tell Us About OPEC Why Are Oi...</td>\n",
       "    </tr>\n",
       "    <tr>\n",
       "      <th>0000026</th>\n",
       "      <td>2016-01-13</td>\n",
       "      <td>The Long Road to Harvard</td>\n",
       "    </tr>\n",
       "  </tbody>\n",
       "</table>\n",
       "</div>"
      ],
      "text/plain": [
       "        published-at                                              title\n",
       "id                                                                     \n",
       "0000017   2004-07-29  SAN FRANCISCO / Head of Juvenile Probation Dep...\n",
       "0000019   2017-10-05  Nancy Pelosi Lies On CNN About Gun Control, An...\n",
       "0000023   2017-04-20  University leaders ban pro-life flag display, ...\n",
       "0000024   2011-01-14  What Wine Prices Tell Us About OPEC Why Are Oi...\n",
       "0000026   2016-01-13                           The Long Road to Harvard"
      ]
     },
     "execution_count": 13,
     "metadata": {},
     "output_type": "execute_result"
    }
   ],
   "source": [
    "text_val.head()"
   ]
  },
  {
   "cell_type": "code",
   "execution_count": 14,
   "metadata": {},
   "outputs": [
    {
     "data": {
      "text/plain": [
       "(200000, 2)"
      ]
     },
     "execution_count": 14,
     "metadata": {},
     "output_type": "execute_result"
    }
   ],
   "source": [
    "text_val.shape"
   ]
  },
  {
   "cell_type": "markdown",
   "metadata": {},
   "source": [
    "Merge article and ground truth dataframes on index"
   ]
  },
  {
   "cell_type": "code",
   "execution_count": 15,
   "metadata": {},
   "outputs": [],
   "source": [
    "md_train = text_train.merge(gt_train, left_index=True, right_index=True)\n",
    "md_val = text_val.merge(gt_val, left_index=True, right_index=True)"
   ]
  },
  {
   "cell_type": "markdown",
   "metadata": {},
   "source": [
    "Examine test set dataframe and columns"
   ]
  },
  {
   "cell_type": "code",
   "execution_count": 16,
   "metadata": {},
   "outputs": [
    {
     "name": "stdout",
     "output_type": "stream",
     "text": [
      "<class 'pandas.core.frame.DataFrame'>\n",
      "Index: 800000 entries, 0000001 to 1494892\n",
      "Data columns (total 6 columns):\n",
      "published-at     686082 non-null object\n",
      "title            800000 non-null object\n",
      "hyperpartisan    800000 non-null object\n",
      "bias             800000 non-null object\n",
      "url              800000 non-null object\n",
      "labeled-by       800000 non-null object\n",
      "dtypes: object(6)\n",
      "memory usage: 62.7+ MB\n"
     ]
    }
   ],
   "source": [
    "md_train.info()"
   ]
  },
  {
   "cell_type": "code",
   "execution_count": 17,
   "metadata": {},
   "outputs": [
    {
     "data": {
      "text/plain": [
       "true     400000\n",
       "false    400000\n",
       "Name: hyperpartisan, dtype: int64"
      ]
     },
     "execution_count": 17,
     "metadata": {},
     "output_type": "execute_result"
    }
   ],
   "source": [
    "md_train['hyperpartisan'].value_counts()"
   ]
  },
  {
   "cell_type": "code",
   "execution_count": 18,
   "metadata": {},
   "outputs": [
    {
     "data": {
      "text/plain": [
       "least           221776\n",
       "left            200000\n",
       "right           200000\n",
       "left-center     112995\n",
       "right-center     65229\n",
       "Name: bias, dtype: int64"
      ]
     },
     "execution_count": 18,
     "metadata": {},
     "output_type": "execute_result"
    }
   ],
   "source": [
    "md_train['bias'].value_counts()"
   ]
  },
  {
   "cell_type": "code",
   "execution_count": 19,
   "metadata": {},
   "outputs": [
    {
     "data": {
      "text/plain": [
       "publisher    800000\n",
       "Name: labeled-by, dtype: int64"
      ]
     },
     "execution_count": 19,
     "metadata": {},
     "output_type": "execute_result"
    }
   ],
   "source": [
    "md_train['labeled-by'].value_counts()"
   ]
  },
  {
   "cell_type": "markdown",
   "metadata": {},
   "source": [
    "Create new domain column to identify the news source which published an article. Use regular expressions on URL column"
   ]
  },
  {
   "cell_type": "code",
   "execution_count": 20,
   "metadata": {},
   "outputs": [],
   "source": [
    "import tldextract\n",
    "\n",
    "md_train['domain'] = md_train['url'].apply(lambda x: tldextract.extract(x)[1])\n",
    "md_val['domain'] = md_val['url'].apply(lambda x: tldextract.extract(x)[1])"
   ]
  },
  {
   "cell_type": "code",
   "execution_count": 21,
   "metadata": {},
   "outputs": [
    {
     "data": {
      "text/plain": [
       "foxbusiness                  116106\n",
       "abqjournal                    93853\n",
       "apnews                        75725\n",
       "pri                           51781\n",
       "newsline                      47593\n",
       "counterpunch                  42410\n",
       "motherjones                   38487\n",
       "truthdig                      33780\n",
       "dailywire                     21538\n",
       "thedailybeast                 19560\n",
       "poynter                       17276\n",
       "baptistnews                   13728\n",
       "nbcnews                       12829\n",
       "reuters                       10914\n",
       "consortiumnews                 9593\n",
       "washingtonblade                8265\n",
       "calwatchdog                    7611\n",
       "thegoldwater                   6947\n",
       "natmonitor                     6556\n",
       "dissentmagazine                6292\n",
       "politicalillusionsexposed      5714\n",
       "chicagoreporter                5316\n",
       "ivn                            4967\n",
       "eppc                           4652\n",
       "mintpressnews                  4494\n",
       "factcheck                      4485\n",
       "billmoyers                     4328\n",
       "circa                          3608\n",
       "govtslaves                     3088\n",
       "dcclothesline                  3030\n",
       "                              ...  \n",
       "wnyc                             85\n",
       "politichicks                     83\n",
       "angrypatriotmovement             80\n",
       "bettergov                        80\n",
       "americauncensored                78\n",
       "americanactionnews               77\n",
       "24dailynew                       76\n",
       "mainebeacon                      76\n",
       "towleroad                        75\n",
       "conservativerevival              70\n",
       "againstcronycapitalism           69\n",
       "washingtonpost                   68\n",
       "bigamericannews                  67\n",
       "americanupdate                   67\n",
       "thepopulist                      62\n",
       "rightwingwatch                   61\n",
       "sfchronicle                      57\n",
       "santafenewmexican                56\n",
       "thepeoplesview                   49\n",
       "reclaimdemocracy                 48\n",
       "abc11                            40\n",
       "newsfrompolitics                 38\n",
       "conservativedeplorable           33\n",
       "freedomfirst                     31\n",
       "theamericancause                 30\n",
       "latimes                          19\n",
       "washingtonmonthly                17\n",
       "occupydemocrats                  10\n",
       "revealingpolitics                 3\n",
       "anncoulter                        2\n",
       "Name: domain, Length: 169, dtype: int64"
      ]
     },
     "execution_count": 21,
     "metadata": {},
     "output_type": "execute_result"
    }
   ],
   "source": [
    "md_train['domain'].value_counts()"
   ]
  },
  {
   "cell_type": "markdown",
   "metadata": {},
   "source": [
    "Write metadata dataframes as csv"
   ]
  },
  {
   "cell_type": "code",
   "execution_count": 22,
   "metadata": {},
   "outputs": [],
   "source": [
    "DATA_PROCESSED_PATH = DATA_PATH + 'processed/'\n",
    "\n",
    "md_train.to_csv(DATA_PROCESSED_PATH + 'md_train.csv')\n",
    "md_val.to_csv(DATA_PROCESSED_PATH + 'md_val.csv')"
   ]
  },
  {
   "cell_type": "code",
   "execution_count": null,
   "metadata": {},
   "outputs": [],
   "source": []
  }
 ],
 "metadata": {
  "kernelspec": {
   "display_name": "Python 3",
   "language": "python",
   "name": "python3"
  },
  "language_info": {
   "codemirror_mode": {
    "name": "ipython",
    "version": 3
   },
   "file_extension": ".py",
   "mimetype": "text/x-python",
   "name": "python",
   "nbconvert_exporter": "python",
   "pygments_lexer": "ipython3",
   "version": "3.6.6"
  }
 },
 "nbformat": 4,
 "nbformat_minor": 2
}
